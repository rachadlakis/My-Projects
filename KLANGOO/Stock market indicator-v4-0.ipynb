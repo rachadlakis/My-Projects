{
 "cells": [
  {
   "cell_type": "code",
   "execution_count": 268,
   "id": "c2180725",
   "metadata": {},
   "outputs": [],
   "source": [
    "consumer_key = \"TqWoiDOXjatC0oqJCPCLjhWJJ\"\n",
    "consumer_secret = \"Rll5RLXAcGp9UHJyFoFDN4wrkokDqW8BEXiMU3esQc3CIXSNXI\"\n",
    "access_token = \"195259459-211uDHisSRZuixqhDBbK7SaX8KUqfdu6xdjxsQBN\"\n",
    "access_token_secret = \"jTh0bJhFn1hqL601MC3ZxSRJREqvQiqemHTY7gJJXjp9I\""
   ]
  },
  {
   "cell_type": "markdown",
   "id": "bd300e87",
   "metadata": {},
   "source": [
    "# Stock market Indicator Using Klangoo API"
   ]
  },
  {
   "cell_type": "markdown",
   "id": "7f65b16c",
   "metadata": {},
   "source": [
    "The stock prices are directly related to people opinion and trust. Financial markets are based on `expectations` , and investors buy or sell shares depending on the `sentiments of fear or desire` caused by some event . Investors bet on the credibility of the media outlets that publish rumours despite knowing that the information is not always reliable. `Sentiment Analysis` can be used to determine the `overall opinion` for a certain stock. \n",
    "\n",
    " A fast answer to our research can be to apply `sentiment analysis` on every text containing the word(s) we are interested  in.\n",
    "\n",
    "But, It is not accurate to study every text containing the keyword we are looking for, but how de we know if the `domain` of the text is  the same domain we we are interested  in (Buisness, Technology, ...) or the text is about a completely different domain and citing this word as an example while speaking about another thing??  \n",
    "\n",
    "How do we know if a certain text is directly related to the stock we are interested  in (i.e.: the stock is the main subject or one of the main subjects of the text) and not cited as a secondary subject in the text?\n",
    "\n",
    "### KLANGOO can be the answer\n",
    "\n",
    "`Klangoo` can be used to determine, for each text (a newspaper article) if the domain and the main subject of the text (entities) are what we are interested  in. \n",
    "\n",
    "An API was used to collect articles from different sources, for a certain key word, in a ceratain period of time. The results are sent one by one to `Klangoo` to speicify, for each text, the main categories and entities and keyTopics.\n",
    " \n",
    "After sending the tweet as a requeest to `Klangoo`, we process the results: if the main `category`, the main `entities`, and the `keyTopics` of the text  are related to our goal: the text will be processed: `NLTK` library will give us the sentiment score for this text. Otherwise it will be neglected.\n",
    "\n",
    "After processing all the texts, giving a normal coefficiant to a normal text, and a high coefficnant to a text having a ` highly trusted source`, a final sentiment analysis score will be given to the initial word or bag of words. \n",
    "\n",
    "If it is `negative`, this could be an indicator that the  stock isgoing `down` (this is just a definitive  decision, the sotck market is very complicated and many other causes can play a role), and vice versa.\n",
    "\n",
    "The result will be a final score of sentiment analysis of the main topic (Bitcoin in our example)and a simple advice.\n",
    "\n"
   ]
  },
  {
   "cell_type": "markdown",
   "id": "32a2538d",
   "metadata": {},
   "source": [
    "### Define a function that will be used in the code"
   ]
  },
  {
   "cell_type": "code",
   "execution_count": 165,
   "id": "f24055d6",
   "metadata": {},
   "outputs": [],
   "source": [
    "def have_common(x,y):\n",
    "   common = False\n",
    "   for value in x:\n",
    "      if value in y:\n",
    "         common= True\n",
    "   return common"
   ]
  },
  {
   "cell_type": "code",
   "execution_count": 254,
   "id": "9b07ffbd",
   "metadata": {},
   "outputs": [],
   "source": [
    "df = pd.DataFrame(columns=['text','creator'])"
   ]
  },
  {
   "cell_type": "code",
   "execution_count": 272,
   "id": "71a07850",
   "metadata": {},
   "outputs": [
    {
     "name": "stdout",
     "output_type": "stream",
     "text": [
      "Empty DataFrame\n",
      "Columns: [text, creator]\n",
      "Index: []\n"
     ]
    }
   ],
   "source": [
    "df.drop(df.index, inplace=True)\n",
    "print(df)"
   ]
  },
  {
   "cell_type": "markdown",
   "id": "470c3182",
   "metadata": {},
   "source": [
    "### Importing Libraries "
   ]
  },
  {
   "cell_type": "code",
   "execution_count": 23,
   "id": "8627120b",
   "metadata": {},
   "outputs": [
    {
     "name": "stdout",
     "output_type": "stream",
     "text": [
      "Requirement already satisfied: klangooclient in c:\\users\\lenovo\\anaconda3\\lib\\site-packages (1.0.0)\n",
      "Note: you may need to restart the kernel to use updated packages.\n"
     ]
    }
   ],
   "source": [
    "pip install klangooclient"
   ]
  },
  {
   "cell_type": "code",
   "execution_count": 24,
   "id": "7f0f2ed5",
   "metadata": {},
   "outputs": [],
   "source": [
    "from klangooclient.MagnetAPIClient import MagnetAPIClient\n",
    "import pandas as pd\n",
    "import json\n",
    "import string"
   ]
  },
  {
   "cell_type": "markdown",
   "id": "a5d318ea",
   "metadata": {},
   "source": [
    "### Prepare connection strings and secret key for Klangoo"
   ]
  },
  {
   "cell_type": "code",
   "execution_count": 167,
   "id": "c4f05caa",
   "metadata": {},
   "outputs": [],
   "source": [
    "#prepare the connection strings and the secret key to connect to Klangoo\n",
    "ENDPOINT ='https://nlp.klangoo.com/Service.svc'\n",
    "CALK = '155b99fc-758c-40c8-a8ef-5d4eb9fba616'\n",
    "SECRET_KEY = 'wTMeUVHL38vGrdDBbSdSFBQOWFchPTaUnIFZBJS4'\n",
    "\n",
    "client = MagnetAPIClient(ENDPOINT, CALK, SECRET_KEY)"
   ]
  },
  {
   "cell_type": "markdown",
   "id": "6946b57b",
   "metadata": {},
   "source": [
    " "
   ]
  },
  {
   "cell_type": "markdown",
   "id": "6487db3a",
   "metadata": {},
   "source": [
    "## \"Bitcoin stock\" Indicator today (July 19 -  2022)"
   ]
  },
  {
   "cell_type": "markdown",
   "id": "8ad8a5d9",
   "metadata": {},
   "source": [
    "### Install newsdataapi "
   ]
  },
  {
   "cell_type": "code",
   "execution_count": 12,
   "id": "861d5250",
   "metadata": {
    "scrolled": false
   },
   "outputs": [
    {
     "name": "stdout",
     "output_type": "stream",
     "text": [
      "Requirement already satisfied: newsdataapi in c:\\users\\lenovo\\anaconda3\\lib\\site-packages (0.1.5)Note: you may need to restart the kernel to use updated packages.\n",
      "\n",
      "Requirement already satisfied: requests<3.0.0 in c:\\users\\lenovo\\anaconda3\\lib\\site-packages (from newsdataapi) (2.27.1)\n",
      "Requirement already satisfied: urllib3<1.27,>=1.21.1 in c:\\users\\lenovo\\anaconda3\\lib\\site-packages (from requests<3.0.0->newsdataapi) (1.26.9)\n",
      "Requirement already satisfied: idna<4,>=2.5 in c:\\users\\lenovo\\anaconda3\\lib\\site-packages (from requests<3.0.0->newsdataapi) (3.3)\n",
      "Requirement already satisfied: certifi>=2017.4.17 in c:\\users\\lenovo\\anaconda3\\lib\\site-packages (from requests<3.0.0->newsdataapi) (2022.5.18.1)\n",
      "Requirement already satisfied: charset-normalizer~=2.0.0 in c:\\users\\lenovo\\anaconda3\\lib\\site-packages (from requests<3.0.0->newsdataapi) (2.0.4)\n"
     ]
    }
   ],
   "source": [
    "pip install newsdataapi"
   ]
  },
  {
   "cell_type": "markdown",
   "id": "d6bb982e",
   "metadata": {},
   "source": [
    "#### The `newsdataapi`   is used  to provide articles from different sources (Better than searching in hundreds of websites) containig a specific word ), in over 80,000 websites."
   ]
  },
  {
   "cell_type": "markdown",
   "id": "63488e25",
   "metadata": {},
   "source": [
    "### Make a request to `newsapi` to get the atricles."
   ]
  },
  {
   "cell_type": "code",
   "execution_count": 26,
   "id": "e0e4abad",
   "metadata": {},
   "outputs": [],
   "source": [
    "import requests\n",
    "from newsdataapi import NewsDataApiClient"
   ]
  },
  {
   "cell_type": "code",
   "execution_count": 263,
   "id": "1c11cd6d",
   "metadata": {},
   "outputs": [
    {
     "name": "stdout",
     "output_type": "stream",
     "text": [
      "Done\n"
     ]
    }
   ],
   "source": [
    "api = NewsDataApiClient(apikey='pub_9173b9c5020815c947c4ebd4e19094a1b11d')\n",
    "#https://newsdata.io/\n",
    "\n",
    "#the result is stored in response variable (a dictionary)\n",
    "response = api.news_api( q= \"bitcoin OR Bitcoin OR bitcoins OR Bitcoins\", language='en')\n",
    "print(\"Done\")"
   ]
  },
  {
   "cell_type": "code",
   "execution_count": 164,
   "id": "63f02d37",
   "metadata": {},
   "outputs": [
    {
     "name": "stdout",
     "output_type": "stream",
     "text": [
      "Empty DataFrame\n",
      "Columns: [text, creator]\n",
      "Index: []\n"
     ]
    }
   ],
   "source": [
    "#df.drop(df.index[:], inplace=True)\n",
    "#print(df)"
   ]
  },
  {
   "cell_type": "markdown",
   "id": "f7c329ff",
   "metadata": {},
   "source": [
    "### Now we have the articles related to bitcoin in the specific range in `response` dictionary. We will add these results to the dataframe."
   ]
  },
  {
   "cell_type": "code",
   "execution_count": 273,
   "id": "abe093e7",
   "metadata": {},
   "outputs": [],
   "source": [
    "l = len(response['results'])\n",
    "\n",
    "for i in range(l):\n",
    "    if response['results'][i]['creator'] is not None and len(response['results'][i]['creator'])!=0:\n",
    "        creator = response['results'][i]['creator'][0]\n",
    "    else:\n",
    "        creator = \"\"\n",
    "    text = response['results'][i]['content']\n",
    "    #df = df.append({'text': text, 'creator':creator}, ignore_index=True)\n",
    "    \n",
    "    df = pd.concat([df, pd.DataFrame.from_records([{'text': text, 'creator':creator}])],ignore_index=True)\n"
   ]
  },
  {
   "cell_type": "code",
   "execution_count": 274,
   "id": "cd2d7ca3",
   "metadata": {},
   "outputs": [
    {
     "name": "stdout",
     "output_type": "stream",
     "text": [
      "                                                text            creator\n",
      "0  NEW YORK, July 20 — The dollar slipped against...                   \n",
      "1  SINGAPORE, July 20 — Singapore will take steps...                   \n",
      "2  Bitcoin.com Simplifies Cryptocurrency Payments...        Bitcoin.com\n",
      "3  Stephen Osho is a Co-Managing Partner at Comer...             editor\n",
      "4  Bitcoin.com sponsors the launch of a brand new...        Bitcoin.com\n",
      "5  Further proving that venture investors have mo...     Christine Hall\n",
      "6  Cryptocurrencies and non-fungible tokens are b...  Nicholas Pongratz\n",
      "7  NEW YORK: Large-scale bitcoin mining operation...                   \n",
      "8                                               None                   \n",
      "9  Fintech and Bitcoin Payments Firm Zebedee Rais...       Jamie Redman\n"
     ]
    }
   ],
   "source": [
    "print(df)"
   ]
  },
  {
   "cell_type": "code",
   "execution_count": 232,
   "id": "c4d924a0",
   "metadata": {},
   "outputs": [
    {
     "name": "stdout",
     "output_type": "stream",
     "text": [
      "Christine Hall\n"
     ]
    }
   ],
   "source": [
    "print(response['results'][5]['creator'][0])"
   ]
  },
  {
   "cell_type": "code",
   "execution_count": 170,
   "id": "befa0418",
   "metadata": {
    "scrolled": true
   },
   "outputs": [
    {
     "name": "stdout",
     "output_type": "stream",
     "text": [
      "dict_keys(['title', 'link', 'keywords', 'creator', 'video_url', 'description', 'content', 'pubDate', 'image_url', 'source_id', 'country', 'category', 'language'])\n"
     ]
    }
   ],
   "source": [
    "#The elements of the 9th response\n",
    "print(response['results'][8].keys())"
   ]
  },
  {
   "cell_type": "code",
   "execution_count": 171,
   "id": "43958de4",
   "metadata": {},
   "outputs": [
    {
     "name": "stdout",
     "output_type": "stream",
     "text": [
      "['Jamie Redman']\n"
     ]
    }
   ],
   "source": [
    "print(response['results'][9]['creator'])"
   ]
  },
  {
   "cell_type": "code",
   "execution_count": 267,
   "id": "cfef072e",
   "metadata": {},
   "outputs": [
    {
     "name": "stdout",
     "output_type": "stream",
     "text": [
      "Further proving that venture investors have more dry powder than ever before, this week started with a flurry of venture capital fund close announcements across sectors and stages. It tells that LPs are staying active amid this dissonant moment in tech, and despite some struggles ahead for emerging fund managers, that’s news. Our team got a good list going: B Capital closed on $250 million in capital commitments for its Ascent Fund II, its first dedicated early-stage fund that will invest in pre\n"
     ]
    }
   ],
   "source": [
    "#First 500 chars of the content\n",
    "print(response['results'][5]['content'][:500])"
   ]
  },
  {
   "cell_type": "markdown",
   "id": "fee5d7b7",
   "metadata": {},
   "source": [
    "### Get Twitter tweets related to bitcoin"
   ]
  },
  {
   "cell_type": "code",
   "execution_count": 122,
   "id": "ff25b309",
   "metadata": {},
   "outputs": [],
   "source": [
    "import tweepy"
   ]
  },
  {
   "cell_type": "code",
   "execution_count": 269,
   "id": "bcb2066c",
   "metadata": {},
   "outputs": [],
   "source": [
    "#The key and token are in the first cell to not be shown in the video"
   ]
  },
  {
   "cell_type": "code",
   "execution_count": 275,
   "id": "0f0cb803",
   "metadata": {},
   "outputs": [],
   "source": [
    "auth = tweepy.OAuthHandler(consumer_key, consumer_secret)\n",
    "auth.set_access_token(access_token, access_token_secret)\n",
    "api = tweepy.API(auth)"
   ]
  },
  {
   "cell_type": "code",
   "execution_count": 276,
   "id": "77a0d282",
   "metadata": {},
   "outputs": [],
   "source": [
    "cursor = tweepy.Cursor(api.search_tweets , q='bitcoin' ,tweet_mode=\"extended\", \\\n",
    "                      result_type='recent', language='en').items(10) "
   ]
  },
  {
   "cell_type": "code",
   "execution_count": 277,
   "id": "72c56803",
   "metadata": {
    "scrolled": true
   },
   "outputs": [
    {
     "name": "stderr",
     "output_type": "stream",
     "text": [
      "Unexpected parameter: language\n"
     ]
    }
   ],
   "source": [
    "for i in cursor:\n",
    "    creator  = i.author.name\n",
    "    full_text =  i.full_text.translate(str.maketrans('', '', \"@,#,/,:\"))\n",
    "    #print(i.author.name)\n",
    "    #print(\"original\" , i.full_text, \" ,   \\n after removal\", i.full_text.translate(str.maketrans('', '', \"@,#,/,:\")) )\n",
    "    df = pd.concat([df, pd.DataFrame.from_records([{'text': full_text, 'creator':creator}])],ignore_index=True)\n",
    "\n",
    "#print(df)"
   ]
  },
  {
   "cell_type": "code",
   "execution_count": 278,
   "id": "30cdacf8",
   "metadata": {},
   "outputs": [
    {
     "name": "stdout",
     "output_type": "stream",
     "text": [
      "                                                 text                creator\n",
      "0   NEW YORK, July 20 — The dollar slipped against...                       \n",
      "1   SINGAPORE, July 20 — Singapore will take steps...                       \n",
      "2   Bitcoin.com Simplifies Cryptocurrency Payments...            Bitcoin.com\n",
      "3   Stephen Osho is a Co-Managing Partner at Comer...                 editor\n",
      "4   Bitcoin.com sponsors the launch of a brand new...            Bitcoin.com\n",
      "5   Further proving that venture investors have mo...         Christine Hall\n",
      "6   Cryptocurrencies and non-fungible tokens are b...      Nicholas Pongratz\n",
      "7   NEW YORK: Large-scale bitcoin mining operation...                       \n",
      "8                                                None                       \n",
      "9   Fintech and Bitcoin Payments Firm Zebedee Rais...           Jamie Redman\n",
      "10  RT BTC_Archive 💥Bitcoin Bear market could last...           JE Mendoza 🚀\n",
      "11  RT MartiniGuyYT If Bitcoin doesn't reach $2650...       Eduardo Praça 🇧🇷\n",
      "12  RT BitninjaX 2022 has seen Bitcoin markets eit...       vincefnzorudolpa\n",
      "13  RT TheMoonCarl Bitcoin to $48000 within 2 week...  $atoShinobi 🇷🇺 /DYOR\\\n",
      "14  RT BTC_Archive 💥SAMSUNG New Bitcoin mining chi...            Hassan #WVH\n",
      "15  RT hellosuoha GM \\n这行情太吸血了。\\n\\n大饼涨，美股涨，我的山寨全在下...                     熙熙\n",
      "16  RT jess_btc Bitcoin no nació para desaparecer ...      EL PUERTO INFORMA\n",
      "17  RT lucasvelascook Bitcoin 2.0 is long term hol...               🍀🍀🍀🍀🍀🍀🍀🍀\n",
      "18  RT SP33QR Saylor is buying again with leverage...   Sina 🗝️⚡ Bitguide.io\n",
      "19  RT MichaelXBT Getting rich in crypto is simple...                DeNo 🇱🇻\n"
     ]
    }
   ],
   "source": [
    "print(df)"
   ]
  },
  {
   "cell_type": "markdown",
   "id": "b11c2a9a",
   "metadata": {},
   "source": [
    "#### Now we have the tweets and the creator of each tweet in a dataframe row, the articles and the creator of each article (if specified) in a row. We can start procssing our info.\n"
   ]
  },
  {
   "cell_type": "markdown",
   "id": "adbd6ad9",
   "metadata": {},
   "source": [
    "#### In this cell, we specified the wanted stock, the top influencers, the Trusted resources, the wanted enities , categories and topics."
   ]
  },
  {
   "cell_type": "code",
   "execution_count": 179,
   "id": "4d9a02fe",
   "metadata": {},
   "outputs": [],
   "source": [
    "#determine the wanted entity and categories\n",
    "wanted_stock = \"Bitcoin stock BTC\" #Only for the final text print\n",
    "\n",
    "# The top influencers in stock market prediction\n",
    "Top_influencers = ['elon musk', 'nick black', 'allan mantaring', 'jordan belfort', 'tangie seals', \\\n",
    "                   'rowan mcinnesmark minervini', 'vic scherersteve sturner', 'brittney castro', 'garrett ashe', \\\n",
    "                   'raja al mazrouei', 'chamath palihapitiya', 'cathie wood', 'dave portnoy', 'oliver l. velez', \\\n",
    "                   'john bollinger', 'robert ross', 'kayla kilbride', 'errol coleman', 'timothy sykes', 'kritika yadav',\\\n",
    "                   'trajan king', 'denis stelmak', 'patrick wieland']\n",
    "\n",
    "#The most trusted newspapers in the domain of stock exchange\n",
    "Trusted_resources =['moneycontrol', 'the economic times', 'bloomberg quint', 'reuterslivemint', '\\\n",
    "buisness standard', 'google finance', 'ndtv profit', 'yahoo finance', 'reuters']\n",
    "\n",
    "wanted_entities = ['bitcoin', 'btc'] #Stock(s) interested  in, This option is subjective to the user.\n",
    "wanted_topics = ['bitcoin', 'btc']\n",
    "wanted_categories = ['general','business', 'politics','technology']#Only these categoreis will be taken into considertion\n"
   ]
  },
  {
   "cell_type": "markdown",
   "id": "0d9fcb7f",
   "metadata": {},
   "source": [
    "### Code"
   ]
  },
  {
   "cell_type": "code",
   "execution_count": 281,
   "id": "3de781f3",
   "metadata": {},
   "outputs": [
    {
     "name": "stdout",
     "output_type": "stream",
     "text": [
      "TEXT NEW YORK, July 20 — The dollar slipped against the euro for a third straight session yesterday, following a Reuters story that European Central Bank policymakers are considering raising interest rates by a bigger-than-expected 50 basis points at their meeting tomorrow to tame record-high inflation. The rebound in the euro, which sent it further away from the sub-parity levels of last week, coincided with falling expectations for an aggressive 100 basis points hike from the US Federal Reserve this month, which knocked the dollar. “Currencies continue to revolve around expectations for central bank policy,” said Joe Manimbo, senior market analyst, at Western Union Business Solutions in Washington. “We are now seeing a subtle but meaningful shift in the outlook for trans-Atlantic monetary policy, and that’s proving a good thing for the euro,” Manimbo said. The euro rose to as high as US$1.0269 (RM5.56), up 1.2 per cent on the day and its strongest since July 6 as money markets priced in a 60 per cent chance of a 50 basis points hike tomorrow, up from 25 per cent on Monday. It was last up 0.87 per cent at US$1.0229. The euro has rebounded after slipping below US$1.0000 last week, its first foray below parity since 2002. “If (European Central Bank President Christine) Lagarde doesn’t deliver, or doesn’t deliver as much as traders are hoping for, parity is likely to be taken out lastingly,” Action economics’ Natascha Gewaltig said in a note. Investors were also keeping an eye on political drama in Rome with the Italian government mired in uncertainty over whether Mario Draghi will continue as prime minister. Against a basket of currencies, the dollar was 0.7 per cent lower at 106.7. The index remains close to the two-decade high of 109.29 touched last week. Analysts are reluctant to turn bullish on the euro, however, given ongoing concerns about supplies of natural gas and the hit to its economy and how hawkish the ECB can really be. “In our view, this bounce is likely to prove short-lived and should provide better entry levels for short euro positions,” said Dominic Bunning, head of European FX research at HSBC. Traders are also preparing to see whether Russian gas tomorrow resumes flowing through the Nord Stream pipe to Germany after a shutdown for scheduled maintenance. Russian gas flows via the Nord Stream 1 pipeline are seen restarting on time tomorrow after the completion of scheduled maintenance, two sources familiar with the export plans told Reuters. Elsewhere the Australian dollar rose 1.2 per cent to US$0.6898 after Reserve Bank of Australia policymakers said they saw the need for more policy tightening on top of recent hikes. Sterling gained 0.273 per cent to US$1.1986, helped by the dollar’s broad weakness. In cryptocurrencies, bitcoin rose about 5 per cent to a fresh one-month high of US$23,476.89, shaking off the weakness that has engulfed it in recent weeks. — Reuters \n",
      "\n",
      "CREATOR  \n",
      "\n",
      "\n",
      "\n",
      "TEXT SINGAPORE, July 20 — Singapore will take steps to put in place more regulations to better protect retail investors from the risk of cryptocurrency investments, the head of the central bank here said, as he repeated a warning that the asset is highly risky. Ravi Menon, managing director of the Monetary Authority of Singapore (MAS), acknowledged that the focus of crypto regulation here so far, as well as in most major jurisdictions, has been on containing money laundering and terrorist financing risks, and they do not cover areas such as consumer protection, market conduct, and reserve backing for stablecoins. Stablecoins are cryptocurrencies that have their value pegged to a “stable” reserve such as another currency or commodities like gold. “Reviews and public consultations are underway, among international standard-setting bodies and regulators, to strengthen regulation in these areas,” he said, adding that MAS is looking to consult on proposed measures in September or October this year. Menon made these remarks during a media conference yesterday (July 19) for the release of the MAS annual report for the fiscal year. He pointed out that cryptocurrency firms that have come under strain while they are headquartered in Singapore are not regulated. TerraForm Labs and Luna Foundation Guard, for example, are not licensed or regulated by MAS. They have also not applied for or sought exemptions from holding any licence. Popular cryptocurrency Luna went into meltdown in May 2022, falling to almost zero from an all-time high of US$119.18 (RM530.36) just a month before that. The token and TerraUSD — a cryptocoin pegged 1:1 to the US dollar — run on the Terra network, a blockchain-based project run by Singapore-based startup TerraForm Labs. Singapore-based crypto hedge fund Tree Arrows Capital was also highlighted by Menon. It had operated under the registered fund management regime to carry out limited fund management businesses but it had stopped managing funds in Singapore before its insolvency. Liquidators have just been given the approval to claim Tree Arrows Capital's American assets last Wednesday after the company filed for bankruptcy in late June. The whereabouts of Tree Arrows Capital's two founders Kyle Davies and Zhu Su are still unknown. Crypto lending and trading platform Vauld also found itself in deep water, having to suspend withdrawals and trading and seek new investors. The company has submitted a licence application, which is pending review, but is not licensed by MAS. Vauld has not sought any exemption from holding a licence under the Payment Services Act either, Menon said. He also noted that there is confusion on where MAS stands with respect to cryptocurrencies and crypto — a term that Menon used to refer to technology such as blockchain that supports such digital activities. Therefore, in the months ahead, Singapore will set out its overall stance on this more clearly, specifying what the country welcomes and what it takes a stern view about in this area. “MAS’ repeated warnings against retail investments in cryptocurrencies and ratcheting up of policies to restrain retail access have raised some questions as to where MAS stands with respect to the digital asset ecosystem,” Menon said. “We are actively promoting the digital asset economy, where we can use these technologies to solve real problems like cross-border settlement, cross-border trade finance, more efficient capital, market activities, trading and so on. (They have) a whole range of applications. “The cryptocurrency is just a small sliver of that ecosystem... when people talk about crypto, they're not talking about all these things that I've just talked about. They're talking about Bitcoin and Ethereum and all the other cryptocurrencies and for them, it's just an investment vehicle.” However, because of their price volatility, cryptocurrencies are not good investment vehicles for retail investors, he said of MAS’ rationale to discourage such trading. This includes restricting advertising and marketing the purchase of cryptocurrencies to the general public and attempts “to trivialise the risks involved”, he added. As MAS looks to broaden the scope of regulation to cover more activities in the crypto space, Menon said that some players who participate in certain activities may find themselves caught by regulation in the future and require licensing to operate here. However, he also clarified: “Just being based in Singapore doesn't mean that crypto players need to be regulated here if they’re not carrying out particular regulated activities... (though) there is also an exception from a money-laundering perspective.” MAS will be organising a Green Shoots seminar next month to talk about its strategies to develop Singapore as a digital asset hub. Aside from explaining its position on various digital assets such as cryptocurrencies, stablecoins and blockchains, it will also highlight its developmental and regulatory approaches. ― TODAY \n",
      "\n",
      "CREATOR  \n",
      "\n",
      "\n",
      "\n",
      "TEXT Bitcoin.com Simplifies Cryptocurrency Payments, Enhances Data Sovereignty With Unstoppable Domains Partnership press release In partnership with Unstoppable Domains, Bitcoin.com is making it easier than ever to use cryptocurrency as a payment method. Users of the multichain Bitcoin.com Wallet can now send cryptocurrency to the full range of domains offered by the blockchain-based domain provider. This means, for example, that people can send bitcoin to a human-readable address like ‘elizabeth.crypto’ rather than to the long and complicated wallet addresses that are native to the Bitcoin protocol (eg. bc1qar0srrr7xfkvy5l643lydnw9re59gtzzwf5mdq). “Cryptocurrency is a powerful force for creating economic freedom in the world, but adoption has been stifled by the frankly poor user experience — and the industry-standard usage of complex wallet addresses is a key pain point,” said Bitcoin.com CEO Dennis Jarvis. “Unstoppable Domains’ human-readable addresses are a big step in the right direction, which is why we’re proud to support them in our fully self-custodial wallet.” Unstoppable Domains is one of three major providers globally of blockchain-based domains, the other two being the Ethereum Name Service (ENS) and the Foundation for Interwallet Operability (FIO). These services, all of which are supported in the Bitcoin.com Wallet , provide domain name extensions that are tied to a public blockchain rather than to the traditional Domain Name System (DNS). “When ownership of domain names is managed via public blockchains rather than in the private databases of traditional domain name registry services like Verisign, the result is reduced censorship risk and enhanced property rights — two of the key value propositions of cryptocurrency in general,” said Jarvis. At Unstoppable Domains , buyers can purchase a domain name like ‘brad.crypto’ which is represented as a nonfungible token (NFT) that lives on either the Ethereum or Polygon blockchains. Via Unstoppable Domains’ web portal, buyers can map their cryptocurrency addresses to their domain name/NFT, and that information is recorded on the blockchain. Anyone using the Bitcoin.com Wallet can then send any mapped cryptocurrency to the domain name owner by typing in the domain name (eg. ‘brad.crypto’) in the send field. “With over 32 million wallets created, Bitcoin.com Wallet has the potential to bring usage of NFT domains to the mainstream,” said Sandy Carter, SVP of Business Development at Unstoppable Domains. “We’re thrilled to expand our partnership with Bitcoin.com so we can not only simplify cryptocurrency payments, but also empower people to own their data and their identity across web3.” Bitcoin.com CEO Dennis Jarvis added, “With Bitcoin.com launching our rewards and utility token VERSE, we’ll be guiding more and more newcomers into the web3/DeFi world. In that environment, tools that enhance sovereign ownership of data are essential infrastructure. We’re excited at the progress Unstoppable Domains is making, and we’re looking forward to deeper integrations in the future.” ABOUT UNSTOPPABLE DOMAINS Founded in 2018, Unstoppable Domains is an NFT domain name provider and digital identity platform working to onboard the world onto Web3. Unstoppable Domains offers NFT domains minted on the blockchain that give people full ownership and control of their digital identity, with no renewal fees. With Unstoppable Domains, people can replace lengthy alphanumeric crypto wallet addresses with a human-readable name and log into and transact with more than 200 apps, wallets, exchanges and marketplaces. The company was named by Forbes as one of America’s Best Startup Employers in 2022. Tags in this story Bitcoin.com , Unstoppable Domains Bitcoin.com Since 2015, Bitcoin.com has been a global leader in introducing newcomers to crypto. Featuring accessible educational materials, timely and objective news, and intuitive self-custodial products, we make it easy for anyone to buy, spend, trade, invest, earn, and stay up-to-date on cryptocurrency and the future of finance. Bitcoin.com Launches Brand New Crypto Casino BitSpinCasino.com PROMOTED | 31 mins ago Fintech and Bitcoin Payments Firm Zebedee Raises $35 Million From Kingsway Capital, Square Enix NEWS | 3 hours ago Image Credits : Shutterstock, Pixabay, Wiki Commons Previous article Bitcoin.com Launches Brand New Crypto Casino BitSpinCasino.com More Popular News In Case You Missed It Central Bank of Brazil Confirms It Will Run a Pilot Test for Its CBDC This Year The Central Bank of Brazil has confirmed that the institution will run a pilot test regarding the implementation of its proposed central bank digital currency (CBDC), the digital real. Roberto Campos Neto, president of the bank, also stated that this ... read more. UAE Airliner Emirates to Launch NFTs and Experiences in the Metaverse Privacy-Centric Monero Plans for July Hard Fork, Plans Include Ring Signature, Bulletproof Upgrade Fed's Bullard Wants to Raise Bank Rate to 3.5% by Year's End, Hints at 75 Basis Point Rate Hike Survey: Adoption in Argentina Grows, With 12 out of 100 Adults Having Invested in Crypto \n",
      "\n",
      "CREATOR Bitcoin.com \n",
      "\n",
      "\n",
      "\n",
      "TEXT Stephen Osho is a Co-Managing Partner at Comercio Partners Limited, an investment banking firm. As a member of the company’s executive management team, Osho oversees the Advisory and Investment Banking arm of the Comercio Partners group. In this interview, Osho highlights major developments in the global and local economy in H1 2022, with projections for the second half of the year and other issues. Eromosele Abiodun present the excerpts What is your assessment of the economy in H1’22 vis-a-vis global development, monetary and fiscal policy decisions? In the first half of the year, the global economy and market unenthusiastically hosted a barrage of headwinds, bordering around geopolitical tensions and inflationary pressures, as well as the ensuing drastic policy reactions to such occurrences. Essentially, Covid-19 was dethroned as the leading global economic disruptor, as policymakers raced to manage the fallouts of the Russian – Ukraine war, while struggling to tackle the unyielding trend of inflation triggered by the accelerated cost of commodities such as food and energy. The Eastern European war exacerbated the already worrisome global trend of inflation that trailed the Covid-19 induced policy dovishness and supply-chain bottlenecks, hence, forcing monetary authorities across major economies to embrace aggressive contractionary policy measures to assuage these inflationary forces. In the U.S., the four-decade-high inflation level, reflected in the 8.60 per cent inflation rate in May 2022 , has prompted unorthodox rate hikes from the Federal Reserve, with the Federal Open Market Committee (FOMC) hiking the benchmark interest rate by a combined 150 basis points in its last three policy meeting, while commencing quantitative tightening to effectively reduce its balance sheet size. Elsewhere, monetary authorities in the Eurozone and United Kingdom have reacted similarly to the threat of inflation, as the European Central Bank (ECB) has outlined its intention to raise interest rates by 25 basis points in July 2022, while the Bank of England (BOE) hiked its interest rate for the fifth time in a row in June 2022. Because of the far-reaching impact of the geopolitical conflict in Eastern Europe and the aggressive hawkish monetary policy response to skyrocketing inflation, the global economy struggled with the growing probability of a recession, while the financial market dramatically nosedived. On Wall Street, the S&P 500 index lost 20.58 per cent in H1’2022, while the yield on the U.S. 10-year Treasury note crossed the 3.00 per cent psychological level for the first time since 2018. Likewise, digital currencies plummeted in the half-year period, with bitcoin hovering around its two-year low. However, amidst waning global growth prospects and looming recessionary fears, the local economy has managed to sustain a sturdy growth in the first half of 2022, posting a positive real GDP growth of 3.11 per cent year-on-year, Y/Y in Q1 2022, and on track to maintain an aggregate growth rate above 2.70 per cent in the first half of the year. The non-oil sector has been particularly instrumental in buoying economic growth in H1 2022, thanks to the outperformance of Information and Communication, Finance and Insurance, Trade, Agriculture, and Manufacturing. Nonetheless, the resilient economic growth seen in the first half of the year offers a seemingly paradoxical image of the Nigerian economy, given the deteriorating state of the macroeconomic framework. For context, Nigeria’s oil sector has defied the elevated price of crude oil to extend its stay in the contractionary region, due to factors like oil theft and vandalism, and low oil output. Also, the move by major central banks to raise interest rates has joined the existing legacy drivers spurring the repatriation of foreign capital, as we saw capital importation in Q1 2022 dip by 28.10 per cent quarter-on-quarter, Q/Q and 17.50 per cent Y/Y to $1.57 billion. Regarding foreign trade, the conflict in Eastern Europe has caused the ballooning of Nigeria’s import bill, as imported petrochemicals like diesel and imported food products like wheat have soared in price. ( Total imports rose by 21.04% Y/Y in Q1 2022 to N5.90 trillion ). Consequently, the soaring import bill, negative net foreign flows, and the failure to efficiently leverage the elevated price of crude oil in generating FX earnings have caused FX liquidity to stay tight in H1 2022, impelling the weakening of the local currency. In the Nigeria Autonomous Foreign Exchange Market, NAFEX window, the exchange rate of the Naira to a Dollar has moved from an average of N414.88/$ in December 2021 to N420.98/$ in June 2022, representing 1.45 per cent depreciation, while the parallel market has moved from about N575/$ to N622/$, representing 7.56 per cent depreciation. Nigeria’s inflation is another aspect of the domestic macroeconomic landscape that waned significantly in H1 2022, as global headwinds worsened inflationary pressures in the local economy. Due to the surge in energy and food prices, headline inflation surged by 2.08 per cent from the level in December 2021 to 18.6 per cent in June 2022. On the policy end, the monetary authority has joined the bandwagon, hiking interest rate by 150 basis points to 13.00 per cent in response to the threat of inflation. So, even with the encouraging divergence between local and global growth, challenges pertaining to inflation, foreign exchange liquidity, capital importation, and oil production, among others, have strained Nigeria’s macroeconomic landscape in H1 2022. Rising inflation and increased government borrowing were prominent features in H1’22. How did these two factors influence the fixed income and equity markets? High inflation and elevated government borrowing are twin forces that typically nudge both local equities and fixed income markets into a bearish region. This year, inflation has climbed to a 5-year high in June, while the government has set out to fund its revised budget deficit of N7.35 trillion. However, the equity market was able to shrug off these negative drivers in the first half of 2022, on the back of impressive Full year 2021 and Q1 2022 financial results and interesting corporate actions. Hence, the local bourse posted a gain of 21.31 per cent in the first half of the year, relying on the performance of underlying sectors like Oil and Gas (58.06% uptick in H1 2022), Industrial (7.17% uptick in H1 2022), and Consumer Goods (5.89% uptick in H1 2022). For the local fixed income market, the impact of elevated inflation and high government borrowing has been hushed this year. The government has become increasingly reliant on the CBN Ways and Means Advances, with the borrowings from the CBN totalling N19.01 trillion in June 2022 from N17.46 trillion in December 2021. Hence, local bond sales for the first half of 2022 stood at N1.84 trillion, reflecting a growth of 29.58% when compared to the sales in the corresponding period of 2021, but relatively low when compared to the hefty budget deficit. Also, the Pension Fund Administrators (PFAs) have bolstered demand at the bond auctions, as the total asset under management (AUM) rose to a record N14.19 trillion in May 2022, with investments in government securities accounting for 62.10%. This implies that the growing AUM of the PFAs has slightly improved the liquidity in the fixed income market this year. Also, the selling pressure that typically succeeds a hike in the benchmark interest rate has been limited, as the PFAs, which hold roughly 63.00 per cent of the bond market value, have about 60.00 per cent categorised as “Hold to Maturity” (HTM). Conclusively, inflation and increased government borrowing have not had a significant impact on both local equities and fixed income markets this year, as several other drivers have partly insulated the financial market from such local headwinds. Citing low liquidity in the Nigerian foreign exchange market, the MSCI recently indicated its intention to reclassify the MSCI Nigeria Indexes from Frontier Markets to Standalone Markets status. What does it portend for the economy and for investors? The contemplated reclassification of MSCI Nigeria Indexes is a warning alarm to foreign investors, as the situation in the FX market has deteriorated to the point where foreign investment appetite should understandably weaken. Due to Nigeria’s abysmal oil production level and slowing foreign inflows, the supply of foreign exchange has been tight this year, with the World Bank estimating the FX backlog at US$1.7 billion, while the Investors and Exporters’ net flows stood at just $273 million from January 2022 to June 2022. Should the MSCI go ahead in downgrading Nigeria’s frontier status on or before the set deadline of August 31, 2022, the impact on the local bourse would likely be limited, as foreign investors have been the net sellers for over a year, hence, have a limited presence in the equity market. The last NGX Domestic and Foreign Portfolio Investment Report for May 2022 revealed that foreign transactions accounted for just 7.46 per cent of total transactions in the review month, and the foreign quotient used to be well above 60.00 per cent in 2019. However, there are long-term consequences of the MSCI reclassification, as the absence of a near to mid-term solution to Nigeria’s FX problems could translate to a sustained apathy of foreign capital. As an investment banking group, what were the major challenges for Comercio Partners in H1’22 and how did you navigate these challenges to deliver value for your stakeholders? As with many other investment organizations, the turbulent market posed a key challenge, particularly, with dollar-based assets like Eurobond and U.S. equities plummeting significantly. However, local equities were low-hanging fruits in the first half of the year, as the local bourse remained in the top five best-performing markets globally for a significant part of the review period. Particularly, names in the telecommunication, industrial and agricultural sectors offered decent returns. Also, the aggressive selloffs in the Eurobond market created attractive long-term entry opportunities for the business, as yields on specific Eurobond sovereigns offered dollar returns that match and exceed the yields on corresponding maturities in the local bond market. Basically, we maintained a nimble approach this year, leveraging in-depth research to garner unfolding insights into the economy and market, which has in turn informed our strategy and kept us ahead of the curve, irrespective of the headwinds and uncertainties. We have also kept to the catchphrase of “following the money and making cash kings.” In a time of extreme volatility, it is preferable and smart to keep cash and play a lot on the short end of the curve. What is your outlook for the economy, financial markets in H2’22 and your advice to investors in terms of opportunities and challenges in H2’22? In the global space, there is a growing probability of a recession over the next two years, as drastic policy efforts to tame inflation could significantly squeeze the economy. Also, the unabating conflict in Eastern Europe remains a major caveat for the global economy in H2 2022, as the sustained progression or escalation of the war could further dampen global growth prospects for the rest of the year. Meanwhile, policymakers should continue to prioritize efforts aimed at lowering inflation, leaving the global financial market susceptible to a prolonged bearish dominance. Back at home, we maintain a positive outlook for GDP growth, as Service-related sectors like Information and Communication, and Finance and Insurance should continue to buoy overall growth, However, we recognize the limiting impact of the spiralling inflation trend, as this could increase the cost margins of businesses at large. For the oil space, there appear to be no major tailwinds, as sectoral ills pertaining to security concerns and debilitated infrastructure remain unaddressed. Hence, Nigeria’s low crude oil output would limit the expected positive impact of soaring prices in the international oil market. In addition, the upside risks to the trend of inflation in the coming months remain predominant, as tensions in Eastern Europe continue to run amok, while the local economy stays structurally susceptible to such headwinds. Regarding the foreign exchange market, the impact of the Russian-Ukraine conflict on energy and agricultural commodities should mount pressure on the import bill, while the hawkish policy posture of developed nations, ravaging insecurity, and election fears should act as deterrents to foreign capital inflows . Also, Nigeria’s low oil output level significantly undermines the economy’s ability to leverage the elevated price of crude oil to improve FX earnings. Putting all these together, the local currency is likely to weaken further this year, with the possibility of the parallel market exchange rate falling past N650/$ by year-end. For the financial market, a progression of the contractionary policy efforts by the monetary authorities could force yields to trend upwards, albeit aggressive, as PFAs’ long-term investment approach denies the market adequate liquidity to sell significantly. Elsewhere, local equities are expected to be largely steered to earnings releases and corporate actions, as investors shrug off the worries concerning Nigeria’s deteriorating macroeconomic framework to focus on stocks with impressive fundamentals and positive catalysts. However, elevated fixed income yields could partly stifle the stock market performance, as activities on the local bourse are largely dominated by institutions that would typically turn to fixed income instruments when presented with attractive yields. On a broader stage, the electioneering campaign activities towards the next year general elections will go into full swing in the second half of this year and could play a huge impact on the currency and inflation that have already been battered. It is no less fact that the Nigerian economy is in a precarious state and cannot afford the ‘typical’ excessive electioneering campaign that would lead to serious economic shock which could suppress the last gasp of breath the nation needs for survival out of stagflation. \n",
      "\n",
      "CREATOR editor \n",
      "\n",
      "\n",
      "\n",
      "TEXT Bitcoin.com sponsors the launch of a brand new crypto casino BitSpinCasino with support for gaming with various cryptocurrencies and a smashing welcome offer of up to 3 BTC!\r",
      " Play Exciting Casino Games With BTC, BCH, ETH, EUR, AUD, JPY & Many More\r",
      " Bitcoin as a form of value-driven technology is inarguably the most revolutionary idea that has been actualized in the modern arena of cross-border fintech innovation. Be it peer-to-peer payments, store of value, speculative trading, or digital transactions for goods and services, Bitcoin has fundamentally changed the way we think about money and subsequently, how money should be conducted around us. \r",
      " Launch of a New Crypto Casino\r",
      " In this vast arena of blockchain innovation and industry-building, Bitcoin.com has garnered a reputation for being the most accessible crypto brand by creating products that are easy to access, fun to interact with, and trusted by millions. Up until 2016 when Bitcoin.com launched Bitcoin.com Games, crypto casinos that offered a safe and secure gaming environment along with an extensive library of fun-to-play casino titles were far and few between. \r",
      " Turning a page in its thriving lifecycle of exciting crypto products, Bitcoin.com is now sponsoring the launch of a brand new crypto casino that should make crypto lovers feel right at home. Building upon all the technical and operational expertise, BitSpinCasino inherits a best-in-class frontend framework backed by the SoftSwiss gaming platform that is second to none. \r",
      " A Feature-Rich Casino with an Exciting Space Theme\r",
      " Ushering a new era for gaming platforms, BitSpinCasino engages players with themes of space, astronauts, and spaceships heading straight for galactic checkpoints in a time-honored tradition of Bitcoin’s missions to the moon. The casino touts itself to be very currency-friendly with support for various top cryptocurrencies including BTC, ETH, BCH, USDT & more, while also offering payment gateways for players who’d like to directly deposit FIAT currencies instead. Don’t have any crypto? Not a problem as the casino accepts USD, EUR, JPY, and many other currencies by means of payment methods ranging from Credit Cards, Bank Accounts to local e-Wallets and more.\r",
      " Limited Time Welcome Offer\r",
      " As a part of the new launch, BitSpinCasino is offering a limited-time Welcome Package for all players that register with the gaming platform. Players can avail of up to 130% capped at 3 BTC or 375 BCH in deposit bonuses on their first 3 deposits. What’s more, is that the casino is also offering one round of 50% deposit bonus on Tuesdays every week as a part of a recurring reload offer.\r",
      " Trusted Brand\r",
      " The newly launched BitSpinCasino is all set to set the gaming world ablaze with exciting new promotions offered on a robust gaming platform backed by a trusted brand of industry veterans. If the ever-growing popularity of crypto casinos is anything to go by, BitSpinCasino is set to take the internet gambling landscape by storm as it retains everything that made Bitcoin.com Games a priority destination for crypto players.\r",
      " What do you think about the newly launched BitSpinCasino? Let us know what you think about this subject in the comments section below. \r",
      " \n",
      "\n",
      "CREATOR Bitcoin.com \n",
      "\n",
      "\n",
      "\n",
      "TEXT Further proving that venture investors have more dry powder than ever before, this week started with a flurry of venture capital fund close announcements across sectors and stages. It tells that LPs are staying active amid this dissonant moment in tech, and despite some struggles ahead for emerging fund managers, that’s news. Our team got a good list going: B Capital closed on $250 million in capital commitments for its Ascent Fund II, its first dedicated early-stage fund that will invest in pre-seed through Series A companies globally, but with an emphasis on the U.S. and Asia. Cathay Innovation and AfricInvest announced a final close of €110 million on their Cathay AfricInvest Innovation Fund, a Pan-African fund they began working on together in 2019. AM Ventures closed on a $100 million fund that will target early-stage companies focused on industrial and commercial 3D printing applications. Tribe Capital, which has $1.5 billion in assets under management, grabbed $25 million from investors to launch a cryptocurrency incubator program. Crypto asset manager Valkyrie is planning to raise between $25 and $30 million for a venture capital fund under its new arm, Valkyrie Ventures, to invest in “the infrastructure layer” between web2 and web3.. The company is better known for launching one of the only U.S. SEC-approved bitcoin futures ETFs, is moving into a new asset class — venture capital. Fundrise, a company that allows anyone to invest in real estate with a minimum investment of just $10, is raising new $1 billion growth equity fund to invest in late-stage tech startups. The new fund will be evergreen, meaning it will have an indefinite life, a structure similar to that of Homebrew and some of SoftBank’s funds. Finally, and this isn’t a new fund but a new program to get more fund managers out there, VC Include announced its 2022 fellowship focused on BIPOC first-time fund managers. Aspiring investors who are based in the United States and want to raise between $10 million and $100 million for their VC or PE fund are invited to apply. Everyone is going to launch a fund that backs other funds Here are plenty of other tasty morsels from earlier this week and last week: The United Arab Emirates secured $800 million in capital commitments for a new fund that will launch into space initiatives. Battery Ventures is charging up its capital deployment after reeling in $3.8 billion in commitments across three new funds that will invest in all stages of startups in areas including business software, fintech, healthcare and data. Battery Ventures XIV and a companion fund take $3.3 billion of it, and the $530 million Battery Ventures Select Fund II, is a vehicle that was created to make additional investments primarily in portfolio companies of the firm’s other funds. Now over to Iter Investments where it closed its debut fund with over $20 million in committed capital to deploy capital into the emerging psychedelic market. As our colleague, Anna Heim reported in May, psychedelics is an area that had some early hype and also some early fails, but some investors are digging their heels into what they think is still pretty young. Iter, founded by Dustin Robinson, has a portfolio of 16 companies across the market. Meanwhile, Collaborative Fund announced its new Collab SOS fund with $200 million in commitments to invest in Series A and B companies operating in the sustainable economy across materials, ingredients, energy and supply chains. Limited partners came from some of the largest purchasers of materials, experts in agriculture and industry leaders, according to the firm. London-based auction house Christie’s said this week it will create its own venture capital arm called Christie’s Ventures aimed at investing seed capital into startup technology that would help help collectors buy and sell more art, either digitally or another method. Lightspeed raised $500 million for its new India and Southeast Asia fund, TC’s Manish Singh reports, adding to a more than $7 billion tranche aggregated across new funds. As Singh points out, the firm has a team of nine partners in India and Southeast Asia and is nearly doubling the size of its fund’s assets. Venture capital funding may have slowed, but VC firms have no problems raising new funds \n",
      "\n",
      "CREATOR Christine Hall \n",
      "\n",
      "\n",
      "\n",
      "TEXT Cryptocurrencies and non-fungible tokens are being used across African nations to fund welfare and development projects. These projects are concerned with improving local livelihoods and focus on education, electricity, healthcare, and housing, according to a Reuters report.  Since the coronavirus pandemic and ensuing economic struggles have dried up more traditional channels of funding, some have been replaced by cryptocurrencies, according to Kenya Blockchain Association researcher Roselyne Wanjiru. “Crypto reduces barriers of entry, and is a fast way of raising funds for social causes because it is easier to navigate than traditional financial systems,” said Wanjiru. “We are seeing more companies and individuals use it to offer solutions to communities.” Crypto projects After raising funds by selling NFTs, artist and activist Benjamin Von Wong built a 30-foot (9-meter) tall sculpture from garbage collected in Nairobi’s Kibera slum. Along with activist Casson Trenor and the anti-plastic NFT community Degenerate Trash Pandas, Von Wong raised about $110,000 for the installation. “Raising funds through cryptocurrency was something new for us,” said Byrones Khainga, director of technical services at Human Needs Project, based in Kibera. “But it is now going to inform how we implement our social welfare activities because we have seen how fast we can move on fundraising.” Earlier this year, the Celo Foundation and Mercy Corps Ventures launched a microwork pilot, also in Kenya. The platform gave hundreds of youth access to jobs that consisted of large projects broken down into manageable tasks. For their labor, the youth are rewarded in Celo dollars, a stablecoin tracking the value of the U.S. dollar, which is sent directly to their digital wallet, avoiding the hassle of any cross-border payment system. Driving financial inclusion According to Scott Onder, senior managing director at Mercy Corps Ventures, cryptocurrencies can help to drive financial inclusion by creating new digital employment opportunities, as well as reducing the cost of cross-border payments. “Cryptocurrency removes this costly barrier and has the potential to create new ways for young people to earn, spend, save and send money,” he said in a statement. According to the United Nations trade agency UNCTAD, some of the highest share of crypto ownership throughout the world can be found in Africa, including South Africa, Nigeria, and Kenya. Payments and remittances have shown to be rising in each of the three countries. In Kenya alone, some 8.5% of its 56 million people own cryptocurrency, according to UNCTAD data. Meanwhile, the Central African Republic adopted Bitcoin as legal tender in April. What do you think about this subject? Write to us and tell us! The post Crypto & NFTs Helping to Fund African Welfare, Development Projects appeared first on BeInCrypto. \n",
      "\n",
      "CREATOR Nicholas Pongratz \n",
      "\n",
      "\n",
      "\n",
      "TEXT NEW YORK: Large-scale bitcoin mining operations in Texas are back online after sweltering temperatures that caused electricity use to spike led to power curtailments earlier in the month, an industry group said on Tuesday. All of the major bitcoin miners, which use energy-intensive supercomputers to mine for cryptocurrencies, had paused operations last week as temperatures soared in the Lone Star state and power demand hit all-time highs as residents and businesses turned up their air conditioners. \"The miners are all back on as of several days ago,\" said Lee Bratcher, president of the Texas Blockchain Council. \"ERCOT is back into a normal operating mode with over 3,000 megawatts (MW) of spare capacity on the grid.\" The Electric Reliability Council of Texas (ERCOT), which operates the grid for more than 26 million customers and accounts for about 90 per cent of the state's power load, did not immediately respond to request for comment. Power use in Texas is expected to break records again this week as the lingering heatwave keeps air conditioners cranked up. \n",
      "\n",
      "CREATOR  \n",
      "\n",
      "\n",
      "\n",
      "TEXT None \n",
      "\n",
      "CREATOR  \n",
      "\n",
      "\n",
      "\n",
      "TEXT Fintech and Bitcoin Payments Firm Zebedee Raises $35 Million From Kingsway Capital, Square Enix On Tuesday, the fintech and payment processor Zebedee announced the company has raised $35 million from Kingsway Capital, Raine Group, and video game giant Square Enix. Zebedee detailed that the Series B funding will help the startup “scale company-wide to meet the needs of the biggest names in the games industry.” Gaming-Focused Fintech Zebedee Secures $35 Million The Hoboken, New Jersey-based company Zebedee has raised $35 million from investors according to the company’s announcement sent to Bitcoin.com News on Tuesday. Zebedee specializes in financial technology concepts and integrating bitcoin into games. For instance, a bitcoin mining game for Android and iOS called “ Bitcoin Miner ” allows users to receive bitcoin ( BTC ) rewards that are handled by Zebedee. Furthermore, the fintech company raised $11.5 million in a funding round led by Lakestar in September 2021. Zebedee’s latest financing was led by Kingsway Capital but Raine Group, Initial Capital, Lakestar, and Square Enix also participated. The video game giant Square Enix has pivoted toward non-fungible token (NFT) concepts and blockchain solutions in recent times. Zebedee detailed on Tuesday that it has crafted a platform that allows any developer to add programmable money functionality into games. The platform can make it so that “anything that happens in a game can trigger a payment, which is sent instantly and at nearly zero cost.” For instance, “when a player shoots someone in a competitive CS:GO match, they can take a small amount of money (e.g. a fraction of a cent) from them in real-time inside the match itself,” Zebedee explained. The fintech firm said that it offers API-based tools for software developers and an application for gamers. The payment platform for games created by Zebedee leverages the Lightning Network as a part of the project’s payments infrastructure. “We are pleased to be in a position where we can confidently scale our team and grow our business even as the macroeconomic backdrop becomes increasingly uncertain,” said Simon Cowell, CEO of Zebedee. Since the company’s initial fundraise for $11.5 million last September, Zebedee said the company’s user count has increased by more than 10X. Zebedee detailed that it’s a fintech company that is focused on gaming and bitcoin is “simply the payment rail that enables the flexible, programmable transfers of any amount between any game, app or user.” Tags in this story $35 Million , Bitcoin , Bitcoin (BTC) , Bitcoin Miner game , bitcoin rewards , BTC rewards , Fundraise , Initial Capital , Kingsway Capital , Lakestar , lightning network , New Jersey-based company , Raine Group , raising capital , Series A $11.5 million , Series B $35 Million , Simon Cowell , square enix , Square Enix blockchain , Square Enix NFTs , ZBD Gamertag , Zebedee , Zebedee app , Zebedee CEO What do you think about Zebedee raising $35 million in a Series B led by Kingsway Capital and with participants like Square Enix? Let us know what you think about this subject in the comments section below. Jamie Redman Jamie Redman is the News Lead at Bitcoin.com News and a financial tech journalist living in Florida. Redman has been an active member of the cryptocurrency community since 2011. He has a passion for Bitcoin, open-source code, and decentralized applications. Since September 2015, Redman has written more than 5,700 articles for Bitcoin.com News about the disruptive protocols emerging today. Leading Auction House Christie’s Launches Web3 and Fintech Venture Arm NEWS | 16 hours ago Tony Hawk Partners With the Sandbox to Open a Skate Park in the Metaverse NEWS | 1 day ago Image Credits : Shutterstock, Pixabay, Wiki Commons Previous article Marathon Secures 254 Megawatts to Bolster Company’s 2023 Bitcoin Mining Goals Disclaimer : This article is for informational purposes only. It is not a direct offer or solicitation of an offer to buy or sell, or a recommendation or endorsement of any products, services, or companies. Bitcoin.com does not provide investment, tax, legal, or accounting advice. Neither the company nor the author is responsible, directly or indirectly, for any damage or loss caused or alleged to be caused by or in connection with the use of or reliance on any content, goods or services mentioned in this article. Read disclaimer Show comments More Popular News In Case You Missed It NFT Sales Volume Saw a Small Uptick This Week — Moonbirds, Mutant Apes Take Top Sales Non-fungible token (NFT) sales saw a small uptick over the last week as $658.4 million in NFT sales were recorded, up 3.35% in seven days. Out of 15 blockchains, Polygon-based NFT sales saw the largest increase in volume, jumping 106.68% ... read more. SEC Risks Violating Admin Procedure Act by Rejecting Spot Bitcoin ETFs, Says Grayscale Goldman Predicts US Recession Odds at 35% in 2 Years, John Mauldin Wouldn't Be Surprised if Stocks Fell 40% FBI Issues Alert Concerning Malicious State-Sponsored North Korean Hackers Targeting Crypto Firms Terra's Algorithmic Dollar-Pegged Crypto UST Is Now the Third-Largest Stablecoin \n",
      "\n",
      "CREATOR Jamie Redman \n",
      "\n",
      "\n",
      "\n",
      "TEXT RT BTC_Archive 💥Bitcoin Bear market could last for another 250 days based on past cycles - Grayscale \n",
      "\n",
      "CREATOR JE Mendoza 🚀 \n",
      "\n",
      "\n",
      "\n",
      "TEXT RT MartiniGuyYT If Bitcoin doesn't reach $26500 by July 31st I will give $1000 to one lucky follower! 👀🚀\n",
      "\n",
      "LIKE ❤️ &amp; FOLLOW 🚀 TO ENTER… \n",
      "\n",
      "CREATOR Eduardo Praça 🇧🇷 \n",
      "\n",
      "\n",
      "\n",
      "TEXT RT BitninjaX 2022 has seen Bitcoin markets either two enormous capitulation events both with the largest $BTC transfer volume in loss s… \n",
      "\n",
      "CREATOR vincefnzorudolpa \n",
      "\n",
      "\n",
      "\n",
      "TEXT RT TheMoonCarl Bitcoin to $48000 within 2 weeks! httpst.co3hafklzgik \n",
      "\n",
      "CREATOR $atoShinobi 🇷🇺 /DYOR\\ \n",
      "\n",
      "\n",
      "\n",
      "TEXT RT BTC_Archive 💥SAMSUNG New Bitcoin mining chip will be 45% more power efficient and 23% more powerful. \n",
      "\n",
      "CREATOR Hassan #WVH \n",
      "\n",
      "\n",
      "\n",
      "TEXT RT hellosuoha GM \n",
      "这行情太吸血了。\n",
      "\n",
      "大饼涨，美股涨，我的山寨全在下跌。🤣🤣🤣\n",
      "\n",
      "注意风险管理吧，别最后大饼吸血拉飞，山寨集体爆仓了。\n",
      "\n",
      "Bitcoin Ethereum \n",
      "\n",
      "CREATOR 熙熙 \n",
      "\n",
      "\n",
      "\n",
      "TEXT RT jess_btc Bitcoin no nació para desaparecer la pobreza. \n",
      "\n",
      "Bitcoin no nació para que todos tuviéramos la misma cantidad de dinero.\n",
      "\n",
      "Bit… \n",
      "\n",
      "CREATOR EL PUERTO INFORMA \n",
      "\n",
      "\n",
      "\n",
      "TEXT RT lucasvelascook Bitcoin 2.0 is long term hold! Deflationary token 21b supply 2.47b  burned launched 1 month ago. Doxxed team weekly… \n",
      "\n",
      "CREATOR 🍀🍀🍀🍀🍀🍀🍀🍀 \n",
      "\n",
      "\n",
      "\n",
      "TEXT RT SP33QR Saylor is buying again with leveraged money lmao\n",
      "\n",
      "Last night he moved 15k btc from 3rd largest wallet which is associated with… \n",
      "\n",
      "CREATOR Sina 🗝️⚡ Bitguide.io \n",
      "\n",
      "\n",
      "\n",
      "TEXT RT MichaelXBT Getting rich in crypto is simple yet most mess it up. Accumulate during a bear market and hold. I made most of my bitcoin t… \n",
      "\n",
      "CREATOR DeNo 🇱🇻 \n",
      "\n",
      "\n",
      "\n"
     ]
    }
   ],
   "source": [
    "for i in range(df.shape[0] ):\n",
    "    text = df.iloc[i,0]\n",
    "    creator = df.iloc[i,1]\n",
    "    print(\"TEXT\" , text, \"\\n\")\n",
    "    print(\"CREATOR\" , creator, \"\\n\\n\\n\")"
   ]
  },
  {
   "cell_type": "code",
   "execution_count": 282,
   "id": "cbaeeb46",
   "metadata": {
    "scrolled": false
   },
   "outputs": [
    {
     "name": "stdout",
     "output_type": "stream",
     "text": [
      "Text:  7  have the wanted entities/topics and category.\n",
      "text_categories: ['general']\n",
      "key_topics: ['power use', 'lone-star state', 'power demand', 'electric reliability council of texas', 'power curtailments', \"state's power load\", 'air conditioners', 'electricity use', 'temperatures', 'grid', 'texas blockchain council', 'large-scale bitcoin mining operations', 'major bitcoin miners', 'lee bratcher']\n",
      "text_entities: ['lone-star state', 'electric reliability council of texas', 'bitcoin']\n",
      "Sentiment analysis for text:  7 is:  {'neg': 0.021, 'neu': 0.979, 'pos': 0.0, 'compound': -0.3818} \n",
      "\n",
      "\n",
      "Text:  9  have the wanted entities/topics and category.\n",
      "text_categories: ['technology', 'business']\n",
      "key_topics: ['company zebedee', 'bitcoin payments firm zebedee raises', 'companies', 'kingsway capital', 'bitcoin.com news', 'payment processor zebedee', 'bitcoin mining game', 'bitcoin miner game', 'bitcoin rewards', 'zebedee leverages', 'spot bitcoin etfs', 'zebedee app', 'initial capital', 'video game giant square enix', \"company's announcement\", 'raine group', \"company's initial fundraise\"]\n",
      "text_entities: ['zebedee raises', 'bitcoin', 'kingsway capital', 'square', 'raine group']\n",
      "Sentiment analysis for text:  9 is:  {'neg': 0.036, 'neu': 0.877, 'pos': 0.086, 'compound': 0.9896} \n",
      "\n",
      "\n",
      "Text:  12  have the wanted entities/topics and category.\n",
      "text_categories: ['business', 'entertainment']\n",
      "key_topics: ['rt bitninjax 2022', 'bitcoin markets', 'two enormous capitulation events', 'btc transfer volume', 'loss s…']\n",
      "text_entities: ['rt', 'bitcoin']\n",
      "Sentiment analysis for text:  12 is:  {'neg': 0.099, 'neu': 0.901, 'pos': 0.0, 'compound': -0.3182} \n",
      "\n",
      "\n",
      "Text:  16  have the wanted entities/topics and category.\n",
      "text_categories: ['business']\n",
      "key_topics: ['rt jess btc bitcoin', 'nacio para que todos tuvieramos la misma cantidad de dinero', 'nacio para desaparecer la pobreza']\n",
      "text_entities: ['bitcoin', 'rt']\n",
      "Sentiment analysis for text:  16 is:  {'neg': 0.18, 'neu': 0.82, 'pos': 0.0, 'compound': -0.5267} \n",
      "\n",
      "\n",
      "Text:  17  have the wanted entities/topics and category.\n",
      "text_categories: ['general']\n",
      "key_topics: ['rt lucasvelascook bitcoin 2.0', 'long term hold', 'deflationary token 21b supply', 'doxxed team weekly…']\n",
      "text_entities: ['rt', 'bitcoin']\n",
      "Sentiment analysis for text:  17 is:  {'neg': 0.0, 'neu': 0.914, 'pos': 0.086, 'compound': 0.2003} \n",
      "\n",
      "\n",
      "Final Result:  \n",
      "\n",
      "\n",
      "After analysing the relative articles, the  Bitcoin stock BTC  have a neutral Semantic Analysis.\n"
     ]
    }
   ],
   "source": [
    "from nltk.sentiment.vader import SentimentIntensityAnalyzer\n",
    "analyser = SentimentIntensityAnalyzer()\n",
    "\n",
    "nb = df.shape[0]\n",
    "ctr = 0\n",
    "grade_sum = 0\n",
    "final_grade = 0\n",
    "\n",
    "for i in range(nb ):\n",
    "    #Since the API give only 200 chars in contnet, this is not acceptable\n",
    "    # a good idea would be to use the title and the description as a subsitute since they contion most of the meaning.\n",
    "    text = df.iloc[i,0]\n",
    "    creator = df.iloc[i,1]\n",
    "    #text = response['results'][i]['content']\n",
    "    #creator = response['results'][i]['creator']  \n",
    "    \n",
    "    if text is not None:\n",
    "        request =  { 'text' : text, 'lang' : 'en', 'format' : 'json' }\n",
    "        rsp = client.callwebmethod('ProcessDocument', request, 'POST')#Use Klangoo to get all entities and categories of text\n",
    "        info = json.loads(rsp) #transform from Bytes to Json format\n",
    "        info.fromkeys\n",
    "\n",
    "        #print(\"Request nb:\",i,\"is successful.\")\n",
    "        #print(\"Text nb:\", i, \"is: \", text[:200])#print first 200 chars of the text\n",
    "\n",
    "        entities_nb = len(info['document']['entities'])\n",
    "        keyTopics_nb = len(info['document']['keyTopics'])\n",
    "        categories_nb = len(info['document']['categories']) \n",
    "        \n",
    "        text_entities = []   # get the key topics from text and append to this list\n",
    "        key_topics = []\n",
    "        text_categories = []   # get the categories from text and append to this list \n",
    "       \n",
    "        \n",
    "        for j in range(entities_nb):#adding entites from klangoo response to  text_entities list\n",
    "            if info['document']['entities'][j]['score'] > 0.7: #only add the entities with high score (not all of them), if high score the entity is directly related to main subject\n",
    "                text_entities.append(info['document']['entities'][j]['token'].lower() ) \n",
    "                \n",
    "        for j in range(keyTopics_nb):#adding keyTopics from Klangoo to keyTopics\n",
    "            if info['document']['keyTopics'][j]['score'] > 0.5: #key topics contains many topics, but the high rated are directly related\n",
    "                key_topics.append( info['document']['keyTopics'][j]['text'].lower())\n",
    "                \n",
    "        for j in range(categories_nb):#adding categoreis from klangoo response to  text_categories\n",
    "            text_categories.append(info['document']['categories'][j]['name'].lower() ) # append the key categories to the list\n",
    "\n",
    "        #print(\"Entities for Text nb:\", i, \"are: \", text_entities)\n",
    "        #print(\"keyTopics for text nb: \", i, \"are\", key_topics,\"\\n\")\n",
    "        #print(\"Categories for Text nb:\", i, \"are: \", text_categories, \"\\n\")\n",
    "        \n",
    "        #check existecne of an item of text_categories in wanted_category \n",
    "        check_category = have_common(wanted_categories, text_categories ) \n",
    "        check_topics = have_common(wanted_topics, key_topics)\n",
    "        check_entities = have_common(wanted_entities, text_entities )\n",
    "                \n",
    "        #If the article category and entity are the wanted ones, we apply S.A.\n",
    "        if check_category  and  (check_entities or check_topics): \n",
    "            ctr += 1\n",
    "            score = analyser.polarity_scores(text)\n",
    "            print(\"Text: \", i, \" have the wanted entities/topics and category.\")\n",
    "            print(\"text_categories:\", text_categories)\n",
    "            print(\"key_topics:\", key_topics)\n",
    "            print(\"text_entities:\", text_entities)\n",
    "            print(\"Sentiment analysis for text: \",  i , \"is: \", score, \"\\n\\n\")\n",
    "            #check if the text is from a top influencer or a top trusted source, if so consider as 10 texts\n",
    "            if (creator in Top_influencers) or (creator in  Trusted_resources):\n",
    "                ctr += 10\n",
    "                grade_sum += score['compound'] * 10\n",
    "            #compound(result from NLTK library) element of the polarity score determine if positive >0.5 or negative <-0.5\n",
    "            else:\n",
    "                grade_sum += score['compound'] \n",
    "        #print(\"check_category condition: \", check_category )\n",
    "        #print(\"check_entities condition: \", check_entities)\n",
    "        #print(\"check_topics condition: \", check_topics)\n",
    "        #print()\n",
    "        #print(\"-----------------\")\n",
    "        #print()\n",
    "        \n",
    "print(\"Final Result:  \\n\\n\")     \n",
    "if ctr > 0:\n",
    "    final_grade = grade_sum / ctr\n",
    "\n",
    "    if final_grade < 0: #check the condition neg or pos and total score in NLTK\n",
    "        print(\"The \" , wanted_stock  ,\"have negative Semantic Analysis in the given articles,it could be an indicator that this stock does not have community trust in the determined time.\\\n",
    "         articles, the term bitcoin or BTC got a polarity scrore of : \" , final_grade, \" on 1 .\")\n",
    "    elif final_grade > 0:\n",
    "        print(\"The \",wanted_stock, \"  have a positive Semantic Analysis in the given articles,it could be an indicator \\\n",
    "        that this stock have community trust in the determined time.\\\n",
    "         the term bitcoin or BTC got a polarity scrore of :\" , final_grade, \" on 1 .\")\n",
    "    else:\n",
    "        print(\"After analysing the relative articles, the \", wanted_stock, \" have a neutral Semantic Analysis.\")          \n",
    "    \n",
    "\n",
    "    \n"
   ]
  },
  {
   "cell_type": "markdown",
   "id": "deb155cd",
   "metadata": {},
   "source": [
    "### The result is not accurate beucause we took only 10 tweets and 10 articles. The number of requests we have for KLANGOO is limited. It is a simple demo of the idea.\n",
    "\n",
    "#### Finally, We should say that It is not a definitive way to prove the stock market orientation, but it could be a good indicator.\n",
    "\n",
    "."
   ]
  },
  {
   "cell_type": "markdown",
   "id": "eb5edcac",
   "metadata": {},
   "source": [
    "### Improved version"
   ]
  },
  {
   "cell_type": "markdown",
   "id": "2ec3a46e",
   "metadata": {},
   "source": [
    "#### Accroding to this article https://link.springer.com/article/10.1007/s12559-021-09819-8 in `Springer` the most accurate lexicon library for analyzing tweets for stock market prediction is `senticnet`, a library made by the MIT Media Laboratory in 2010.\n",
    "\n",
    "\n",
    " "
   ]
  },
  {
   "cell_type": "code",
   "execution_count": null,
   "id": "27eb647a",
   "metadata": {},
   "outputs": [],
   "source": []
  }
 ],
 "metadata": {
  "kernelspec": {
   "display_name": "Python 3 (ipykernel)",
   "language": "python",
   "name": "python3"
  },
  "language_info": {
   "codemirror_mode": {
    "name": "ipython",
    "version": 3
   },
   "file_extension": ".py",
   "mimetype": "text/x-python",
   "name": "python",
   "nbconvert_exporter": "python",
   "pygments_lexer": "ipython3",
   "version": "3.9.12"
  }
 },
 "nbformat": 4,
 "nbformat_minor": 5
}
