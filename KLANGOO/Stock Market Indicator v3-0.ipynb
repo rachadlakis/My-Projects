{
 "cells": [
  {
   "cell_type": "markdown",
   "id": "bd300e87",
   "metadata": {},
   "source": [
    "# Stock market Indicator Using Klangoo API"
   ]
  },
  {
   "cell_type": "markdown",
   "id": "7f65b16c",
   "metadata": {},
   "source": [
    "The stock prices are directly related to people opinion and trust. Financial markets are based on `expectations` , and investors buy or sell shares depending on the `sentiments of fear or desire` caused by some event . Investors bet on the credibility of the media outlets that publish rumours despite knowing that the information is not always reliable. `Sentiment Analysis` can be used to determine the `overall opinion` for a certain stock. \n",
    "\n",
    " A fast answer to our research can be to apply `sentiment analysis` on every text containing the word(s) we are interested  in.\n",
    "\n",
    "But, It is not accurate to study every text containing the keyword we are looking for, but how de we know if the `domain` of the text is  the same domain we we are interested  in (Buisness, Technology, ...) or the text is about a completely different domain and citing this word as an example while speaking about another thing??  \n",
    "\n",
    "How do we know if a certain text is directly related to the stock we are interested  in (i.e.: the stock is the main subject or one of the main subjects of the text) and not cited as a secondary subject in the text?\n",
    "\n",
    "### KLANGOO can be the answer\n",
    "\n",
    "`Klangoo` can be used to determine, for each text (a newspaper article) if the domain and the main subject of the text (entities) are what we are interested  in. \n",
    "\n",
    "An API was used to collect articles from different sources, for a certain key word, in a ceratain period of time. The results are sent one by one to `Klangoo` to speicify, for each text, the main categories and entities and keyTopics.\n",
    " \n",
    "After sending the tweet as a requeest to `Klangoo`, we process the results: if the main `category`, the main `entities`, and the `keyTopics` of the text  are related to our goal: the text will be processed: `NLTK` library will give us the sentiment score for this text. Otherwise it will be neglected.\n",
    "\n",
    "After processing all the texts, giving a normal coefficiant to a normal text, and a high coefficnant to a text having a ` highly trusted source`, a final sentiment analysis score will be given to the initial word or bag of words. \n",
    "\n",
    "If it is `negative`, this could be an indicator that the  stock isgoing `down` (this is just a definitive  decision, the sotck market is very complicated and many other causes can play a role), and vice versa.\n",
    "\n",
    "The result will be a final score of sentiment analysis of the main topic (Bitcoin in our example)and a simple advice.\n",
    "\n"
   ]
  },
  {
   "cell_type": "markdown",
   "id": "32a2538d",
   "metadata": {},
   "source": [
    "### Define a function that will be used in the code"
   ]
  },
  {
   "cell_type": "code",
   "execution_count": 22,
   "id": "f24055d6",
   "metadata": {},
   "outputs": [],
   "source": [
    "def have_common(x,y):\n",
    "   common = False\n",
    "   for value in x:\n",
    "      if value in y:\n",
    "         common= True\n",
    "   return common"
   ]
  },
  {
   "cell_type": "markdown",
   "id": "470c3182",
   "metadata": {},
   "source": [
    "### Importing Libraries "
   ]
  },
  {
   "cell_type": "code",
   "execution_count": 23,
   "id": "3880b8ee",
   "metadata": {},
   "outputs": [
    {
     "name": "stdout",
     "output_type": "stream",
     "text": [
      "Requirement already satisfied: klangooclient in c:\\users\\lenovo\\anaconda3\\lib\\site-packages (1.0.0)\n",
      "Note: you may need to restart the kernel to use updated packages.\n"
     ]
    }
   ],
   "source": [
    "pip install klangooclient"
   ]
  },
  {
   "cell_type": "code",
   "execution_count": 24,
   "id": "7f0f2ed5",
   "metadata": {},
   "outputs": [],
   "source": [
    "from klangooclient.MagnetAPIClient import MagnetAPIClient\n",
    "import pandas as pd\n",
    "import json\n",
    "import string"
   ]
  },
  {
   "cell_type": "markdown",
   "id": "a5d318ea",
   "metadata": {},
   "source": [
    "### Prepare connection strings and secret key for Klangoo"
   ]
  },
  {
   "cell_type": "code",
   "execution_count": 25,
   "id": "c4f05caa",
   "metadata": {},
   "outputs": [],
   "source": [
    "#prepare the connection strings and the secret key to connect to Klangoo\n",
    "ENDPOINT ='https://nlp.klangoo.com/Service.svc'\n",
    "CALK = '155b99fc-758c-40c8-a8ef-5d4eb9fba616'\n",
    "SECRET_KEY = 'wTMeUVHL38vGrdDBbSdSFBQOWFchPTaUnIFZBJS4'\n",
    "\n",
    "client = MagnetAPIClient(ENDPOINT, CALK, SECRET_KEY)"
   ]
  },
  {
   "cell_type": "markdown",
   "id": "6946b57b",
   "metadata": {},
   "source": [
    " "
   ]
  },
  {
   "cell_type": "markdown",
   "id": "6487db3a",
   "metadata": {},
   "source": [
    "## \"Bitcoin stock\" Indicator today (July 19 -  2022)"
   ]
  },
  {
   "cell_type": "markdown",
   "id": "8ad8a5d9",
   "metadata": {},
   "source": [
    "### Install newsdataapi "
   ]
  },
  {
   "cell_type": "code",
   "execution_count": 12,
   "id": "861d5250",
   "metadata": {
    "scrolled": false
   },
   "outputs": [
    {
     "name": "stdout",
     "output_type": "stream",
     "text": [
      "Requirement already satisfied: newsdataapi in c:\\users\\lenovo\\anaconda3\\lib\\site-packages (0.1.5)Note: you may need to restart the kernel to use updated packages.\n",
      "\n",
      "Requirement already satisfied: requests<3.0.0 in c:\\users\\lenovo\\anaconda3\\lib\\site-packages (from newsdataapi) (2.27.1)\n",
      "Requirement already satisfied: urllib3<1.27,>=1.21.1 in c:\\users\\lenovo\\anaconda3\\lib\\site-packages (from requests<3.0.0->newsdataapi) (1.26.9)\n",
      "Requirement already satisfied: idna<4,>=2.5 in c:\\users\\lenovo\\anaconda3\\lib\\site-packages (from requests<3.0.0->newsdataapi) (3.3)\n",
      "Requirement already satisfied: certifi>=2017.4.17 in c:\\users\\lenovo\\anaconda3\\lib\\site-packages (from requests<3.0.0->newsdataapi) (2022.5.18.1)\n",
      "Requirement already satisfied: charset-normalizer~=2.0.0 in c:\\users\\lenovo\\anaconda3\\lib\\site-packages (from requests<3.0.0->newsdataapi) (2.0.4)\n"
     ]
    }
   ],
   "source": [
    "pip install newsdataapi"
   ]
  },
  {
   "cell_type": "markdown",
   "id": "2ce21bd2",
   "metadata": {},
   "source": [
    "#### The `newsdataapi`   is used  to provide articles from different sources (Better than searching in hundreds of websites) containig a specific word ), in over 80,000 websites."
   ]
  },
  {
   "cell_type": "markdown",
   "id": "63488e25",
   "metadata": {},
   "source": [
    "### Make a request to `newsapi` to get the atricles."
   ]
  },
  {
   "cell_type": "code",
   "execution_count": 26,
   "id": "e0e4abad",
   "metadata": {},
   "outputs": [],
   "source": [
    "import requests\n",
    "from newsdataapi import NewsDataApiClient"
   ]
  },
  {
   "cell_type": "code",
   "execution_count": 27,
   "id": "1c11cd6d",
   "metadata": {},
   "outputs": [
    {
     "name": "stdout",
     "output_type": "stream",
     "text": [
      "Done\n"
     ]
    }
   ],
   "source": [
    "api = NewsDataApiClient(apikey='pub_9173b9c5020815c947c4ebd4e19094a1b11d')\n",
    "#https://newsdata.io/\n",
    "\n",
    "#the result is stored in response variable (a dictionary)\n",
    "response = api.news_api( q= \"bitcoin OR Bitcoin OR bitcoins OR Bitcoins\", language='en')\n",
    "print(\"Done\")"
   ]
  },
  {
   "cell_type": "markdown",
   "id": "f7c329ff",
   "metadata": {},
   "source": [
    "### Now we have the articles related to bitcoin in the specific range in `response` dictionary."
   ]
  },
  {
   "cell_type": "code",
   "execution_count": 28,
   "id": "befa0418",
   "metadata": {
    "scrolled": true
   },
   "outputs": [
    {
     "name": "stdout",
     "output_type": "stream",
     "text": [
      "dict_keys(['title', 'link', 'keywords', 'creator', 'video_url', 'description', 'content', 'pubDate', 'image_url', 'source_id', 'country', 'category', 'language'])\n"
     ]
    }
   ],
   "source": [
    "#The elements of the 9th response\n",
    "print(response['results'][8].keys())"
   ]
  },
  {
   "cell_type": "code",
   "execution_count": 29,
   "id": "02c76dce",
   "metadata": {},
   "outputs": [
    {
     "name": "stdout",
     "output_type": "stream",
     "text": [
      "['Juhi Mirza']\n"
     ]
    }
   ],
   "source": [
    "print(response['results'][9]['creator'])"
   ]
  },
  {
   "cell_type": "code",
   "execution_count": 30,
   "id": "cfef072e",
   "metadata": {},
   "outputs": [
    {
     "name": "stdout",
     "output_type": "stream",
     "text": [
      "None\n"
     ]
    }
   ],
   "source": [
    "#First 300 chars of the content\n",
    "print(response['results'][5]['content'])"
   ]
  },
  {
   "cell_type": "markdown",
   "id": "adbd6ad9",
   "metadata": {},
   "source": [
    "### In this cell, we specified the wanted stock, the top influencers, the Trusted resources, the wanted enities , categories and topics."
   ]
  },
  {
   "cell_type": "code",
   "execution_count": 31,
   "id": "4d9a02fe",
   "metadata": {},
   "outputs": [],
   "source": [
    "#determine the wanted entity and categories\n",
    "wanted_stock = \"Bitcoin stock BTC\" #Only for the final text print\n",
    "\n",
    "# The top influencers in stock market prediction\n",
    "Top_influencers = ['elon musk', 'nick black', 'allan mantaring', 'jordan belfort', 'tangie seals', \\\n",
    "                   'rowan mcinnesmark minervini', 'vic scherersteve sturner', 'brittney castro', 'garrett ashe', \\\n",
    "                   'raja al mazrouei', 'chamath palihapitiya', 'cathie wood', 'dave portnoy', 'oliver l. velez', \\\n",
    "                   'john bollinger', 'robert ross', 'kayla kilbride', 'errol coleman', 'timothy sykes', 'kritika yadav',\\\n",
    "                   'trajan king', 'denis stelmak', 'patrick wieland']\n",
    "\n",
    "#The most trusted newspapers in the domain of stock exchange\n",
    "Trusted_resources =['moneycontrol', 'the economic times', 'bloomberg quint', 'reuterslivemint', '\\\n",
    "buisness standard', 'google finance', 'ndtv profit', 'yahoo finance', 'reuters']\n",
    "\n",
    "wanted_entities = ['bitcoin', 'btc'] #Stock(s) interested  in, This option is subjective to the user.\n",
    "wanted_topics = ['bitcoin', 'btc']\n",
    "wanted_categories = ['general','business', 'politics','technology']#Only these categoreis will be taken into considertion\n"
   ]
  },
  {
   "cell_type": "markdown",
   "id": "0d9fcb7f",
   "metadata": {},
   "source": [
    "### Code"
   ]
  },
  {
   "cell_type": "code",
   "execution_count": null,
   "id": "cbaeeb46",
   "metadata": {
    "scrolled": false
   },
   "outputs": [],
   "source": [
    "from nltk.sentiment.vader import SentimentIntensityAnalyzer\n",
    "analyser = SentimentIntensityAnalyzer()\n",
    "\n",
    "nb = len(response['results'])\n",
    "temp_nb = 2 #For testing only\n",
    "ctr = 0\n",
    "grade_sum = 0\n",
    "final_grade = 0\n",
    "\n",
    "for i in range(nb ):\n",
    "    #Since the API give only 200 chars in contnet, this is not acceptable\n",
    "    # a good idea would be to use the title and the description as a subsitute since they contion most of the meaning.\n",
    "    \n",
    "    text = response['results'][i]['content']\n",
    "    creator = response['results'][i]['creator'] #get the creator of text from the API response\n",
    "    \n",
    "    if text is not None:\n",
    "        request =  { 'text' : text, 'lang' : 'en', 'format' : 'json' }\n",
    "        rsp = client.callwebmethod('ProcessDocument', request, 'POST')#Use Klangoo to get all entities and categories of text\n",
    "        info = json.loads(rsp) #transform from Bytes to Json format\n",
    "        info.fromkeys\n",
    "\n",
    "        #print(\"Request nb:\",i,\"is successful.\")\n",
    "        #print(\"Text nb:\", i, \"is: \", text[:200])#print first 200 chars of the text\n",
    "\n",
    "        entities_nb = len(info['document']['entities'])\n",
    "        keyTopics_nb = len(info['document']['keyTopics'])\n",
    "        categories_nb = len(info['document']['categories']) \n",
    "        \n",
    "        text_entities = []   # get the key topics from text and append to this list\n",
    "        key_topics = []\n",
    "        text_categories = []   # get the categories from text and append to this list \n",
    "       \n",
    "        \n",
    "        for j in range(entities_nb):#adding entites from klangoo response to  text_entities list\n",
    "            if info['document']['entities'][j]['score'] > 0.7: #only add the entities with high score (not all of them), if high score the entity is directly related to main subject\n",
    "                text_entities.append(info['document']['entities'][j]['token'].lower() ) \n",
    "                \n",
    "        for j in range(keyTopics_nb):#adding keyTopics from Klangoo to keyTopics\n",
    "            if info['document']['keyTopics'][j]['score'] > 0.5: #key topics contains many topics, but the high rated are directly related\n",
    "                key_topics.append( info['document']['keyTopics'][j]['text'].lower())\n",
    "                \n",
    "        for j in range(categories_nb):#adding categoreis from klangoo response to  text_categories\n",
    "            text_categories.append(info['document']['categories'][j]['name'].lower() ) # append the key categories to the list\n",
    "\n",
    "        #print(\"Entities for Text nb:\", i, \"are: \", text_entities)\n",
    "        #print(\"keyTopics for text nb: \", i, \"are\", key_topics,\"\\n\")\n",
    "        #print(\"Categories for Text nb:\", i, \"are: \", text_categories, \"\\n\")\n",
    "        \n",
    "        #check existecne of an item of text_categories in wanted_category \n",
    "        check_category = have_common(wanted_categories, text_categories ) \n",
    "        check_topics = have_common(wanted_topics, key_topics)\n",
    "        check_entities = have_common(wanted_entities, text_entities )\n",
    "                \n",
    "        #If the article category and entity are the wanted ones, we apply S.A.\n",
    "        if check_category  and  (check_entities or check_topics): \n",
    "            ctr += 1\n",
    "            score = analyser.polarity_scores(text)\n",
    "            print(\"Text: \", i, \"have the wanted entities/topics and category.\")\n",
    "            print(\"text_categories:\", text_categories)\n",
    "            print(\"key_topics:\", key_topics)\n",
    "            print(\"text_entities:\", text_entities)\n",
    "            print(\"Sentiment analysis for text: \",  i , \"is: \", score, \"\\n\\n\")\n",
    "            #check if the text is from a top influencer or a top trusted source, if so consider as 10 texts\n",
    "            if (creator in Top_influencers) or (creator in  Trusted_resources):\n",
    "                ctr += 10\n",
    "                grade_sum += score['compound'] * 10\n",
    "            #compound(result from NLTK library) element of the polarity score determine if positive >0.5 or negative <-0.5\n",
    "            else:\n",
    "                grade_sum += score['compound'] \n",
    "        #print(\"check_category condition: \", check_category )\n",
    "        #print(\"check_entities condition: \", check_entities)\n",
    "        #print(\"check_topics condition: \", check_topics)\n",
    "        #print()\n",
    "        #print(\"-----------------\")\n",
    "        #print()\n",
    "        \n",
    "print(\"Final Result:  \\n\\n\")     \n",
    "if ctr > 0:\n",
    "    final_grade = grade_sum / ctr\n",
    "\n",
    "    if final_grade < -0.1: #check the condition neg or pos and total score in NLTK\n",
    "        print(\"The \" , wanted_stock  ,\"have negative Semantic Analysis in the given articles,it could be an indicator that this stock does not have community trust in the determined time.\\\n",
    "         articles, the term bitcoin or BTC got a polarity scrore of : \" , final_grade, \" on 1 .\")\n",
    "    elif final_grade > 0.1:\n",
    "        print(\"The \",wanted_stock, \"  have a positive Semantic Analysis in the given articles,it could be an indicator \\\n",
    "        that this stock have community trust in the determined time.\\\n",
    "         the term bitcoin or BTC got a polarity scrore of :\" , final_grade, \" on 1 .\")\n",
    "    else:\n",
    "        print(\"After analysing the relative articles, the \", wanted_stock, \" have a neutral Semantic Analysis.\")          \n",
    "    \n",
    "\n",
    "    \n"
   ]
  },
  {
   "cell_type": "markdown",
   "id": "9f8f2da1",
   "metadata": {},
   "source": [
    "### The result of the Bitcoin sentiment analysis  today gives us a positive indicator about \"bitcon-USD\" stock.\n",
    "\n",
    "### Surprising? It could be suprising knowing the current fall of the bitcoin price, but if we look at the chart  as in the graph below  the price in this week had a suprising rise.\n",
    "\n",
    "https://coinmarketcap.com/currencies/bitcoin/\n",
    " "
   ]
  },
  {
   "attachments": {
    "BTC_1M_graph_coinmarketcap.png": {
     "image/png": "[encoded data removed]"
    }
   },
   "cell_type": "markdown",
   "id": "686e1fc6",
   "metadata": {},
   "source": [
    "![BTC_1M_graph_coinmarketcap.png](attachment:BTC_1M_graph_coinmarketcap.png)"
   ]
  },
  {
   "cell_type": "markdown",
   "id": "b46331e8",
   "metadata": {},
   "source": [
    "### Finally, It is not a definitive way to prove the stock market orientation, but it could be a good indicator.\n",
    "\n",
    "."
   ]
  },
  {
   "cell_type": "markdown",
   "id": "eb5edcac",
   "metadata": {},
   "source": [
    "### Improved version"
   ]
  },
  {
   "cell_type": "markdown",
   "id": "2ec3a46e",
   "metadata": {},
   "source": [
    "#### Accroding to this article https://link.springer.com/article/10.1007/s12559-021-09819-8 in `Springer` the most accurate lexicon library for analyzing tweets for stock market prediction is `senticnet`, a library made by the MIT Media Laboratory in 2010.\n",
    "\n",
    "\n",
    " "
   ]
  },
  {
   "cell_type": "code",
   "execution_count": null,
   "id": "27eb647a",
   "metadata": {},
   "outputs": [],
   "source": []
  }
 ],
 "metadata": {
  "kernelspec": {
   "display_name": "Python 3 (ipykernel)",
   "language": "python",
   "name": "python3"
  },
  "language_info": {
   "codemirror_mode": {
    "name": "ipython",
    "version": 3
   },
   "file_extension": ".py",
   "mimetype": "text/x-python",
   "name": "python",
   "nbconvert_exporter": "python",
   "pygments_lexer": "ipython3",
   "version": "3.9.12"
  }
 },
 "nbformat": 4,
 "nbformat_minor": 5
}
