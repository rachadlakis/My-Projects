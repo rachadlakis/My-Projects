{
 "cells": [
  {
   "cell_type": "markdown",
   "id": "bd300e87",
   "metadata": {},
   "source": [
    "# Stock market Indicator Using Klangoo"
   ]
  },
  {
   "cell_type": "markdown",
   "id": "ae57b9c1",
   "metadata": {},
   "source": [
    "### This is a prototype to demonsrate the use of Klangoo in stock indicators"
   ]
  },
  {
   "cell_type": "markdown",
   "id": "32a2538d",
   "metadata": {},
   "source": [
    "### Define a function that will be used in the code"
   ]
  },
  {
   "cell_type": "code",
   "execution_count": 56,
   "id": "f24055d6",
   "metadata": {},
   "outputs": [],
   "source": [
    "def have_common(x,y):\n",
    "   common = False\n",
    "   for value in x:\n",
    "      if value in y:\n",
    "         common= True\n",
    "   return common"
   ]
  },
  {
   "cell_type": "code",
   "execution_count": 14,
   "id": "68a1b038",
   "metadata": {},
   "outputs": [],
   "source": [
    "# Let this the last part, if you have time you can do it."
   ]
  },
  {
   "cell_type": "code",
   "execution_count": null,
   "id": "13dcb039",
   "metadata": {},
   "outputs": [],
   "source": []
  },
  {
   "cell_type": "markdown",
   "id": "43820d75",
   "metadata": {},
   "source": [
    "### Import Libraries and read csv as a dataFrame"
   ]
  },
  {
   "cell_type": "code",
   "execution_count": 22,
   "id": "7f0f2ed5",
   "metadata": {},
   "outputs": [],
   "source": [
    "import pandas as pd\n",
    "import json\n",
    "from klangooclient.MagnetAPIClient import MagnetAPIClient\n",
    "\n",
    "df = pd.read_csv(\"tweets_labelled.csv\") #Read  csv file containig 5000 tweets and the sentiment of each tweet\n",
    "                                                       # The csv file from kaggle contains alreade the sentiment analysis \n",
    "df = df[:10] #30 in testing  #ONly 2000 tweets will be maniupulated bcz we have only 5000 requests from kalngoo"
   ]
  },
  {
   "cell_type": "markdown",
   "id": "a5d318ea",
   "metadata": {},
   "source": [
    "### Prepare connection strings"
   ]
  },
  {
   "cell_type": "code",
   "execution_count": 57,
   "id": "c4f05caa",
   "metadata": {},
   "outputs": [],
   "source": [
    "ENDPOINT ='https://nlp.klangoo.com/Service.svc'\n",
    "CALK = '155b99fc-758c-40c8-a8ef-5d4eb9fba616'\n",
    "SECRET_KEY = 'wTMeUVHL38vGrdDBbSdSFBQOWFchPTaUnIFZBJS4'\n",
    "\n",
    "client = MagnetAPIClient(ENDPOINT, CALK, SECRET_KEY)"
   ]
  },
  {
   "cell_type": "markdown",
   "id": "600ef12f",
   "metadata": {},
   "source": [
    "### Specify wanted entities and categories to search for"
   ]
  },
  {
   "cell_type": "code",
   "execution_count": 25,
   "id": "c3523231",
   "metadata": {},
   "outputs": [],
   "source": [
    "wanted_entities = ['amazon', 'amzn'] #Stock(s) interrested in, This option is subjective to the user.\n",
    "wanted_categories = ['general','business', \\\n",
    "                     ,'science','politics',\\\n",
    "                     'technology'] # Only texts having these categoreis will be taken into considertion\n",
    "                                            # Buisness, and also politics news are very important to the stock prices"
   ]
  },
  {
   "cell_type": "markdown",
   "id": "110dc313",
   "metadata": {},
   "source": [
    "### Code"
   ]
  },
  {
   "cell_type": "code",
   "execution_count": 28,
   "id": "bda18829",
   "metadata": {
    "scrolled": true
   },
   "outputs": [
    {
     "name": "stdout",
     "output_type": "stream",
     "text": [
      "0\n",
      "RT @vincent13031925: Biggest mistakes of the century: From before  Apple AAPL is  only a PC maker  Amazon AMZN is only a bookstore Goo…\n",
      "negative\n",
      "entities_nb:  3\n",
      "text_entities:  ['amazon', 'apple', 'rt']\n",
      "text_categories:  ['technology', 'business']\n",
      "check_category:  True\n",
      "check_entities:  True\n",
      "========\n",
      "1\n",
      "RT @BarrySchwartzBW: Carl Icahn once owned 10% of Netflix. That stake today would have been worth about 24B. He also had 52m shares of App…\n",
      "neutral\n",
      "entities_nb:  2\n",
      "text_entities:  ['carl icahn', 'netflix']\n",
      "text_categories:  ['business', 'technology']\n",
      "check_category:  True\n",
      "check_entities:  False\n",
      "========\n",
      "2\n",
      "RT @gzbenso: Netflix leads its rivals in original TV shows by a wide margin in both quantity and quality  according to new data analysis ht…\n",
      "positive\n",
      "entities_nb:  1\n",
      "text_entities:  ['netflix']\n",
      "text_categories:  ['technology']\n",
      "check_category:  True\n",
      "check_entities:  False\n",
      "========\n",
      "3\n",
      "RT @iflickerman: \"All Free\" Retail is Back  Amazon AMZN ready for Chapter 11 🤣🤣🤣 @JuliaLaRoche https://t.co/t4S8BD3REg\n",
      "positive\n",
      "entities_nb:  2\n",
      "text_entities:  ['amazon', 'rt']\n",
      "text_categories:  ['business']\n",
      "check_category:  True\n",
      "check_entities:  True\n",
      "========\n",
      "4\n",
      "RT @ReformedBroker: Amazon is less than 2% away from a record high. AMZN is 10% or so of the QQQs https://t.co/ejWq3o2AuA\n",
      "positive\n",
      "entities_nb:  1\n",
      "text_entities:  ['amazon']\n",
      "text_categories:  ['science']\n",
      "check_category:  False\n",
      "check_entities:  True\n",
      "========\n",
      "5\n",
      "Netflix is so overvalued  the stock is gonna collapse when people realise stocks StockMarket\n",
      "negative\n",
      "entities_nb:  1\n",
      "text_entities:  ['netflix']\n",
      "text_categories:  ['technology']\n",
      "check_category:  True\n",
      "check_entities:  False\n",
      "========\n",
      "6\n",
      "MSFT Microsoft all time highs\n",
      "AMZN Amazon all time highs \n",
      "NFLX Netflix all time highs\n",
      "FB Facebook all time highs\n",
      "APPL Apple all time highs\n",
      "GOOGL Google nearly all time highs\n",
      "Talk about the big boys doing the heavy lifting\n",
      "positive\n",
      "entities_nb:  6\n",
      "text_entities:  ['microsoft', 'amazon', 'apple', 'google', 'netflix', 'facebook']\n",
      "text_categories:  ['technology']\n",
      "check_category:  True\n",
      "check_entities:  True\n",
      "========\n",
      "7\n",
      "RT @DanaMattioli: Amazon says it doesnt use information on third-party sellers to inform its private-label business. But interviews with m…\n",
      "neutral\n",
      "entities_nb:  1\n",
      "text_entities:  ['amazon']\n",
      "text_categories:  ['business']\n",
      "check_category:  True\n",
      "check_entities:  True\n",
      "========\n",
      "8\n",
      "Amazon isn’t the only e-commerce company thriving. AMZN shares have climbed &gt,30% this year. But some online retailers are faring even better. Shares of Wayfair  the online furniture and home goods seller  have doubled in price in 2020. /via @qz https://t.co/GQOmMzgcF9\n",
      "positive\n",
      "entities_nb:  1\n",
      "text_entities:  ['amazon']\n",
      "text_categories:  ['business']\n",
      "check_category:  True\n",
      "check_entities:  True\n",
      "========\n",
      "9\n",
      "spy gspc aapl nflx goog tsla Financial stocks reverse course  as J.P. Morgan and Wells Fargo shares swing to losses  https://t.co/6NRdAue7ZU\n",
      "negative\n",
      "entities_nb:  4\n",
      "text_entities:  ['goog', 'j.p. morgan', 'wells fargo', 'gspc']\n",
      "text_categories:  ['business']\n",
      "check_category:  True\n",
      "check_entities:  False\n",
      "========\n",
      "The Netflix stock have a positive Semantic Analysis in the given tweets, Think of buying or hloding. After         processing  5  tweets, the term Netfilx or NFLX got a scrore of :  2.0  on 5 .\n"
     ]
    }
   ],
   "source": [
    "n = len(df)\n",
    "ctr = 0\n",
    "grade_sum = 0\n",
    "final_grade = 0\n",
    "\n",
    "for i in range(n): #read all the tweets from  the dataFrame\n",
    "    text = df.iloc[i,2] #get text from dataFrame\n",
    "    sentiment = df.iloc[i,3]   #get sentiment analysis result from dataFrame\n",
    "        \n",
    "    request =  { 'text' : text, 'lang' : 'en', 'format' : 'json' }\n",
    "    rsp = client.callwebmethod('ProcessDocument', request, 'POST') #Use Klangoo to get all entities and categories of tweet\n",
    "    info = json.loads(rsp) #transform from Bytes to Json format\n",
    "    info.fromkeys\n",
    "    \n",
    "    entities_nb = len(info['document']['entities'])\n",
    "    categories_nb = len(info['document']['categories']) \n",
    "    \n",
    "    text_entities = []   # get the key topics from text and append to this list\n",
    "    text_categories = []   # get the categories from text and append to this list \n",
    "    \n",
    "    for j in range(entities_nb):\n",
    "        text_entities.append(info['document']['entities'][j]['token'].lower() ) # append the entities to the list\n",
    "    \n",
    "    for j in range(categories_nb):\n",
    "        text_categories.append(info['document']['categories'][j]['name'].lower() ) # append the key categories to the list\n",
    "    \n",
    "    check_category = have_common(wanted_categories, text_categories ) #check existecne of an item of text_categories in wanted_category \n",
    "    check_entities = have_common(wanted_entities, text_entities )\n",
    "    \n",
    "    \n",
    "    print(i)\n",
    "    print(text)\n",
    "    print(sentiment)\n",
    "    print(\"entities_nb: \", entities_nb)\n",
    "    print(\"text_entities: \" , text_entities)\n",
    "    print(\"text_categories: \", text_categories)\n",
    "    \n",
    "    check_category = have_common(wanted_categories, text_categories ) #check existecne of an item of text_categories in wanted_category \n",
    "    check_entities = have_common(wanted_entities, text_entities )\n",
    "    print(\"check_category: \", check_category)\n",
    "    print(\"check_entities: \" , check_entities)\n",
    "    print(\"========\")\n",
    "    \n",
    "    if check_category  and check_entities: # if the category and topics of the text are in what we are interrested in \n",
    "        if sentiment == 'positive':\n",
    "            grade_sum += 5   \n",
    "        elif sentiment == 'negative':\n",
    "            grade_sum -= 5\n",
    "        #else is: stays zero \n",
    "        ctr += 1\n",
    "          \n",
    "  \n",
    "\n",
    "if ctr != 0:\n",
    "    final_grade = grade_sum / ctr\n",
    "\n",
    "    if final_grade <0:\n",
    "        print(\"The Amazon stock have negative Semantic Analysis in the given tweets, Think of selling. After \\\n",
    "        processing \", ctr , \" tweets, the term Netfilx or NFLX got a scrore of : \" , final_grade, \" on 5 .\")\n",
    "    elif final_grade >0:\n",
    "        print(\"The Amazon stock have a positive Semantic Analysis in the given tweets, Think of buying or hloding. After \\\n",
    "        processing \", ctr , \" tweets, the term Netfilx or NFLX got a scrore of : \" , final_grade, \" on 5 .\")\n",
    "    else:\n",
    "        print(\"The Amazon stock have a neutral Semantic Analysis. \")  "
   ]
  },
  {
   "cell_type": "code",
   "execution_count": null,
   "id": "9a3eab09",
   "metadata": {},
   "outputs": [],
   "source": [
    "#When the entity is amazon the klangoo is giving empty string as response"
   ]
  },
  {
   "cell_type": "code",
   "execution_count": 21,
   "id": "ed3ec63a",
   "metadata": {},
   "outputs": [
    {
     "ename": "AttributeError",
     "evalue": "'list' object has no attribute 'lower'",
     "output_type": "error",
     "traceback": [
      "\u001b[1;31m---------------------------------------------------------------------------\u001b[0m",
      "\u001b[1;31mAttributeError\u001b[0m                            Traceback (most recent call last)",
      "Input \u001b[1;32mIn [21]\u001b[0m, in \u001b[0;36m<cell line: 2>\u001b[1;34m()\u001b[0m\n\u001b[0;32m      1\u001b[0m a \u001b[38;5;241m=\u001b[39m [\u001b[38;5;124m'\u001b[39m\u001b[38;5;124mA\u001b[39m\u001b[38;5;124m'\u001b[39m, \u001b[38;5;124m'\u001b[39m\u001b[38;5;124mb\u001b[39m\u001b[38;5;124m'\u001b[39m]\n\u001b[1;32m----> 2\u001b[0m \u001b[43ma\u001b[49m\u001b[38;5;241;43m.\u001b[39;49m\u001b[43mlower\u001b[49m()\n\u001b[0;32m      3\u001b[0m b\u001b[38;5;241m=\u001b[39m [\u001b[38;5;124m'\u001b[39m\u001b[38;5;124mA\u001b[39m\u001b[38;5;124m'\u001b[39m]\n\u001b[0;32m      4\u001b[0m have_common(a,b)\n",
      "\u001b[1;31mAttributeError\u001b[0m: 'list' object has no attribute 'lower'"
     ]
    }
   ],
   "source": [
    "a = ['A', 'b']\n",
    "a.lower()\n",
    "b= ['A']\n",
    "have_common(a,b)"
   ]
  },
  {
   "cell_type": "code",
   "execution_count": null,
   "id": "b93bbe2b",
   "metadata": {},
   "outputs": [],
   "source": []
  },
  {
   "cell_type": "markdown",
   "id": "aaee7813",
   "metadata": {},
   "source": [
    "# Testing"
   ]
  },
  {
   "cell_type": "code",
   "execution_count": 72,
   "id": "455bd98a",
   "metadata": {},
   "outputs": [
    {
     "name": "stdout",
     "output_type": "stream",
     "text": [
      "If you thought of the age of companies launching real-time audio chat apps, you’re wrong. Swedish caller identification service Truecaller is today launching a new app in the space called Open Doors. The company claims that this is a constructs-free app that has fewer structural roadblocks than Clubhouse or Twitter Spaces. That is, there are no rooms, invites, recording tools, or even extensive moderation features. You can sign up on the app through your phone number by getting a one-time password (OTP), or sign in through your existing Truecaller account. You can start a conversation at any point, and all the folks in your contact list, who also have the app installed, will get a notification to join. Once your friend joins, their contacts will also get the notification, and the cycle continues till the end of time. You can also invite someone to join the conversation through a link. Image Credits: Truecaller   Truecaller was quick to point out that the app scans your contact library locally and none of the data is transferred to its servers. “Thanks to Truecaller being 13 years in the business, we’ve spent a great deal of time learning about how people communicate. One of the reasons that we built this app was that we built something similar in Truecaller in 2018. But it was just a demo, and we never launched it,” Nami Zarringhalam, co-founder of True Software, Truecaller’s parent company, told TechCrunch in an interview. “The journey of building this product stems from a very basic idea of recreating experiences like meeting at a cafe or a watercooler, and recapturing that act of having casual conversations online.” Notably, Open Doors doesn’t have any moderation tools. There’s no limit to how many people join a conversation, so it’s hard to predict a conversation’s direction if hundreds of people have joined in. But Truecaller said that it’s thinking about introducing a limit. One way to control a conversation is to mute someone, but then, they have the power to mute you, too. It’s a pretty confusing situation as everyone can mute everyone else. Image Credits: Truecaller “This is a good way to block out the noise and keep a meaningful conversation going as no one really owns a room,” Zarringhalam said. You can report a user if you feel unsafe by their behavior, but you can’t do much if the conversation becomes toxic on the whole. If you block a user, you won’t be able to hear them, and they won’t be able to hear you. But you can still hear the rest of the people in conversation. So if your friend and the person you blocked are having a conversation, you’d feel like listening to a two-person podcast, but you can hear only one of them. Zarringhalam equated this situation to a party where you engage in a meaningful conversation. But at parties, we can concentrate on a person’s voice who’s standing next to us. This might not be possible if you could hear all the folks present in the room at the same volume. The company says its own team takes action on the users based on the number of reports against them and the number of times they’ve been blocked. It noted that there’s no specific threshold for the number of reports against a user, but it takes various factors like frequency of being blocked or reported into consideration. This sounds like a moderation nightmare, and hopefully, Open Doors will be able to solve these problems in a better way due course. More importantly, there’s a chance that a user gets turned off by this whole ordeal and uninstalls the app. The app is available for free on iOS and Android in all countries at launch except China and Russia. Apart from English, the app also supports other languages, including Hindi, Spanish, Latin, and French. The platform will be ad-free, and the company doesn’t have any plans for monetization at the moment. The company is already working on some new features for the app that’ll be shipped soon. These include the ability to set a close friends circle for a private live-audio session, more granular notification control, and emoji reactions. It said that it’ll work on features like recording or transcription if the community demands it. Well, that’s what happened with Clubhouse right? In the last few years, after Clubhouse shot to fame, all major platforms including Twitter, Discord, LinkedIn, Spotify, and Facebook launched their own version of the live audio solution. During that time, people were locked up in their houses and wanted to recreate a synchronous experience of talking to people that they were missing. Now, we’re meeting people face-to-face and in-person events are a thing again. Over time, interest in this format has diminished. Last month, Clubhouse laid off some of its workforce as it is “rethinking” its strategy. In April, Spotify shut down its live audio creator program, the Greenroom Creator Fund. According to data from SensorTower, downloads for social audio apps Clubhouse, Spoon, and Stereo have gone down from 18.7 million in Q1 2021 to merely 3 million in Q1 2022. For True Software, it’s also about launching another successful app beyond Truecaller. Last year, the firm launched a safety app called Guardian, but it never took off. The firm also went public on Nasdaq Stockholm at an opening price of 61 Swedish Krona ($5.76). After achieving a high of 143.20 Swedish Krona ($14.11) late last year, the stock price is currently hovering around its opening levels. To promote the new app the company wants to leverage its network of more than 310 million users on the main app to lure them to the new app. Truecaller will indulge in a massive marketing campaign for Open Doors on its main app and other means like online ads, too. Beyond that, it’s banking on the fact that you will be continuously curious about what your friends are talking about, and will keep coming back to the app to find that out and join the conversation. And that could be the app’s biggest challenge.\n",
      "entities:  ['twitter', 'spotify', 'android', 'ios', 'facebook', 'linkedin', 'china', 'russia', 'nasdaq', 'stockholm', 'greenroom creator fund', 'techcrunch']\n",
      "categories:  ['technology']\n"
     ]
    }
   ],
   "source": [
    "from klangooclient.MagnetAPIClient import MagnetAPIClient\n",
    "import json\n",
    "text = 'If you thought of the age of companies launching real-time audio chat apps, you’re wrong. \\\n",
    "Swedish caller identification service Truecaller is today launching a new app in the space called Open Doors. \\\n",
    "The company claims that this is a constructs-free app that has fewer structural roadblocks than\\\n",
    "Clubhouse or Twitter Spaces. That is, there are no rooms, invites, recording tools, or even extensive \\\n",
    "moderation features. You can sign up on the app through your phone number by getting a one-time password \\\n",
    "(OTP), or sign in through your existing Truecaller account. You can start a conversation at any point,\\\n",
    "and all the folks in your contact list, who also have the app installed, will get a notification to join. \\\n",
    "Once your friend joins, their contacts will also get the notification, and the cycle continues till the end of time. \\\n",
    "You can also invite someone to join the conversation through a link. Image Credits: Truecaller   Truecaller \\\n",
    "was quick to point out that the app scans your contact library locally and none of the data is transferred \\\n",
    "to its servers. “Thanks to Truecaller being 13 years in the business, we’ve spent a great deal of time \\\n",
    "learning about how people communicate. One of the reasons that we built this app was that we built something \\\n",
    "similar in Truecaller in 2018. But it was just a demo, and we never launched it,” Nami Zarringhalam, co-founder\\\n",
    "of True Software, Truecaller’s parent company, told TechCrunch in an interview. “The journey of building this \\\n",
    "product stems from a very basic idea of recreating experiences like meeting at a cafe or a watercooler, \\\n",
    "and recapturing that act of having casual conversations online.” Notably, Open Doors doesn’t have any \\\n",
    "moderation tools. There’s no limit to how many people join a conversation, so it’s hard to predict \\\n",
    "a conversation’s direction if hundreds of people have joined in. But Truecaller said that it’s thinking \\\n",
    "about introducing a limit. One way to control a conversation is to mute someone, but then, they have \\\n",
    "the power to mute you, too. It’s a pretty confusing situation as everyone can mute everyone else. Image Credits:\\\n",
    "Truecaller “This is a good way to block out the noise and keep a meaningful conversation going as no one really \\\n",
    "owns a room,” Zarringhalam said. You can report a user if you feel unsafe by their behavior, but you can’t do much \\\n",
    "if the conversation becomes toxic on the whole. If you block a user, you won’t be able to hear them, and they won’t\\\n",
    "be able to hear you. But you can still hear the rest of the people in conversation. So if your friend and the person\\\n",
    "you blocked are having a conversation, you’d feel like listening to a two-person podcast, but you can hear only one \\\n",
    "of them. Zarringhalam equated this situation to a party where you engage in a meaningful conversation.\\\n",
    "But at parties, we can concentrate on a person’s voice who’s standing next to us. This might not be possible \\\n",
    "if you could hear all the folks present in the room at the same volume. The company says its own team takes\\\n",
    "action on the users based on the number of reports against them and the number of times they’ve been blocked. \\\n",
    "It noted that there’s no specific threshold for the number of reports against a user, but it takes various \\\n",
    "factors like frequency of being blocked or reported into consideration. This sounds like a moderation nightmare, \\\n",
    "and hopefully, Open Doors will be able to solve these problems in a better way due course. More importantly, there’s a\\\n",
    "chance that a user gets turned off by this whole ordeal and uninstalls the app. The app is available for free on iOS\\\n",
    "and Android in all countries at launch except China and Russia. Apart from English, the app also supports other languages,\\\n",
    "including Hindi, Spanish, Latin, and French. The platform will be ad-free, and the company doesn’t have any plans for\\\n",
    "monetization at the moment. The company is already working on some new features for the app that’ll be shipped soon. \\\n",
    "These include the ability to set a close friends circle for a private live-audio session, more granular notification \\\n",
    "control, and emoji reactions. It said that it’ll work on features like recording or transcription if the community \\\n",
    "demands it. Well, that’s what happened with Clubhouse right? In the last few years, after Clubhouse shot to fame,\\\n",
    "all major platforms including Twitter, Discord, LinkedIn, Spotify, and Facebook launched their own version of the\\\n",
    "live audio solution. During that time, people were locked up in their houses and wanted to recreate a synchronous \\\n",
    "experience of talking to people that they were missing. Now, we’re meeting people face-to-face and in-person events \\\n",
    "are a thing again. Over time, interest in this format has diminished. Last month, Clubhouse laid off some of \\\n",
    "its workforce as it is “rethinking” its strategy. In April, Spotify shut down its live audio creator program,\\\n",
    "the Greenroom Creator Fund. According to data from SensorTower, downloads for social audio apps Clubhouse,\\\n",
    "Spoon, and Stereo have gone down from 18.7 million in Q1 2021 to merely 3 million in Q1 2022. For True Software, \\\n",
    "it’s also about launching another successful app beyond Truecaller. Last year, the firm launched a safety app \\\n",
    "called Guardian, but it never took off. The firm also went public on Nasdaq Stockholm at an opening price of 61 \\\n",
    "Swedish Krona ($5.76). After achieving a high of 143.20 Swedish Krona ($14.11) late last year, the stock price is\\\n",
    "currently hovering around its opening levels. To promote the new app the company wants to leverage its \\\n",
    "network of more than 310 million users on the main app to lure them to the new app. Truecaller will \\\n",
    "indulge in a massive marketing campaign for Open Doors on its main app and other means like online ads,\\\n",
    "too. Beyond that, it’s banking on the fact that you will be continuously curious about what your friends \\\n",
    "are talking about, and will keep coming back to the app to find that out and join the conversation. \\\n",
    "And that could be the app’s biggest challenge.'\n",
    "\n",
    "text.replace('\\n', ' ').replace('\\r', '')\n",
    "text = text.strip()\n",
    "print(text)\n",
    "request = { 'text' :text ,\n",
    "           'lang' : 'en', 'format' : 'json' }\n",
    "\n",
    "rsp = client.callwebmethod('ProcessDocument', request, 'POST')\n",
    "info = json.loads(rsp) #transform from Bytes to dictionary\n",
    "info.fromkeys\n",
    "\n",
    "#get all the key topics from the text\n",
    "entities_nb = len(info['document']['entities'])\n",
    "categories_nb = len(info['document']['categories'])\n",
    " \n",
    "\n",
    "entities = [] # get the key topics from text and append to this list\n",
    "categories = [] # get the categories from text and append to this list\n",
    " \n",
    "\n",
    "for i in range(entities_nb):\n",
    "    entities.append(info['document']['entities'][i]['token'].lower() )\n",
    "    \n",
    "for i in range(categories_nb):\n",
    "    categories.append(info['document']['categories'][i]['name'].lower())\n",
    "    \n",
    "\n",
    "    \n",
    "print(\"entities: \", entities)  \n",
    "print(\"categories: \", categories)\n"
   ]
  },
  {
   "cell_type": "code",
   "execution_count": 31,
   "id": "8b5b9dad",
   "metadata": {},
   "outputs": [
    {
     "data": {
      "text/plain": [
       "builtin_function_or_method"
      ]
     },
     "execution_count": 31,
     "metadata": {},
     "output_type": "execute_result"
    }
   ],
   "source": [
    "type(info.fromkeys)"
   ]
  },
  {
   "cell_type": "code",
   "execution_count": 368,
   "id": "92383fdd",
   "metadata": {},
   "outputs": [
    {
     "name": "stdout",
     "output_type": "stream",
     "text": [
      "text_entities:  ['amazon', 'covid-19', 'dollar general', 'walmart']\n",
      "text_categories:  ['business', 'health']\n",
      "key_topics:  ['amzn shares', 'only e-commerce company', 'amazon', 'online retailers', 'home commodities seller', 'price', 'wayfairthe online furniture']\n"
     ]
    }
   ],
   "source": [
    "print(\"text_entities: \" , text_entities)  \n",
    "print(\"text_categories: \" , text_categories)\n",
    "print(\"key_topics: \" , key_topics)"
   ]
  },
  {
   "cell_type": "code",
   "execution_count": 365,
   "id": "922d00de",
   "metadata": {},
   "outputs": [
    {
     "name": "stdout",
     "output_type": "stream",
     "text": [
      "catogories:  ['business']\n",
      "wanted_categories:  ['general', 'business', 'politics', 'technology']\n",
      "entities:  ['amazon']\n",
      "user_important_stocks:  ['amazon', 'amzn']\n",
      "True True\n"
     ]
    }
   ],
   "source": [
    "check_category = any(item in wanted_categories for item in categories)#check existecne of an item of text_categories in wanted_category \n",
    "check_topics = any( item in entities for item in user_important_stocks )\n",
    "print(\"catogories: \" , categories)\n",
    "print(\"wanted_categories: \" , wanted_categories)\n",
    "\n",
    "print(\"entities: \", entities)\n",
    "print(\"user_important_stocks: \", user_important_stocks)\n",
    "\n",
    "print(check_category, check_topics)"
   ]
  },
  {
   "cell_type": "code",
   "execution_count": 366,
   "id": "47a11fe4",
   "metadata": {},
   "outputs": [
    {
     "name": "stdout",
     "output_type": "stream",
     "text": [
      "Final step\n",
      "ctr:  1\n",
      "grade_sum:  -5\n",
      "['business', 'health']\n",
      "['amazon', 'covid-19', 'dollar general', 'walmart']\n"
     ]
    }
   ],
   "source": [
    "check_category = any(item in wanted_categories for item in text_categories)#check existecne of an item of text_categories in wanted_category \n",
    "check_entities = any( item in user_important_stocks for item in text_entities )\n",
    "if check_category  and check_entities: # if the category and topics of the text is in what we are interrested in \n",
    "    print(\"Final step\")\n",
    "    grade = 0\n",
    "    if sentiment =='positive':\n",
    "        grade = 5\n",
    "    elif sentiment =='negative':\n",
    "        grade = -5\n",
    "    #else is stays zero \n",
    "    ctr += 1\n",
    "    grade_sum += grade\n",
    "print(\"ctr: \" , ctr)\n",
    "print(\"grade_sum: \" ,grade_sum)\n",
    "\n",
    "print(text_categories)\n",
    "print(text_entities)"
   ]
  },
  {
   "cell_type": "code",
   "execution_count": null,
   "id": "70a8f76e",
   "metadata": {},
   "outputs": [],
   "source": [
    "import nltk\n",
    "nltk.download()"
   ]
  },
  {
   "cell_type": "code",
   "execution_count": 49,
   "id": "38a0a7b7",
   "metadata": {},
   "outputs": [],
   "source": [
    "s = \"Its time to start stacking bitcoin again. Thats the message from indicators tracking tokens sold by miners and comparing the cryptoc\\\n",
    "urrencys market value to its fair value.\\\n",
    "The Puell Multiple\""
   ]
  },
  {
   "cell_type": "code",
   "execution_count": 54,
   "id": "08cea79c",
   "metadata": {},
   "outputs": [
    {
     "name": "stdout",
     "output_type": "stream",
     "text": [
      "(S\n",
      "  Its/PRP$\n",
      "  time/NN\n",
      "  to/TO\n",
      "  start/VB\n",
      "  stacking/VBG\n",
      "  bitcoin/RB\n",
      "  again/RB\n",
      "  ./.\n",
      "  Thats/VB\n",
      "  the/DT\n",
      "  message/NN\n",
      "  from/IN\n",
      "  indicators/NNS\n",
      "  tracking/VBG\n",
      "  tokens/NNS\n",
      "  sold/VBN\n",
      "  by/IN\n",
      "  miners/NNS\n",
      "  and/CC\n",
      "  comparing/VBG\n",
      "  the/DT\n",
      "  cryptocurrencys/NN\n",
      "  market/NN\n",
      "  value/NN\n",
      "  to/TO\n",
      "  its/PRP$\n",
      "  fair/JJ\n",
      "  value.The/NN\n",
      "  (PERSON Puell/NNP Multiple/NNP))\n"
     ]
    }
   ],
   "source": [
    "tokens = nltk.word_tokenize(s)\n",
    "#print(tokens)\n",
    "tagged = nltk.pos_tag(tokens)\n",
    "entities = nltk.chunk.ne_chunk(tagged)\n",
    "print(entities)"
   ]
  },
  {
   "cell_type": "code",
   "execution_count": null,
   "id": "d4dce946",
   "metadata": {},
   "outputs": [],
   "source": [
    "from nltk.sentiment.vader import SentimentIntensityAnalyzer\n",
    "analyser = SentimentIntensityAnalyzer()\n"
   ]
  },
  {
   "cell_type": "code",
   "execution_count": null,
   "id": "48d0cec1",
   "metadata": {},
   "outputs": [],
   "source": []
  },
  {
   "cell_type": "code",
   "execution_count": null,
   "id": "1038747e",
   "metadata": {},
   "outputs": [],
   "source": []
  },
  {
   "cell_type": "code",
   "execution_count": 46,
   "id": "077bdadb",
   "metadata": {},
   "outputs": [
    {
     "name": "stdout",
     "output_type": "stream",
     "text": [
      "Requirement already satisfied: nltk in c:\\users\\lenovo\\anaconda3\\lib\\site-packages (3.7)\n",
      "Requirement already satisfied: regex>=2021.8.3 in c:\\users\\lenovo\\anaconda3\\lib\\site-packages (from nltk) (2022.7.9)\n",
      "Requirement already satisfied: joblib in c:\\users\\lenovo\\anaconda3\\lib\\site-packages (from nltk) (1.1.0)\n",
      "Requirement already satisfied: tqdm in c:\\users\\lenovo\\anaconda3\\lib\\site-packages (from nltk) (4.64.0)\n",
      "Requirement already satisfied: click in c:\\users\\lenovo\\anaconda3\\lib\\site-packages (from nltk) (8.0.4)\n",
      "Requirement already satisfied: colorama in c:\\users\\lenovo\\anaconda3\\lib\\site-packages (from click->nltk) (0.4.4)\n",
      "Note: you may need to restart the kernel to use updated packages.\n"
     ]
    }
   ],
   "source": [
    "pip install nltk"
   ]
  },
  {
   "cell_type": "code",
   "execution_count": 47,
   "id": "94790cc6",
   "metadata": {},
   "outputs": [],
   "source": [
    "import nltk"
   ]
  },
  {
   "cell_type": "code",
   "execution_count": 48,
   "id": "894841e0",
   "metadata": {},
   "outputs": [
    {
     "name": "stdout",
     "output_type": "stream",
     "text": [
      "showing info https://raw.githubusercontent.com/nltk/nltk_data/gh-pages/index.xml\n"
     ]
    },
    {
     "data": {
      "text/plain": [
       "True"
      ]
     },
     "execution_count": 48,
     "metadata": {},
     "output_type": "execute_result"
    }
   ],
   "source": [
    "nltk.download()"
   ]
  },
  {
   "cell_type": "code",
   "execution_count": null,
   "id": "68244246",
   "metadata": {},
   "outputs": [],
   "source": []
  }
 ],
 "metadata": {
  "kernelspec": {
   "display_name": "Python 3 (ipykernel)",
   "language": "python",
   "name": "python3"
  },
  "language_info": {
   "codemirror_mode": {
    "name": "ipython",
    "version": 3
   },
   "file_extension": ".py",
   "mimetype": "text/x-python",
   "name": "python",
   "nbconvert_exporter": "python",
   "pygments_lexer": "ipython3",
   "version": "3.9.12"
  }
 },
 "nbformat": 4,
 "nbformat_minor": 5
}
