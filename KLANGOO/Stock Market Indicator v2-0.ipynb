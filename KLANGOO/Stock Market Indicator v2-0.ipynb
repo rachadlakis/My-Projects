{
 "cells": [
  {
   "cell_type": "markdown",
   "id": "bd300e87",
   "metadata": {},
   "source": [
    "# Stock market Indicator Using Klangoo"
   ]
  },
  {
   "cell_type": "markdown",
   "id": "7f65b16c",
   "metadata": {},
   "source": [
    "The stock prices are directly related to people opinion and trust. Financial markets are based on `expectations` , and investors buy or sell shares depending on the `sentiments of fear or desire` caused by some event . Investors bet on the credibility of the media outlets that publish rumours despite knowing that the information is not always reliable. Sentiment Analysis can be used to determine the overall opinion for a certain stock. \n",
    "\n",
    " A fast answer can be to apply `sentiment analysis` on every text contaning the word(s) we are interrested in.\n",
    "\n",
    "But, It is not accurate to study every text containing the keyword we are looking for, si how de we know if the domain of the text is  the same domain we we are interrested in (Buisness, Technology, ...) or the text is about a completely different domain and citing this word as an example while speaking about another thing??  \n",
    "\n",
    " How do we know if a certain text is directly related to the stock we are interrested in (i.e.: the stock is the main subject or one of the main subjects of the text) and not cited as a secondary subject in the text?\n",
    "\n",
    "### KLANGOO can be the answer\n",
    "\n",
    " Klangoo can be used to determine, for each text (twitter tweet or a newspaper article) if the domain and the main subject of the text (entities) are what we are interrested in. \n",
    "\n",
    "\n",
    " In the first part, we used a dataset already containng the sentiment analysis results of tweets. We used a stock market tweets from kaggle, (https://www.kaggle.com/datasets/sohelranaccselab/stock-market-tweets-data-sentiment-analysis ).\n",
    " Each row of the csv file contains a tweet details, the tweet initial text and a sentiment analysis result (positive, negative, neutral) .\n",
    " After sending the tweet as a requeest to Klangoo, we process the results: if the main category and the main entities of the tweet are appropriate: the tweet will be processed. Otherwise it will be neglected.\n",
    " A final sentiment analysis will be given to the wanted entity. If it is negative, this could be an indicator that the  stock is going down (maybe, nothing is 100% sure in stock market), and vice versa.\n",
    "\n",
    " The result will be a simple advice of selling, or keeping / buying a certain stock according to the general public opinion. Also a final grade over 5 will be given with the number of tweets analysed to give a certain inficator to the user.\n",
    "\n",
    " In the second part (real use case) an API was used to collect articles from different sources. The api results of giving atricles of a main subject and of a certain language. The results are sent one by one to Klangoo to speicify, as in first part, the main categories and entities.\n",
    " \n",
    " #### N.B. This notebook contains three consecutive improvments of the idea, the most important one is the last one. If you do not have enough time to check all of them, please jump to the last one entitled Improved Version.\n"
   ]
  },
  {
   "cell_type": "markdown",
   "id": "32a2538d",
   "metadata": {},
   "source": [
    "### Define a function that will be used in the code"
   ]
  },
  {
   "cell_type": "code",
   "execution_count": 20,
   "id": "f24055d6",
   "metadata": {},
   "outputs": [],
   "source": [
    "def have_common(x,y):\n",
    "   common = False\n",
    "   for value in x:\n",
    "      if value in y:\n",
    "         common= True\n",
    "   return common"
   ]
  },
  {
   "cell_type": "markdown",
   "id": "470c3182",
   "metadata": {},
   "source": [
    "### Importing Libraries and reading the csv file a Pandas dataFrame"
   ]
  },
  {
   "cell_type": "code",
   "execution_count": 2,
   "id": "27efbf99",
   "metadata": {},
   "outputs": [
    {
     "name": "stdout",
     "output_type": "stream",
     "text": [
      "Requirement already satisfied: klangooclient in c:\\users\\lenovo\\anaconda3\\lib\\site-packages (1.0.0)\n",
      "Note: you may need to restart the kernel to use updated packages.\n"
     ]
    }
   ],
   "source": [
    "pip install klangooclient"
   ]
  },
  {
   "cell_type": "code",
   "execution_count": 21,
   "id": "7f0f2ed5",
   "metadata": {},
   "outputs": [
    {
     "name": "stdout",
     "output_type": "stream",
     "text": [
      "\n"
     ]
    }
   ],
   "source": [
    "from klangooclient.MagnetAPIClient import MagnetAPIClient\n",
    "import pandas as pd\n",
    "import json\n",
    "import string\n",
    "\n",
    "df = pd.read_csv(\"tweets_labelled.csv\") #Read  csv file containig 5000 tweets and the sentiment of each tweet\n",
    "                                     # The csv file from kaggle contains already the sentiment analysis \n",
    "df = df[:30] #only 30 rows were processed \n",
    "print()"
   ]
  },
  {
   "cell_type": "markdown",
   "id": "a5d318ea",
   "metadata": {},
   "source": [
    "### Prepare connection strings and secret key"
   ]
  },
  {
   "cell_type": "code",
   "execution_count": 22,
   "id": "c4f05caa",
   "metadata": {},
   "outputs": [],
   "source": [
    "#prepare the strings to connect to Klangoo\n",
    "ENDPOINT ='https://nlp.klangoo.com/Service.svc'\n",
    "CALK = '155b99fc-758c-40c8-a8ef-5d4eb9fba616'\n",
    "SECRET_KEY = 'wTMeUVHL38vGrdDBbSdSFBQOWFchPTaUnIFZBJS4'\n",
    "\n",
    "client = MagnetAPIClient(ENDPOINT, CALK, SECRET_KEY)"
   ]
  },
  {
   "cell_type": "markdown",
   "id": "600ef12f",
   "metadata": {},
   "source": [
    "### Specify wanted entities and categories to search for"
   ]
  },
  {
   "cell_type": "code",
   "execution_count": 23,
   "id": "c3523231",
   "metadata": {},
   "outputs": [],
   "source": [
    "#specify the entities and the categories we are interrsted in\n",
    "wanted_stock = \"Amazon stock AMZN\"\n",
    "wanted_entities = ['amazon', 'amzn'] #Stock(s) interrested in, This option is subjective to the user.\n",
    "wanted_categories = [ 'science','general','business', 'politics','technology'] #Only these categoreis will be taken into considertion"
   ]
  },
  {
   "cell_type": "markdown",
   "id": "110dc313",
   "metadata": {},
   "source": [
    "### Code"
   ]
  },
  {
   "cell_type": "code",
   "execution_count": 160,
   "id": "bda18829",
   "metadata": {
    "scrolled": true
   },
   "outputs": [
    {
     "name": "stdout",
     "output_type": "stream",
     "text": [
      "request nb: 0 done\n",
      "Text for request nb: 0 is:  RT @vincent13031925: Biggest mistakes of the century: From before  Apple AAPL is  only a PC maker  Amazon AMZN is only a bookstore Goo…\n",
      "Sentiment for request nb: 0 is:  negative\n",
      "Entities for request nb: 0 are:  ['amazon', 'apple', 'rt']\n",
      "Categories for request nb: 0 are:  ['technology', 'business'] \n",
      "\n",
      "request nb: 1 done\n",
      "Text for request nb: 1 is:  RT @BarrySchwartzBW: Carl Icahn once owned 10% of Netflix. That stake today would have been worth about 24B. He also had 52m shares of App…\n",
      "Sentiment for request nb: 1 is:  neutral\n",
      "Entities for request nb: 1 are:  ['carl icahn', 'netflix']\n",
      "Categories for request nb: 1 are:  ['business', 'technology'] \n",
      "\n",
      "request nb: 2 done\n",
      "Text for request nb: 2 is:  RT @gzbenso: Netflix leads its rivals in original TV shows by a wide margin in both quantity and quality  according to new data analysis ht…\n",
      "Sentiment for request nb: 2 is:  positive\n",
      "Entities for request nb: 2 are:  ['netflix']\n",
      "Categories for request nb: 2 are:  ['technology'] \n",
      "\n",
      "request nb: 3 done\n",
      "Text for request nb: 3 is:  RT @iflickerman: \"All Free\" Retail is Back  Amazon AMZN ready for Chapter 11 🤣🤣🤣 @JuliaLaRoche https://t.co/t4S8BD3REg\n",
      "Sentiment for request nb: 3 is:  positive\n",
      "Entities for request nb: 3 are:  ['amazon', 'rt']\n",
      "Categories for request nb: 3 are:  ['business'] \n",
      "\n",
      "request nb: 4 done\n",
      "Text for request nb: 4 is:  RT @ReformedBroker: Amazon is less than 2% away from a record high. AMZN is 10% or so of the QQQs https://t.co/ejWq3o2AuA\n",
      "Sentiment for request nb: 4 is:  positive\n",
      "Entities for request nb: 4 are:  ['amazon']\n",
      "Categories for request nb: 4 are:  ['science'] \n",
      "\n",
      "The  Amazon stock AMZN   have a positive Semantic Analysis in the given tweets, it could be an indicator         that this stock have community trust in the dtermined time.\n",
      "  After         processing  3  tweets, the term Netfilx or NFLX got a scrore of :  0.3333333333333333  on 1 .\n"
     ]
    }
   ],
   "source": [
    "n = len(df)\n",
    "ctr = 0\n",
    "grade_sum = 0\n",
    "final_grade = 0\n",
    "\n",
    "for i in range(n): #read all the tweets from  the dataFrame\n",
    "    text = df.iloc[i,2] #get text from dataFrame\n",
    "    text = text\n",
    "    sentiment = df.iloc[i,3]   #get sentiment analysis result from dataFrame\n",
    "        \n",
    "    request =  { 'text' : text, 'lang' : 'en', 'format' : 'json' }\n",
    "    \n",
    "    rsp = client.callwebmethod('ProcessDocument', request, 'POST') #Use Klangoo to get all entities and categories of tweet\n",
    "    info = json.loads(rsp) #transform to Dictionary\n",
    "    info.fromkeys\n",
    "    print(\"request nb:\", i , \"done\")\n",
    "    print(\"Text for request nb:\", i, \"is: \", text)\n",
    "    print(\"Sentiment for request nb:\", i, \"is: \", sentiment)\n",
    "\n",
    "    entities_nb = len(info['document']['entities'])\n",
    "    categories_nb = len(info['document']['categories']) \n",
    "    \n",
    "    text_entities = []   # get the key topics from text and append to this list\n",
    "    text_categories = []   # get the categories from text and append to this list \n",
    "    \n",
    "    for j in range(entities_nb):\n",
    "        text_entities.append(info['document']['entities'][j]['token'].lower())#adding categoreis from klangoo response to  text_categories\n",
    "    \n",
    "    for j in range(categories_nb):\n",
    "        text_categories.append(info['document']['categories'][j]['name'].lower())#adding categoreis from klangoo response to  text_categories\n",
    "    \n",
    "    print(\"Entities for request nb:\", i, \"are: \", text_entities)\n",
    "    print(\"Categories for request nb:\", i, \"are: \", text_categories, \"\\n\")\n",
    "\n",
    "    check_category = have_common(wanted_categories, text_categories ) #check existecne of an item of text_categories in wanted_category \n",
    "    check_entities = have_common(wanted_entities, text_entities )\n",
    "    \n",
    "    if check_category  and check_entities: # if the category and topics of the text are in what we are interrested in \n",
    "        if sentiment == 'positive':\n",
    "            grade_sum += 1   \n",
    "        elif sentiment == 'negative':\n",
    "            grade_sum -= 1\n",
    "        #else is: stays zero \n",
    "        ctr += 1\n",
    "           \n",
    "  \n",
    "\n",
    "if ctr != 0:\n",
    "    final_grade = grade_sum / ctr\n",
    "\n",
    "    if final_grade <0:\n",
    "        print(\"The \" , wanted_stock  ,\"have negative Semantic Analysis in the given tweets, it could be an indicator \\\n",
    "        that this stock does not have community trust in the dtermined time.\\n  After \\\n",
    "        processing \", ctr , \" tweets, the term Netfilx or NFLX got a scrore of : \" , final_grade, \" on 1 .\")\n",
    "    elif final_grade >0:\n",
    "        print(\"The \",wanted_stock, \"  have a positive Semantic Analysis in the given tweets, it could be an indicator \\\n",
    "        that this stock have community trust in the dtermined time.\\n  After \\\n",
    "        processing \", ctr , \" tweets, the term Netfilx or NFLX got a scrore of : \" , final_grade, \" on 1 .\")\n",
    "    else:\n",
    "        print(\"After analysing the specifeid texts (tweets), The \", wanted_stock, \" have a neutral Semantic Analysis. \")  "
   ]
  },
  {
   "cell_type": "markdown",
   "id": "fc6cbfd2",
   "metadata": {},
   "source": [
    "## Second Part: Real Use case (Bitcoin)\n",
    "\n",
    "### Now, after we tried our idea on a dataset, let's try our idea on a real use case. We will get news articles from different newspapers and apply the sentiment analysis and use klangoo to make a final indicator only for the stocks we are interrested in.\n",
    "\n",
    "### The newsapi is used here to provide articles from different sources (Better than searching in hundreds of websites) containig a specific word and in a certain date range (from -to), in ceratin websites we specify or over 80,000 websites.\n",
    "\n",
    "### But it is not logical to take all articles containng this word into consideration. So we will use Klangoo to know the main entities and the domain of the article, then we can apply sentiment analysis.\n"
   ]
  },
  {
   "cell_type": "markdown",
   "id": "6946b57b",
   "metadata": {},
   "source": [
    " "
   ]
  },
  {
   "cell_type": "markdown",
   "id": "6487db3a",
   "metadata": {},
   "source": [
    "## Bitcoin stock Indicator between 01/07/2022 and 13/07/2022"
   ]
  },
  {
   "cell_type": "code",
   "execution_count": 24,
   "id": "68244246",
   "metadata": {},
   "outputs": [
    {
     "name": "stdout",
     "output_type": "stream",
     "text": [
      "Request successful\n"
     ]
    }
   ],
   "source": [
    "import requests\n",
    "\n",
    "#get all the articles from .. to .. containin the words realted to bicoin\n",
    "url = ('https://newsapi.org/v2/everything?' \n",
    "       'q=Bitcoin USD& Or q=BTC-USD& or q=bitcoin& or q=Bitcoin& or q=BTC& or q=btc&'#serach for articles containng bitcoin related words\n",
    "       'from=2022-07-01&'     #search article in the last week \n",
    "       'to=2022-07-13&'\n",
    "       'language=en&'\n",
    "       'sortBy=popularity&'\n",
    "       'apiKey=42f6576050c04962b5556e40825857df')\n",
    "\n",
    "response = requests.get(url)\n",
    "print(\"Request successful\")"
   ]
  },
  {
   "cell_type": "markdown",
   "id": "8ad8a5d9",
   "metadata": {},
   "source": [
    "### Install newsdata to get articles"
   ]
  },
  {
   "cell_type": "code",
   "execution_count": 333,
   "id": "861d5250",
   "metadata": {
    "scrolled": true
   },
   "outputs": [
    {
     "name": "stdout",
     "output_type": "stream",
     "text": [
      "Requirement already satisfied: newsdataapi in c:\\users\\lenovo\\anaconda3\\lib\\site-packages (0.1.5)\n",
      "Requirement already satisfied: requests<3.0.0 in c:\\users\\lenovo\\anaconda3\\lib\\site-packages (from newsdataapi) (2.27.1)\n",
      "Requirement already satisfied: certifi>=2017.4.17 in c:\\users\\lenovo\\anaconda3\\lib\\site-packages (from requests<3.0.0->newsdataapi) (2022.5.18.1)\n",
      "Requirement already satisfied: idna<4,>=2.5 in c:\\users\\lenovo\\anaconda3\\lib\\site-packages (from requests<3.0.0->newsdataapi) (3.3)\n",
      "Requirement already satisfied: charset-normalizer~=2.0.0 in c:\\users\\lenovo\\anaconda3\\lib\\site-packages (from requests<3.0.0->newsdataapi) (2.0.4)\n",
      "Requirement already satisfied: urllib3<1.27,>=1.21.1 in c:\\users\\lenovo\\anaconda3\\lib\\site-packages (from requests<3.0.0->newsdataapi) (1.26.9)\n",
      "Note: you may need to restart the kernel to use updated packages.\n"
     ]
    }
   ],
   "source": [
    "pip install newsdataapi"
   ]
  },
  {
   "cell_type": "markdown",
   "id": "63488e25",
   "metadata": {},
   "source": [
    "### Make a request to get atricles containing bitcoin related articles"
   ]
  },
  {
   "cell_type": "code",
   "execution_count": 25,
   "id": "e0e4abad",
   "metadata": {},
   "outputs": [
    {
     "name": "stdout",
     "output_type": "stream",
     "text": [
      "Done\n"
     ]
    }
   ],
   "source": [
    "from newsdataapi import NewsDataApiClient\n",
    "\n",
    "api = NewsDataApiClient(apikey='pub_9173b9c5020815c947c4ebd4e19094a1b11d')\n",
    "#https://newsdata.io/\n",
    "\n",
    "response = api.news_api( q= \"bitcoin OR Bitcoin OR bitcoins OR Bitcoins\", language='en')\n",
    "print(\"Done\")"
   ]
  },
  {
   "cell_type": "code",
   "execution_count": 26,
   "id": "a1748b22",
   "metadata": {},
   "outputs": [
    {
     "name": "stdout",
     "output_type": "stream",
     "text": [
      "{'title': 'Everything You Need to Know About Crypto and Tax Returns in 2022', 'link': 'https://www.lifehacker.com.au/2022/07/how-investing-in-crypto-impacts-your-tax-return/', 'keywords': ['Life', 'Money', 'Organise', 'au', 'crypto', 'finance', 'tax', 'tax time'], 'creator': ['Stephanie Nuzzo'], 'video_url': None, 'description': \"Two experts share their advice on how to approach tax time if you've bought or sold crypto this financial year. Here's what you need to know. The post Everything You Need to Know About Crypto and Tax Returns in 2022 appeared first on Lifehacker Australia.\", 'content': 'So, you invested in some crypto this last financial year . That’s all well and good (I mean, depending on how those investments went). But what do you do come tax time when it comes to crypto? That’s the question a whole lot of Aussies have been asking over the past couple of years, and seeing as we have tax tips on the brain right now , we thought we’d seek out some tax advice for all you cryptocurrency enthusiasts. Mena Theodorou and Simon Ho, co-founders of Australian cryptocurrency exchange Coinstash , spoke to us over email and shared their thoughts on crypto and tax in 2022. Table of Contents As was the case last year, this tax season will likely have a lot of interest placed on crypto and the declaration of any earnings in that space. Theodorou explained that you should “Expect the ATO to dedicate more resources to investigating your tax returns if you have bought or sold any crypto assets during the year. We know that information is being shared across Government departments, at both the State and Federal levels. So, it’s important that you make sure you work with your accountants to declare everything accurately.” If you’re unsure about anything, speak with an accountant – ideally one who has experience with crypto – and be thorough in sourcing your transaction history when pulling together your tax data. Ho added that it’s best to get in touch with a tax advisor early and that you should expect to see more guidance from the ATO this year. On that point, the ATO recently released a statement sharing that this tax season, it is paying particularly close attention to taxpayers considering ‘asset wash sales’ in an effort to reduce expected gains. You can learn more about that here . The rules differ depending on how you invest in crypto, what kind of earnings you’ve made and what you’ve done with said earnings. Theodorou and Ho shared the key rules that you must consider come tax time. Personal use asset exemption: “For the crypto hobbyist, there is a $10,000 ‘Personal Use Asset tax exemption,” Theodorou said. He explained that if a hobbyist purchased under $10,000 worth of crypto that has been used for personal use or purchasing goods, then no tax is payable. “A really important eligibility factor to keep in mind is that the crypto that you purchased must not have been for investment purposes, as part of a profit-making scheme, or in the course of business activities. Make sure you work with your accountant to determine if you meet the eligibility criteria,” Theodorou stressed. How long you have held onto your crypto before using it for personal use is also of note here. And if you have exchanged your cryptocurrency into Australian dollars (or a different cryptocurrency) to make purchases, this will not be considered a personal use asset. Keep reading here . Are you a trader, investor or hobbyist? Your classification as either a ‘trader’, ‘investor’, or ‘hobbyist’ has a huge impact on your “crypto bottom line”, Theodorou shared. The distinctions between the three types [of classification] are often blurred and it’s crucial to seek advice on which category you fall under because it can have significant consequences. As a general guide (though you should absolutely speak with an accountant to confirm where you land), Theodorou said that: “A crypto ‘investor’ is likely dealing with the capital gains tax (CGT) rules when they buy [or] sell their crypto assets. As such, the investor could be eligible for the 50% CGT discount. “On the other hand, a crypto trader is likely to be buying and selling quite frequently such that they’re conducting a business. While they might not be entitled to the CGT discount, any losses they generate could potentially be offset against other income (subject to certain rules and thresholds).” The regulations vary considerably, so it’s important to figure out what’s right for you and your crypto. Chain splits can be taxable: For those who are unfamiliar with the term, Theodorou explained that “chain splits occur when there are two or more competing versions of a blockchain”. He said, “If you receive new crypto as a result of a chain split – [like] Bitcoin holders receiving Bitcoin Cash – and you hold the new crypto as an investment, you’ll likely make a capital gain when you sell it”. Details on that are here . Don’t forget about airdrops: Ho explained that in the last year, airdrops have become increasingly popular in the crypto and NFT space. If you’re unfamiliar with this term, he shared that “Airdrops are where holders of one token/coin, receive a bonus token/coin as either a reward or replacement coin”. The ATO defines airdrops this way: Airdrops are a marketing tool that distribute crypto assets through a group of people to build their use and popularity. This is relevant to your tax return because “the ATO has come out with their view that “the money value of an established token received through an airdrop is ordinary income of the recipient at the time it is derived,” he said. You can read more on this here . Staking and interest-bearing product rules: Much like airdrops, there have also been updates in the ATO’s views of staking rewards. “Over the past year, we have seen more and more ‘Staking’ and ‘Earn’ products becoming available to crypto holders,” Ho shared. “Staking and Earn products allow crypto holders to passively earn rewards/interest on their crypto. The ATO considers staking rewards to be income. Whilst the ATO hasn’t put out a view on whether rewards from ‘Earn’ products are taxable, we do expect the ATO to provide guidance on this very soon.” You can read more about this here , or chat with a crypto-focused tax accountant for advice. Get specific advice when it comes to NFTs and tax: When it comes to NFTs and gaming tokens, Ho explained that there have been “intriguing tax issues”. “The ATO has ruled in a private ruling that NFTs are not personal use assets. However, the private ruling is based on a specific set of circumstances. Not all NFTs and gaming tokens are created equally so there is no one-size-fits-all answer, so again it’s probably best [that] the crypto/NFT holder engages with a tax advisor to know how the rules apply to their circumstances/activities,” he shared. You can see more about the ATO’s approach to NFTs here . One of the more common misconceptions Theodorou pointed to during our exchange was that some folks believe that the act of swapping one cryptocurrency for another is not taxable. “The answer couldn’t be further from the truth,” he said. “Tax is still payable on the trade even if you have not realised any of the gains in fiat . Therefore it is essential that you record the fiat value of the crypto at the time you swap it for the other crypto.” If you’re still learning how to properly approach your cryptocurrency come tax time, it’s worth having a read through the resources on the ATO website – in addition to speaking with your accountant. In fact, Assistant Commissioner Tim Loh of the ATO recently made a statement sharing, “We know crypto assets and their tax implications can seem complicated. That’s why our focus is on helping people get it right.” “Over one million taxpayers will have a message appear as a reminder when they prepare their tax returns saying they may have capital gains or capital losses from crypto to declare,” said Mr Loh. Theodorou also stated that you can explore the ATO’s private ruling feature option. According to the ATO website, this is “binding advice that sets out how a tax law applies to you in relation to a specific scheme or circumstance.” “We know of users who have had very positive experiences getting certainty from the ATO on how the tax rules apply to their crypto activities via the private ruling feature,” Theodorou shared. He explained that the “feature is often used for issues for which the answer is highly dependant on the facts e.g. whether you’re a trader, investor, or hobbyist. It’s a little-known feature that Aussies can take advantage of.” We reached out to the ATO for further guidance in this space back in 2021, and a spokesperson for the body shared the below statement: “Our main focus is on helping people to get it right this tax time. In many ways, income from cryptocurrency is no different to income from other sources. It’s important for people to know, however, that cryptocurrency transactions are not anonymous. The ATO uses the data that it receives from Designated Service Providers (DSPs) to match the data to an individual to ensure people trading in cryptocurrency are paying the right amount of tax.” So be thorough, and ask questions where necessary. Hopefully, you’re feeling a little more confident about approaching your tax return this year. When in doubt, however, just reach out to a tax pro. Lifehacker has updated this piece since its original publish date to reflect details of tax time 2022.', 'pubDate': '2022-07-18 02:59:21', 'image_url': 'https://www.lifehacker.com.au/wp-content/uploads/sites/4/2022/07/18/GettyImages-1353425102.jpg?quality=80=1280,720', 'source_id': 'lifehacker', 'country': ['australia'], 'category': ['business'], 'language': 'english'}\n"
     ]
    }
   ],
   "source": [
    "print(response['results'][0])"
   ]
  },
  {
   "cell_type": "markdown",
   "id": "3f6c9201",
   "metadata": {},
   "source": [
    "### Print the frist text"
   ]
  },
  {
   "cell_type": "code",
   "execution_count": 38,
   "id": "a08af66b",
   "metadata": {},
   "outputs": [
    {
     "name": "stdout",
     "output_type": "stream",
     "text": [
      "First text: ['Stephanie Nuzzo']\n"
     ]
    }
   ],
   "source": [
    "print(\"First text:\" , response['results'][0]['creator']) #see first text of the response"
   ]
  },
  {
   "cell_type": "code",
   "execution_count": 44,
   "id": "4d9a02fe",
   "metadata": {},
   "outputs": [],
   "source": [
    "#determine the wanted entity and categories\n",
    "wanted_stock_2 = \"Bitcoin stock BTC\" #Only for the final text print\n",
    "\n",
    "# The top influencers in stock market prediction\n",
    "Top_influencers = ['elon musk', 'nick black', 'allan mantaring', 'jordan belfort', 'tangie seals', \\\n",
    "                   'rowan mcinnesmark minervini', 'vic scherersteve sturner', 'brittney castro', 'garrett ashe', \\\n",
    "                   'raja al mazrouei', 'chamath palihapitiya', 'cathie wood', 'dave portnoy', 'oliver l. velez', \\\n",
    "                   'john bollinger', 'robert ross', 'kayla kilbride', 'errol coleman', 'timothy sykes', 'kritika yadav',\\\n",
    "                   'trajan king', 'denis stelmak', 'patrick wieland']\n",
    "\n",
    "#The most trusted newspapers in the domain of stock exchange\n",
    "Trusted_resources =['moneycontrol', 'the economic times', 'bloomberg quint', 'reuterslivemint', '\\\n",
    "buisness standard', 'google finance', 'ndtv profit', 'yahoo finance']\n",
    "wanted_entities_2 = ['bitcoin', 'btc'] #Stock(s) interrested in, This option is subjective to the user.\n",
    "wanted_categories_2 = ['general','business', 'politics','technology']#Only these categoreis will be taken into considertion\n",
    "wanted_topics_2 = ['bitcoin', 'btc']"
   ]
  },
  {
   "cell_type": "markdown",
   "id": "0d9fcb7f",
   "metadata": {},
   "source": [
    "### Code"
   ]
  },
  {
   "cell_type": "code",
   "execution_count": 45,
   "id": "cbaeeb46",
   "metadata": {
    "scrolled": true
   },
   "outputs": [
    {
     "name": "stdout",
     "output_type": "stream",
     "text": [
      "Request nb: 0 is successful.\n",
      "Text nb: 0 is:  So, you invested in some crypto this last financial year . That’s all well and good (I mean, depending on how those investments went). But what do you do come tax time when it comes to crypto? That’s \n",
      "Entities for Text nb: 0 are:  ['mena theodorou', 'simon ho']\n",
      "keyTopics for text nb:  0 are ['tax advice', 'tax time', 'tax rules', 'mena theodorou', 'tax', 'tax data', 'tax season', 'tax advisor', 'tax tips', 'tax pro', 'tax implications', 'one cryptocurrency'] \n",
      "\n",
      "Categories for Text nb: 0 are:  ['business'] \n",
      "\n",
      "check_category condition:  True\n",
      "check_entities condition:  False\n",
      "\n",
      "-----------------\n",
      "\n",
      "counter 0\n"
     ]
    }
   ],
   "source": [
    "from nltk.sentiment.vader import SentimentIntensityAnalyzer\n",
    "analyser = SentimentIntensityAnalyzer()\n",
    "\n",
    "nb = len(response['results'])\n",
    "temp_nb = 2 #For testing only\n",
    "ctr_2 = 0\n",
    "grade_sum_2 = 0\n",
    "final_grade_2 = 0\n",
    "\n",
    "for i in range(temp_nb ):\n",
    "    #Since the API give only 200 chars in contnet, this is not acceptable\n",
    "    # a good idea would be to use the title and the description as a subsitute since they contion most of the meaning.\n",
    "    \n",
    "    text_2 = response['results'][i]['content']\n",
    "    creator = response['results'][i]['creator'] #get the creator of text from the API response\n",
    "    \n",
    "    if text_2 is not None:\n",
    "        request_2 =  { 'text' : text_2, 'lang' : 'en', 'format' : 'json' }\n",
    "        rsp_2 = client.callwebmethod('ProcessDocument', request_2, 'POST')#Use Klangoo to get all entities and categories of text\n",
    "        info_2 = json.loads(rsp_2) #transform from Bytes to Json format\n",
    "        info_2.fromkeys\n",
    "\n",
    "        print(\"Request nb:\",i,\"is successful.\")\n",
    "        print(\"Text nb:\", i, \"is: \", text_2[:200])#print first 200 chars of the text\n",
    "\n",
    "        entities_nb_2 = len(info_2['document']['entities'])\n",
    "        keyTopics_nb_2 = len(info_2['document']['keyTopics'])\n",
    "        categories_nb_2 = len(info_2['document']['categories']) \n",
    "        \n",
    "        text_entities_2 = []   # get the key topics from text and append to this list\n",
    "        key_topics_2 = []\n",
    "        text_categories_2 = []   # get the categories from text and append to this list \n",
    "       \n",
    "        \n",
    "        for j in range(entities_nb_2):#adding entites from klangoo response to  text_entities_2 list\n",
    "            if info_2['document']['entities'][j]['score'] > 0.33: #only add the entities with high score (not all of them), if high score the entity is directly related to main subject\n",
    "                text_entities_2.append(info_2['document']['entities'][j]['token'].lower() ) \n",
    "                \n",
    "        for j in range(keyTopics_nb_2):#adding keyTopics from Klangoo to keyTopics_2\n",
    "            if info_2['document']['keyTopics'][j]['score'] > 0.8: #key topics contains many topics, but the high rated are directly related\n",
    "                key_topics_2.append( info_2['document']['keyTopics'][j]['text'].lower())\n",
    "                \n",
    "        for j in range(categories_nb_2):#adding categoreis from klangoo response to  text_categories_2\n",
    "            text_categories_2.append(info_2['document']['categories'][j]['name'].lower() ) # append the key categories to the list\n",
    "\n",
    "\n",
    "            \n",
    "        print(\"Entities for Text nb:\", i, \"are: \", text_entities_2)\n",
    "        print(\"keyTopics for text nb: \", i, \"are\", key_topics_2,\"\\n\")\n",
    "        print(\"Categories for Text nb:\", i, \"are: \", text_categories_2, \"\\n\")\n",
    "        \n",
    "        #check existecne of an item of text_categories in wanted_category \n",
    "        check_category_2 = have_common(wanted_categories_2, text_categories_2 ) \n",
    "        check_topics_2 = have_common(wanted_topics_2, key_topics_2)\n",
    "        check_entities_2 = have_common(wanted_entities_2, text_entities_2 )\n",
    "                \n",
    "        #If the article category and entity are the wanted ones, we apply S.A.\n",
    "        if check_category_2  and (check_entities_2 or check_topics_2): \n",
    "            ctr_2 += 1\n",
    "            score_2 = analyser.polarity_scores(text_2)\n",
    "            print(\"Sentiment analysis for text: \",  i , \"is: \", score_2)\n",
    "            #check if the text is from a top influencer or a top trusted source, if so consider as 10 texts\n",
    "            if (creator in Top_influencers) or (creator in  Trusted_resources):\n",
    "                ctr_2 += 10\n",
    "                grade_sum_2 += score_2['compound'] * 10\n",
    "            #compound(result from NLTK library) element of the polarity score determine if positive >0.5 or negative <-0.5\n",
    "            grade_sum_2 += score_2['compound'] \n",
    "        print(\"check_category condition: \", check_category_2 )\n",
    "        print(\"check_entities condition: \", check_entities_2)\n",
    "        print()\n",
    "        print(\"-----------------\")\n",
    "        print()\n",
    "        \n",
    "\n",
    "print(\"counter\", ctr_2)        \n",
    "if ctr_2 > 0:\n",
    "    final_grade_2 = grade_sum_2 / ctr_2\n",
    "\n",
    "    if final_grade_2 < -0.1: #check the condition neg or pos and total score in NLTK\n",
    "        print(\"The \" , wanted_stock_2  ,\"have negative Semantic Analysis in the given tweets,it could be an indicator \\\n",
    "        that this stock does not have community trust in the dtermined time.\\\n",
    "        After processing \", ctr_2 , \" articles, the term bitcoin or BTC got a polarity scrore of : \" , final_grade_2, \" on 1 .\")\n",
    "    elif final_grade > 0.1:\n",
    "        print(\"The \",wanted_stock_2, \"  have a positive Semantic Analysis in the given tweets,it could be an indicator \\\n",
    "        that this stock have community trust in the determined time.\\\n",
    "         After processing \", ctr_2 , \" articles,the term bitcoin or BTC got a polarity scrore of :\" , final_grade_2, \" on 1 .\")\n",
    "    else:\n",
    "        print(\"After analysing the relative articles, the \", wanted_stock_2, \" have a neutral Semantic Analysis.\")          \n",
    "    \n",
    "\n",
    "    \n"
   ]
  },
  {
   "cell_type": "code",
   "execution_count": 36,
   "id": "f556d1ee",
   "metadata": {},
   "outputs": [
    {
     "name": "stdout",
     "output_type": "stream",
     "text": [
      "ax: When it comes to NFTs and gaming tokens, Ho explained that there have been “intriguing tax issues”. “The ATO has ruled in a private ruling that NFTs are not personal use assets. However, the priva\n"
     ]
    }
   ],
   "source": [
    "text = \"ax: When it comes to NFTs and gaming tokens, Ho explained that there have been “intriguing tax issues”. “The ATO has ruled in a private ruling that NFTs are not personal use assets. However, the private ruling is based on a specific set of circumstances. Not all NFTs and gaming tokens are created equally so there is no one-size-fits-all answer, so again it’s probably best [that] the crypto/NFT holder engages with a tax advisor to know how the rules apply to their circumstances/activities,” he shared. You can see more about the ATO’s approach to NFTs here . One of the more common misconceptions Theodorou pointed to during our exchange was that some folks believe that the act of swapping one cryptocurrency for another is not taxable. “The answer couldn’t be further from the truth,” he said. “Tax is still payable on the trade even if you have not realised any of the gains in fiat . Therefore it is essential that you record the fiat value of the crypto at the time you swap it for the other crypto.” If you’re still learning how to properly approach your cryptocurrency come tax time, it’s worth having a read through the resources on the ATO website – in addition to speaking with your accountant. In fact, Assistant Commissioner Tim Loh of the ATO recently made a statement sharing, “We know crypto assets and their tax implications can seem complicated. That’s why our focus is on helping people get it right.” “Over one million taxpayers will have a message appear as a reminder when they prepare their tax returns saying they may have capital gains or capital losses from crypto to declare,” said Mr Loh. Theodorou also stated that you can explore the ATO’s private ruling feature option. According to the ATO website, this is “binding advice that sets out how a tax law applies to you in relation to a specific scheme or circumstance.” “We know of users who have had very positive experiences getting certainty from the ATO on how the tax rules apply to their crypto activities via the private ruling feature,” Theodorou shared. He explained that the “feature is often used for issues for which the answer is highly dependant on the facts e.g. whether you’re a trader, investor, or hobbyist. It’s a little-known feature that Aussies can take advantage of.” We reached out to the ATO for further guidance in this space back in 2021, and a spokesperson for the body shared the below statement: “Our main focus is on helping people to get it right this tax time. In many ways, income from cryptocurrency is no different to income from other sources. It’s important for people to know, however, that cryptocurrency transactions are not anonymous. The ATO uses the data that it receives from Designated Service Providers (DSPs) to match the data to an individual to ensure people trading in cryptocurrency are paying the right amount of tax.” So be thorough, and ask questions where necessary. Hopefully, you’re feeling a little more confident about approaching your tax return this year. When in doubt, however, just reach out to a tax pro. Lifehacker has updated this piece since its original publish date to reflect details of tax time 2022.\"\n",
    "print(text[:200])"
   ]
  },
  {
   "cell_type": "markdown",
   "id": "9f8f2da1",
   "metadata": {},
   "source": [
    "### The result of the Bitcoin sentiment analysis  in the past week (01/07/2022 -> 13/07/2022) gives us a negative indicator about \"bitcon-USD\" stock, and in fact the stock is having great losses in this time. It is not a scientific way to prove the validity of the indicator, but it gives a simple insight of it. "
   ]
  },
  {
   "cell_type": "markdown",
   "id": "7d05d71d",
   "metadata": {},
   "source": [
    "### Improved version"
   ]
  },
  {
   "cell_type": "markdown",
   "id": "0e274336",
   "metadata": {},
   "source": [
    "Accroding to this article https://link.springer.com/article/10.1007/s12559-021-09819-8 in Springer the most accurate lexicon library for analyzing tweets for stock market prediction is senticnet, a library made by the MIT Media Laboratory in 2010.So We used the senticnet library in this version.\n",
    "\n",
    "Added to this:  influential  accounts in the financial field  like Mark Zuckerberg, Elon musk,... will give a greater impact to people than a normal one. added to that a professional newspaper like BBC or   will have a greater impact, so this is also taken into consideration. A greater coeeficant shoud be given to these. But how? We used KLANGOO to determine the existence of these influencers or these important newspapers. "
   ]
  },
  {
   "cell_type": "code",
   "execution_count": null,
   "id": "3e03031d",
   "metadata": {},
   "outputs": [],
   "source": []
  },
  {
   "cell_type": "code",
   "execution_count": null,
   "id": "2dc25c6f",
   "metadata": {},
   "outputs": [],
   "source": []
  }
 ],
 "metadata": {
  "kernelspec": {
   "display_name": "Python 3 (ipykernel)",
   "language": "python",
   "name": "python3"
  },
  "language_info": {
   "codemirror_mode": {
    "name": "ipython",
    "version": 3
   },
   "file_extension": ".py",
   "mimetype": "text/x-python",
   "name": "python",
   "nbconvert_exporter": "python",
   "pygments_lexer": "ipython3",
   "version": "3.9.12"
  }
 },
 "nbformat": 4,
 "nbformat_minor": 5
}
