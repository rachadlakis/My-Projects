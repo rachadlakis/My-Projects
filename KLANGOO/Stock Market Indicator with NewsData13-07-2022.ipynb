{
 "cells": [
  {
   "cell_type": "markdown",
   "id": "bd300e87",
   "metadata": {},
   "source": [
    "# Stock market Indicator Using Klangoo"
   ]
  },
  {
   "cell_type": "markdown",
   "id": "7f65b16c",
   "metadata": {},
   "source": [
    "### The stock prices are directly related to people opinion and trust. Sentiment Analysis can be used to determine the overall opinion for a certain stock. \n",
    "\n",
    "### A fast answer can be to apply sentiment analysis on every text contaning the word(s) we are interrested in.\n",
    "\n",
    "### But, It is not accurate to study every text containing the keyword we are looking for, si how de we know if the domain of the text is  the same domain we we are interrested in (Buisness, Technology, ...) or the text is about a completely different domain and citing this word as an example while speaking about another thing??  \n",
    "\n",
    "### How do we know if a certain text is directly related to the stock we are interrested in (i.e.: the stock is the main subject or one of the main subjects of the text) and not cited as a secondary subject in the text?\n",
    "\n",
    "## KLANGOO can be the answer\n",
    "\n",
    "### Klangoo can be used to determine, for each text (twitter tweet or a newspaper article) if the domain and the main subject of the text (entities) are what we are interrested in. \n",
    "\n",
    "\n",
    "### In the first part, we used a dataset already containng the sentiment analysis results of tweets. We used a stock market tweets from kaggle, (https://www.kaggle.com/datasets/sohelranaccselab/stock-market-tweets-data-sentiment-analysis ).\n",
    "### Each row of the csv file contains a tweet details, the tweet initial text and a sentiment analysis result (positive, negative, neutral) .\n",
    "### After sending the tweet as a requeest to Klangoo, we process the results: if the main category and the main entities of the tweet are appropriate: the tweet will be processed. Otherwise it will be neglected.\n",
    "### A final sentiment analysis will be given to the wanted entity. If it is negative, this could be an indicator that the  stock is going down (maybe, nothing is 100% sure in stock market), and vice versa.\n",
    "\n",
    "### The result will be a simple advice of selling, or keeping / buying a certain stock according to the general public opinion. Also a final grade over 5 will be given with the number of tweets analysed to give a certain inficator to the user.\n",
    "\n",
    "### In the second part (real use case) an API was used to collect articles from different sources. The api results of giving atricles of a main subject and of a certain language. The results are sent one by one to Klangoo to speicify, as in first part, the main categories and entities.\n"
   ]
  },
  {
   "cell_type": "markdown",
   "id": "32a2538d",
   "metadata": {},
   "source": [
    "### Define a function that will be used in the code"
   ]
  },
  {
   "cell_type": "code",
   "execution_count": 330,
   "id": "f24055d6",
   "metadata": {},
   "outputs": [],
   "source": [
    "def have_common(x,y):\n",
    "   common = False\n",
    "   for value in x:\n",
    "      if value in y:\n",
    "         common= True\n",
    "   return common"
   ]
  },
  {
   "cell_type": "markdown",
   "id": "1adc6c26",
   "metadata": {},
   "source": [
    "### Importing Libraries and reading the csv file a Pandas dataFrame"
   ]
  },
  {
   "cell_type": "code",
   "execution_count": 331,
   "id": "7f0f2ed5",
   "metadata": {},
   "outputs": [
    {
     "name": "stdout",
     "output_type": "stream",
     "text": [
      "\n"
     ]
    }
   ],
   "source": [
    "from klangooclient.MagnetAPIClient import MagnetAPIClient\n",
    "import pandas as pd\n",
    "import json\n",
    "import string\n",
    "\n",
    "df = pd.read_csv(\"tweets_labelled.csv\") #Read  csv file containig 5000 tweets and the sentiment of each tweet\n",
    "                                                       # The csv file from kaggle contains alreade the sentiment analysis \n",
    "df = df[:5] #only 30 rows were processed \n",
    "print()"
   ]
  },
  {
   "cell_type": "markdown",
   "id": "a5d318ea",
   "metadata": {},
   "source": [
    "### Prepare connection strings and secret key"
   ]
  },
  {
   "cell_type": "code",
   "execution_count": 152,
   "id": "c4f05caa",
   "metadata": {},
   "outputs": [],
   "source": [
    "ENDPOINT ='https://nlp.klangoo.com/Service.svc'\n",
    "CALK = '155b99fc-758c-40c8-a8ef-5d4eb9fba616'\n",
    "SECRET_KEY = 'wTMeUVHL38vGrdDBbSdSFBQOWFchPTaUnIFZBJS4'\n",
    "\n",
    "client = MagnetAPIClient(ENDPOINT, CALK, SECRET_KEY)"
   ]
  },
  {
   "cell_type": "markdown",
   "id": "600ef12f",
   "metadata": {},
   "source": [
    "### Specify wanted entities and categories to search for"
   ]
  },
  {
   "cell_type": "code",
   "execution_count": 159,
   "id": "c3523231",
   "metadata": {},
   "outputs": [],
   "source": [
    "wanted_stock = \"Amazon stock AMZN\"\n",
    "wanted_entities = ['amazon', 'amzn'] #Stock(s) interrested in, This option is subjective to the user.\n",
    "wanted_categories = [ 'science','general','business', 'politics','technology'] #Only these categoreis will be taken into considertion"
   ]
  },
  {
   "cell_type": "markdown",
   "id": "110dc313",
   "metadata": {},
   "source": [
    "### Code"
   ]
  },
  {
   "cell_type": "code",
   "execution_count": 160,
   "id": "bda18829",
   "metadata": {
    "scrolled": true
   },
   "outputs": [
    {
     "name": "stdout",
     "output_type": "stream",
     "text": [
      "request nb: 0 done\n",
      "Text for request nb: 0 is:  RT @vincent13031925: Biggest mistakes of the century: From before  Apple AAPL is  only a PC maker  Amazon AMZN is only a bookstore Goo…\n",
      "Sentiment for request nb: 0 is:  negative\n",
      "Entities for request nb: 0 are:  ['amazon', 'apple', 'rt']\n",
      "Categories for request nb: 0 are:  ['technology', 'business'] \n",
      "\n",
      "request nb: 1 done\n",
      "Text for request nb: 1 is:  RT @BarrySchwartzBW: Carl Icahn once owned 10% of Netflix. That stake today would have been worth about 24B. He also had 52m shares of App…\n",
      "Sentiment for request nb: 1 is:  neutral\n",
      "Entities for request nb: 1 are:  ['carl icahn', 'netflix']\n",
      "Categories for request nb: 1 are:  ['business', 'technology'] \n",
      "\n",
      "request nb: 2 done\n",
      "Text for request nb: 2 is:  RT @gzbenso: Netflix leads its rivals in original TV shows by a wide margin in both quantity and quality  according to new data analysis ht…\n",
      "Sentiment for request nb: 2 is:  positive\n",
      "Entities for request nb: 2 are:  ['netflix']\n",
      "Categories for request nb: 2 are:  ['technology'] \n",
      "\n",
      "request nb: 3 done\n",
      "Text for request nb: 3 is:  RT @iflickerman: \"All Free\" Retail is Back  Amazon AMZN ready for Chapter 11 🤣🤣🤣 @JuliaLaRoche https://t.co/t4S8BD3REg\n",
      "Sentiment for request nb: 3 is:  positive\n",
      "Entities for request nb: 3 are:  ['amazon', 'rt']\n",
      "Categories for request nb: 3 are:  ['business'] \n",
      "\n",
      "request nb: 4 done\n",
      "Text for request nb: 4 is:  RT @ReformedBroker: Amazon is less than 2% away from a record high. AMZN is 10% or so of the QQQs https://t.co/ejWq3o2AuA\n",
      "Sentiment for request nb: 4 is:  positive\n",
      "Entities for request nb: 4 are:  ['amazon']\n",
      "Categories for request nb: 4 are:  ['science'] \n",
      "\n",
      "The  Amazon stock AMZN   have a positive Semantic Analysis in the given tweets, it could be an indicator         that this stock have community trust in the dtermined time.\n",
      "  After         processing  3  tweets, the term Netfilx or NFLX got a scrore of :  0.3333333333333333  on 1 .\n"
     ]
    }
   ],
   "source": [
    "n = len(df)\n",
    "ctr = 0\n",
    "grade_sum = 0\n",
    "final_grade = 0\n",
    "\n",
    "for i in range(n): #read all the tweets from  the dataFrame\n",
    "    text = df.iloc[i,2] #get text from dataFrame\n",
    "    text = text\n",
    "    sentiment = df.iloc[i,3]   #get sentiment analysis result from dataFrame\n",
    "        \n",
    "    request =  { 'text' : text, 'lang' : 'en', 'format' : 'json' }\n",
    "    \n",
    "    rsp = client.callwebmethod('ProcessDocument', request, 'POST') #Use Klangoo to get all entities and categories of tweet\n",
    "    info = json.loads(rsp) #transform to Dictionary\n",
    "    info.fromkeys\n",
    "    print(\"request nb:\", i , \"done\")\n",
    "    print(\"Text for request nb:\", i, \"is: \", text)\n",
    "    print(\"Sentiment for request nb:\", i, \"is: \", sentiment)\n",
    "\n",
    "    entities_nb = len(info['document']['entities'])\n",
    "    categories_nb = len(info['document']['categories']) \n",
    "    \n",
    "    text_entities = []   # get the key topics from text and append to this list\n",
    "    text_categories = []   # get the categories from text and append to this list \n",
    "    \n",
    "    for j in range(entities_nb):\n",
    "        text_entities.append(info['document']['entities'][j]['token'].lower())#adding categoreis from klangoo response to  text_categories\n",
    "    \n",
    "    for j in range(categories_nb):\n",
    "        text_categories.append(info['document']['categories'][j]['name'].lower())#adding categoreis from klangoo response to  text_categories\n",
    "    \n",
    "    print(\"Entities for request nb:\", i, \"are: \", text_entities)\n",
    "    print(\"Categories for request nb:\", i, \"are: \", text_categories, \"\\n\")\n",
    "\n",
    "    check_category = have_common(wanted_categories, text_categories ) #check existecne of an item of text_categories in wanted_category \n",
    "    check_entities = have_common(wanted_entities, text_entities )\n",
    "    \n",
    "    if check_category  and check_entities: # if the category and topics of the text are in what we are interrested in \n",
    "        if sentiment == 'positive':\n",
    "            grade_sum += 1   \n",
    "        elif sentiment == 'negative':\n",
    "            grade_sum -= 1\n",
    "        #else is: stays zero \n",
    "        ctr += 1\n",
    "           \n",
    "  \n",
    "\n",
    "if ctr != 0:\n",
    "    final_grade = grade_sum / ctr\n",
    "\n",
    "    if final_grade <0:\n",
    "        print(\"The \" , wanted_stock  ,\"have negative Semantic Analysis in the given tweets, it could be an indicator \\\n",
    "        that this stock does not have community trust in the dtermined time.\\n  After \\\n",
    "        processing \", ctr , \" tweets, the term Netfilx or NFLX got a scrore of : \" , final_grade, \" on 1 .\")\n",
    "    elif final_grade >0:\n",
    "        print(\"The \",wanted_stock, \"  have a positive Semantic Analysis in the given tweets, it could be an indicator \\\n",
    "        that this stock have community trust in the dtermined time.\\n  After \\\n",
    "        processing \", ctr , \" tweets, the term Netfilx or NFLX got a scrore of : \" , final_grade, \" on 1 .\")\n",
    "    else:\n",
    "        print(\"After analysing the specifeid texts (tweets), The \", wanted_stock, \" have a neutral Semantic Analysis. \")  "
   ]
  },
  {
   "cell_type": "markdown",
   "id": "d66b7d26",
   "metadata": {},
   "source": [
    "## Second Part: Real Use case (Bitcoin)\n",
    "\n",
    "### Now, after we tried our idea on a dataset, let's try our idea on a real use case. We will get news articles from different newspapers and apply the sentiment analysis and use klangoo to make a final indicator only for the stocks we are interrested in.\n",
    "\n",
    "### The newsapi is used here to provide articles from different sources (Better than searching in hundreds of websites) containig a specific word and in a certain date range (from -to), in ceratin websites we specify or over 80,000 websites.\n",
    "\n",
    "### But it is not logical to take all articles containng this word into consideration. So we will use Klangoo to know the main entities and the domain of the article, then we can apply sentiment analysis.\n"
   ]
  },
  {
   "cell_type": "markdown",
   "id": "58614980",
   "metadata": {},
   "source": [
    "###"
   ]
  },
  {
   "cell_type": "markdown",
   "id": "b5c6dffe",
   "metadata": {},
   "source": [
    "## Bitcoin stock Indicator between 01/07/2022 and 13/07/2022"
   ]
  },
  {
   "cell_type": "code",
   "execution_count": 332,
   "id": "68244246",
   "metadata": {},
   "outputs": [
    {
     "name": "stdout",
     "output_type": "stream",
     "text": [
      "Request successful\n"
     ]
    }
   ],
   "source": [
    "import requests\n",
    "\n",
    "#get all the articles from .. to .. containin the words realted to bicoin\n",
    "url = ('https://newsapi.org/v2/everything?' \n",
    "       'q=Bitcoin USD& Or q=BTC-USD& or q=bitcoin& or q=Bitcoin& or q=BTC& or q=btc&'  #serach for articles containng ... word\n",
    "       'from=2022-07-01&'     #search article in the last week \n",
    "       'to=2022-07-13&'\n",
    "       'language=en&'\n",
    "       'sortBy=popularity&'\n",
    "       'apiKey=42f6576050c04962b5556e40825857df')\n",
    "\n",
    "response = requests.get(url)\n",
    "print(\"Request successful\")"
   ]
  },
  {
   "cell_type": "code",
   "execution_count": 333,
   "id": "66da6701",
   "metadata": {},
   "outputs": [
    {
     "name": "stdout",
     "output_type": "stream",
     "text": [
      "Requirement already satisfied: newsdataapi in c:\\users\\lenovo\\anaconda3\\lib\\site-packages (0.1.5)\n",
      "Requirement already satisfied: requests<3.0.0 in c:\\users\\lenovo\\anaconda3\\lib\\site-packages (from newsdataapi) (2.27.1)\n",
      "Requirement already satisfied: certifi>=2017.4.17 in c:\\users\\lenovo\\anaconda3\\lib\\site-packages (from requests<3.0.0->newsdataapi) (2022.5.18.1)\n",
      "Requirement already satisfied: idna<4,>=2.5 in c:\\users\\lenovo\\anaconda3\\lib\\site-packages (from requests<3.0.0->newsdataapi) (3.3)\n",
      "Requirement already satisfied: charset-normalizer~=2.0.0 in c:\\users\\lenovo\\anaconda3\\lib\\site-packages (from requests<3.0.0->newsdataapi) (2.0.4)\n",
      "Requirement already satisfied: urllib3<1.27,>=1.21.1 in c:\\users\\lenovo\\anaconda3\\lib\\site-packages (from requests<3.0.0->newsdataapi) (1.26.9)\n",
      "Note: you may need to restart the kernel to use updated packages.\n"
     ]
    }
   ],
   "source": [
    "pip install newsdataapi"
   ]
  },
  {
   "cell_type": "code",
   "execution_count": 334,
   "id": "3ba4a032",
   "metadata": {},
   "outputs": [
    {
     "name": "stdout",
     "output_type": "stream",
     "text": [
      "Done\n"
     ]
    }
   ],
   "source": [
    "from newsdataapi import NewsDataApiClient\n",
    "\n",
    "api = NewsDataApiClient(apikey='pub_9173b9c5020815c947c4ebd4e19094a1b11d')\n",
    "#https://newsdata.io/\n",
    "\n",
    "response = api.news_api( q= \"bitcoin OR Bitcoin OR bitcoins OR Bitcoins\", language='en')\n",
    "print(\"Done\")"
   ]
  },
  {
   "cell_type": "code",
   "execution_count": 335,
   "id": "4551be8d",
   "metadata": {},
   "outputs": [
    {
     "name": "stdout",
     "output_type": "stream",
     "text": [
      "10\n"
     ]
    }
   ],
   "source": [
    "print(len(response['results']))"
   ]
  },
  {
   "cell_type": "code",
   "execution_count": 336,
   "id": "eb87042b",
   "metadata": {},
   "outputs": [
    {
     "name": "stdout",
     "output_type": "stream",
     "text": [
      "First text: After breaking below $20,000 yesterday, bitcoin kept nosediving and dipped to a 9-day low of just over $19,000. The altcoins seem quite stagnant on a daily scale, with ApeCoin being among the few exceptions with a 6% increase. Bitcoin Saw Another Low Last week went positively for the primary cryptocurrency, which spiked to nearly $22,500 to mark a three-week high. However, that leg up was short-lived, and the asset began retracing shortly after. Once the weekend came, bitcoin had calmed in a range between $21,000 and $22,000 and spent most of it there as the trading volume was missing. On Monday, though, BTC started to lose value rapidly and came just inches away from breaking below $20,000. While the bulls defended that price tag at first, the asset ultimately dropped below it on Tuesday. The past 24 hours brought a bit more pain as bitcoin slipped to $19,200, which is a new 9-day low. As of now, though, it has recovered some ground and stands close to $20,000. Its market cap is back at $375 billion, while its dominance over the alts is just under 43%. BTCUSD. Source: TradingView Notable Bitcoin News Glassnode’s latest weekly report suggested that bitcoin might not have formed its price bottom yet. Numerous BTC miners based in Texas said they will pause their operations due to extreme weather conditions. Altcoins Stall, Ape Soars The alternative coins also went down in the past few days, but they have calmed on a daily scale. Ethereum stood above $1,250 at a multi-week high of its own last week but lost $200 in days. As of now, the second-largest crypto trades at just over $1,050. BNB went from over $240 to below $220 in the same timeframe, but a minor daily increase has pushed the asset to $226 as of now. Ripple, Solana, Polkadot, Tron, Shiba Inu, and LEO are also slightly in the green today. Cardano and Dogecoin, on the other hand, have charted insignificant declines. Most lower- and mid-cap alts are also quite calm. ApeCoin is among the few impressive gainers with a 6% daily increase. Consequently, APE trades just over $4.5. Cryptocurrency Market Overview. Source: Quantify Crypto Industry News The European Central Bank released guidance, proposing a ban on crypto mining and enhanced regulations on stablecoins. 3AC’s co-founder Zhu Su broke his silence and called the recent court filing “disappointing.” Uniswap users were targeted in a phishing attack that resulted in over $8 million in ETH stolen.\n"
     ]
    }
   ],
   "source": [
    "print(\"First text:\" , response['results'][0]['content'])"
   ]
  },
  {
   "cell_type": "code",
   "execution_count": 337,
   "id": "f4d6e1b3",
   "metadata": {},
   "outputs": [],
   "source": [
    "#determine the wanted entity and categories\n",
    "wanted_stock_2 = \"Bitcoin stock BTC\"\n",
    "wanted_entities_2 = ['bitcoin', 'btc'] #Stock(s) interrested in, This option is subjective to the user.\n",
    "wanted_categories_2 = ['general','business', 'politics','technology']#Only these categoreis will be taken into considertion\n"
   ]
  },
  {
   "cell_type": "code",
   "execution_count": 338,
   "id": "d38d058d",
   "metadata": {},
   "outputs": [
    {
     "name": "stdout",
     "output_type": "stream",
     "text": [
      "Request nb: 0 is successful.\n",
      "Text nb: 0 is:  After breaking below $20,000 yesterday, bitcoin kept nosediving and dipped to a 9-day low of just over $19,000. The altcoins seem quite stagnant on a daily scale, with ApeCoin being among the few exceptions with a 6% increase. Bitcoin Saw Another Low Last week went positively for the primary cryptocurrency, which spiked to nearly $22,500 to mark a three-week high. However, that leg up was short-lived, and the asset began retracing shortly after. Once the weekend came, bitcoin had calmed in a range between $21,000 and $22,000 and spent most of it there as the trading volume was missing. On Monday, though, BTC started to lose value rapidly and came just inches away from breaking below $20,000. While the bulls defended that price tag at first, the asset ultimately dropped below it on Tuesday. The past 24 hours brought a bit more pain as bitcoin slipped to $19,200, which is a new 9-day low. As of now, though, it has recovered some ground and stands close to $20,000. Its market cap is back at $375 billion, while its dominance over the alts is just under 43%. BTCUSD. Source: TradingView Notable Bitcoin News Glassnode’s latest weekly report suggested that bitcoin might not have formed its price bottom yet. Numerous BTC miners based in Texas said they will pause their operations due to extreme weather conditions. Altcoins Stall, Ape Soars The alternative coins also went down in the past few days, but they have calmed on a daily scale. Ethereum stood above $1,250 at a multi-week high of its own last week but lost $200 in days. As of now, the second-largest crypto trades at just over $1,050. BNB went from over $240 to below $220 in the same timeframe, but a minor daily increase has pushed the asset to $226 as of now. Ripple, Solana, Polkadot, Tron, Shiba Inu, and LEO are also slightly in the green today. Cardano and Dogecoin, on the other hand, have charted insignificant declines. Most lower- and mid-cap alts are also quite calm. ApeCoin is among the few impressive gainers with a 6% daily increase. Consequently, APE trades just over $4.5. Cryptocurrency Market Overview. Source: Quantify Crypto Industry News The European Central Bank released guidance, proposing a ban on crypto mining and enhanced regulations on stablecoins. 3AC’s co-founder Zhu Su broke his silence and called the recent court filing “disappointing.” Uniswap users were targeted in a phishing attack that resulted in over $8 million in ETH stolen.\n",
      "Entities for Text nb: 0 are:  ['bitcoin', 'ape', 'ethereum', 'dogecoin', 'ripple', 'zhu su', 'european central bank', 'quantify crypto industry news', 'texas']\n",
      "Categories for Text nb: 0 are:  ['general'] \n",
      "\n",
      "Sentiment analysis for text:  0 is:  {'neg': 0.086, 'neu': 0.831, 'pos': 0.083, 'compound': -0.2952}\n",
      "check_category condition:  True\n",
      "check_entities condition:  True\n",
      "\n",
      "-----------------\n",
      "\n",
      "Request nb: 3 is successful.\n",
      "Text nb: 3 is:  Digital asset and crypto investment products saw a second consecutive week of negligible inflows this past week, amounting to $15 million. These inflows enabled total crypto assets under management (AuM) to recover from their year-and-a-half lows to $36.2 billion, according to the latest CoinShares report. While still positive, these inflows were even lower than the week prior’s $64 million. Regionally, North American saw the majority of inflows. For instance, U.S. crypto exchanges saw inflows amounting to $8.2 million, with 76% notably comprising short positions. Additionally, Canada saw inflows of $7.1 million. Among European countries, Switzerland stood alone with inflows of $1.9 million. Similar to last week, inflows into short-Bitcoin products outmatched those for long-Bitcoin products some $6.3 million to $1.7 million. The week prior, short-Bitcoin investment products saw a record $61 ​​million in inflows. However, according to the report, “short position inflows are beginning to cool off, while recent price appreciation in Bitcoin prices has pushed down AuM down from a peak of $140 million to $127 million last week.” Meanwhile, Ethereum-based products saw inflows for a third consecutive week totaling $7.6 million. Following 11 consecutive weeks of outflows, this three-week run suggests a modest turnaround in sentiment, according to the report. At its peak, year-to-date outflows for Ethereum-based products amounted to $460 million. The report ascribed the improved sentiment to the increasing probability of the Merge, in which Ethereum will migrate from a proof-of-work protocol to a proof-of-stake protocol, which has been years in the making. Multi-asset investment products have seen a similar short term change of luck. While these products had only experienced minor outflows during two weeks of the year so far, last week they say minor outflows amounting to $2.2 million. Other altcoin-based products have remained remarkably inactive this month so far, with minor outflows totalling $300,000. The post Crypto Products See Second Consecutive Week of Negligible Inflows appeared first on BeInCrypto.\n",
      "Entities for Text nb: 3 are:  ['bitcoin', 'ethereum', 'aum', 'crypto products', 'canada', 'switzerland', 'u.s.']\n",
      "Categories for Text nb: 3 are:  ['general'] \n",
      "\n",
      "Sentiment analysis for text:  3 is:  {'neg': 0.019, 'neu': 0.921, 'pos': 0.06, 'compound': 0.926}\n",
      "check_category condition:  True\n",
      "check_entities condition:  True\n",
      "\n",
      "-----------------\n",
      "\n",
      "Request nb: 4 is successful.\n",
      "Text nb: 4 is:  Bitcoin (BTC) is close to breaking down from a corrective pattern that had been in place since June 18. If this occurs, it would be expected to lead to new lows. Sponsored Sponsored Bitcoin has been falling underneath a descending resistance line since the end of March. The line caused a rejection on June 7, which led to a local bottom of $17,622 on June 18. Sponsored Sponsored The price increased slightly since and created two higher lows. However, it failed to even reach the descending resistance line and was instead rejected by the $21,700 horizontal resistance area. The daily RSI has yet to move above 50 and was rejected by the line the same time as the price was rejected by the $21,700 horizontal level. On the other hand, the RSI is still holding on above its ascending trendline (green). A breakdown from the line would likely confirm that the price is heading lower. BTC/USDT Chart By TradingView Short-term breakdown A closer look at the six-hour chart paints a mostly bearish outlook. Firstly, the price has been trading inside an ascending parallel channel since June 18. Such channels usually contain corrective structures, meaning that an eventual breakdown would be expected. Secondly, the six-hour RSI has broken down from its ascending trendline and is below 50. BTC/USDT Chart By TradingView BTC wave count The wave count suggests that BTC has been trading in a five-wave downward move (yellow) since the end of March. The presence of this structure makes it likely that BTC is currently in wave four. If it breaks down, a likely target for the bottom would be found at $16,725. This target is found using the 0.382 length of waves 1-3. BTC/USDT Chart By TradingView The long-term wave count suggests that BTC is in the C wave of an A-B-C corrective structure (red) that has been developing since the all-time high of $69,000 was reached in November 2021. Giving waves A and C a 1:1 ratio would lead to a long-term low of $12,100, given that the $16,726 level fails. BTC/USDT Chart By TradingView F or Be[in]Crypto’s previous bitcoin (BTC) analysis , click here . Disclaimer All the information contained on our website is published in good faith and for general information purposes only. Any action the reader takes upon the information found on our website is strictly at their own risk.\n",
      "Entities for Text nb: 4 are:  ['bitcoin']\n",
      "Categories for Text nb: 4 are:  ['business'] \n",
      "\n",
      "Sentiment analysis for text:  4 is:  {'neg': 0.084, 'neu': 0.873, 'pos': 0.043, 'compound': -0.9482}\n",
      "check_category condition:  True\n",
      "check_entities condition:  True\n",
      "\n",
      "-----------------\n",
      "\n",
      "Request nb: 5 is successful.\n",
      "Text nb: 5 is:  It comes as no surprise that the central bank wants to curtail crypto as much as it possibly can, advising EU lawmakers with a recent research paper. On July 12, crypto venture advisor at Presight Capital, Patrick Hansen, broke down the report, which focused primarily on what the ECB considers financial risks. It acknowledged that the digital asset markets were evolving rapidly, claiming that if current trends continue, “crypto-assets will pose risks to financial stability,” therefore need to be “effectively regulated and supervised.” The three areas of concern for the central bankers were the climate risk of crypto, decentralized finance, and stablecoins. The ECB has published 3 new research articles on • Climate risk of crypto • DeFi • Stablecoins They give a good overview of how the ECB thinks about these issues and contain some remarkable quotes and graphs. A few examples https://t.co/KDO5NC9cqF pic.twitter.com/lSxhLUI5jt — Patrick Hansen (@paddi_hansen) July 12, 2022 A ‘Probable’ Mining Ban The first concern was one regarding the climate, with the report stating that there is a choice between “incentivizing the crypto version of the electric vehicle” or banning the fossil fuel version. This refers to the choice of proof-of-stake, which Ethereum is about to switch to, instead of proof-of-work, which runs the Bitcoin network. The ECB stated that public authorities are “highly unlikely” to take a hands-off approach, so: “Policy action by authorities (e.g. disclosure requirements, carbon tax on crypto transactions or holdings, or outright bans on mining) is probable.” The next swipe was at DeFi, with the ECB pointing out that most protocols were actually centralized. It used Uniswap as an example claiming the team, early investors, and whales control it, “1% of the total token holder addresses hold around 97% of the total token supply.” In essence, this is precisely what a central bank does with its tight leash of control over a nation’s currency, so this point could be considered moot. Unstable Stablecoins The next attack was on stablecoins, which the ECB has been trying to veto since early 2021, making the obvious example out of the Terra ecosystem and its recent collapse. “Recent developments show that stablecoins are anything but stable, as exemplified by the crash of TerraUSD and the temporary de-pegging of Tether.” The report stated that stablecoins need to be “brought into the regulatory perimeter with urgency,” adding that the EU’s proposed MiCA laws need to be implemented urgently. The central bank failed to make the comparison between their volatility and the rampant devaluation and instability of fiat currencies due to economic policy meddling and money printing mechanisms. Just this week, the Euro reached parity with the USD for the first time in almost two decades. Euro/Dollar parity for the first time since 2003 pic.twitter.com/AUCcPZJSRn — Will Clemente (@WClementeIII) July 11, 2022\n",
      "Entities for Text nb: 5 are:  ['patrick hansen', 'eu', 'euro', 'presight capital', 'bitcoin', 'terra', 'ethereum']\n",
      "Categories for Text nb: 5 are:  ['business', 'technology'] \n",
      "\n",
      "Sentiment analysis for text:  5 is:  {'neg': 0.055, 'neu': 0.916, 'pos': 0.029, 'compound': -0.8793}\n",
      "check_category condition:  True\n",
      "check_entities condition:  True\n",
      "\n",
      "-----------------\n",
      "\n",
      "Request nb: 6 is successful.\n",
      "Text nb: 6 is:  (Bloomberg) -- Bitcoin settled into a holding pattern on Wednesday ahead of US inflation figures that could inject fresh volatility.Continue Reading. Read more on Business News by BloombergQuint.\n",
      "Entities for Text nb: 6 are:  ['bitcoin', 'us']\n",
      "Categories for Text nb: 6 are:  ['general'] \n",
      "\n",
      "Sentiment analysis for text:  6 is:  {'neg': 0.0, 'neu': 0.919, 'pos': 0.081, 'compound': 0.3182}\n",
      "check_category condition:  True\n",
      "check_entities condition:  True\n",
      "\n",
      "-----------------\n",
      "\n",
      "counter 5\n",
      "The  Bitcoin stock BTC have negative Semantic Analysis in the given tweets,it could be an indicator         that this stock does not have community trust in the dtermined time.        After processing  5  articles, the term bitcoin or BTC got a polarity scrore of :  -0.17569999999999997  on 1 .\n"
     ]
    }
   ],
   "source": [
    "from nltk.sentiment.vader import SentimentIntensityAnalyzer\n",
    "analyser = SentimentIntensityAnalyzer()\n",
    "\n",
    "nb = len(response['results'])\n",
    "temp_nb = 7 #For testing only\n",
    "ctr_2 = 0\n",
    "grade_sum_2 = 0\n",
    "final_grade_2 = 0\n",
    "\n",
    "for i in range(temp_nb):\n",
    "    #Since the API give only 200 chars in contnet, this is not acceptable\n",
    "    # a good idea would be to use the title and the description as a subsitute since they contion most of the meaning.\n",
    "    \n",
    "    text_2 = response['results'][i]['content']\n",
    "    if text_2 is not None:\n",
    "        request_2 =  { 'text' : text_2, 'lang' : 'en', 'format' : 'json' }\n",
    "        rsp_2 = client.callwebmethod('ProcessDocument', request_2, 'POST') #Use Klangoo to get all entities and categories of tweet\n",
    "        info_2 = json.loads(rsp_2) #transform from Bytes to Json format\n",
    "        info_2.fromkeys\n",
    "\n",
    "        print(\"Request nb:\",i,\"is successful.\")\n",
    "        print(\"Text nb:\", i, \"is: \", text_2)\n",
    "\n",
    "        entities_nb_2 = len(info_2['document']['entities'])\n",
    "        categories_nb_2 = len(info_2['document']['categories']) \n",
    "\n",
    "        text_entities_2 = []   # get the key topics from text and append to this list\n",
    "        text_categories_2 = []   # get the categories from text and append to this list \n",
    "\n",
    "        for j in range(entities_nb_2):#adding entites from klangoo response to  text_entities_2 list\n",
    "            text_entities_2.append(info_2['document']['entities'][j]['token'].lower() ) \n",
    "\n",
    "        for j in range(categories_nb_2):#adding categoreis from klangoo response to  text_categories_2\n",
    "            text_categories_2.append(info_2['document']['categories'][j]['name'].lower() ) # append the key categories to the list\n",
    "\n",
    "        print(\"Entities for Text nb:\", i, \"are: \", text_entities_2)\n",
    "        print(\"Categories for Text nb:\", i, \"are: \", text_categories_2, \"\\n\")\n",
    "        \n",
    "        check_category_2 = have_common(wanted_categories_2, text_categories_2 ) #check existecne of an item of text_categories in wanted_category \n",
    "        check_entities_2 = have_common(wanted_entities_2, text_entities_2 )\n",
    "\n",
    "        if check_category_2  and check_entities_2: #If the article category and entity are the wanted ones, we apply S.A.\n",
    "            ctr_2 += 1\n",
    "            score_2 = analyser.polarity_scores(text_2)\n",
    "            print(\"Sentiment analysis for text: \",  i , \"is: \", score_2)\n",
    "            grade_sum_2 += score_2['compound'] #compound element of the polarity score determine if positive >0.5 or negative <-0.5\n",
    "        print(\"check_category condition: \", check_category_2 )\n",
    "        print(\"check_entities condition: \", check_entities_2)\n",
    "        print()\n",
    "        print(\"-----------------\")\n",
    "        print()\n",
    "        \n",
    "\n",
    "print(\"counter\", ctr_2)        \n",
    "if ctr_2 > 0:\n",
    "    final_grade_2 = grade_sum_2 / ctr_2\n",
    "\n",
    "    if final_grade_2 < -0.1: #check the condition neg or pos and total score in NLTK\n",
    "        print(\"The \" , wanted_stock_2  ,\"have negative Semantic Analysis in the given tweets,it could be an indicator \\\n",
    "        that this stock does not have community trust in the dtermined time.\\\n",
    "        After processing \", ctr_2 , \" articles, the term bitcoin or BTC got a polarity scrore of : \" , final_grade_2, \" on 1 .\")\n",
    "    elif final_grade > 0.1:\n",
    "        print(\"The \",wanted_stock_2, \"  have a positive Semantic Analysis in the given tweets,it could be an indicator \\\n",
    "        that this stock have community trust in the determined time.\\\n",
    "         After processing \", ctr_2 , \" articles,the term bitcoin or BTC got a polarity scrore of :\" , final_grade_2, \" on 1 .\")\n",
    "    else:\n",
    "        print(\"After analysing the relative articles, the \", wanted_stock_2, \" have a neutral Semantic Analysis.\")          \n",
    "    \n",
    "\n",
    "    \n"
   ]
  },
  {
   "cell_type": "code",
   "execution_count": null,
   "id": "154ea236",
   "metadata": {},
   "outputs": [],
   "source": []
  }
 ],
 "metadata": {
  "kernelspec": {
   "display_name": "Python 3 (ipykernel)",
   "language": "python",
   "name": "python3"
  },
  "language_info": {
   "codemirror_mode": {
    "name": "ipython",
    "version": 3
   },
   "file_extension": ".py",
   "mimetype": "text/x-python",
   "name": "python",
   "nbconvert_exporter": "python",
   "pygments_lexer": "ipython3",
   "version": "3.9.12"
  }
 },
 "nbformat": 4,
 "nbformat_minor": 5
}
