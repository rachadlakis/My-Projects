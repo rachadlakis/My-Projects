{
 "cells": [
  {
   "cell_type": "markdown",
   "id": "bd300e87",
   "metadata": {},
   "source": [
    "# Stock market Indicator Using Klangoo"
   ]
  },
  {
   "cell_type": "markdown",
   "id": "7f65b16c",
   "metadata": {},
   "source": [
    "### The stock prices are directly related to people opinion and trust. Sentiment Analysis can be used to determine the overall opinion for a certain stock. \n",
    "\n",
    "### A fast answer can be to apply sentiment analysis on every text contaning the word(s) we are interrested in.\n",
    "\n",
    "### But, It is not accurate to study every text containing the keyword we are looking for, si how de we know if the domain of the text is  the same domain we we are interrested in (Buisness, Technology, ...) or the text is about a completely different domain and citing this word as an example while speaking about another thing??  \n",
    "\n",
    "### How do we know if a certain text is directly related to the stock we are interrested in (i.e.: the stock is the main subject or one of the main subjects of the text) and not cited as a secondary subject in the text?\n",
    "\n",
    "## KLANGOO can be the answer\n",
    "\n",
    "### Klangoo can be used to determine, for each text (twitter tweet or a newspaper article) if the domain and the main subject of the text (entities) are what we are interrested in. \n",
    "\n",
    "\n",
    "### I used a dataset already containng the sentiment analysis results in the first part. we used a stock market tweets from kaggle, (https://www.kaggle.com/datasets/sohelranaccselab/stock-market-tweets-data-sentiment-analysis ).\n",
    "### Each row of the csv file contains a tweet details, the tweet initial text and a sentiment analysis result (positive, negative, neutral) .\n",
    "### After sending the tweet as a requeest to Klangoo, we process the results: if the main category and the main entities of the tweet are appropriate: the tweet will be processed. Otherwise it will be neglected.\n",
    "### A final sentiment analysis will be given to the wanted entity. If it is negative, this could be an indicator that the  stock is going down (maybe, nothing is 100% sure in stock market), and vice versa.\n",
    "\n",
    "### The result will be a simple advice of selling, or keeping / buying a certain stock according to the general public opinion. Also a final grade over 5 will be given with the number of tweets analysed to give a certain inficator to the user.\n",
    "\n",
    "### In the secaond part (real use case) an API was used to collect articles from different source, in a certain history range, to make the sentiment analysis calcualtion on.\n"
   ]
  },
  {
   "cell_type": "markdown",
   "id": "32a2538d",
   "metadata": {},
   "source": [
    "### Define a function that will be used in the code"
   ]
  },
  {
   "cell_type": "code",
   "execution_count": 150,
   "id": "f24055d6",
   "metadata": {},
   "outputs": [],
   "source": [
    "def have_common(x,y):\n",
    "   common = False\n",
    "   for value in x:\n",
    "      if value in y:\n",
    "         common= True\n",
    "   return common"
   ]
  },
  {
   "cell_type": "markdown",
   "id": "ba210514",
   "metadata": {},
   "source": [
    "### Importing Libraries and reading the csv file a Pandas dataFrame"
   ]
  },
  {
   "cell_type": "code",
   "execution_count": 151,
   "id": "7f0f2ed5",
   "metadata": {},
   "outputs": [
    {
     "name": "stdout",
     "output_type": "stream",
     "text": [
      "\n"
     ]
    }
   ],
   "source": [
    "from klangooclient.MagnetAPIClient import MagnetAPIClient\n",
    "import pandas as pd\n",
    "import json\n",
    "import string\n",
    "\n",
    "df = pd.read_csv(\"tweets_labelled.csv\") #Read  csv file containig 5000 tweets and the sentiment of each tweet\n",
    "                                                       # The csv file from kaggle contains alreade the sentiment analysis \n",
    "df = df[:5] #only 30 rows were processed \n",
    "print()"
   ]
  },
  {
   "cell_type": "markdown",
   "id": "a5d318ea",
   "metadata": {},
   "source": [
    "### Prepare connection strings and secret key"
   ]
  },
  {
   "cell_type": "code",
   "execution_count": 152,
   "id": "c4f05caa",
   "metadata": {},
   "outputs": [],
   "source": [
    "ENDPOINT ='https://nlp.klangoo.com/Service.svc'\n",
    "CALK = '155b99fc-758c-40c8-a8ef-5d4eb9fba616'\n",
    "SECRET_KEY = 'wTMeUVHL38vGrdDBbSdSFBQOWFchPTaUnIFZBJS4'\n",
    "\n",
    "client = MagnetAPIClient(ENDPOINT, CALK, SECRET_KEY)"
   ]
  },
  {
   "cell_type": "markdown",
   "id": "600ef12f",
   "metadata": {},
   "source": [
    "### Specify wanted entities and categories to search for"
   ]
  },
  {
   "cell_type": "code",
   "execution_count": 159,
   "id": "c3523231",
   "metadata": {},
   "outputs": [],
   "source": [
    "wanted_stock = \"Amazon stock AMZN\"\n",
    "wanted_entities = ['amazon', 'amzn'] #Stock(s) interrested in, This option is subjective to the user.\n",
    "wanted_categories = [ 'science','general','business', 'politics','technology'] #Only these categoreis will be taken into considertion"
   ]
  },
  {
   "cell_type": "markdown",
   "id": "110dc313",
   "metadata": {},
   "source": [
    "### Code"
   ]
  },
  {
   "cell_type": "code",
   "execution_count": 160,
   "id": "bda18829",
   "metadata": {
    "scrolled": true
   },
   "outputs": [
    {
     "name": "stdout",
     "output_type": "stream",
     "text": [
      "request nb: 0 done\n",
      "Text for request nb: 0 is:  RT @vincent13031925: Biggest mistakes of the century: From before  Apple AAPL is  only a PC maker  Amazon AMZN is only a bookstore Goo…\n",
      "Sentiment for request nb: 0 is:  negative\n",
      "Entities for request nb: 0 are:  ['amazon', 'apple', 'rt']\n",
      "Categories for request nb: 0 are:  ['technology', 'business'] \n",
      "\n",
      "request nb: 1 done\n",
      "Text for request nb: 1 is:  RT @BarrySchwartzBW: Carl Icahn once owned 10% of Netflix. That stake today would have been worth about 24B. He also had 52m shares of App…\n",
      "Sentiment for request nb: 1 is:  neutral\n",
      "Entities for request nb: 1 are:  ['carl icahn', 'netflix']\n",
      "Categories for request nb: 1 are:  ['business', 'technology'] \n",
      "\n",
      "request nb: 2 done\n",
      "Text for request nb: 2 is:  RT @gzbenso: Netflix leads its rivals in original TV shows by a wide margin in both quantity and quality  according to new data analysis ht…\n",
      "Sentiment for request nb: 2 is:  positive\n",
      "Entities for request nb: 2 are:  ['netflix']\n",
      "Categories for request nb: 2 are:  ['technology'] \n",
      "\n",
      "request nb: 3 done\n",
      "Text for request nb: 3 is:  RT @iflickerman: \"All Free\" Retail is Back  Amazon AMZN ready for Chapter 11 🤣🤣🤣 @JuliaLaRoche https://t.co/t4S8BD3REg\n",
      "Sentiment for request nb: 3 is:  positive\n",
      "Entities for request nb: 3 are:  ['amazon', 'rt']\n",
      "Categories for request nb: 3 are:  ['business'] \n",
      "\n",
      "request nb: 4 done\n",
      "Text for request nb: 4 is:  RT @ReformedBroker: Amazon is less than 2% away from a record high. AMZN is 10% or so of the QQQs https://t.co/ejWq3o2AuA\n",
      "Sentiment for request nb: 4 is:  positive\n",
      "Entities for request nb: 4 are:  ['amazon']\n",
      "Categories for request nb: 4 are:  ['science'] \n",
      "\n",
      "The  Amazon stock AMZN   have a positive Semantic Analysis in the given tweets, it could be an indicator         that this stock have community trust in the dtermined time.\n",
      "  After         processing  3  tweets, the term Netfilx or NFLX got a scrore of :  0.3333333333333333  on 1 .\n"
     ]
    }
   ],
   "source": [
    "n = len(df)\n",
    "ctr = 0\n",
    "grade_sum = 0\n",
    "final_grade = 0\n",
    "\n",
    "for i in range(n): #read all the tweets from  the dataFrame\n",
    "    text = df.iloc[i,2] #get text from dataFrame\n",
    "    text = text\n",
    "    sentiment = df.iloc[i,3]   #get sentiment analysis result from dataFrame\n",
    "        \n",
    "    request =  { 'text' : text, 'lang' : 'en', 'format' : 'json' }\n",
    "    \n",
    "    rsp = client.callwebmethod('ProcessDocument', request, 'POST') #Use Klangoo to get all entities and categories of tweet\n",
    "    info = json.loads(rsp) #transform to Dictionary\n",
    "    info.fromkeys\n",
    "    print(\"request nb:\", i , \"done\")\n",
    "    print(\"Text for request nb:\", i, \"is: \", text)\n",
    "    print(\"Sentiment for request nb:\", i, \"is: \", sentiment)\n",
    "\n",
    "    entities_nb = len(info['document']['entities'])\n",
    "    categories_nb = len(info['document']['categories']) \n",
    "    \n",
    "    text_entities = []   # get the key topics from text and append to this list\n",
    "    text_categories = []   # get the categories from text and append to this list \n",
    "    \n",
    "    for j in range(entities_nb):\n",
    "        text_entities.append(info['document']['entities'][j]['token'].lower())#adding categoreis from klangoo response to  text_categories\n",
    "    \n",
    "    for j in range(categories_nb):\n",
    "        text_categories.append(info['document']['categories'][j]['name'].lower())#adding categoreis from klangoo response to  text_categories\n",
    "    \n",
    "    print(\"Entities for request nb:\", i, \"are: \", text_entities)\n",
    "    print(\"Categories for request nb:\", i, \"are: \", text_categories, \"\\n\")\n",
    "\n",
    "    check_category = have_common(wanted_categories, text_categories ) #check existecne of an item of text_categories in wanted_category \n",
    "    check_entities = have_common(wanted_entities, text_entities )\n",
    "    \n",
    "    if check_category  and check_entities: # if the category and topics of the text are in what we are interrested in \n",
    "        if sentiment == 'positive':\n",
    "            grade_sum += 1   \n",
    "        elif sentiment == 'negative':\n",
    "            grade_sum -= 1\n",
    "        #else is: stays zero \n",
    "        ctr += 1\n",
    "           \n",
    "  \n",
    "\n",
    "if ctr != 0:\n",
    "    final_grade = grade_sum / ctr\n",
    "\n",
    "    if final_grade <0:\n",
    "        print(\"The \" , wanted_stock  ,\"have negative Semantic Analysis in the given tweets, it could be an indicator \\\n",
    "        that this stock does not have community trust in the dtermined time.\\n  After \\\n",
    "        processing \", ctr , \" tweets, the term Netfilx or NFLX got a scrore of : \" , final_grade, \" on 1 .\")\n",
    "    elif final_grade >0:\n",
    "        print(\"The \",wanted_stock, \"  have a positive Semantic Analysis in the given tweets, it could be an indicator \\\n",
    "        that this stock have community trust in the dtermined time.\\n  After \\\n",
    "        processing \", ctr , \" tweets, the term Netfilx or NFLX got a scrore of : \" , final_grade, \" on 1 .\")\n",
    "    else:\n",
    "        print(\"After analysing the specifeid texts (tweets), The \", wanted_stock, \" have a neutral Semantic Analysis. \")  "
   ]
  },
  {
   "cell_type": "markdown",
   "id": "3568f30f",
   "metadata": {},
   "source": [
    "## Second Part: Real Use case (Bitcoin)\n",
    "\n",
    "### Now, after we tried our idea on a dataset, let's try our idea on a real use case. We will get news articles from different newspapers and apply the sentiment analysis and use klangoo to make a final indicator only for the stocks we are interrested in.\n",
    "\n",
    "### The newsapi is used here to provide articles from different sources (Better than searching in hundreds of websites) containig a specific word and in a certain date range (from -to), in ceratin websites we specify or over 80,000 websites.\n",
    "\n",
    "### But it is not logical to take all articles containng this word into consideration. So we will use Klangoo to know the main entities and the domain of the article, then we can apply sentiment analysis.\n"
   ]
  },
  {
   "cell_type": "markdown",
   "id": "f1483127",
   "metadata": {},
   "source": [
    "###"
   ]
  },
  {
   "cell_type": "markdown",
   "id": "26aba6a5",
   "metadata": {},
   "source": [
    "## Bitcoin stock Indicator between 01/07/2022 and 13/07/2022"
   ]
  },
  {
   "cell_type": "code",
   "execution_count": 227,
   "id": "68244246",
   "metadata": {},
   "outputs": [
    {
     "name": "stdout",
     "output_type": "stream",
     "text": [
      "Request successful\n"
     ]
    }
   ],
   "source": [
    "import requests\n",
    "\n",
    "#get all the articles from .. to .. containin the words realted to bicoin\n",
    "url = ('https://newsapi.org/v2/everything?' \n",
    "       'q=Bitcoin USD& Or q=BTC-USD& or q=bitcoin& or q=Bitcoin& or q=BTC& or q=btc&'  #serach for articles containng ... word\n",
    "       'from=2022-07-01&'     #search article in the last week \n",
    "       'to=2022-07-13&'\n",
    "       'language=en&'\n",
    "       'sortBy=popularity&'\n",
    "       'apiKey=42f6576050c04962b5556e40825857df')\n",
    "\n",
    "response = requests.get(url)\n",
    "print(\"Request successful\")"
   ]
  },
  {
   "cell_type": "code",
   "execution_count": 245,
   "id": "ea17c507",
   "metadata": {},
   "outputs": [
    {
     "name": "stdout",
     "output_type": "stream",
     "text": [
      "Collecting newsdataapi\n",
      "  Downloading newsdataapi-0.1.5-py3-none-any.whl (8.1 kB)\n",
      "Requirement already satisfied: requests<3.0.0 in c:\\users\\lenovo\\anaconda3\\lib\\site-packages (from newsdataapi) (2.27.1)\n",
      "Requirement already satisfied: idna<4,>=2.5 in c:\\users\\lenovo\\anaconda3\\lib\\site-packages (from requests<3.0.0->newsdataapi) (3.3)\n",
      "Requirement already satisfied: charset-normalizer~=2.0.0 in c:\\users\\lenovo\\anaconda3\\lib\\site-packages (from requests<3.0.0->newsdataapi) (2.0.4)\n",
      "Requirement already satisfied: certifi>=2017.4.17 in c:\\users\\lenovo\\anaconda3\\lib\\site-packages (from requests<3.0.0->newsdataapi) (2022.5.18.1)\n",
      "Requirement already satisfied: urllib3<1.27,>=1.21.1 in c:\\users\\lenovo\\anaconda3\\lib\\site-packages (from requests<3.0.0->newsdataapi) (1.26.9)\n",
      "Installing collected packages: newsdataapi\n",
      "Successfully installed newsdataapi-0.1.5\n",
      "Note: you may need to restart the kernel to use updated packages.\n"
     ]
    }
   ],
   "source": [
    "pip install newsdataapi"
   ]
  },
  {
   "cell_type": "code",
   "execution_count": 265,
   "id": "2694941a",
   "metadata": {},
   "outputs": [],
   "source": [
    "from newsdataapi import NewsDataApiClient\n",
    "\n",
    "api = NewsDataApiClient(apikey='pub_9173b9c5020815c947c4ebd4e19094a1b11d')\n",
    "\n",
    "# You can pass empty or with request parameters {ex. (country = \"us\")}\n",
    "\n",
    "response = api.news_api( q= \"bitcoin OR Bitcion OR BTC-USD OR Bitcoin USD OR BTC Or btc\" , language='en')\n",
    "#Bitcoin USD& Or q=BTC-USD& or q=bitcoin& or q=Bitcoin& or q=BTC& or q=btc&\n",
    "\n",
    "#https://newsdata.io/api/1/news?apikey=YOUR_API_KEY&q=social%20OR%20pizza"
   ]
  },
  {
   "cell_type": "code",
   "execution_count": 266,
   "id": "019ddbe8",
   "metadata": {
    "scrolled": true
   },
   "outputs": [
    {
     "name": "stdout",
     "output_type": "stream",
     "text": [
      "{'status': 'success', 'totalResults': 5279, 'results': [{'title': '3 Reasons Why ‘Seeking Sister Wife’ Fans Suspect Bert Dumped Garrick Merrifield', 'link': 'https://www.cheatsheet.com/entertainment/3-reasons-why-seeking-sister-wife-fans-suspect-bert-dumped-garrick-merrifield.html/', 'keywords': ['Entertainment', 'TV', 'seeking sister wife'], 'creator': ['Julia Odom'], 'video_url': None, 'description': \"Here are the 3 main reasons why 'Seeking Sister Wife' fans suspect that Bert and Garrick are done. Between the lack of contact and the visa, is Bert done with him?\", 'content': 'It’s been three years since Seeking Sister Wife star, Garrick Merrifield began courting Roberta ‘Bert’ Pache as a second wife and she’s still not in the United States. Many Seeking Sister Wife fans think Bert has already given up on the Merrifields. Here are the 3 reasons why Seeking Sister Wife fans think Bert already dumped Garrick and his wife, Dannielle Merrified. Dannielle Merrifield, Garrick Merrifield, and Roberta Pache, ‘Seeking Sister Wife’ | TLC Bert is contacting with Garrick and Dannielle less and less The first clue that Seeking Sister Wife fans noticed was that Bert seemed to be pulling away from Garrick and Dannielle. As discussed in season 4, they haven’t gone to see Brazilian-born Bert in over a year. On the July 11 episode of Seeking Sister Wife, Dannielle said, “Roberta’s been dealing with a lot the past year.” She explains that between getting sick with coronavirus (COVID-19) and caretaking for her aging mother, she’s had a tough time. Dannielle said that Bert’s lack of internet or cell service in Brazil has taken its toll on all of their relationships. She said, “The communication definitely changed.” Garrick adds, “Dramatically.” Bert was upset about Garrick dating a new potential wife, Lea When Dannielle suggested that Garrick start looking for more wives to add to the family, he didn’t hesitate to start dating. Roberta, however, was not on board with this new plan. The original idea was to give Roberta time to settle into life in Colorado with the Merrifield before they start adding more wives. Alone time with Garrick is important to Bert, since they’ve spent the majority of their relationship in separate countries. So when Garrick began dating Lea, she was not happy, which is another reason why fans think Bert and Garrick are done. Dannielle said, “Roberta was uncomfortable at the idea of us dating someone while were dating her.” Dannielle had mentioned that adding a third wife could be hard on Bert, noting how she is “insecure and jealous” and doesn’t like to share Garrick. In the\\xa0trailer\\xa0for\\xa0Seeking Sister Wife\\xa0Season 4, Roberta gets angry at the idea of Garrick being intimate with Lea. She says, “No kisses. Friends.” Luckily for Bert, Lea ended her relationship with Garrick, so she doesn’t have to worry about her fiancé stealing kisses anymore. Bert is in no rush to go to the US with the Merrifields The final clue that suggests that Bert dumped Garrick is how relaxed she is about getting her visa. In previous seasons, the Merrifields tried to get Bert to the US on a tourist visa, but it was denied. Which led them to pursue a K-1 or fiancé visa. This visa gives Garrick 90 days once Bert is in the US to marry her, or she will have to return to Brazil. With Bert’s visa approved, all she has to do is pick up her passport and visa from a government building. However, the visa does have an exploration date and it’s coming up quickly. Dannielle explained, “Our immigration lawyers made it very clear that, she can’t wait ’til the last minute, because travel and flights are limited. So she only has a short period of time to get here.” Dannielle doesn’t believe that Roberta is aware of how time-sensitive this process is. She said, “She doesn’t have much longer.” Fans will have to watch the rest of Seeking Sister Wife Season 4 to find out if Bert makes it to the US. But according to the trailer, Dannielle and Garrick travel to meet her in a beach location. Seeking Sister Wife\\xa0airs Mondays at 10 pm EST on TLC and discovery+. RELATED: ‘Seeking Sister Wife’: Steve Foley’s Daughter Calls His Polygamous Lifestyle ‘Disgusting’', 'pubDate': '2022-07-13 07:51:14', 'image_url': None, 'source_id': 'cheatsheet', 'country': ['united states of america'], 'category': ['entertainment'], 'language': 'english'}, {'title': 'Police bust robbery gang less than 24 hours after alleged assault and robbery in Pasir Gudang', 'link': 'https://www.malaymail.com/news/malaysia/2022/07/13/police-bust-robbery-gang-less-than-24-hours-after-alleged-assault-and-robbery-in-pasir-gudang/17197', 'keywords': ['Mohd Sohaimi Ishak', 'pasir gudang', 'crime', 'robbery', 'assault'], 'creator': None, 'video_url': None, 'description': 'PASIR GUDANG, July 13 — Police believe that they have solved an assault and robbery case at a flat here with the arrest...', 'content': 'PASIR GUDANG, July 13 — Police believe that they have solved an assault and robbery case at a flat here with the arrest of five members of a youth criminal gang less than 24 hours after the incident occurred yesterday. Seri Alam police chief Superintendent Mohd Sohaimi Ishak said a police criminal investigation department (CID) team was alerted to an incident yesterday. “Acting on information, at 6.07pm, a CID team from the Seri Alam district police headquarters arrested five local youths around the Pasir Gudang area. “The suspects were between the ages of 20 and 32. Checks found that three of the suspects had four previous criminal records. “Police managed to solve the case in less than 24 hours after the victim lodged a police report,” said Mohd Sohaimi in a statement issued here today. Earlier, Mohd Sohaimi said police had acted based on a report lodged by the 23-year-old male victim who was beaten before being robbed by a group of men at a flat here yesterday. He said the incident happened at 4.05am beneath the block of flats when he was walking home alone. “The victim was beaten by a group of unarmed suspects before the victim’s personal belongings were taken from him. “The stolen items included a Vivo V2 mobile phone, a wallet containing the victim’s identity card and SG$460 (RM1,449) in cash. “As a result of the incident, the victim suffered injuries to his lips and discomfort in his right shoulder,” he said. Mohd Sohaimi said the case was being investigated under Section 394 of the Penal Code and if convicted, could see the accused sentenced to imprisonment for a term of up to 20 years and a fine or whipping. “All suspects have been remanded for five days from July 13 to July 17,” he said.', 'pubDate': '2022-07-13 07:44:51', 'image_url': None, 'source_id': 'malaymail', 'country': ['singapore', 'malaysia'], 'category': ['top'], 'language': 'english'}, {'title': 'Who is Denise Van Outen’s boyfriend Jimmy Barba?', 'link': 'https://www.thesun.ie/tvandshowbiz/9091101/denise-van-outen-boyfriend-jimmy-barba/', 'keywords': ['Showbiz', 'Celebrity Relationships', 'Explainers'], 'creator': ['Joanne Kavanagh'], 'video_url': None, 'description': 'DENISE Van Outen has a new boyfriend on her arm who has a reality TV past – AND appeared in an iconic music video. The TV star made her red carpet debut with property developer Jimmy Barba at the Grand Prix Ball in June 2022. Who is Jimmy Barba? Denise Van Outen, 48, and Italian […]', 'content': \"DENISE Van Outen has a new boyfriend on her arm who has a reality TV past – AND appeared in an iconic music video. The TV star made her red carpet debut with property developer Jimmy Barba at the Grand Prix Ball in June 2022. Who is Jimmy Barba? Denise Van Outen, 48, and Italian reality star and property developer Jimmy, 55, started dating shortly after she split from her cheating ex Eddie Boxshall in March 2022. The pair were first spotted out together at the Hurlingham Club in Fulham. The mum-of-one is reportedly “happy” after starting to see Jimmy, according to the Daily Mail. The couple got together after All Saints singer Shaznay Lewis introduced them. instagramDenise Van Outen and boyfriend Jimmy Barba went public with their romance in June 2022[/caption] What is Jimmy Barba known for? Some fans may recognise the property developer from his reality TV past – as well as appearing in his own music video. Back in 2010, Jimmy was a household name in Italy when he starred in the eleventh series of Big Brother (Grande Fratello). READ MORE ON DENISE VAN OUTEN VAN'S NEW MAN Denise van Outen makes red carpet debut with hunky new boyfriend FAMOUS FACES Denise Van Outen’s new boyfriend has reality TV and music video past He finished in fourth place on the show – keeping audiences entertained by striking up TWO romances on the show. Jimmy got close with his co-stars Rosa Baiano and Margherita Zanatta, but the flings didn’t last on the outside world. Instead, Jimmy began a short-lived music career, releasing three pop singles between 2012 and 2013 – which didn’t make the charts. He then turned his back on showbiz to become a property developer, but has been linked to other British female celebs. Most read in Celebrity DYE ANOTHER DAY James Bond star Pierce Brosnan unrecognisable with white hair in new role BACK HOME Boyzone's Ronan Keating breaks silence as son Jack is AXED from Love Island villa WRITE OR WRONG Vogue and Joanne divided as star is 'freaked out' by left-handed people WEST-WIFE Jodi Albert shares sweet snap of Westlife husband Kian Egan with rarely seen son HAPPY HOLA-DAYS Inside Vogue Williams' Spain holiday as she shares sweet family snaps FAMILY'S GRIEF One Tree Hill star's husband dies by lightning strike at 33 during storm In 2019, he joked with singer Cheryl on Twitter that he would “be her Valentine” after the Fight For This Love star reached out to him. “Wanna be my Valentine?!” she wrote to Jimmy in a tweet, to which he simply replied: “Yep He then gushed over Sky Sports star Laura Woods as “beautiful” – alongside a kissing emoji – after she posted a selfie. Who has Denise Van Outen dated? Denise was with commodities trader Eddie Boxshall from 2014 to 2022, but they split when he admitted messaging other women. Before Eddie, Denise was married to actor and singer Lee Mead. They met when she was a judge on BBC talent show Any Dream Will Do in 2007. The couple announced their engagement in January 2009, and married in the Seychelles in April 2009. Their daughter Betsy was born on May 1, 2010. Read More on The Sun On the lash Beauty fan raves about Primark tool that makes putting lashes on ‘much easier’ However, Lee and Denise went their separate ways in July 2013. In the 90s Denise dated Jamiroquai frontman Jay Kay.\", 'pubDate': '2022-07-13 07:40:29', 'image_url': None, 'source_id': 'thesun_ie', 'country': ['ireland'], 'category': ['top'], 'language': 'english'}, {'title': 'DOH: Get your Covid-19 booster shots', 'link': 'https://mb.com.ph/2022/07/13/doh-get-your-covid-19-booster-shots/?utm_source=rss&utm_medium=rss&utm_campaign=doh-get-your-covid-19-booster-shots', 'keywords': ['National', 'News', 'booster shots', 'COVID-19', 'Department of Health (DOH)'], 'creator': ['Analou de Vera'], 'video_url': None, 'description': 'DOH The Department of Health (DOH) once again urged eligible Filipinos to get their Covid-19 vaccine booster shots to maintain a high level of protection against the disease’s severe form. The DOH reiterated the importance of booster shots as the effectiveness of the two-dose primary vaccination series wanes over time. “Immunity does not last forever, and for that reason, we must all get a booster,” the state health agency said in an advisory. “The likelihood to be very ill or worse, to die, is what matters. Given this information, the choice to be vaccinated and protected from this risk becomes clear,” it added. The DOH said that based on data, “six out of ten Covid-19 patients seen at the hospital are not fully vaccinated.“ “The remaining four out of ten who are fully vaccinated or even boosted are more likely to be asymptomatic, mild, or moderate cases who were also seen at the hospital,” it added. Severe and critical symptoms are 1.48 times “more likely to happen” among people who are not vaccinated at all as compared to those who have completed the primary vaccine series, the DOH said. It was also noted by the DOH that unvaccinated individuals are 1.86 times “more likely to die from Covid-19, compared to those who have completed their primary series.” “The DOH repeats in no uncertain terms: Covid-19 vaccines save lives,” the agency said. Aside from vaccination, the DOH also reminded the public to strictly follow the health protocols as daily cases nationwide are projected to increase to at least 17,000 to 22,000 by the end of this month. “National daily cases may reach up to 17,105 by the end of July if current MPHS (minimum public health standards) compliance is maintained,” it said. “If MPHS further declines, along with other factors contributing to higher transmission rates such as lowered vaccination effective coverage and higher mobility, cases may be as high as 22,187,” it added. In Metro Manila, cases could go up as high as 11,186 per day by the end of July, the DOH said. Currently, the average number of daily cases in the Philippines is at 1,467. Despite the increase in cases, the country remains under the low-risk category for Covid-19, the DOH said.', 'content': None, 'pubDate': '2022-07-13 07:38:00', 'image_url': None, 'source_id': 'mb', 'country': ['philippines'], 'category': ['top'], 'language': 'english'}, {'title': 'Rabiya Mateo finds new focus', 'link': 'https://mb.com.ph/2022/07/13/rabiya-mateo-finds-new-focus/?utm_source=rss&utm_medium=rss&utm_campaign=rabiya-mateo-finds-new-focus', 'keywords': ['Celebrities', 'Entertainment', 'Entertainment News', 'gma', 'jeric gonzales', 'Rabiya Mateo', 'ticktoclock'], 'creator': ['Stephanie Bernardino'], 'video_url': None, 'description': \"Rabiya Mateo didn’t confirm or deny talk about her splitting up with boyfriend Jeric Gonzales. But she made obvious the the truth during a recent interview. Asked if she’s open to the possibility of falling in love again and entering a new relationship, she hastily replied, “Hindi po muna.” Rabiya maintained she is now more keen focusing on her career rather than love for the time being. Note she was tapped as host of the upcoming GMA show “TicktoClock,” along with Kim Atienza and Pokwang. According to Rabiya, the two advised her that focusing on work is the best thing she could do at this point in her life. “Palagi nila sa aking sinasabi na ‘Ano mang nangyayari sayo ngayon, sobrang blessed ka na at your age na nandito ka sa spot na to.’ At dun din po muna ang focus ko,” she related. In the same interview, Rabiya talked about how she handles challenges. She said: “Hindi naman po talaga maiiwasan na magkaproblema sa buhay e. That’s part of life pero it’s also mental game e. Kung paano mo siya iha-handle.” The Ilongga beauty queen believes one should always get up after falling down. “Totoo po talaga yung once na nadapa ka, bumangon ka at magpaka-busy ka. There so much to life that you could celebrate. At hindi dahil may problema ka, dadalhin \\xa0mo yun sa trabaho mo at maapektuhan yung trabaho mo.” She related how it boils down to being thankful. “You have to be grateful because there’s a lot of artists who wanna have that spot,” the beauty queen-turned-actress said. Rabiya deemed showbiz a “competitive industry.” So, her having a hosting gig just after making her acting debut is a “privilege.” “It’s privilege. It’s a blessing. We need to be grateful for it,” she said. “Despite everything, I’m very much grateful kasi I have Mamang and Kuya Kim na even off-cam, they would guide me on things I have to do, things that I don’t need to do. Parang nandun yung guidance ng ate at kuya mo. Since I’m alone here in Manila – I have nobody – parang I found a family sa kanila. Kaya I’m also happy to be part of ‘TicktoClock.'”\", 'content': None, 'pubDate': '2022-07-13 07:37:40', 'image_url': None, 'source_id': 'mb', 'country': ['philippines'], 'category': ['top'], 'language': 'english'}, {'title': '[#RapplerReads] Understanding the link between food and identity with Filipino Food Crawl', 'link': 'https://www.rappler.com/brandrap/understanding-link-food-identity-filipino-food-crawl-online-store/', 'keywords': None, 'creator': ['Raven Lingat'], 'video_url': None, 'description': 'Looking for books about Philippine cuisine and food culture? We asked help from a Filipino gastro diplomat', 'content': 'Editor’s note: #RapplerReads is a project by the BrandRap team. We earn a commission every time you shop through the affiliate links below. When in a new place, there’s one thing Filipinos love to do: Eat the best local dish they can find. For most of us, food is the gateway to any new culture whether local or international. For example, a trip to my hometown Pampanga wouldn’t be complete without a visit to the best sisig restaurant in town. That’s according to all my friends who travel around two hours just to eat authentic Kapampangan sisig and have coffee and dessert at the numerous cafes in Clark.\\xa0 The strong link between food and identity has long been the subject of a lot of scholarly articles and journals. But this month on #RapplerReads, I wanted to unpack it even further by talking to someone who has a lot of firsthand experience with it.\\xa0 Meet Raf Ignacio, host of Filipino Food Crawl I first discovered Raf Ignacio’s website when I was looking for copies of several Filipino books on food. Through the site, readers can purchase just about any kind of literature – be it a cookbook or a book about food history – related to Filipino food. But he isn’t just a seller of books. He’s also a host of the Filipino food experience.\\xa0 Born and raised in the Philippines, Ignacio has also lived in Japan, Malaysia, and India. He moved to New York in 2014, where he launched Filipino Food Crawl.\\xa0 Ignacio shared that he started hosting Filipino food tours in New York City in 2018. He saw it as his own way to introduce Filipino cuisine to curious tourists and Filipino-Americans looking to connect with their roots.\\xa0 “For two and half hours, I took my guests to eat at different Filipino restaurants in the East Village while telling them stories about Philippine culture and history. However, because of the pandemic, I had to put a hold on hosting. I decided to pivot from tours to offering Filipino books on food and culture through my online store,” he said in an email interview.\\xa0\\xa0 As his tours became more popular, Ignacio was tapped for collaborations with various brands. These were all focused on introducing Filipino food and culture to more people, both local and international.\\xa0 I’ve always been an advocate of Filipino culture and I believe that for someone to truly appreciate a culture, one has to experience it. To me, food has become a tool to let others experience Filipino culture.Raf Ignacio So what can this self-proclaimed Filipino gastro diplomat say about food and identity? A lot. Read below for our conversation. What has been the best thing about the Filipino Food Crawl? I enjoy having the opportunity to share experiences and stories about Filipino cuisine with those who are interested and with those who want to reconnect with their Filipino roots. It is satisfying to me to hear someone say that they were able to learn more about themselves through the food that they tried on the tour. I’m glad to be a part of this (re)discovery of one’s Filipino identity and culture. You’ve also been busy working with brands like Goldilocks and Buzzfeed. Can you share a memorable experience from any collaboration? I have collaborated with Goldilocks on two #EATymology series in which we talked about the origins of the names of some of Goldilocks’ best-selling pastries and bread. BuzzFeed chose to feature Filipino Food Crawl (the tour) in its travel and experiences channel called BringMe. The collaboration with BuzzFeed was fun because it was the first time for me to be featured by a major publication. The final product came out extremely well! The link between food and memory is well-documented, with many agreeing that food is an invoker of memory. In your personal experience, is there any Filipino food that really takes you back to a specific memory? Sisig! The first dish I eat whenever I visit the Philippines is sisig. I love its flexibility – one can eat sisig by itself as a pulutan [food eaten with alcohol] or with rice as an ulam [viand] – and its origin story – discarded pig heads were reimagined to become a delicious and one-of-a-kind dish. This story shows Filipino creativity and our penchant to maximize all our available resources.\\xa0 Play Video As a Filipino living in the US, do you think food affects your Filipino identity? Why or why not? Yes, I think Filipino food has allowed me to express my Filipino identity in a society that’s unfamiliar with my experience as a migrant. I see food as a conversation starter. With each bite, there’s an opportunity to talk about different aspects of Filipino daily life as well as our colonial history. Food also lets me talk about the richness and varieties of our cuisine, including the different regional/provincial interpretations of the same dish. If you could suggest either a list or one book on food that all Filipinos should read, what would they/it be?\\xa0 I highly recommend Tikim: Essays on Philippine Food and Culture by Doreen Fernandez, the pioneer of Filipino food literature. It’s a collection of essays that will give the reader an introduction to the intricate nuances of Filipino food culture through its people, places, and flavors.\\xa0 Another favorite of mine is The Governor-General’s Kitchen by Felice Sta. Maria. This well-researched book covers little-known stories on Philippine culinary culture from the time of the Spanish and the Americans, including some recipes from that time period.\\xa0 Interested in discovering more about the Filipino identity through food? If you’re in New York City and are looking for Ignacio’s own spin on the Filipino food experience, stay tuned because he mentioned that there’s a possibility he would start holding tours again in the future.\\xa0 But for now, find your next favorite read through his online store. – Rappler.com Get it on Shopee', 'pubDate': '2022-07-13 07:35:15', 'image_url': None, 'source_id': 'rappler', 'country': ['philippines'], 'category': ['top'], 'language': 'english'}, {'title': 'Portable ultrasound equipment market, Evolving Opportunities with Canon Inc. and Clarius Mobile Health Corp - Technavio', 'link': 'https://www.prnewswire.com:443/news-releases/portable-ultrasound-equipment-market-evolving-opportunities-with-canon-inc-and-clarius-mobile-health-corp---technavio-301584880.html', 'keywords': ['Health Care & Hospitals', 'Medical Equipment', 'Medical Pharmaceuticals', 'MEQ', 'HEA', 'MTC'], 'creator': None, 'video_url': None, 'description': 'NEW YORK, July 13, 2022 /PRNewswire/ -- The Portable Ultrasound Equipment Market is expected to grow by USD 1.58 billion at a CAGR of 13.3% during the forecast period. The broader applications of portable ultrasound equipment are notably driving the portable ultrasound equipment market...', 'content': None, 'pubDate': '2022-07-13 07:35:00', 'image_url': 'https://mma.prnewswire.com/media/1857704/Portable_Ultrasound_Equipment.jpg?p=original', 'source_id': 'cision', 'country': ['singapore'], 'category': ['top'], 'language': 'english'}, {'title': 'Seoul shares rebound on eased rate hike uncertainties', 'link': 'https://www.koreaherald.com/view.php?ud=20220713000739', 'keywords': None, 'creator': ['Yonhap'], 'video_url': None, 'description': \"South Korean stocks rebounded Wednesday on eased uncertainties about the central bank's rate decision. The Korean won rose against the US dollar. The benchmark Korea Composite Stock Price Index (KOSPI) added 10.85 points, or 0.47 percent, to clo\", 'content': None, 'pubDate': '2022-07-13 07:31:24', 'image_url': None, 'source_id': 'koreaherald', 'country': ['south korea'], 'category': ['top'], 'language': 'english'}, {'title': 'Homes still without water while heatwave and 30°C temperatures continue', 'link': 'https://metro.co.uk/2022/07/13/homes-still-without-water-while-heatwave-and-30c-temperatures-continue-16990082/', 'keywords': ['UK', 'Kent', 'Met Office', 'UK weather', 'Weather'], 'creator': ['Sian Elvin'], 'video_url': None, 'description': 'A burst main meant up to 20,000 people were left without water yesterday or struggling with low water pressure.', 'content': 'A burst main on the Isle of Sheppey in Kent meant up to 20,000 people were left without water yesterday (Picture: PA) Some people who lost their water supply on the Isle of Sheppey are still left without it today. A burst main on the island off the northern coast of Kent meant up to 20,000 people were left without water yesterday or struggling with low water pressure. Southern Water has been working around the clock to restore supplies since, and has apologised for the difficulties caused. A spokesperson tweeted this morning: ‘We’re so sorry to say we’re still working on bringing supplies back. We have teams on site 24/7, and in the meantime the three bottled water stations are open this morning.’ The company has opened collection points offering bottled water outside Tesco and in the Promenade car park from 7am, and at the Minster Working Men’s Club from 9am. Bottled water is also being delivered to people on the company’s priority services register, including people who are vulnerable or disabled. The supply issues come after the Met Office issued an extreme heat weather warning into next week – saying some people are at risk of serious illness or death. Forecasts suggest the UK could face temperatures exceeding 40°C in some places. This would be a new record, with the UK’s current highest temperature of 38.7°C set in July 2019. We’re so sorry to say we’re still working on bringing supplies back. We have teams on site 24/7, and in the meantime the 3 bottled water stations are open this morning.From 7am:ðŸ’§ Tesco ðŸ’§ Promenade car park Open from 9am:ðŸ’§ Minster Working Manâ€™s Club https://t.co/Fc2GzhXGjB— Southern Water (@SouthernWater) July 13, 2022 An update on the Southern Water website at 11.30pm last night read: ‘We’ve fixed the burst pipe on the Isle of Sheppey and are slowly starting to refill the network. ‘This is to protect the quality of the water we’re sending back to your taps. ‘Before going to bed, we encourage all customers who’ve been out of water to please check all the taps in the house are turned off, in case your water supply returns during the night.‘However carefully we try to recharge the network, discoloured water is normal after a supply interruption.‘It’s not harmful and will usually clear in 24 to 48 hours, but if anyone is still having problems after this, please call us on 0330 3030368.’ The company had said yesterday: ‘We’re really sorry to customers on the Isle of Sheppey with low pressure or no water supply. ‘This is due to our repair work on a burst main in the area. Our priority is to set up bottled water collection points, and we’ll share locations and times soon. ‘We’re also continuing to make sure those on our priority service register have water delivered. ‘The team are working to get the repair finished as quickly as possible. We’re really sorry again for the disruption this situation will cause.’ Get in touch with our news team by emailing us at\\xa0webnews@metro.co.uk. For more stories like this,\\xa0check our news page.', 'pubDate': '2022-07-13 07:30:20', 'image_url': 'https://metro.co.uk/wp-content/uploads/2022/07/SEI_114306168.jpg?quality=90&strip=all', 'source_id': 'metro', 'country': ['united kingdom'], 'category': ['top'], 'language': 'english'}, {'title': \"'Creative midfielder': Sky reporter drops exciting Tottenham transfer claim on top of Spence\", 'link': 'https://www.hitc.com/en-gb/2022/07/13/creative-midfielder-sky-reporter-drops-exciting-tottenham-transfer-claim-on-top-of-spence/?utm_source=rss&utm_medium=rss&utm_campaign=creative-midfielder-sky-reporter-drops-exciting-tottenham-transfer-claim-on-top-of-spence', 'keywords': ['Competitions', 'Football', 'Premier League', 'Teams', 'Tottenham Hotspur', 'TOTTENHAM HOTSPUR FC'], 'creator': ['Amir Mir'], 'video_url': None, 'description': \"Michael Bridge has claimed that Tottenham Hotspur plan to make ‘three more signings’ this summer, including Djed Spence, as he told Sky Sports. One of... The post 'Creative midfielder': Sky reporter drops exciting Tottenham transfer claim on top of Spence appeared first on HITC.\", 'content': \"Michael Bridge has claimed that Tottenham Hotspur plan to make ‘three more signings’ this summer, including Djed Spence, as he told Sky Sports. One of the areas Spurs seemingly want to try and fill before the 2022 summer window slams shut is bringing in a ‘creative midfielder’, after previously looking at Christian Eriksen, who has now decided to join Manchester United. Up until now, the work Fabio Paratici and Daniel Levy have done from the boardroom has been pretty impressive and one that has already filled up Tottenham’s squad. Photo by Tottenham Hotspur FC/Tottenham Hotspur FC via Getty Images There does seem to be this delay with this Spence transfer, but it’s probably only a matter of time before the promotion-winning star is being put through his paces in South Korea. Nonetheless, with five new faces already through the transfer doors at Tottenham, Bridge dropped an exciting claim about how the Champions League-bound side aren’t stopping there. “I think around two or three more signings,” said Bridge. “Djed Spence is widely known. They want another wing-back. They are still negotiating a fee with Middlesbrough. The player wants to come. “I think they want a more attack-minded central midfielder. Someone a bit more creative. I thought maybe at the start of the summer, it would have been Christian Eriksen. “But it seems as though Eriksen is looking for a ‘new challenge’ and Spurs isn’t a ‘new challenge’ for him.” Photo by Tottenham Hotspur FC/Tottenham Hotspur FC via Getty Images CREATIVE PLAYER NEEDED This is one area of the pitch that has been a problem ever since Tottenham parted ways with Eriksen back in 2020, with several players, such as Giovanni Lo Celso and Tanguy Ndombele failing to make their mark. Harry Kane has been the one who has dropped deep and made the ball talk, but bringing in that specialist creative brain would solve a number of issues. Not only would it provide Antonio Conte with something different to what he already has in his midfield, but it also eases the pressure on England’s captain. The key thing here is that would Levy be willing to put serious cash on the table for that attack-minded midfielder? The Spurs chairman has already backed Conte in that regard, but it will be interesting to see how far they push for that much-needed attacking midfielder. The post 'Creative midfielder': Sky reporter drops exciting Tottenham transfer claim on top of Spence appeared first on HITC.\", 'pubDate': '2022-07-13 07:30:00', 'image_url': None, 'source_id': 'hitc', 'country': ['united kingdom'], 'category': ['sports'], 'language': 'english'}], 'nextPage': 1}\n"
     ]
    }
   ],
   "source": [
    "print(response)"
   ]
  },
  {
   "cell_type": "code",
   "execution_count": 221,
   "id": "b5e89b77",
   "metadata": {},
   "outputs": [],
   "source": [
    "#determine the wanted entity and categories\n",
    "\n",
    "wanted_stock_2 = \"Amazon sotck AMZN\"\n",
    "wanted_entities_2 = ['amazon', 'amzn'] #Stock(s) interrested in, This option is subjective to the user.\n",
    "wanted_categories_2 = ['general','business', 'politics','technology']#Only these categoreis will be taken into considertion\n"
   ]
  },
  {
   "cell_type": "code",
   "execution_count": 182,
   "id": "fb191354",
   "metadata": {},
   "outputs": [],
   "source": [
    "f=open(\"C:\\\\Users\\\\Lenovo\\\\Desktop\\\\Project\\\\results.txt\", \"a\")\n",
    "f.write(\"Now the file has more content!\")\n",
    "f.close()\n"
   ]
  },
  {
   "cell_type": "code",
   "execution_count": 222,
   "id": "03e16458",
   "metadata": {},
   "outputs": [
    {
     "data": {
      "text/plain": [
       "'‘It’s Ruined Me’: Voyager Customers Fear Life Savings Gone After Crypto Firm’s Bankruptcy Voyager customers are struggling with depression and fearing the worst after the crypto brokerage suspended withdrawals and declared bankruptcy. “I was dumb enough to trust them,” one said'"
      ]
     },
     "execution_count": 222,
     "metadata": {},
     "output_type": "execute_result"
    }
   ],
   "source": [
    "l = 0\n",
    "title = response['articles'][l]['title']\n",
    "desc = response['articles'][l]['description']\n",
    "text = title +\" \"+ desc\n",
    "text.strip()"
   ]
  },
  {
   "cell_type": "code",
   "execution_count": 229,
   "id": "daa29d38",
   "metadata": {},
   "outputs": [
    {
     "name": "stdout",
     "output_type": "stream",
     "text": [
      "100\n"
     ]
    }
   ],
   "source": [
    "print(len(response['articles']))"
   ]
  },
  {
   "cell_type": "code",
   "execution_count": 244,
   "id": "cd66542f",
   "metadata": {},
   "outputs": [
    {
     "name": "stdout",
     "output_type": "stream",
     "text": [
      "title:  Stablecoins, Riskycoins, and Dodgycoins\n",
      "desc:  Recent price implosions have shown that not all so-called stablecoins are so stable after all. As policymakers draft regulations to bring some order to the crypto industry, they should focus on the economic functions that various digital tokens perform, rathe…\n",
      "content:  Recent price implosions have shown that not all so-called stablecoins are so stable after all. As policymakers draft regulations to bring some order to the crypto industry, they should focus on the e… [+1903 chars]\n",
      "====================\n",
      "title:  Bitfarms In Distress But Still Functional\n",
      "desc:  Bitfarms' liquidation of its Bitcoin reserves wasn't a surprise. Read why we believe BITF stock is fairly priced but IREN offers a better margin of safety.\n",
      "content:  Jay Yuno/E+ via Getty Images\r\n",
      "Introduction\r\n",
      " A lot has happened since our last Bitfarms (NASDAQ:BITF) coverage 2 quarters ago. The recent headline news was BITF forgoing its HODL strategy to accumula… [+12765 chars]\n",
      "====================\n",
      "title:  Soluna: The Business Of Turning Wasted Energy Into Cash Via Bitcoin Isn't Sustainable\n",
      "desc:  Soluna is priced fairly but it's Bitcoin-based business model might backfire. Why do I not recommend SLNH stock? Click here to find out.\n",
      "content:  bennymarty/iStock via Getty Images\r\n",
      "Introduction\r\n",
      " We're currently on the hunt for alpha in the Bitcoin mining sector. Since May 2021, we've been warning investors about a coming bear market that was… [+10175 chars]\n",
      "====================\n",
      "title:  Digital Asset Market Note: The Blow-Up Of 3AC\n",
      "desc:  The liquidation of Three Arrows Capital (3AC), alongside the increasingly apparent exposures of its lending counterparties, have thrown a spotlight on the crypto lending industry.\n",
      "content:  Kris Hoobaer\r\n",
      "By Benjamin Dean\r\n",
      " A process of deleveraging is underway in the digital asset industry. The events of recent months serve as a useful demonstration of how digital assets (or “crypto”) a… [+9569 chars]\n",
      "====================\n",
      "title:  3 Alts With Setups For Higher Highs In The Next Bull Cycle In Crypto (Part 2, Matic/Polygon)\n",
      "desc:  Polygon is gaining a broad array of adoption. Use of the network is saving millions in ETH gas fees. Read more on what's next with this altcoin.\n",
      "content:  piranka/E+ via Getty Images\r\n",
      "Produced in collaboration with Avi Gilburt and Ryan Wilday\r\n",
      " From the previous article:\r\n",
      " For those who have followed the work of myself and Ryan Wilday, you know that wh… [+8460 chars]\n",
      "====================\n",
      "title:  Is Coinbase Stock A Buy As Cryptocurrency Price Drops?\n",
      "desc:  Coinbase is not only facing macroeconomic challenges, but also the threat of competition. Read more to find out if COIN stock is a buy.\n",
      "content:  Crypto prices continue to plummet, wiping all the gains in recent history. Because Bitcoin was the best performing asset class in 2020, coming into 2022, many investors assumed crypto prices will hol… [+12504 chars]\n",
      "====================\n",
      "title:  Rental Properties: Buy Or Sell In 2022?\n",
      "desc:  Rental properties can give a sense of safety and control & provide income and inflation protection. But is today a good time to buy a rental property? Find out.\n",
      "content:  xeni4ka/iStock via Getty Images\r\n",
      "During the pandemic, a lot of individual investors turned away from the stock market and bought rental properties.\r\n",
      " Do you ever wonder why that is?\r\n",
      " And more import… [+8088 chars]\n",
      "====================\n",
      "title:  Euro’s Fall Toward $1 Parity: What It Means for Crypto\n",
      "desc:  The Euro's decline to parity may add bearish pressures around bitcoin and inject volatility into the EUR-pegged stablecoins.\n",
      "content:  The euro's fall toward $1 for the first time in 20 years approaching so-called parity with the U.S. dollar is turning some crypto traders' focus to the exchange rates impact on crypto valuations and … [+7516 chars]\n",
      "====================\n",
      "title:  Voyager Clarifies USD Deposit Concerns in Update\n",
      "desc:  The crypto exchange, which filed for Chapter 11 bankruptcy, says it remains unclear how customers will be reimbursed for their cryptocurrency investments.\n",
      "content:  In an update posted this morning, Voyager the crypto exchange platform that declared Chapter 11 bankruptcy last week assured customers that their FDIC insured USD deposits would be returned in full, … [+3091 chars]\n",
      "====================\n",
      "title:  Bitcoin in 'Accumulation' Phase, Onchain Indicators Suggest\n",
      "desc:  Bitcoin's Puell Multiple and MVRV Z-Score indicate the cryptocurrency is undervalued. Similar readings have marked bear market bottoms in the past.\n",
      "content:  It's time to start stacking bitcoin again. That's the message from indicators tracking tokens sold by miners and comparing the cryptocurrency's market value to its fair value.\r\n",
      "The Puell Multiple, ca… [+4116 chars]\n",
      "====================\n",
      "title:  Market Wrap: Bitcoin Gains for Third Consecutive Day as Binance Launches Zero Trading Fees\n",
      "desc:  BTC recovered from an early dip below $20,000 to regain its perch above the psychologically important threshold.\n",
      "content:  Hi, I'm Jimmy He, here to take you through the day's crypto market highlights and news.\r\n",
      "Bitcoin was on the rise in Friday trading, even cracking $22,000 at one point early in the day before dipping … [+2958 chars]\n",
      "====================\n",
      "title:  First Mover Asia: Does Anyone Care Anymore If Bitcoin Dips Below $20K?\n",
      "desc:  The more blasé crypto analysts become about a bitcoin price in the $10,000s, the more it seems like the bottom is in. PLUS: The euro on Monday approached parity with the U.S. dollar.\n",
      "content:  Good morning. Heres whats happening:\r\n",
      "Prices: Bitcoin dips below $20K, but crypto analysts don't seem bothered.\r\n",
      "Insights: KuCoin denies layoff rumors, while Three Arrows creditors get an emergency h… [+6551 chars]\n",
      "====================\n",
      "title:  First Mover Asia: There's No Denying Those Three Arrows NFTs are Priced in Ether\n",
      "desc:  CoinDesk's Sam Reynolds examines alternate methodologies for valuing the beleaguered crypto hedge fund Three Arrows Capital's NFT collection. Bitcoin slides for a fifth day, and doubts are forming over whether the market bottom is in.\n",
      "content:  Good morning. Heres whats happening:\r\n",
      "Prices: Bitcoin fell for a fifth day, while the dollar and euro continued to flirt with parity. Traders are looking for inflation clues in a major economic relea… [+9320 chars]\n",
      "====================\n",
      "title:  Uniswap User Loses $8M Worth of Ether in Phishing Attack\n",
      "desc:  An unknown entity conducted the phishing attack by using a fake Uniswap airdrop message.\n",
      "content:  A Uniswap user lost over $8 million worth of ether Tuesday in a phishing attack that saw the attacker deploy an airdrop bait to trick users, security researchers said.\r\n",
      "According to tweets by Metamas… [+1471 chars]\n",
      "====================\n",
      "title:  Crypto World Is Cautious of Finer Details In EU's MiCA Law\n",
      "desc:  Web3 experts are cautiously welcoming the first major jurisdiction’s attempt to regulate crypto – but first they must resolve the MiCA law’s paradoxes – like when is a non-fungible token fungible?\n",
      "content:  Crypto industry figures welcomed, for the most part, the European Unions (EU) landmark crypto law, the Markets in Crypto Assets (MiCA) regulation, agreed upon late Thursday. But the picture is more c… [+9889 chars]\n",
      "====================\n",
      "title:  ETH Drops Back Under $1,200 to Probe 21DMA, but Technicals Still Bullish\n",
      "desc:  Despite profit-taking on Sunday amid pre-macro event caution, Ethereum’s technical outlook looks good, with a breakout back towards $1,700 possible.\n",
      "content:  Key Points\r\n",
      "<ul><li>Cryptocurrencies look set to end what has otherwise been a strong week on a sour note.\r\n",
      "</li><li>Ethereum was last down about 4.5% on Sunday, but still has a favorable near-term t… [+5059 chars]\n",
      "====================\n",
      "title:  Crypto Market Daily Highlights – BTC Ends Seven Day Losing Streak\n",
      "desc:  It was a bullish end to a bearish week for the crypto market. Gains were broadly modest, however, with headwinds likely to remain a challenge.\n",
      "content:  Key Insights:\r\n",
      "<ul><li>It was a bullish end to the week for the crypto to ten, with XRP finding much-needed support to lead the way.\r\n",
      "</li><li>Following the 3AC bankruptcy filing, news of more platfo… [+3068 chars]\n",
      "====================\n",
      "title:  Despite The Price, Great Things Are Happening In The Bitcoin Ecosystem\n",
      "desc:  Though the bitcoin price is bringing the overall sentiment down, many exciting things are happening in Bitcoin that will make this price drop temporary.\n",
      "content:  This is an opinion editorial by Adam Taha, a host of a Bitcoin podcast in Arabic and a contributor at Bitcoin Magazine.\r\n",
      "The current bear market is on everyone’s minds. Doom and gloom are in every ch… [+3658 chars]\n",
      "====================\n",
      "title:  Public Miners Start Selling Bitcoin Treasuries\n",
      "desc:  As June monthly production updates roll out over the next week, Core Scientific and Bitfarms have both sold nearly 50% or more of their bitcoin treasuries.\n",
      "content:  The below is an excerpt from a recent edition of Bitcoin Magazine Pro, Bitcoin Magazine's premium markets newsletter. To be among the first to receive these insights and other on-chain bitcoin market… [+3245 chars]\n",
      "====================\n",
      "title:  How We Should Really Think About Bitcoin Maximalism\n",
      "desc:  There has been a lot of digital ink spilled about the concept of Bitcoin Maximalism, but there are things the critics don’t understand.\n",
      "content:  This is an opinion editorial by Stephan Livera, host of the “Stephan Livera Podcast” and managing director of Swan Bitcoin International.\r\n",
      "It’s time to clear a few things up. While there has been a l… [+14047 chars]\n",
      "====================\n"
     ]
    }
   ],
   "source": [
    "for i in range(10,30,1):\n",
    "    print(\"title: \" , response['articles'][i]['title'])\n",
    "    print(\"desc: \" , response['articles'][i]['description'])\n",
    "    print(\"content: \" , response['articles'][i]['content'])\n",
    "    print(\"====================\")"
   ]
  },
  {
   "cell_type": "code",
   "execution_count": 184,
   "id": "ebbcf838",
   "metadata": {},
   "outputs": [],
   "source": [
    "text_2 = response['articles'][2]['content']\n",
    "f=open(\"C:\\\\Users\\\\Lenovo\\\\Desktop\\\\Project\\\\results.txt\", \"a\")\n",
    "\n",
    "for i in range(len(response['articles'])):\n",
    "    f.write(response['articles'][i]['content'])\n",
    "    f.write(\" +++++++++++++++++ \\n\")\n",
    "\n",
    "    \n",
    "f.close()"
   ]
  },
  {
   "cell_type": "code",
   "execution_count": 233,
   "id": "b7bc59d1",
   "metadata": {},
   "outputs": [
    {
     "name": "stdout",
     "output_type": "stream",
     "text": [
      "Request nb: 10 is successful.\n",
      "Text nb: 10 is:  . Recent price implosions have shown that not all so-called stablecoins are so stable after all. As policymakers draft regulations to bring some order to the crypto industry, they should focus on the economic functions that various digital tokens perform, rathe…\n",
      "Entities for Text nb: 10 are:  []\n",
      "Categories for Text nb: 10 are:  [] \n",
      "\n",
      "-----------------\n",
      "\n",
      "Request nb: 11 is successful.\n",
      "Text nb: 11 is:  . Bitfarms' liquidation of its Bitcoin reserves wasn't a surprise. Read why we believe BITF stock is fairly priced but IREN offers a better margin of safety.\n",
      "Entities for Text nb: 11 are:  ['bitcoin']\n",
      "Categories for Text nb: 11 are:  [] \n",
      "\n",
      "-----------------\n",
      "\n",
      "Request nb: 12 is successful.\n",
      "Text nb: 12 is:  . Soluna is priced fairly but it's Bitcoin-based business model might backfire. Why do I not recommend SLNH stock? Click here to find out.\n",
      "Entities for Text nb: 12 are:  ['bitcoin']\n",
      "Categories for Text nb: 12 are:  [] \n",
      "\n",
      "-----------------\n",
      "\n"
     ]
    }
   ],
   "source": [
    "from nltk.sentiment.vader import SentimentIntensityAnalyzer\n",
    "analyser = SentimentIntensityAnalyzer()\n",
    "\n",
    "nb = len(response['articles'])\n",
    "temp_nb = 7 #For testing only\n",
    "ctr_2 = 0\n",
    "grade_sum_2 = 0\n",
    "final_grade_2 = 0\n",
    "\n",
    "for i in range(10,13,1):\n",
    "    #Since the API give only 200 chars in contnet, this is not acceptable\n",
    "    # a good idea would be to use the title and the description as a subsitute since they contion most of the meaning.\n",
    "    title =\"\"# response['articles'][i]['title']\n",
    "    description = response['articles'][i]['description']\n",
    "    text_2 = title +\". \"+ description\n",
    "    text_2 = text_2.strip()\n",
    "    text_2.replace('\\n', ' ').replace('\\r', '')\n",
    "\n",
    "    request_2 =  { 'text' : text_2, 'lang' : 'en', 'format' : 'json' }\n",
    "    rsp_2 = client.callwebmethod('ProcessDocument', request_2, 'POST') #Use Klangoo to get all entities and categories of tweet\n",
    "    info_2 = json.loads(rsp_2) #transform from Bytes to Json format\n",
    "    info_2.fromkeys\n",
    "    \n",
    "    print(\"Request nb:\",i,\"is successful.\")\n",
    "    print(\"Text nb:\", i, \"is: \", text_2)\n",
    "    entities_nb_2 = len(info_2['document']['entities'])\n",
    "    categories_nb_2 = len(info_2['document']['categories']) \n",
    "    \n",
    "    text_entities_2 = []   # get the key topics from text and append to this list\n",
    "    text_categories_2 = []   # get the categories from text and append to this list \n",
    "    \n",
    "    for j in range(entities_nb_2):#adding entites from klangoo response to  text_entities_2 list\n",
    "        text_entities_2.append(info_2['document']['entities'][j]['token'].lower() ) \n",
    "    \n",
    "    for j in range(categories_nb_2):#adding categoreis from klangoo response to  text_categories_2\n",
    "        text_categories_2.append(info_2['document']['categories'][j]['name'].lower() ) # append the key categories to the list\n",
    "    \n",
    "    print(\"Entities for Text nb:\", i, \"are: \", text_entities_2)\n",
    "    print(\"Categories for Text nb:\", i, \"are: \", text_categorie_2, \"\\n\")\n",
    "    print(\"-----------------\")\n",
    "    print()\n",
    "    check_category_2 = have_common(wanted_categories_2, text_categories_2 ) #check existecne of an item of text_categories in wanted_category \n",
    "    check_entities_2 = have_common(wanted_entities_2, text_entities_2 )\n",
    "    \n",
    "    if check_category_2  and check_entities_2: #If the article category and entity are the wanted ones, we apply S.A.\n",
    "        ctr_2 += 1\n",
    "        score_2 = analyser.polarity_scores(text2)\n",
    "        grade_sum_2 += score_2['compound'] #compound element of the polarity score determine if positive >0.5 or negative <-0.5\n",
    "\n",
    "\n",
    "        \n",
    "if ctr_2 > 0:\n",
    "    final_grade_2 = grade_sum_2 / ctr_2\n",
    "\n",
    "    if final_grade_2 < -0.5: #check the condition neg or pos and total score in NLTK\n",
    "        print(\"The \" , wanted_stock_2  ,\"have negative Semantic Analysis in the given tweets,it could be an indicator \\\n",
    "        that this stock does not have community trust in the dtermined time.\\\n",
    "        After processing \", ctr , \" tweets, the term Netfilx or NFLX got a polarity scrore of : \" , final_grade_2, \" on  .\")\n",
    "    elif final_grade > 0.5:\n",
    "        print(\"The \",wanted_stock_2, \"  have a positive Semantic Analysis in the given tweets,it could be an indicator \\\n",
    "        that this stock have community trust in the dtermined time.\\\n",
    "        After processing \", ctr , \" tweets, the term Netfilx or NFLX got a scrore of : \" , final_grade_2, \" on  .\")\n",
    "    else:\n",
    "        print(\"After analysing the relative articles, the \", wanted_stock_2, \" have a neutral Semantic Analysis.\")          \n",
    "    \n",
    "\n",
    "    \n"
   ]
  },
  {
   "cell_type": "markdown",
   "id": "ad916dec",
   "metadata": {},
   "source": [
    "#### Analyse sentiment analysis with NLTK library"
   ]
  },
  {
   "cell_type": "code",
   "execution_count": 209,
   "id": "fc918a1e",
   "metadata": {},
   "outputs": [
    {
     "name": "stdout",
     "output_type": "stream",
     "text": [
      "Overall sentiment dictionary is :  {'neg': 0.0, 'neu': 0.842, 'pos': 0.158, 'compound': 0.5719}\n",
      "sentence was rated as  0.0 % Negative\n",
      "sentence was rated as  84.2 % Neutral\n",
      "sentence was rated as  15.8 % Positive\n",
      "sentence compund is   0.5719 \n",
      "Sentence Overall Rated As Positive\n"
     ]
    }
   ],
   "source": [
    "from nltk.sentiment.vader import SentimentIntensityAnalyzer\n",
    "analyser = SentimentIntensityAnalyzer()\n",
    "sentiment_result = analyser.polarity_scores(\"Its time to start stacking bitcoin again.\\\n",
    "Thats the message from indicators tracking tokens sold by miners and comparing the \\\n",
    "cryptocurrencys market value to its fair value.uell Multiple \") \n",
    "     \n",
    "print(\"Overall sentiment dictionary is : \", sentiment_result)\n",
    "print(\"sentence was rated as \", sentiment_result['neg']*100, \"% Negative\")\n",
    "print(\"sentence was rated as \", sentiment_result['neu']*100, \"% Neutral\")\n",
    "print(\"sentence was rated as \", sentiment_result['pos']*100, \"% Positive\")\n",
    "print(\"sentence compund is  \", sentiment_result['compound'], \"\")\n",
    "\n",
    "print(\"Sentence Overall Rated As\", end = \" \")\n",
    " \n",
    "# decide sentiment as positive, negative and neutral\n",
    "if sentiment_result['compound'] >= 0.05 :\n",
    "    print(\"Positive\")\n",
    " \n",
    "elif sentiment_result['compound'] <= - 0.05 :\n",
    "        print(\"Negative\")\n",
    " \n",
    "else :\n",
    "        print(\"Neutral\")\n",
    "\n",
    "    "
   ]
  },
  {
   "cell_type": "code",
   "execution_count": 234,
   "id": "4a2862d4",
   "metadata": {},
   "outputs": [
    {
     "data": {
      "text/plain": [
       "'Recent price implosions have shown that not all so-called stablecoins are so stable after all. As policymakers draft regulations to bring some order to the crypto industry, they should focus on the economic functions that various digital tokens perform, rathe…'"
      ]
     },
     "execution_count": 234,
     "metadata": {},
     "output_type": "execute_result"
    }
   ],
   "source": [
    "response['articles'][10]['description']"
   ]
  },
  {
   "cell_type": "code",
   "execution_count": 236,
   "id": "219ff415",
   "metadata": {},
   "outputs": [],
   "source": [
    "s = \" Recent price implosions have shown that not all so-called stablecoins are so stable after all. As policymakers draft regulations to bring some order to the crypto industry, they should focus on the economic functions that various digital tokens perform, rathe…\\\n",
    "asdasdasd asd asd asdf asdf asdf\\\n",
    "\""
   ]
  },
  {
   "cell_type": "code",
   "execution_count": 237,
   "id": "39e486cc",
   "metadata": {},
   "outputs": [
    {
     "data": {
      "text/plain": [
       "' Recent price implosions have shown that not all so-called stablecoins are so stable after all. As policymakers draft regulations to bring some order to the crypto industry, they should focus on the economic functions that various digital tokens perform, rathe…asdasdasd asd asd asdf asdf asdf'"
      ]
     },
     "execution_count": 237,
     "metadata": {},
     "output_type": "execute_result"
    }
   ],
   "source": [
    "s\n"
   ]
  },
  {
   "cell_type": "code",
   "execution_count": null,
   "id": "8b3c9a2f",
   "metadata": {},
   "outputs": [],
   "source": []
  }
 ],
 "metadata": {
  "kernelspec": {
   "display_name": "Python 3 (ipykernel)",
   "language": "python",
   "name": "python3"
  },
  "language_info": {
   "codemirror_mode": {
    "name": "ipython",
    "version": 3
   },
   "file_extension": ".py",
   "mimetype": "text/x-python",
   "name": "python",
   "nbconvert_exporter": "python",
   "pygments_lexer": "ipython3",
   "version": "3.9.12"
  }
 },
 "nbformat": 4,
 "nbformat_minor": 5
}
