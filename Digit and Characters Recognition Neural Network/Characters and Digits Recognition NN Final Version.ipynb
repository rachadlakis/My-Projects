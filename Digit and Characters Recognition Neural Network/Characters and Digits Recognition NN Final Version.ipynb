{
 "cells": [
  {
   "cell_type": "markdown",
   "id": "da3625ba-bbd5-417f-8432-827334875b8d",
   "metadata": {},
   "source": [
    "# Digits and characters Recogniton with Neural Network (No Library used )"
   ]
  },
  {
   "cell_type": "markdown",
   "id": "288eb9a7-250c-46d6-8b7b-087e74a064ae",
   "metadata": {},
   "source": [
    "### Instructor: Prof. Joseph Constantin\n",
    "### Students: Rachad Lakis-Graziella Salameh"
   ]
  },
  {
   "cell_type": "markdown",
   "id": "7fccd992",
   "metadata": {},
   "source": [
    "##### A neural network will be created to recoginze digits from 0 to 9 and characters upper case A to Z and lower case a to z. \n",
    "##### The data set used is the EMNIST dataset containing  697931 rows and 62 columns. Each row is an image of a character or a digit, with its real value given by a human.   \n",
    "##### The first column of the dataset is the true label of the image, the folowing columns are an array representation of the image. We will read the data, split it as training and test test, create our model as Matrices and train the model with backpropagation algorithm.\n",
    "##### Many epochs will be run. The forward and bckpropagation algorithms are implmented in ths code, not through a library.  Finally some test and examples are made to evaluate the model."
   ]
  },
  {
   "cell_type": "markdown",
   "id": "e859c35d-aa93-459e-b740-2ccf41345c74",
   "metadata": {},
   "source": [
    "### Import the libraries and create the functions we will use in the code:"
   ]
  },
  {
   "cell_type": "code",
   "execution_count": 2,
   "id": "c7595e79-b81f-42c9-91b8-a033493b7780",
   "metadata": {},
   "outputs": [],
   "source": [
    "import pandas as pd\n",
    "import numpy as np\n",
    "import matplotlib.pyplot as plt\n",
    "import time\n",
    "from PIL import Image\n",
    "np.set_printoptions(precision=8)"
   ]
  },
  {
   "cell_type": "markdown",
   "id": "28c3704a-cc9c-4e19-ad22-74aa3f0a2d25",
   "metadata": {},
   "source": [
    "##  Functions:\n"
   ]
  },
  {
   "cell_type": "code",
   "execution_count": 3,
   "id": "1b384ee9-806c-4534-aa54-88d438b9f2fa",
   "metadata": {},
   "outputs": [],
   "source": [
    "def sigmoid(v):\n",
    "    return (1 / (1+ np.exp(-v)) )"
   ]
  },
  {
   "cell_type": "code",
   "execution_count": 4,
   "id": "cc98658d",
   "metadata": {},
   "outputs": [],
   "source": [
    "def relu(v):\n",
    "    return np.maximum(0,v)"
   ]
  },
  {
   "cell_type": "code",
   "execution_count": 5,
   "id": "39ee2322",
   "metadata": {},
   "outputs": [],
   "source": [
    "def clip(x):\n",
    "    if x<-1:\n",
    "        return -1\n",
    "    elif x>1:\n",
    "        return 1\n",
    "    else:\n",
    "        return x"
   ]
  },
  {
   "cell_type": "markdown",
   "id": "c14a0486-c163-4b56-be4c-6ae27f54833e",
   "metadata": {},
   "source": [
    "### Mean Square Error funciton:"
   ]
  },
  {
   "cell_type": "code",
   "execution_count": 6,
   "id": "ee0e177d",
   "metadata": {},
   "outputs": [],
   "source": [
    "def MSE(y, yhat):\n",
    "    m =len(y)\n",
    "    err = 0.0\n",
    "    for i in range(m):\n",
    "        err += np.square(y[i]-yhat[i])\n",
    "    err = (1/2*m)*err\n",
    "    return(err)"
   ]
  },
  {
   "cell_type": "markdown",
   "id": "f06f7b88",
   "metadata": {},
   "source": [
    "### ADD bias Function:"
   ]
  },
  {
   "cell_type": "code",
   "execution_count": 7,
   "id": "36dc008c",
   "metadata": {},
   "outputs": [],
   "source": [
    "def add_bias(X_):\n",
    "    return np.append(X_,1)"
   ]
  },
  {
   "cell_type": "markdown",
   "id": "61874243",
   "metadata": {},
   "source": [
    "## Forward and back propagation and Delta of Layers:"
   ]
  },
  {
   "cell_type": "markdown",
   "id": "c7203200-2828-48c0-910e-df2eb916825f",
   "metadata": {},
   "source": [
    "#### Forward Propagatoin using a matrix, input and the sigmoid function by default:"
   ]
  },
  {
   "cell_type": "code",
   "execution_count": 8,
   "id": "2505c3d6",
   "metadata": {},
   "outputs": [],
   "source": [
    "def forward_prop(W_,X_,fn=sigmoid):\n",
    "    if W_.shape[1] != X_.shape[0]:\n",
    "        print(\"The matrix columns and the input length are not similar.\")\n",
    "        return\n",
    "    output = fn(np.matmul(W_,X_)) #the sigmoid of the scalar product of X and column i of W\n",
    "    return output"
   ]
  },
  {
   "cell_type": "markdown",
   "id": "322daf67-88d0-4c06-adb7-79fe85d79721",
   "metadata": {},
   "source": [
    "### Delta of the output layer:"
   ]
  },
  {
   "cell_type": "code",
   "execution_count": 9,
   "id": "c6ac53d4",
   "metadata": {},
   "outputs": [],
   "source": [
    "def delta_output_layer_fn(W_output_, desired_, Y_out, a=1, fn=sigmoid):\n",
    "    if fn==sigmoid:\n",
    "        delta_output_layer = a * (desired_ - Y_out) * Y_out * (1- Y_out)    \n",
    "    elif fn==relu:\n",
    "        delta_output_layer = ( desired_ - Y_out)    \n",
    "    return np.clip(delta_output_layer,-1,1)\n",
    "        "
   ]
  },
  {
   "cell_type": "markdown",
   "id": "da3f17e9-782e-4c58-b996-f94bea8d6808",
   "metadata": {},
   "source": [
    "### Delta of an inner layers:"
   ]
  },
  {
   "cell_type": "code",
   "execution_count": 10,
   "id": "b14e2731",
   "metadata": {},
   "outputs": [],
   "source": [
    "def delta_hidden_layer_fn(W_local, W_next,X_input,Y_j,delta_next,fn=sigmoid):\n",
    "    r_local , c_local = W_local.shape\n",
    "    r_next, c_next = W_next.shape\n",
    "    delta_hidden = np.zeros(r_local)\n",
    "    if fn==sigmoid:\n",
    "        for j in range(r_local):\n",
    "            delta_j_next_sum = 0\n",
    "            for k in range(r_next):\n",
    "                delta_j_next_sum += delta_next[k] * W_next[k,j]\n",
    "            delta_hidden[j] = a * Y_j[j] * (1-Y_j[j]) * delta_j_next_sum\n",
    "    elif fn==relu:\n",
    "        for j in range(r_local):\n",
    "            delta_j_next_sum = 0\n",
    "            for k in range(r_next):\n",
    "                print(r_next)\n",
    "                delta_j_next_sum += delta_next[k] * W_next[k,j] #IN case of large network, can cause overflow if not clipped\n",
    "            delta_hidden[j] = a * Y_j[j]  * delta_j_next_sum\n",
    "    return np.clip(delta_hidden,-1,1)"
   ]
  },
  {
   "cell_type": "markdown",
   "id": "b76713e4",
   "metadata": {},
   "source": [
    "#### In many attempts, the problem of exploding gradients occured, the gradient from layer to layer was becoming too large and caused an overflow . After a reasearch some scientists gave the solution of clipping the gradient and limitng it between -1 and 1. "
   ]
  },
  {
   "cell_type": "markdown",
   "id": "5fb0503d",
   "metadata": {
    "tags": []
   },
   "source": [
    "### The EMNIST DATASET contains 62 labels, all the upper , lower case and the digits from 0-9. \n",
    "#### The network will be trained to  know the digit, the character and if it is upper or lower.  input[:, 0] is the label  input[:, 1:784] is the array represtenting the character or digit as an array\n",
    "\n",
    "#### In the dataset, 0 to 9 represent the digits, 10 to 36 represents the lower case characters, 36 to 62 represents the upper case characters.\n",
    "#### Timer was used to calculate the time of execution of each part."
   ]
  },
  {
   "cell_type": "code",
   "execution_count": 11,
   "id": "dcf13a44",
   "metadata": {},
   "outputs": [
    {
     "name": "stdout",
     "output_type": "stream",
     "text": [
      "The time is: 93.46533131599426\n"
     ]
    }
   ],
   "source": [
    "tic =time.time()\n",
    "train_input = np.array(pd.read_csv(\"DataSets\\emnist-byclass-train\\emnist-byclass-train.csv\"))\n",
    "test_input = np.array(pd.read_csv(\"DataSets\\emnist-byclass-test\\emnist-byclass-test.csv\"))\n",
    "\n",
    "toc = time.time()\n",
    "exec_time = (toc-tic) \n",
    "print(\"The time is: \" + str(exec_time))"
   ]
  },
  {
   "cell_type": "markdown",
   "id": "21c6ac92-0eb5-44ea-bf0d-d9af64e0e492",
   "metadata": {},
   "source": [
    "### Divide into training set and testing set:"
   ]
  },
  {
   "cell_type": "code",
   "execution_count": 12,
   "id": "4528bb8c",
   "metadata": {},
   "outputs": [],
   "source": [
    "train_Y = train_input[:,0]\n",
    "train_X = train_input[:,1:]/255.0 #Nomlization\n",
    "\n",
    "test_Y = test_input[:,0]\n",
    "test_X = test_input[:,1:]/255.0#Nomlization"
   ]
  },
  {
   "cell_type": "markdown",
   "id": "6b4e1ace",
   "metadata": {},
   "source": [
    "#### Training the whole dataset on  a personnal computer will neeed aroound 16 days (each operatin needs 0.13s). So we will take the first 30000 exmples from the training dataset and 5000 examples from the testing set."
   ]
  },
  {
   "cell_type": "code",
   "execution_count": 13,
   "id": "0a0116bc",
   "metadata": {},
   "outputs": [],
   "source": [
    "train_X = train_X[:30000,:]\n",
    "train_Y = train_Y[:30000]\n",
    "\n",
    "test_X = test_X[:5000,:]\n",
    "test_Y = test_Y[:5000] \n"
   ]
  },
  {
   "cell_type": "markdown",
   "id": "e4330a00-a0b4-42dc-8ed4-9f55cbeb03b6",
   "metadata": {},
   "source": [
    "### Trasform the training label to  a matrix  so it can be compared to the ouptut of the neural network:"
   ]
  },
  {
   "cell_type": "code",
   "execution_count": 14,
   "id": "4364629b",
   "metadata": {},
   "outputs": [
    {
     "name": "stdout",
     "output_type": "stream",
     "text": [
      "The time is: 0.015182971954345703\n"
     ]
    }
   ],
   "source": [
    "#Transform labels to arrays of length 62 to be able to be compared with the output layer\n",
    "tic =time.time()\n",
    "train_Y_matrix = np.zeros( (train_Y.shape[0],62) )\n",
    "test_Y_matrix = np.zeros( (test_Y.shape[0], 62))\n",
    "\n",
    "for i in range(train_Y.shape[0]):\n",
    "    train_Y_matrix[i, train_Y[i]] = 1\n",
    "    \n",
    "for i in range(test_Y.shape[0]):\n",
    "    test_Y_matrix[i, test_Y[i]] = 1\n",
    "\n",
    "toc = time.time()\n",
    "exec_time = (toc-tic) \n",
    "print(\"The time is: \" + str(exec_time))"
   ]
  },
  {
   "cell_type": "markdown",
   "id": "a991f176-9897-41c9-a27e-c002d7545050",
   "metadata": {},
   "source": [
    "### Create Matrices, Define and Import the input. \n",
    "#### The matriceis chosen are 3 layers: First layer containing 256 neurons, the second containing 125 and the output layer contains 62 layers, same as the labels of the dataset."
   ]
  },
  {
   "cell_type": "code",
   "execution_count": 15,
   "id": "7f95e153",
   "metadata": {},
   "outputs": [],
   "source": [
    "input_length = 784\n",
    "L1_neuron_nb = 256    #First Layer Nb of neurons\n",
    "L2_neuron_nb = 128    #Second Layer Nb of neurons\n",
    "L3_neuron_nb = 62     #FInal Layer Nb of neurons\n",
    "np.random.seed(100)"
   ]
  },
  {
   "cell_type": "markdown",
   "id": "4e8739f7-acb9-47a2-9a47-03865440e425",
   "metadata": {},
   "source": [
    "### Fill matrices with random numbers from the normal Distribution:"
   ]
  },
  {
   "cell_type": "code",
   "execution_count": 16,
   "id": "a2cafbdf",
   "metadata": {
    "scrolled": true
   },
   "outputs": [],
   "source": [
    "#Forwarad prop to get Y1, output\n",
    "#W1 = np.random.rand(L1_neuron_nb , input_length +1, dtype=np.float64)\n",
    "#W2 = np.random.rand(L2_neuron_nb , L1_neuron_nb +1 , dtype=np.float64)\n",
    "#W3 = np.random.rand(L3_neuron_nb, L2_neuron_nb +1, dtype=np.float64)\n",
    "W1 = np.random.normal(size=(L1_neuron_nb , input_length +1))\n",
    "W2 = np.random.normal(size=(L2_neuron_nb , L1_neuron_nb +1))\n",
    "W3 = np.random.normal(size=(L3_neuron_nb, L2_neuron_nb +1))"
   ]
  },
  {
   "cell_type": "markdown",
   "id": "9fbfda84",
   "metadata": {
    "tags": []
   },
   "source": [
    "### Back Propagation with activation = Sigmoid,   a=1,  eta=0.3 :"
   ]
  },
  {
   "cell_type": "code",
   "execution_count": 17,
   "id": "3716bf0e",
   "metadata": {},
   "outputs": [],
   "source": [
    "a = 1\n",
    "eta = 0.03"
   ]
  },
  {
   "cell_type": "markdown",
   "id": "50e6e700",
   "metadata": {},
   "source": [
    "### The calculation of the gradient of each layer so we tried to use the numpy library instead of for loops. The loops needs a lot of time, so delta of each layer is transformed to a matrix, the input to a matrix also, and the Gradient matrix of change of each layer was calulated as the matrix product of these two. \n",
    "### Then eta was multiplied by the Gradient matrix, and the result was mulitplied by the input to give the ammount of change for each weight."
   ]
  },
  {
   "cell_type": "code",
   "execution_count": 139,
   "id": "ff090bdd-4c6b-4dfd-bf30-fdd41cac991a",
   "metadata": {
    "scrolled": true
   },
   "outputs": [
    {
     "name": "stdout",
     "output_type": "stream",
     "text": [
      "Epoch 1  is finished. The MSE is:  253.14598707507795 .\n",
      "Epoch 2  is finished. The MSE is:  58.210621255671875 .\n",
      "Epoch 3  is finished. The MSE is:  57.405779941168795 .\n",
      "Epoch 4  is finished. The MSE is:  55.922307921345656 .\n",
      "Epoch 5  is finished. The MSE is:  48.20275743044121 .\n",
      "Epoch 6  is finished. The MSE is:  42.76821917382176 .\n",
      "Epoch 7  is finished. The MSE is:  40.910391846464435 .\n",
      "Epoch 8  is finished. The MSE is:  39.62651127089046 .\n",
      "Epoch 9  is finished. The MSE is:  38.61918606851871 .\n",
      "Epoch 10  is finished. The MSE is:  37.71220170543378 .\n",
      "Epoch 11  is finished. The MSE is:  36.82204725604374 .\n",
      "Epoch 12  is finished. The MSE is:  36.03573844119744 .\n",
      "Epoch 13  is finished. The MSE is:  35.39438681841304 .\n",
      "Epoch 14  is finished. The MSE is:  34.83298128534844 .\n",
      "Epoch 15  is finished. The MSE is:  34.219394620300825 .\n",
      "Epoch 16  is finished. The MSE is:  33.800028786928856 .\n",
      "Epoch 17  is finished. The MSE is:  33.48017190343594 .\n",
      "Epoch 18  is finished. The MSE is:  33.1829725406299 .\n",
      "Epoch 19  is finished. The MSE is:  32.788293411852095 .\n",
      "Epoch 20  is finished. The MSE is:  32.47358077845656 .\n",
      "Epoch 21  is finished. The MSE is:  32.08310622898735 .\n",
      "Epoch 22  is finished. The MSE is:  31.718673273194884 .\n",
      "Epoch 23  is finished. The MSE is:  31.27823260098456 .\n",
      "Epoch 24  is finished. The MSE is:  30.816347788686663 .\n",
      "Epoch 25  is finished. The MSE is:  30.375938257774987 .\n",
      "Epoch 26  is finished. The MSE is:  30.018310932912954 .\n",
      "Epoch 27  is finished. The MSE is:  29.562211038624152 .\n",
      "Epoch 28  is finished. The MSE is:  29.245959991006615 .\n",
      "Epoch 29  is finished. The MSE is:  28.934786230122263 .\n",
      "Epoch 30  is finished. The MSE is:  28.355872708605943 .\n",
      "Epoch 31  is finished. The MSE is:  28.034252955863078 .\n",
      "Epoch 32  is finished. The MSE is:  27.73797718393446 .\n",
      "Epoch 33  is finished. The MSE is:  27.41770162726544 .\n",
      "Epoch 34  is finished. The MSE is:  27.09553758327045 .\n",
      "Epoch 35  is finished. The MSE is:  26.703355658816772 .\n",
      "Epoch 36  is finished. The MSE is:  26.561220754001468 .\n",
      "Epoch 37  is finished. The MSE is:  26.0285227548282 .\n",
      "Epoch 38  is finished. The MSE is:  25.79354937423742 .\n",
      "Epoch 39  is finished. The MSE is:  25.424338987989255 .\n",
      "Epoch 40  is finished. The MSE is:  25.09191735742638 .\n",
      "The time is: 192703.95862174034\n"
     ]
    }
   ],
   "source": [
    "tic =time.time()\n",
    "epochs = 40\n",
    "MSE_array = np.zeros(epochs)\n",
    "m = train_X.shape[0]\n",
    "#delta_output_layer_fn(W_output_, desired_,  Y_in_,Y_out, a=1, fn=sigmoid)\n",
    "#delta_hidden_layer_fn(W_local, W_next,X_input,Y_j,delta_next)\n",
    "\n",
    "for e in range(epochs):\n",
    "    MSE_e = 0\n",
    "    for i in range(m):\n",
    "        X = add_bias(train_X[i,:])\n",
    "        desired_Y = train_Y_matrix[i]\n",
    "        Y1 = add_bias(forward_prop(W1,X))\n",
    "        Y2 = add_bias(forward_prop(W2,Y1 ))\n",
    "        output = forward_prop(W3,Y2,relu) #Sigmoid must not be used in output layer bcz for very large input arrasys,\n",
    "        r1,c1 = W1.shape                  # sig(Sum(w_i*x_i))= 1 always\n",
    "        r2,c2 = W2.shape\n",
    "        r3,c3 = W3.shape  \n",
    "        \n",
    "        delta_j_output = delta_output_layer_fn(W3, desired_Y ,output,1,relu)\n",
    "        delta_j_output = delta_j_output.reshape(delta_j_output.shape[0],1)\n",
    "        Gradient_ouput = np.matmul(delta_j_output, Y2.reshape(1,Y2.shape[0]))#Reshape to create a matrix from not 1-d array\n",
    "        W3 = W3 + eta*Gradient_ouput\n",
    "        #print(\"output\",Gradient_ouput)\n",
    "        \n",
    "        delta_j_2 = delta_hidden_layer_fn(W2, W3, Y1,Y2, delta_j_output)\n",
    "        delta_j_2 = delta_j_2.reshape(delta_j_2.shape[0],1)\n",
    "        Gradient_2 = np.matmul(delta_j_2, Y1.reshape(1,Y1.shape[0]) )\n",
    "        W2 = W2 +eta*Gradient_2\n",
    "        \n",
    "        #print(\"Gradient_2\",Gradient_2)\n",
    "        delta_j_1 = delta_hidden_layer_fn(W1, W2, X,Y1, delta_j_2)\n",
    "        delta_j_1 = delta_j_1.reshape(delta_j_1.shape[0],1)\n",
    "        Gradient_1 = np.matmul(delta_j_1, X.reshape(1,X.shape[0]))\n",
    "        #print(\"1\",Gradient_1)\n",
    "        W1 = W1 + eta * Gradient_1\n",
    "        \n",
    "        MSE_e += MSE(desired_Y , output)\n",
    "        i+=1\n",
    "    MSE_e /= m\n",
    "    print(\"Epoch\", e+1,\" is finished. The MSE is: \" , MSE_e,\".\")\n",
    "    MSE_array[e] = MSE_e\n",
    "    e+=1\n",
    "    \n",
    "toc = time.time()\n",
    "exec_time = (toc-tic) \n",
    "print(\"The time is: \" + str(exec_time))"
   ]
  },
  {
   "cell_type": "markdown",
   "id": "a4693bfb",
   "metadata": {},
   "source": [
    "#### In many attempts, the problem of exploding gradients occured, the gradient from layer to layer was becoming too large and caused an overflow . After a reasearch some scientists gave the solution of clipping the gradient and limitng it between -1 and 1. Like this, for a large network like this one, the problem of exploding gradients will be solved."
   ]
  },
  {
   "cell_type": "markdown",
   "id": "51a8cc92",
   "metadata": {},
   "source": [
    "As we can see in the output, the time needed was '192703.95' seconds (53 hours). Very Time consuming on a single machine. And we can see that 20 pochs were enough for convergence. THe differnce between The MSEs is becoming very narrow (~0.3). "
   ]
  },
  {
   "cell_type": "markdown",
   "id": "4ab1be1f-408c-49e8-b03e-4a2e4a24f7a4",
   "metadata": {},
   "source": [
    "### Plot of the Mean Square Error in function of the epochs:"
   ]
  },
  {
   "cell_type": "code",
   "execution_count": 305,
   "id": "245d6a09",
   "metadata": {
    "scrolled": true
   },
   "outputs": [
    {
     "data": {
      "text/plain": [
       "array([253.14598708,  58.21062126,  57.40577994,  55.92230792,\n",
       "        48.20275743,  42.76821917,  40.91039185,  39.62651127,\n",
       "        38.61918607,  37.71220171,  36.82204726,  36.03573844,\n",
       "        35.39438682,  34.83298129,  34.21939462,  33.80002879,\n",
       "        33.4801719 ,  33.18297254,  32.78829341,  32.47358078,\n",
       "        32.08310623,  31.71867327,  31.2782326 ,  30.81634779,\n",
       "        30.37593826,  30.01831093,  29.56221104,  29.24595999,\n",
       "        28.93478623,  28.35587271,  28.03425296,  27.73797718,\n",
       "        27.41770163,  27.09553758,  26.70335566,  26.56122075,\n",
       "        26.02852275,  25.79354937,  25.42433899,  25.09191736])"
      ]
     },
     "execution_count": 305,
     "metadata": {},
     "output_type": "execute_result"
    }
   ],
   "source": [
    "MSE_array"
   ]
  },
  {
   "cell_type": "code",
   "execution_count": 141,
   "id": "3fa8ea9e-bdbe-4983-b413-6931e949c6bc",
   "metadata": {
    "scrolled": true
   },
   "outputs": [
    {
     "data": {
      "text/plain": [
       "[<matplotlib.lines.Line2D at 0x1818ddc7dc0>]"
      ]
     },
     "execution_count": 141,
     "metadata": {},
     "output_type": "execute_result"
    },
    {
     "data": {
      "image/png": "[encoded data removed]",
      "text/plain": [
       "<Figure size 432x288 with 1 Axes>"
      ]
     },
     "metadata": {
      "needs_background": "light"
     },
     "output_type": "display_data"
    }
   ],
   "source": [
    "plt.xlabel('Epochs')\n",
    "plt.ylabel('MSE') \n",
    "#plt.xticks(x)\n",
    "plt.title('MSE vs. Epochs') \n",
    "x = np.arange(0,epochs,1)\n",
    "plt.plot(x,MSE_array,color='blue', linewidth=2, markersize=12)"
   ]
  },
  {
   "cell_type": "markdown",
   "id": "309ad96a-1938-4751-ab20-1e9614146109",
   "metadata": {},
   "source": [
    "### Computation needs a lot of time so the final results will saved as csv files to carry the program each time after this part."
   ]
  },
  {
   "cell_type": "code",
   "execution_count": 145,
   "id": "db862cc1",
   "metadata": {},
   "outputs": [],
   "source": [
    "np.savetxt(\"W1.csv\", W1 , delimiter=\",\")\n",
    "np.savetxt(\"W2.csv\", W2 , delimiter=\",\")\n",
    "np.savetxt(\"W3.csv\", W3 , delimiter=\",\")"
   ]
  },
  {
   "cell_type": "markdown",
   "id": "35783355-914f-4ae9-b35c-f8d49a4bb2bd",
   "metadata": {},
   "source": [
    "### To read the saved Matricies"
   ]
  },
  {
   "cell_type": "code",
   "execution_count": 32,
   "id": "3ef5272e-d450-4a5d-a0a7-3783dcb95ce1",
   "metadata": {},
   "outputs": [],
   "source": [
    "#To relaod the Matricies:\n",
    "from numpy import loadtxt\n",
    "W1 = loadtxt('W1.csv', delimiter=',')\n",
    "W2 = loadtxt('W2.csv', delimiter=',')\n",
    "W3 = loadtxt('W3.csv', delimiter=',')"
   ]
  },
  {
   "cell_type": "markdown",
   "id": "eb5f750d",
   "metadata": {},
   "source": [
    "## Test and Evluate the results:"
   ]
  },
  {
   "cell_type": "markdown",
   "id": "5fea6b14",
   "metadata": {},
   "source": [
    "### MSE of test test"
   ]
  },
  {
   "cell_type": "code",
   "execution_count": 37,
   "id": "d77f2697",
   "metadata": {},
   "outputs": [
    {
     "name": "stdout",
     "output_type": "stream",
     "text": [
      "The time is: 2.2842655181884766\n",
      "Knowing that the MSE of the test set in the final epoch was 25.9 , the MSE of the Test set is:  28.04491028843313  which is very acceptable.\n"
     ]
    }
   ],
   "source": [
    "tic =time.time()\n",
    "MSE_test = 0\n",
    "m2 = test_X.shape[0]\n",
    "\n",
    "for i in range(m2):\n",
    "    X = add_bias(test_X[i,:])\n",
    "    desired_Y = test_Y_matrix[i]\n",
    "    Y1 = add_bias(forward_prop(W1,X))\n",
    "    Y2 = add_bias(forward_prop(W2,Y1 ))\n",
    "    output = forward_prop(W3,Y2,relu) \n",
    "    MSE_test += MSE(desired_Y , output)\n",
    "    i+=1\n",
    "    \n",
    "MSE_test /= m2\n",
    "\n",
    "toc = time.time()\n",
    "exec_time = (toc-tic) \n",
    "print(\"The time is: \" + str(exec_time))\n",
    "print(\"Knowing that the MSE of the test set in the final epoch was 25.9, the MSE of the Test set is: \",MSE_test, \" which is very acceptable.\" )"
   ]
  },
  {
   "cell_type": "markdown",
   "id": "0257b64c-5cba-40ed-87c4-0675b58f467c",
   "metadata": {},
   "source": [
    "### Function predict: create a simple predict function to predict the results using the final weights of the network"
   ]
  },
  {
   "cell_type": "code",
   "execution_count": 70,
   "id": "98079315",
   "metadata": {},
   "outputs": [],
   "source": [
    "def model_predict(X_):\n",
    "    X_ = add_bias(X_) \n",
    "    Y1_ = add_bias(forward_prop(W1, X_)) \n",
    "    Y2_ = add_bias(forward_prop(W2,Y1_))\n",
    "    output_ = forward_prop(W3,Y2_,relu)\n",
    "    return output_"
   ]
  },
  {
   "cell_type": "markdown",
   "id": "125961a0-a40c-48f0-b13d-befea54d356a",
   "metadata": {},
   "source": [
    "### We can test and take many random inputs from the the datase, print it as an image and see the predicted value given by the neural network."
   ]
  },
  {
   "cell_type": "code",
   "execution_count": 53,
   "id": "109188d0",
   "metadata": {},
   "outputs": [],
   "source": [
    "A = ['0','1','2','3','4','5','6','7','8','9','A','B','C','D','E','F','G','H','I','J','K','L','M','N','O','P','Q','R','S','T','U','V','W','X','Y','Z','a','b','c','d','e','f','g','h','i','j','k','l','m','n','o','p','q','r','s','t','u','v','w','x','y','z',]\n",
    "def get_char_digit(i):\n",
    "    return A[i]"
   ]
  },
  {
   "cell_type": "code",
   "execution_count": 79,
   "id": "edcdf926-b9bc-4ff1-863c-a38f1f8c583a",
   "metadata": {},
   "outputs": [
    {
     "data": {
      "text/plain": [
       "8"
      ]
     },
     "execution_count": 79,
     "metadata": {},
     "output_type": "execute_result"
    }
   ],
   "source": [
    "a=np.array([1,2,3,4,5,5,5,5,10.1])\n",
    "np.argmax(a)"
   ]
  },
  {
   "cell_type": "code",
   "execution_count": 80,
   "id": "6693de80-600d-403d-9510-c68fd10bc79d",
   "metadata": {},
   "outputs": [
    {
     "data": {
      "text/plain": [
       "array([ 0,  3, 33, 30, 24, 40,  5,  8,  2], dtype=int64)"
      ]
     },
     "execution_count": 80,
     "metadata": {},
     "output_type": "execute_result"
    }
   ],
   "source": [
    "test_Y[1:10]"
   ]
  },
  {
   "cell_type": "code",
   "execution_count": 97,
   "id": "0e3b5d0d",
   "metadata": {},
   "outputs": [
    {
     "name": "stdout",
     "output_type": "stream",
     "text": [
      "Output test:  d\n",
      "Desired value: d\n"
     ]
    },
    {
     "data": {
      "image/png": "[encoded data removed]",
      "text/plain": [
       "<Figure size 432x288 with 1 Axes>"
      ]
     },
     "metadata": {
      "needs_background": "light"
     },
     "output_type": "display_data"
    }
   ],
   "source": [
    "nb = np.random.randint(1000)\n",
    "arr = np.reshape(train_X[nb,:], (28,28)).T\n",
    "plt.imshow(arr)\n",
    "\n",
    "X = train_X[nb]\n",
    "Y = model_predict(X)\n",
    "value_ex = np.argmax(Y)#gives the index which means the predicted value\n",
    "desired_ex =  train_Y[nb] \n",
    "\n",
    "print(\"Output test: \" ,get_char_digit(value_ex))\n",
    "print(\"Desired value:\",  get_char_digit(desired_ex))"
   ]
  },
  {
   "cell_type": "code",
   "execution_count": 99,
   "id": "6b1e65e0-2f8b-4ff6-b3d2-9a30820963ee",
   "metadata": {},
   "outputs": [
    {
     "name": "stdout",
     "output_type": "stream",
     "text": [
      "Output test:  7\n",
      "Desired value: 7\n"
     ]
    },
    {
     "data": {
      "image/png": "[encoded data removed]",
      "text/plain": [
       "<Figure size 432x288 with 1 Axes>"
      ]
     },
     "metadata": {
      "needs_background": "light"
     },
     "output_type": "display_data"
    }
   ],
   "source": [
    "nb = np.random.randint(1000)\n",
    "arr = np.reshape(train_X[nb,:], (28,28)).T\n",
    "plt.imshow(arr)\n",
    "\n",
    "X = train_X[nb]\n",
    "Y = model_predict(X)\n",
    "value_ex = np.argmax(Y)#gives the index which means the predicted value\n",
    "desired_ex =  train_Y[nb] \n",
    "\n",
    "print(\"Output test: \" ,get_char_digit(value_ex))\n",
    "print(\"Desired value:\",  get_char_digit(desired_ex))"
   ]
  },
  {
   "cell_type": "code",
   "execution_count": 100,
   "id": "6d5bfd2e-dfdb-4f05-ac6e-bf61aa4c4d8f",
   "metadata": {},
   "outputs": [
    {
     "name": "stdout",
     "output_type": "stream",
     "text": [
      "Output test:  1\n",
      "Desired value: l\n"
     ]
    },
    {
     "data": {
      "image/png": "[encoded data removed]",
      "text/plain": [
       "<Figure size 432x288 with 1 Axes>"
      ]
     },
     "metadata": {
      "needs_background": "light"
     },
     "output_type": "display_data"
    }
   ],
   "source": [
    "nb = np.random.randint(1000)\n",
    "arr = np.reshape(train_X[nb,:], (28,28)).T\n",
    "plt.imshow(arr)\n",
    "\n",
    "X = train_X[nb]\n",
    "Y = model_predict(X)\n",
    "value_ex = np.argmax(Y)#gives the index which means the predicted value\n",
    "desired_ex =  train_Y[nb] \n",
    "\n",
    "print(\"Output test: \" ,get_char_digit(value_ex))\n",
    "print(\"Desired value:\",  get_char_digit(desired_ex))"
   ]
  },
  {
   "cell_type": "code",
   "execution_count": 102,
   "id": "515420a3-4846-401b-aa18-bc3318cdd105",
   "metadata": {},
   "outputs": [
    {
     "name": "stdout",
     "output_type": "stream",
     "text": [
      "Output test:  r\n",
      "Desired value: T\n"
     ]
    },
    {
     "data": {
      "image/png": "[encoded data removed]",
      "text/plain": [
       "<Figure size 432x288 with 1 Axes>"
      ]
     },
     "metadata": {
      "needs_background": "light"
     },
     "output_type": "display_data"
    }
   ],
   "source": [
    "nb = np.random.randint(1000)\n",
    "arr = np.reshape(train_X[nb,:], (28,28)).T\n",
    "plt.imshow(arr)\n",
    "\n",
    "X = train_X[nb]\n",
    "Y = model_predict(X)\n",
    "value_ex = np.argmax(Y)#gives the index which means the predicted value\n",
    "desired_ex =  train_Y[nb] \n",
    "\n",
    "print(\"Output test: \" ,get_char_digit(value_ex))\n",
    "print(\"Desired value:\",  get_char_digit(desired_ex))"
   ]
  },
  {
   "cell_type": "code",
   "execution_count": 105,
   "id": "b6a2cb29-ccc1-46ab-9ed9-5367329f9e08",
   "metadata": {},
   "outputs": [
    {
     "name": "stdout",
     "output_type": "stream",
     "text": [
      "Output test:  3\n",
      "Desired value: j\n"
     ]
    },
    {
     "data": {
      "image/png": "[encoded data removed]",
      "text/plain": [
       "<Figure size 432x288 with 1 Axes>"
      ]
     },
     "metadata": {
      "needs_background": "light"
     },
     "output_type": "display_data"
    }
   ],
   "source": [
    "nb = np.random.randint(1000)\n",
    "arr = np.reshape(train_X[nb,:], (28,28)).T\n",
    "plt.imshow(arr)\n",
    "\n",
    "X = train_X[nb]\n",
    "Y = model_predict(X)\n",
    "value_ex = np.argmax(Y)#gives the index which means the predicted value\n",
    "desired_ex =  train_Y[nb] \n",
    "\n",
    "print(\"Output test: \" ,get_char_digit(value_ex))\n",
    "print(\"Desired value:\",  get_char_digit(desired_ex))"
   ]
  },
  {
   "cell_type": "code",
   "execution_count": 110,
   "id": "1b5661a2-419c-4df5-ace1-445983c0de16",
   "metadata": {},
   "outputs": [
    {
     "name": "stdout",
     "output_type": "stream",
     "text": [
      "Output test:  9\n",
      "Desired value: q\n"
     ]
    },
    {
     "data": {
      "image/png": "[encoded data removed]",
      "text/plain": [
       "<Figure size 432x288 with 1 Axes>"
      ]
     },
     "metadata": {
      "needs_background": "light"
     },
     "output_type": "display_data"
    }
   ],
   "source": [
    "nb = np.random.randint(1000)\n",
    "arr = np.reshape(train_X[nb,:], (28,28)).T\n",
    "plt.imshow(arr)\n",
    "\n",
    "X = train_X[nb]\n",
    "Y = model_predict(X)\n",
    "value_ex = np.argmax(Y)#gives the index which means the predicted value\n",
    "desired_ex =  train_Y[nb] \n",
    "\n",
    "print(\"Output test: \" ,get_char_digit(value_ex))\n",
    "print(\"Desired value:\",  get_char_digit(desired_ex))"
   ]
  },
  {
   "cell_type": "markdown",
   "id": "cde93dfb-fa08-4fc0-9b9a-062c67aff0f1",
   "metadata": {},
   "source": [
    "### We can see many predicted values are correct, and some are false. But using only 30000 examples from 697931, for 40 epochs only, will not give exact results. Time and machine limits are in this case not perfect.\n",
    "### But the same model, if trained for > 100 epochs and for the whole dataset could give nearly perfect reults."
   ]
  },
  {
   "cell_type": "code",
   "execution_count": null,
   "id": "986bcdfa-d960-45db-9be5-0a0809ed0fbd",
   "metadata": {},
   "outputs": [],
   "source": []
  }
 ],
 "metadata": {
  "kernelspec": {
   "display_name": "Python 3 (ipykernel)",
   "language": "python",
   "name": "python3"
  },
  "language_info": {
   "codemirror_mode": {
    "name": "ipython",
    "version": 3
   },
   "file_extension": ".py",
   "mimetype": "text/x-python",
   "name": "python",
   "nbconvert_exporter": "python",
   "pygments_lexer": "ipython3",
   "version": "3.9.12"
  }
 },
 "nbformat": 4,
 "nbformat_minor": 5
}
