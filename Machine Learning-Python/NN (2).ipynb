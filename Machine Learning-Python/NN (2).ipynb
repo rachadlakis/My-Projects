{
 "cells": [
  {
   "cell_type": "markdown",
   "id": "da3625ba-bbd5-417f-8432-827334875b8d",
   "metadata": {},
   "source": [
    "## Neural Networks"
   ]
  },
  {
   "cell_type": "markdown",
   "id": "3b9a2a7b",
   "metadata": {},
   "source": [
    "Nb of rows is equal to nb on neurons, the multiplicatoin is done W . X "
   ]
  },
  {
   "cell_type": "code",
   "execution_count": 1,
   "id": "c7595e79-b81f-42c9-91b8-a033493b7780",
   "metadata": {},
   "outputs": [],
   "source": [
    "import numpy as np\n",
    "np.set_printoptions(precision=4)"
   ]
  },
  {
   "cell_type": "markdown",
   "id": "28c3704a-cc9c-4e19-ad22-74aa3f0a2d25",
   "metadata": {},
   "source": [
    "### Activation  Functions"
   ]
  },
  {
   "cell_type": "code",
   "execution_count": 2,
   "id": "1b384ee9-806c-4534-aa54-88d438b9f2fa",
   "metadata": {},
   "outputs": [],
   "source": [
    "def sigmoid(v):\n",
    "    return (1 / (1+ np.exp(-v)) )"
   ]
  },
  {
   "cell_type": "code",
   "execution_count": 3,
   "id": "ed8427d6",
   "metadata": {},
   "outputs": [],
   "source": [
    "def threshold(v):\n",
    "    if v < 0:\n",
    "        return 0\n",
    "    else:\n",
    "        return 1"
   ]
  },
  {
   "cell_type": "code",
   "execution_count": 4,
   "id": "b38ed4ba",
   "metadata": {},
   "outputs": [],
   "source": [
    "def tanh(v):\n",
    "    return( 1-np.exp(-v) / ( 1 + np.exp(-v) ) )"
   ]
  },
  {
   "cell_type": "code",
   "execution_count": 31,
   "id": "15ac3921",
   "metadata": {},
   "outputs": [],
   "source": [
    "def MSE(y, yhat):\n",
    "    m =len(y)\n",
    "    err = 0.0\n",
    "    for i in range(m):\n",
    "        err += np.square(y[i]-yhat[i])\n",
    "    err = (1/2*m)*err\n",
    "    return(err)"
   ]
  },
  {
   "cell_type": "code",
   "execution_count": 46,
   "id": "e2124e8a",
   "metadata": {},
   "outputs": [],
   "source": [
    "def add_bias(X_):\n",
    "    return np.append(X_,1)"
   ]
  },
  {
   "cell_type": "markdown",
   "id": "a991f176-9897-41c9-a27e-c002d7545050",
   "metadata": {},
   "source": [
    "### Try in random simple input"
   ]
  },
  {
   "cell_type": "code",
   "execution_count": 55,
   "id": "ded1d365",
   "metadata": {},
   "outputs": [],
   "source": [
    "W1 = np.random.rand(3 ,7)  \n",
    "X1 = np.random.rand(6)"
   ]
  },
  {
   "cell_type": "code",
   "execution_count": 56,
   "id": "04018fe8",
   "metadata": {},
   "outputs": [
    {
     "data": {
      "text/plain": [
       "array([[0.8658, 0.6653, 0.5742, 0.008 , 0.3121, 0.4809, 0.7244],\n",
       "       [0.8276, 0.1654, 0.2351, 0.8654, 0.0431, 0.5122, 0.8467],\n",
       "       [0.1811, 0.7474, 0.6298, 0.3448, 0.8491, 0.3902, 0.1461]])"
      ]
     },
     "execution_count": 56,
     "metadata": {},
     "output_type": "execute_result"
    }
   ],
   "source": [
    "W1"
   ]
  },
  {
   "cell_type": "code",
   "execution_count": 57,
   "id": "0989f76c",
   "metadata": {},
   "outputs": [
    {
     "data": {
      "text/plain": [
       "array([0.3031, 0.1095, 0.8778, 0.191 , 0.3793, 0.0768])"
      ]
     },
     "execution_count": 57,
     "metadata": {},
     "output_type": "execute_result"
    }
   ],
   "source": [
    "X1"
   ]
  },
  {
   "cell_type": "code",
   "execution_count": 65,
   "id": "5c7c45d8-8cad-4f15-bc06-e4b982564080",
   "metadata": {},
   "outputs": [],
   "source": [
    "def forward_prop1(W_,X_,fn=sigmoid): #add bias\n",
    "    X_length = X_.shape[0] #length of X \n",
    "    W_rows,W_cols = W_.shape #nb of rows and columns on matrix W    \n",
    "    if W_cols != X_length:\n",
    "        print(\"The matrix columns and the input length are not similar.\")\n",
    "        return\n",
    "    output = np.zeros(W_rows) # nb of rows is equal to nb of neurons\n",
    "    for i in range(W_rows): \n",
    "        output[i] = fn( (np.dot(W_[i,:] ,X_) )) #the sigmoid of the scalar product of X and column i of W\n",
    "    return output"
   ]
  },
  {
   "cell_type": "code",
   "execution_count": 66,
   "id": "9a53e7aa",
   "metadata": {},
   "outputs": [],
   "source": [
    "def forward_prop2(W_,X_,fn=sigmoid): #add bias\n",
    "    X_length = X_.shape[0] #length of X \n",
    "    W_rows,W_cols = W_.shape #nb of rows and columns on matrix W    \n",
    "    if W_cols != X_length:\n",
    "        print(\"The matrix columns and the input length are not similar.\")\n",
    "        return\n",
    "    output = np.matmul(W_,X_) #the sigmoid of the scalar product of X and column i of W\n",
    "    return output"
   ]
  },
  {
   "cell_type": "code",
   "execution_count": 58,
   "id": "aacc0e7c",
   "metadata": {},
   "outputs": [],
   "source": [
    "X1 = add_bias(X1)"
   ]
  },
  {
   "cell_type": "code",
   "execution_count": 61,
   "id": "3f531b68",
   "metadata": {},
   "outputs": [
    {
     "name": "stdout",
     "output_type": "stream",
     "text": [
      "[0.7413 2.9576 1.0677 1.5654]\n"
     ]
    }
   ],
   "source": [
    "Y1 = forward_prop(W1,X1)\n",
    "\n",
    "X2 = np.random.rand(4,3)\n",
    "r = forward_prop(X2,Y1)\n",
    "print(r)"
   ]
  },
  {
   "cell_type": "code",
   "execution_count": 62,
   "id": "a95f04b8",
   "metadata": {},
   "outputs": [
    {
     "data": {
      "text/plain": [
       "array([0.3031, 0.1095, 0.8778, 0.191 , 0.3793, 0.0768, 1.    ])"
      ]
     },
     "execution_count": 62,
     "metadata": {},
     "output_type": "execute_result"
    }
   ],
   "source": [
    "X1"
   ]
  },
  {
   "cell_type": "code",
   "execution_count": 64,
   "id": "e6f54fae",
   "metadata": {},
   "outputs": [
    {
     "name": "stdout",
     "output_type": "stream",
     "text": [
      "[0.8146 0.6575 0.8666 0.8677]\n"
     ]
    }
   ],
   "source": [
    "Y1 = forward_prop(W1,X1)\n",
    "\n",
    "X2 = np.random.rand(4,3)\n",
    "r = forward_prop(X2,Y1)\n",
    "print(r)"
   ]
  },
  {
   "cell_type": "code",
   "execution_count": 68,
   "id": "5ce70eff",
   "metadata": {},
   "outputs": [
    {
     "name": "stdout",
     "output_type": "stream",
     "text": [
      "[0.8482 0.8239 0.7779]\n",
      "[1.7205 1.543  1.2536]\n"
     ]
    }
   ],
   "source": [
    "print(forward_prop1(W1,X1))\n",
    "print(forward_prop2(W1,X1))"
   ]
  },
  {
   "cell_type": "code",
   "execution_count": null,
   "id": "a0141222",
   "metadata": {},
   "outputs": [],
   "source": []
  }
 ],
 "metadata": {
  "kernelspec": {
   "display_name": "Python 3 (ipykernel)",
   "language": "python",
   "name": "python3"
  },
  "language_info": {
   "codemirror_mode": {
    "name": "ipython",
    "version": 3
   },
   "file_extension": ".py",
   "mimetype": "text/x-python",
   "name": "python",
   "nbconvert_exporter": "python",
   "pygments_lexer": "ipython3",
   "version": "3.9.12"
  }
 },
 "nbformat": 4,
 "nbformat_minor": 5
}
