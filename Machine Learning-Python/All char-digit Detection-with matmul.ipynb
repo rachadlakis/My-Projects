{
 "cells": [
  {
   "cell_type": "markdown",
   "id": "da3625ba-bbd5-417f-8432-827334875b8d",
   "metadata": {},
   "source": [
    "## Digits and characters Recogniton with Neural Network (No Library used for NN)"
   ]
  },
  {
   "cell_type": "markdown",
   "id": "7fccd992",
   "metadata": {},
   "source": [
    "##### A neural network will be created to recoginze digits and characters. \n",
    "##### The data set used is the EMNIST dataset containing  697931 rows and 62 columns.   \n",
    "##### The first column of the dataset is the true label of the image, the folowing columns are an array representation of the image. We will read the data, split it as training and test test, create our model as Matrices and train the model with backpropagation algorithm.\n",
    "##### Many epochs will be run. The forward and bckpropagation algorithms are implmented in ths code, not through a library.  Finally some test and examples are made to evaluate the model."
   ]
  },
  {
   "cell_type": "markdown",
   "id": "e859c35d-aa93-459e-b740-2ccf41345c74",
   "metadata": {},
   "source": [
    "### Import the libraries and create the functions we will use in the code:"
   ]
  },
  {
   "cell_type": "code",
   "execution_count": 1,
   "id": "c7595e79-b81f-42c9-91b8-a033493b7780",
   "metadata": {},
   "outputs": [],
   "source": [
    "import pandas as pd\n",
    "import numpy as np\n",
    "import matplotlib.pyplot as plt\n",
    "import time\n",
    "from PIL import Image\n",
    "np.set_printoptions(precision=6)"
   ]
  },
  {
   "cell_type": "markdown",
   "id": "28c3704a-cc9c-4e19-ad22-74aa3f0a2d25",
   "metadata": {},
   "source": [
    "### Activation  Function:"
   ]
  },
  {
   "cell_type": "code",
   "execution_count": 2,
   "id": "1b384ee9-806c-4534-aa54-88d438b9f2fa",
   "metadata": {},
   "outputs": [],
   "source": [
    "def sigmoid(v):\n",
    "    return (1 / (1+ np.exp(-v)) )"
   ]
  },
  {
   "cell_type": "markdown",
   "id": "c14a0486-c163-4b56-be4c-6ae27f54833e",
   "metadata": {},
   "source": [
    "### Mean Square Error funciton:"
   ]
  },
  {
   "cell_type": "code",
   "execution_count": 6,
   "id": "ee0e177d",
   "metadata": {},
   "outputs": [],
   "source": [
    "def MSE(y, yhat):\n",
    "    m =len(y)\n",
    "    err = 0.0\n",
    "    for i in range(m):\n",
    "        err += np.square(y[i]-yhat[i])\n",
    "    err = (1/2*m)*err\n",
    "    return(err)"
   ]
  },
  {
   "cell_type": "markdown",
   "id": "f06f7b88",
   "metadata": {},
   "source": [
    "### ADD bias Function:"
   ]
  },
  {
   "cell_type": "code",
   "execution_count": 7,
   "id": "36dc008c",
   "metadata": {},
   "outputs": [],
   "source": [
    "def add_bias(X_):\n",
    "    return np.append(X_,1)"
   ]
  },
  {
   "cell_type": "markdown",
   "id": "c7203200-2828-48c0-910e-df2eb916825f",
   "metadata": {},
   "source": [
    "### Forward Propagatoin using a matrix, input and the sigmoid function by default:"
   ]
  },
  {
   "cell_type": "code",
   "execution_count": 8,
   "id": "2505c3d6",
   "metadata": {},
   "outputs": [],
   "source": [
    "def forward_prop(W_,X_,fn=sigmoid):\n",
    "    if W_.shape[1] != X_.shape[0]:\n",
    "        print(\"The matrix columns and the input length are not similar.\")\n",
    "        return\n",
    "    output = fn(np.matmul(W_,X_)) #the sigmoid of the scalar product of X and column i of W\n",
    "    return output"
   ]
  },
  {
   "cell_type": "markdown",
   "id": "322daf67-88d0-4c06-adb7-79fe85d79721",
   "metadata": {},
   "source": [
    "### Delta of the output layer:"
   ]
  },
  {
   "cell_type": "code",
   "execution_count": 9,
   "id": "c6ac53d4",
   "metadata": {},
   "outputs": [],
   "source": [
    "def delta_output_layer_fn(W_output_, desired_,  Y_in_, a=1):\n",
    "    output_ = forward_prop(W_output_,Y_in_)\n",
    "    delta_output_layer = a * (desired_ - output_) * output_ * (1- output_)    \n",
    "    return delta_output_layer"
   ]
  },
  {
   "cell_type": "markdown",
   "id": "da3f17e9-782e-4c58-b996-f94bea8d6808",
   "metadata": {},
   "source": [
    "### Delta of an inner layers:"
   ]
  },
  {
   "cell_type": "code",
   "execution_count": 10,
   "id": "b14e2731",
   "metadata": {},
   "outputs": [],
   "source": [
    "def delta_hidden_layer_fn(W_local, W_next,X_input,delta_next):\n",
    "    Y_j = forward_prop(W_local,X_input)\n",
    "    r_local , c_local = W_local.shape\n",
    "    r_next, c_next = W_next.shape\n",
    "    delta_hidden = np.zeros(r_local)\n",
    "    for j in range(r_local):\n",
    "        delta_j_next_sum = 0\n",
    "        for k in range(r_next):\n",
    "            delta_j_next_sum += delta_next[k] * W_next[k,j]\n",
    "        delta_hidden[j] = a * Y_j[j] * (1-Y_j[j]) * delta_j_next_sum\n",
    "    return delta_hidden"
   ]
  },
  {
   "cell_type": "markdown",
   "id": "5fb0503d",
   "metadata": {
    "tags": []
   },
   "source": [
    "### The EMNIST DATAset contains 62 labels, all the upper , lower case and the digits from 0-9. \n",
    "#### The network will be trained to  know the digit, the character and if it is upper or lower.  input[:, 0] is the label  input[:, 1:784] is the array represtenting the character or digit as an array\n",
    "\n",
    "#### In the dataset, 0 to 9 represent the digits, 10 to 36 represents the lower case characters, 36 to 62 represents the upper case characters.\n",
    "#### Timer was used to calculate the time of execution of each part."
   ]
  },
  {
   "cell_type": "code",
   "execution_count": 11,
   "id": "dcf13a44",
   "metadata": {},
   "outputs": [
    {
     "name": "stdout",
     "output_type": "stream",
     "text": [
      "The time is: 53.228134632110596\n"
     ]
    }
   ],
   "source": [
    "tic =time.time()\n",
    "train_input = np.array(pd.read_csv(\"DataSets\\emnist-byclass-train\\emnist-byclass-train.csv\"))\n",
    "test_input = np.array(pd.read_csv(\"DataSets\\emnist-byclass-test\\emnist-byclass-test.csv\"))\n",
    "\n",
    "toc = time.time()\n",
    "exec_time = (toc-tic) \n",
    "print(\"The time is: \" + str(exec_time))"
   ]
  },
  {
   "cell_type": "markdown",
   "id": "21c6ac92-0eb5-44ea-bf0d-d9af64e0e492",
   "metadata": {},
   "source": [
    "### Divide into training set and testing set:"
   ]
  },
  {
   "cell_type": "code",
   "execution_count": 12,
   "id": "4528bb8c",
   "metadata": {},
   "outputs": [],
   "source": [
    "train_Y = train_input[:,0]\n",
    "train_X = train_input[:,1:]\n",
    "\n",
    "test_Y = test_input[:,0]\n",
    "test_X = test_input[:,1:]"
   ]
  },
  {
   "cell_type": "markdown",
   "id": "e4330a00-a0b4-42dc-8ed4-9f55cbeb03b6",
   "metadata": {},
   "source": [
    "### Trasform the training label to  a matrix  so it can be compared to the ouptut of the neural network:"
   ]
  },
  {
   "cell_type": "code",
   "execution_count": 13,
   "id": "4364629b",
   "metadata": {},
   "outputs": [
    {
     "name": "stdout",
     "output_type": "stream",
     "text": [
      "The time is: 0.36527347564697266\n"
     ]
    }
   ],
   "source": [
    "#Transform labels to arrays of length 62 to be able to be compared with the output layer\n",
    "tic =time.time()\n",
    "train_Y_matrix = np.zeros( (train_Y.shape[0],62) )\n",
    "test_Y_matrix = np.zeros( (test_Y.shape[0], 62))\n",
    "\n",
    "for i in range(train_Y.shape[0]):\n",
    "    train_Y_matrix[i, train_Y[i]] = 1\n",
    "    \n",
    "for i in range(test_Y.shape[0]):\n",
    "    test_Y_matrix[i, test_Y[i]] = 1\n",
    "\n",
    "toc = time.time()\n",
    "exec_time = (toc-tic) \n",
    "print(\"The time is: \" + str(exec_time))"
   ]
  },
  {
   "cell_type": "code",
   "execution_count": 14,
   "id": "91884afd",
   "metadata": {},
   "outputs": [],
   "source": [
    "#Take only 1000 rows of train to test to create the model \n",
    "    #train_Y = train_Y[:1000]\n",
    "    #train_X = train_X[:1000,:]\n",
    "    #train_Y_matrix = train_Y_matrix [:1000]"
   ]
  },
  {
   "cell_type": "markdown",
   "id": "a991f176-9897-41c9-a27e-c002d7545050",
   "metadata": {},
   "source": [
    "### Create Matrices, Define and Import the input.  \n",
    "First layer number of neurons is L1_neuron_n\n",
    "Second layer: L2_neuron_nb\n",
    "Output layer: L3_neuron_nb"
   ]
  },
  {
   "cell_type": "code",
   "execution_count": 15,
   "id": "7f95e153",
   "metadata": {},
   "outputs": [],
   "source": [
    "input_length = 784\n",
    "L1_neuron_nb = 256    #First Layer Nb of neurons\n",
    "L2_neuron_nb = 128    #Second Layer Nb of neurons\n",
    "L3_neuron_nb = 62     #FInal Layer Nb of neurons\n",
    "np.random.seed(100)"
   ]
  },
  {
   "cell_type": "markdown",
   "id": "4e8739f7-acb9-47a2-9a47-03865440e425",
   "metadata": {},
   "source": [
    "### Fill matrices with random numbers:"
   ]
  },
  {
   "cell_type": "code",
   "execution_count": 16,
   "id": "a2cafbdf",
   "metadata": {
    "scrolled": true
   },
   "outputs": [],
   "source": [
    "#Forwarad prop to get Y1, output\n",
    "W1 = np.random.rand(L1_neuron_nb , input_length +1)\n",
    "W2 = np.random.rand(L2_neuron_nb , L1_neuron_nb +1 )\n",
    "W3 = np.random.rand(L3_neuron_nb, L2_neuron_nb +1)"
   ]
  },
  {
   "cell_type": "markdown",
   "id": "9fbfda84",
   "metadata": {
    "tags": []
   },
   "source": [
    "### Back Propagation with activation = Sigmoid,   a=1,  eta=0.3 :"
   ]
  },
  {
   "cell_type": "code",
   "execution_count": 17,
   "id": "3716bf0e",
   "metadata": {},
   "outputs": [],
   "source": [
    "a = 1\n",
    "eta = 0.3"
   ]
  },
  {
   "cell_type": "code",
   "execution_count": 29,
   "id": "5afb8f7f",
   "metadata": {},
   "outputs": [
    {
     "data": {
      "text/plain": [
       "array([[1, 1, 1, 1, 1, 1],\n",
       "       [2, 2, 2, 2, 2, 2],\n",
       "       [3, 3, 3, 3, 3, 3]])"
      ]
     },
     "execution_count": 29,
     "metadata": {},
     "output_type": "execute_result"
    }
   ],
   "source": [
    "delta0 = np.array([[1],[2],[3]])\n",
    "x0 = np.array([1,1,1,1,1,1]).reshape(1,x0.shape[0])\n",
    "z = np.matmul(delta0,x0)\n",
    "z"
   ]
  },
  {
   "cell_type": "markdown",
   "id": "50e6e700",
   "metadata": {},
   "source": [
    "### The calculation of the gradient of each layer so we tried to use the numpy library instead of for loops. The loops needs a lot of time, so delta of each layer is transformed to a matrix, the input to a matrix also, and the Gradient matrix of change of each layer was calulated as the matrix product of these two. \n",
    "### Then eta was multiplied by the Gradient matrix, and the result was mulitplied by the input to give the ammount of change for each weight."
   ]
  },
  {
   "cell_type": "code",
   "execution_count": null,
   "id": "ff090bdd-4c6b-4dfd-bf30-fdd41cac991a",
   "metadata": {},
   "outputs": [],
   "source": [
    "tic =time.time()\n",
    "epochs = 10\n",
    "MSE_array = np.zeros(epochs)\n",
    "m = train_X.shape[0]\n",
    "\n",
    "for e in range(epochs):\n",
    "    MSE_e = 0\n",
    "    for i in range(m):\n",
    "        X = add_bias(train_X[i,:])\n",
    "        desired_Y = train_Y_matrix[i]\n",
    "        Y1 = add_bias(forward_prop(W1,X))\n",
    "        Y2 = add_bias(forward_prop(W2,Y1 ) )\n",
    "        output = forward_prop(W3,Y2)\n",
    "        r1,c1 = W1.shape\n",
    "        r2,c2 = W2.shape\n",
    "        r3,c3 = W3.shape  \n",
    "        \n",
    "        delta_j_output = delta_output_layer_fn(W3, desired_Y ,Y2)\n",
    "        delta_j_output = delta_j_output.reshape(delta_j_output.shape[0],1)\n",
    "        Gradient_ouput = np.matmul(delta_j_output, Y2.reshape(1,Y2.shape[0]) )\n",
    "        W3 = W3 + eta*Gradient_ouput\n",
    "\n",
    "        delta_j_2 = delta_hidden_layer_fn(W2, W3, Y1, delta_j_output)\n",
    "        delta_j_2 = delta_j_2.reshape(delta_j_2.shape[0],1)\n",
    "        Gradient_2 = np.matmul(delta_j_2, Y1.reshape(1,Y1.shape[0]) )\n",
    "        W2 = W2 +eta*Gradient_2\n",
    "        \n",
    "        delta_j_1 = delta_hidden_layer_fn(W1, W2, X, delta_j_2)\n",
    "        delta_j_1 = delta_j_1.reshape(delta_j_1.shape[0],1)\n",
    "        Gradient_1 = np.matmul(delta_j_1, X.reshape(1,X.shape[0]))\n",
    "        \n",
    "        MSE_e += MSE(desired_Y , output)\n",
    "        i+=1\n",
    "    MSE_e /= m\n",
    "    #print(MSE_e)\n",
    "    MSE_array[e] = MSE_e\n",
    "    e+=1\n",
    "    \n",
    "toc = time.time()\n",
    "exec_time = (toc-tic) \n",
    "print(\"The time is: \" + str(exec_time))"
   ]
  },
  {
   "cell_type": "markdown",
   "id": "4ab1be1f-408c-49e8-b03e-4a2e4a24f7a4",
   "metadata": {},
   "source": [
    "### Plot of the mean square Error in function of the epochs:"
   ]
  },
  {
   "cell_type": "code",
   "execution_count": 39,
   "id": "3fa8ea9e-bdbe-4983-b413-6931e949c6bc",
   "metadata": {},
   "outputs": [
    {
     "data": {
      "text/plain": [
       "[<matplotlib.lines.Line2D at 0x15a41a65fa0>]"
      ]
     },
     "execution_count": 39,
     "metadata": {},
     "output_type": "execute_result"
    },
    {
     "data": {
      "image/png": "[encoded data removed]",
      "text/plain": [
       "<Figure size 432x288 with 1 Axes>"
      ]
     },
     "metadata": {
      "needs_background": "light"
     },
     "output_type": "display_data"
    }
   ],
   "source": [
    "plt.xlabel('Epochs')\n",
    "plt.ylabel('MSE') \n",
    "#plt.xticks(x)\n",
    "plt.title('MSE vs. Epochs') \n",
    "x = np.arange(0,epochs,1)\n",
    "plt.plot(x,MSE_array,color='blue', linewidth=2, markersize=12)"
   ]
  },
  {
   "cell_type": "markdown",
   "id": "309ad96a-1938-4751-ab20-1e9614146109",
   "metadata": {},
   "source": [
    "### Computation needs a lot of time so the final results will saved as csv files to carry the program each time after this part."
   ]
  },
  {
   "cell_type": "code",
   "execution_count": null,
   "id": "d5f2292e-23d1-499e-90b9-23f38a6bb10f",
   "metadata": {},
   "outputs": [],
   "source": [
    "W1_final = W1\n",
    "W2_final = W2\n",
    "W3_final = W3\n",
    "\n",
    "W1.tofile('W1.csv', sep = ',')\n",
    "W2.tofile('W2.csv', sep = ',')\n",
    "W3.tofile('W3.csv', sep = ',')"
   ]
  },
  {
   "cell_type": "markdown",
   "id": "35783355-914f-4ae9-b35c-f8d49a4bb2bd",
   "metadata": {},
   "source": [
    "### To read the saved Matricies"
   ]
  },
  {
   "cell_type": "code",
   "execution_count": null,
   "id": "3ef5272e-d450-4a5d-a0a7-3783dcb95ce1",
   "metadata": {},
   "outputs": [],
   "source": [
    "#To relaod the Matricies:\n",
    "W1 = np.array(pd.read_csv(\"W1.csv\"))\n",
    "W2 = np.array(pd.read_csv(\"W2.csv\"))\n",
    "W3 = np.array(pd.read_csv(\"W3.csv\"))"
   ]
  },
  {
   "cell_type": "markdown",
   "id": "4946ea91",
   "metadata": {},
   "source": [
    "## Test and Evalaute the results"
   ]
  },
  {
   "cell_type": "markdown",
   "id": "0257b64c-5cba-40ed-87c4-0675b58f467c",
   "metadata": {},
   "source": [
    "### Function predict: create a simple predict function to predict the results using the final weights of the network"
   ]
  },
  {
   "cell_type": "code",
   "execution_count": null,
   "id": "1ee87fe4",
   "metadata": {},
   "outputs": [],
   "source": []
  },
  {
   "cell_type": "code",
   "execution_count": null,
   "id": "e9103443-161f-4efb-9c65-a73de5af9065",
   "metadata": {},
   "outputs": [],
   "source": [
    "def model_predict(X_):\n",
    "    X_ = add_bias(X_) \n",
    "    Y1_ = add_bias(forward_prop(W1, X_)) \n",
    "    Y2_ = add_bias(forward_prop(W2,Y1_))\n",
    "    output_ = forward_prop(W3,Y2_ex)\n",
    "    return output_"
   ]
  },
  {
   "cell_type": "markdown",
   "id": "125961a0-a40c-48f0-b13d-befea54d356a",
   "metadata": {},
   "source": [
    "### We can test and take many random inputs from the the datase, print it as an image and see the predicted value given by the neural network."
   ]
  },
  {
   "cell_type": "markdown",
   "id": "67b1ab87-f594-4c41-a28a-c324b76b31e7",
   "metadata": {},
   "source": [
    "#### Print random pics with their predictions"
   ]
  },
  {
   "cell_type": "code",
   "execution_count": 137,
   "id": "0e3b5d0d",
   "metadata": {},
   "outputs": [
    {
     "name": "stdout",
     "output_type": "stream",
     "text": [
      "output test [1. 1. 1. 1. 1. 1. 1. 1. 1. 1. 1. 1. 1. 1. 1. 1. 1. 1. 1. 1. 1. 1. 1. 1.\n",
      " 1. 1. 1. 1. 1. 1. 1. 1. 1. 1. 1. 1. 1. 1. 1. 1. 1. 1. 1. 1. 1. 1. 1. 1.\n",
      " 1. 1. 1. 1. 1. 1. 1. 1. 1. 1. 1. 1. 1. 1.]\n",
      "desired values [0. 0. 0. 0. 0. 0. 0. 0. 0. 0. 0. 0. 0. 0. 0. 1. 0. 0. 0. 0. 0. 0. 0. 0.\n",
      " 0. 0. 0. 0. 0. 0. 0. 0. 0. 0. 0. 0. 0. 0. 0. 0. 0. 0. 0. 0. 0. 0. 0. 0.\n",
      " 0. 0. 0. 0. 0. 0. 0. 0. 0. 0. 0. 0. 0. 0.]\n"
     ]
    },
    {
     "data": {
      "image/png": "[encoded data removed]",
      "text/plain": [
       "<Figure size 432x288 with 1 Axes>"
      ]
     },
     "metadata": {
      "needs_background": "light"
     },
     "output_type": "display_data"
    }
   ],
   "source": [
    "nb = np.random.randint(train_X.shape[0])\n",
    "arr = np.reshape(train_X[nb,:], (28,28)).T\n",
    "plt.imshow(arr)\n",
    "\n",
    "X_ex = add_bias(train_X[nb,:])\n",
    "Y_ex = model_predict(X_ex)\n",
    "value_ex = np.argmax(Y_ex)\n",
    "desired_ex = \n",
    "        \n",
    "print(\"output test\" ,output_ex)\n",
    "print(\"desired values\", Y_ex)"
   ]
  },
  {
   "cell_type": "code",
   "execution_count": null,
   "id": "a5fc66a7",
   "metadata": {},
   "outputs": [],
   "source": []
  },
  {
   "cell_type": "code",
   "execution_count": null,
   "id": "e53fc42d-97d6-4507-aa54-c495f8e5fe97",
   "metadata": {},
   "outputs": [],
   "source": [
    "nb = np.random.randint(train_X.shape[0])\n",
    "arr = np.reshape(train_X[nb,:], (28,28)).T\n",
    "plt.imshow(arr)\n",
    "\n",
    "X_ex = add_bias(train_X[nb,:])\n",
    "Y_ex = train_Y_matrix[nb]\n",
    "\n",
    "\n",
    "Y1_ex = add_bias(forward_prop(W1, X_ex)) \n",
    "Y2_ex = add_bias(forward_prop(W2,Y1_ex))\n",
    "output_ex = forward_prop(W3,Y2_ex)\n",
    "\n",
    "\n",
    "print(\"output test\" ,output_ex)\n",
    "print(\"desired values\", Y_ex)"
   ]
  },
  {
   "cell_type": "markdown",
   "id": "405be766-f4d0-49c8-81c9-4f80197e0d14",
   "metadata": {},
   "source": [
    "#### Let's try on the test dataset, how many predictions will be correct?"
   ]
  },
  {
   "cell_type": "code",
   "execution_count": null,
   "id": "634263d3-b7a4-488f-bf8c-f149c2509a98",
   "metadata": {},
   "outputs": [],
   "source": []
  },
  {
   "cell_type": "code",
   "execution_count": 137,
   "id": "6838df7f-8854-4243-b41a-065a3d7510c0",
   "metadata": {},
   "outputs": [
    {
     "name": "stdout",
     "output_type": "stream",
     "text": [
      "output test [1. 1. 1. 1. 1. 1. 1. 1. 1. 1. 1. 1. 1. 1. 1. 1. 1. 1. 1. 1. 1. 1. 1. 1.\n",
      " 1. 1. 1. 1. 1. 1. 1. 1. 1. 1. 1. 1. 1. 1. 1. 1. 1. 1. 1. 1. 1. 1. 1. 1.\n",
      " 1. 1. 1. 1. 1. 1. 1. 1. 1. 1. 1. 1. 1. 1.]\n",
      "desired values [0. 0. 0. 0. 0. 0. 0. 0. 0. 0. 0. 0. 0. 0. 0. 1. 0. 0. 0. 0. 0. 0. 0. 0.\n",
      " 0. 0. 0. 0. 0. 0. 0. 0. 0. 0. 0. 0. 0. 0. 0. 0. 0. 0. 0. 0. 0. 0. 0. 0.\n",
      " 0. 0. 0. 0. 0. 0. 0. 0. 0. 0. 0. 0. 0. 0.]\n"
     ]
    },
    {
     "data": {
      "image/png": "[encoded data removed]",
      "text/plain": [
       "<Figure size 432x288 with 1 Axes>"
      ]
     },
     "metadata": {
      "needs_background": "light"
     },
     "output_type": "display_data"
    }
   ],
   "source": [
    "X_ = add_bias(test_X[,:]) \n",
    "#take all test inputs\n",
    "\n",
    "#add bias to all rows \n",
    "\n",
    "\n",
    "#calculate the ouput susing the model\n",
    "\n",
    "#compare to the real labesl from test_y\n",
    "Y_ = test_Y_matrix[nb]\n",
    "\n",
    "\n",
    "#calcualte the % of error in reutls\n",
    "\n",
    "\n",
    "#use np.argmax to see the predicted value\n",
    "\n",
    "#print the error percantage\n",
    "\n",
    "\n",
    "Y1_ex = add_bias(forward_prop(W1, X_ex)) \n",
    "Y2_ex = add_bias(forward_prop(W2,Y1_ex))\n",
    "output_ex = forward_prop(W3,Y2_ex)\n",
    "\n",
    "\n",
    "print(\"output test\" ,output_ex)\n",
    "print(\"desired values\", Y_ex)"
   ]
  },
  {
   "cell_type": "code",
   "execution_count": null,
   "id": "7bf7bec6-d404-48cf-a21a-10366e73b124",
   "metadata": {},
   "outputs": [],
   "source": [
    "if (np.argmax(desired) == np.armax(outpu) ):\n",
    "    true result\n",
    "    else false"
   ]
  },
  {
   "cell_type": "code",
   "execution_count": null,
   "id": "4ff7708c-600a-4525-bc4b-e00a35afa6b2",
   "metadata": {},
   "outputs": [],
   "source": []
  },
  {
   "cell_type": "code",
   "execution_count": null,
   "id": "17e96fa8-d3b3-4b30-a738-15a3e415087e",
   "metadata": {},
   "outputs": [],
   "source": []
  }
 ],
 "metadata": {
  "kernelspec": {
   "display_name": "Python 3 (ipykernel)",
   "language": "python",
   "name": "python3"
  },
  "language_info": {
   "codemirror_mode": {
    "name": "ipython",
    "version": 3
   },
   "file_extension": ".py",
   "mimetype": "text/x-python",
   "name": "python",
   "nbconvert_exporter": "python",
   "pygments_lexer": "ipython3",
   "version": "3.9.12"
  }
 },
 "nbformat": 4,
 "nbformat_minor": 5
}
