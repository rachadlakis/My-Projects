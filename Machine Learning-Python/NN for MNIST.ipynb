{
 "cells": [
  {
   "cell_type": "code",
   "execution_count": 1,
   "id": "4e6f6fcc-34f8-47f3-b9da-0e0159cab071",
   "metadata": {},
   "outputs": [],
   "source": [
    "import numpy as np\n",
    "import tensorflow as tf\n",
    "from tensorflow import keras\n",
    "from tensorflow.keras.layers import Dense, Input , Activation\n",
    "from keras.models import Sequential"
   ]
  },
  {
   "cell_type": "code",
   "execution_count": 2,
   "id": "2a114e61-3ada-4912-9b86-df74a2adf076",
   "metadata": {},
   "outputs": [
    {
     "name": "stdout",
     "output_type": "stream",
     "text": [
      "Collecting python-mnist\n",
      "  Using cached python_mnist-0.7-py2.py3-none-any.whl (9.6 kB)\n",
      "Installing collected packages: python-mnist\n",
      "Successfully installed python-mnist-0.7\n",
      "Note: you may need to restart the kernel to use updated packages.\n"
     ]
    }
   ],
   "source": [
    "pip install python-mnist"
   ]
  },
  {
   "cell_type": "code",
   "execution_count": 4,
   "id": "84040112",
   "metadata": {},
   "outputs": [
    {
     "name": "stdout",
     "output_type": "stream",
     "text": [
      "Requirement already satisfied: tensorflow in e:\\anaconda\\lib\\site-packages (2.10.0)Note: you may need to restart the kernel to use updated packages.\n",
      "\n",
      "Requirement already satisfied: packaging in e:\\anaconda\\lib\\site-packages (from tensorflow) (21.3)\n",
      "Requirement already satisfied: six>=1.12.0 in e:\\anaconda\\lib\\site-packages (from tensorflow) (1.16.0)\n",
      "Requirement already satisfied: typing-extensions>=3.6.6 in e:\\anaconda\\lib\\site-packages (from tensorflow) (4.1.1)\n",
      "Requirement already satisfied: termcolor>=1.1.0 in e:\\anaconda\\lib\\site-packages (from tensorflow) (2.0.1)\n",
      "Requirement already satisfied: numpy>=1.20 in e:\\anaconda\\lib\\site-packages (from tensorflow) (1.21.5)\n",
      "Requirement already satisfied: tensorboard<2.11,>=2.10 in e:\\anaconda\\lib\\site-packages (from tensorflow) (2.10.0)\n",
      "Requirement already satisfied: setuptools in e:\\anaconda\\lib\\site-packages (from tensorflow) (61.2.0)\n",
      "Requirement already satisfied: tensorflow-io-gcs-filesystem>=0.23.1 in e:\\anaconda\\lib\\site-packages (from tensorflow) (0.27.0)\n",
      "Requirement already satisfied: keras-preprocessing>=1.1.1 in e:\\anaconda\\lib\\site-packages (from tensorflow) (1.1.2)\n",
      "Requirement already satisfied: tensorflow-estimator<2.11,>=2.10.0 in e:\\anaconda\\lib\\site-packages (from tensorflow) (2.10.0)\n",
      "Requirement already satisfied: google-pasta>=0.1.1 in e:\\anaconda\\lib\\site-packages (from tensorflow) (0.2.0)\n",
      "Requirement already satisfied: grpcio<2.0,>=1.24.3 in e:\\anaconda\\lib\\site-packages (from tensorflow) (1.42.0)\n",
      "Requirement already satisfied: protobuf<3.20,>=3.9.2 in e:\\anaconda\\lib\\site-packages (from tensorflow) (3.19.1)\n",
      "Requirement already satisfied: libclang>=13.0.0 in e:\\anaconda\\lib\\site-packages (from tensorflow) (14.0.6)\n",
      "Requirement already satisfied: keras<2.11,>=2.10.0 in e:\\anaconda\\lib\\site-packages (from tensorflow) (2.10.0)\n",
      "Requirement already satisfied: astunparse>=1.6.0 in e:\\anaconda\\lib\\site-packages (from tensorflow) (1.6.3)\n",
      "Requirement already satisfied: h5py>=2.9.0 in e:\\anaconda\\lib\\site-packages (from tensorflow) (3.6.0)\n",
      "Requirement already satisfied: absl-py>=1.0.0 in e:\\anaconda\\lib\\site-packages (from tensorflow) (1.2.0)\n",
      "Requirement already satisfied: gast<=0.4.0,>=0.2.1 in e:\\anaconda\\lib\\site-packages (from tensorflow) (0.4.0)\n",
      "Requirement already satisfied: wrapt>=1.11.0 in e:\\anaconda\\lib\\site-packages (from tensorflow) (1.12.1)\n",
      "Requirement already satisfied: opt-einsum>=2.3.2 in e:\\anaconda\\lib\\site-packages (from tensorflow) (3.3.0)\n",
      "Requirement already satisfied: flatbuffers>=2.0 in e:\\anaconda\\lib\\site-packages (from tensorflow) (2.0.7)\n",
      "Requirement already satisfied: wheel<1.0,>=0.23.0 in e:\\anaconda\\lib\\site-packages (from astunparse>=1.6.0->tensorflow) (0.37.1)\n",
      "Requirement already satisfied: werkzeug>=1.0.1 in e:\\anaconda\\lib\\site-packages (from tensorboard<2.11,>=2.10->tensorflow) (2.0.3)\n",
      "Requirement already satisfied: tensorboard-data-server<0.7.0,>=0.6.0 in e:\\anaconda\\lib\\site-packages (from tensorboard<2.11,>=2.10->tensorflow) (0.6.1)\n",
      "Requirement already satisfied: tensorboard-plugin-wit>=1.6.0 in e:\\anaconda\\lib\\site-packages (from tensorboard<2.11,>=2.10->tensorflow) (1.8.1)\n",
      "Requirement already satisfied: google-auth<3,>=1.6.3 in e:\\anaconda\\lib\\site-packages (from tensorboard<2.11,>=2.10->tensorflow) (1.33.0)\n",
      "Requirement already satisfied: markdown>=2.6.8 in e:\\anaconda\\lib\\site-packages (from tensorboard<2.11,>=2.10->tensorflow) (3.3.4)\n",
      "Requirement already satisfied: requests<3,>=2.21.0 in e:\\anaconda\\lib\\site-packages (from tensorboard<2.11,>=2.10->tensorflow) (2.27.1)\n",
      "Requirement already satisfied: google-auth-oauthlib<0.5,>=0.4.1 in e:\\anaconda\\lib\\site-packages (from tensorboard<2.11,>=2.10->tensorflow) (0.4.6)\n",
      "Requirement already satisfied: pyasn1-modules>=0.2.1 in e:\\anaconda\\lib\\site-packages (from google-auth<3,>=1.6.3->tensorboard<2.11,>=2.10->tensorflow) (0.2.8)\n",
      "Requirement already satisfied: cachetools<5.0,>=2.0.0 in e:\\anaconda\\lib\\site-packages (from google-auth<3,>=1.6.3->tensorboard<2.11,>=2.10->tensorflow) (4.2.2)\n",
      "Requirement already satisfied: rsa<5,>=3.1.4 in e:\\anaconda\\lib\\site-packages (from google-auth<3,>=1.6.3->tensorboard<2.11,>=2.10->tensorflow) (4.7.2)\n",
      "Requirement already satisfied: requests-oauthlib>=0.7.0 in e:\\anaconda\\lib\\site-packages (from google-auth-oauthlib<0.5,>=0.4.1->tensorboard<2.11,>=2.10->tensorflow) (1.3.1)\n",
      "Requirement already satisfied: pyasn1<0.5.0,>=0.4.6 in e:\\anaconda\\lib\\site-packages (from pyasn1-modules>=0.2.1->google-auth<3,>=1.6.3->tensorboard<2.11,>=2.10->tensorflow) (0.4.8)\n",
      "Requirement already satisfied: idna<4,>=2.5 in e:\\anaconda\\lib\\site-packages (from requests<3,>=2.21.0->tensorboard<2.11,>=2.10->tensorflow) (3.3)\n",
      "Requirement already satisfied: certifi>=2017.4.17 in e:\\anaconda\\lib\\site-packages (from requests<3,>=2.21.0->tensorboard<2.11,>=2.10->tensorflow) (2021.10.8)\n",
      "Requirement already satisfied: charset-normalizer~=2.0.0 in e:\\anaconda\\lib\\site-packages (from requests<3,>=2.21.0->tensorboard<2.11,>=2.10->tensorflow) (2.0.4)\n",
      "Requirement already satisfied: urllib3<1.27,>=1.21.1 in e:\\anaconda\\lib\\site-packages (from requests<3,>=2.21.0->tensorboard<2.11,>=2.10->tensorflow) (1.26.9)\n",
      "Requirement already satisfied: oauthlib>=3.0.0 in e:\\anaconda\\lib\\site-packages (from requests-oauthlib>=0.7.0->google-auth-oauthlib<0.5,>=0.4.1->tensorboard<2.11,>=2.10->tensorflow) (3.2.1)\n",
      "Requirement already satisfied: pyparsing!=3.0.5,>=2.0.2 in e:\\anaconda\\lib\\site-packages (from packaging->tensorflow) (3.0.4)\n"
     ]
    }
   ],
   "source": [
    "pip install tensorflow\n"
   ]
  },
  {
   "cell_type": "code",
   "execution_count": 2,
   "id": "4352e893-a235-49e7-b1f6-4e445590916b",
   "metadata": {},
   "outputs": [],
   "source": [
    "from mnist import MNIST\n",
    "mndata = MNIST('MNIST')"
   ]
  },
  {
   "cell_type": "code",
   "execution_count": 3,
   "id": "cb47307d-a5d7-4414-a3b6-85e13771971f",
   "metadata": {},
   "outputs": [],
   "source": [
    "mndata.gz = True"
   ]
  },
  {
   "cell_type": "code",
   "execution_count": 4,
   "id": "1853fd39-39fb-49ab-85e3-49491a3b78a4",
   "metadata": {},
   "outputs": [],
   "source": [
    "X_train_intial, Y_train_intial = mndata.load_training()\n",
    "X_test_initial, Y_test_initial = mndata.load_testing()"
   ]
  },
  {
   "cell_type": "code",
   "execution_count": 5,
   "id": "62ac6fdb-7144-41f7-97f3-c86741ff4508",
   "metadata": {},
   "outputs": [
    {
     "name": "stdout",
     "output_type": "stream",
     "text": [
      "60000\n"
     ]
    }
   ],
   "source": [
    "print(len(X_train_intial) )"
   ]
  },
  {
   "cell_type": "code",
   "execution_count": 6,
   "id": "37faff0c-eb8c-435e-885d-795939073e86",
   "metadata": {},
   "outputs": [],
   "source": [
    "X_train = X_train_intial\n",
    "Y_train = Y_train_intial \n",
    "X_test = X_test_initial\n",
    "Y_test = Y_test_initial"
   ]
  },
  {
   "cell_type": "code",
   "execution_count": 7,
   "id": "90f63606-2f83-4cdd-ae1c-13ac50df382e",
   "metadata": {},
   "outputs": [
    {
     "name": "stdout",
     "output_type": "stream",
     "text": [
      "\n",
      "............................\n",
      "............................\n",
      "............................\n",
      "............................\n",
      "............................\n",
      "............................\n",
      ".............@@@@...........\n",
      "............@@.@@@..........\n",
      "...........@@....@@.........\n",
      "..........@@......@.........\n",
      "..........@@......@.........\n",
      ".........@@.......@.........\n",
      ".........@........@.........\n",
      ".........@.......@@.........\n",
      "........@@.......@@.........\n",
      "........@@......@@@.........\n",
      ".........@.....@@@@.........\n",
      ".........@@...@@.@@.........\n",
      "..........@@@@@..@..........\n",
      ".................@..........\n",
      "................@@..........\n",
      "................@@..........\n",
      "................@@..........\n",
      "................@@..........\n",
      "................@@..........\n",
      "............................\n",
      "............................\n",
      "............................\n"
     ]
    }
   ],
   "source": [
    "index = np.random.randint(len(X_train))  # choose an index ;-)\n",
    "print(mndata.display(X_train[index]))"
   ]
  },
  {
   "cell_type": "code",
   "execution_count": 8,
   "id": "4e6cc0eb-132a-435c-b737-52ec0b8b93fd",
   "metadata": {},
   "outputs": [
    {
     "name": "stdout",
     "output_type": "stream",
     "text": [
      "<class 'numpy.ndarray'>\n"
     ]
    },
    {
     "ename": "NameError",
     "evalue": "name 'X_val' is not defined",
     "output_type": "error",
     "traceback": [
      "\u001b[1;31m---------------------------------------------------------------------------\u001b[0m",
      "\u001b[1;31mNameError\u001b[0m                                 Traceback (most recent call last)",
      "Input \u001b[1;32mIn [8]\u001b[0m, in \u001b[0;36m<cell line: 8>\u001b[1;34m()\u001b[0m\n\u001b[0;32m      5\u001b[0m Y_test \u001b[38;5;241m=\u001b[39m np\u001b[38;5;241m.\u001b[39marray(Y_test)\n\u001b[0;32m      7\u001b[0m \u001b[38;5;28mprint\u001b[39m(\u001b[38;5;28mtype\u001b[39m(X_train) )\n\u001b[1;32m----> 8\u001b[0m \u001b[38;5;28mprint\u001b[39m(\u001b[38;5;28mtype\u001b[39m(\u001b[43mX_val\u001b[49m[\u001b[38;5;241m0\u001b[39m]) )\n\u001b[0;32m      9\u001b[0m \u001b[38;5;28mprint\u001b[39m(\u001b[38;5;28mtype\u001b[39m(X_test[\u001b[38;5;241m0\u001b[39m]) )\n",
      "\u001b[1;31mNameError\u001b[0m: name 'X_val' is not defined"
     ]
    }
   ],
   "source": [
    "#after trying to fit on the original data type of X_trian (list) it did not work, so we have to transform the data type to nupmy array\n",
    "X_train = np.array(X_train)\n",
    "X_test = np.array(X_test)\n",
    "Y_train = np.array(Y_train)\n",
    "Y_test = np.array(Y_test)\n",
    "\n",
    "print(type(X_train) )\n",
    "print(type(X_val[0]) )\n",
    "print(type(X_test[0]) )"
   ]
  },
  {
   "cell_type": "code",
   "execution_count": 9,
   "id": "64c73246-3a01-4e4b-9761-08a1b0860827",
   "metadata": {},
   "outputs": [
    {
     "data": {
      "text/plain": [
       "784"
      ]
     },
     "execution_count": 9,
     "metadata": {},
     "output_type": "execute_result"
    }
   ],
   "source": [
    "len(X_train[0])"
   ]
  },
  {
   "cell_type": "code",
   "execution_count": 10,
   "id": "fd7436b0-7294-48fd-b966-b46f8a1fbf40",
   "metadata": {},
   "outputs": [],
   "source": [
    "X_train = X_train.astype(\"float32\") / 255\n",
    "X_test = X_test.astype(\"float32\") / 255\n",
    "\n",
    "Y_train = Y_train.astype(\"float32\")\n",
    "Y_test = Y_test.astype(\"float32\")\n",
    " \n",
    "    \n",
    "X_val = X_train[-10000:] \n",
    "Y_val = Y_test[-10000:]\n",
    "X_train = X_train[:-10000] \n",
    "Y_train = Y_train[:-10000]"
   ]
  },
  {
   "cell_type": "code",
   "execution_count": 236,
   "id": "43d1c418-7929-4dcd-9964-4c5fef56e93f",
   "metadata": {},
   "outputs": [
    {
     "name": "stdout",
     "output_type": "stream",
     "text": [
      "50000\n",
      "10000\n"
     ]
    }
   ],
   "source": [
    "print(len(X_train))\n",
    "print(len(X_val))"
   ]
  },
  {
   "cell_type": "code",
   "execution_count": 11,
   "id": "a6d73548-6210-40be-bc4c-36ab2096d0db",
   "metadata": {},
   "outputs": [
    {
     "data": {
      "text/plain": [
       "(784,)"
      ]
     },
     "execution_count": 11,
     "metadata": {},
     "output_type": "execute_result"
    }
   ],
   "source": [
    "X_train[0].shape"
   ]
  },
  {
   "cell_type": "code",
   "execution_count": null,
   "id": "2891a5f6-4921-4975-8224-a4324241fa42",
   "metadata": {},
   "outputs": [],
   "source": []
  },
  {
   "cell_type": "code",
   "execution_count": 12,
   "id": "f8bdf048-3ff6-42f2-9a84-2bbbc74bc54f",
   "metadata": {},
   "outputs": [],
   "source": [
    "#model_1 = Sequential()\n",
    "\n",
    "Input = keras.Input(shape=(784,) )\n",
    "L1 = Dense(64, activation='relu', name=\"L1\")\n",
    "L2 = Dense(64, activation='relu', name=\"L2\")\n",
    "L3 = Dense(10, activation='softmax', name=\"final\")\n",
    "\n",
    "model_1 = Sequential([Input, L1, L2, L3])"
   ]
  },
  {
   "cell_type": "code",
   "execution_count": 265,
   "id": "8366acaa-8898-4203-8520-8dcf47bf8929",
   "metadata": {},
   "outputs": [
    {
     "data": {
      "text/plain": [
       "[<keras.layers.core.dense.Dense at 0x218a5ef07f0>,\n",
       " <keras.layers.core.dense.Dense at 0x2184a317040>,\n",
       " <keras.layers.core.dense.Dense at 0x2184a317130>]"
      ]
     },
     "execution_count": 265,
     "metadata": {},
     "output_type": "execute_result"
    }
   ],
   "source": [
    "model_1.layers"
   ]
  },
  {
   "cell_type": "code",
   "execution_count": 240,
   "id": "35d47758-daac-4945-9b99-234797986f97",
   "metadata": {},
   "outputs": [],
   "source": [
    "#pip install livelossplot \n",
    "\n",
    "#to plot the losses live"
   ]
  },
  {
   "cell_type": "code",
   "execution_count": 13,
   "id": "86e97814-8987-41e1-91a9-aa0fa9581ab6",
   "metadata": {},
   "outputs": [],
   "source": [
    "model_1.compile(\n",
    "    optimizer='adam',  # Optimizer\n",
    "    # Loss function to minimize\n",
    "    loss=keras.losses.SparseCategoricalCrossentropy(),\n",
    "    # List of metrics to monitor\n",
    "    metrics=[keras.metrics.SparseCategoricalAccuracy()]\n",
    ")"
   ]
  },
  {
   "cell_type": "code",
   "execution_count": 14,
   "id": "f62604d3-16ba-41be-a319-cb1cde995074",
   "metadata": {},
   "outputs": [
    {
     "name": "stdout",
     "output_type": "stream",
     "text": [
      "Model: \"sequential\"\n",
      "_________________________________________________________________\n",
      " Layer (type)                Output Shape              Param #   \n",
      "=================================================================\n",
      " L1 (Dense)                  (None, 64)                50240     \n",
      "                                                                 \n",
      " L2 (Dense)                  (None, 64)                4160      \n",
      "                                                                 \n",
      " final (Dense)               (None, 10)                650       \n",
      "                                                                 \n",
      "=================================================================\n",
      "Total params: 55,050\n",
      "Trainable params: 55,050\n",
      "Non-trainable params: 0\n",
      "_________________________________________________________________\n"
     ]
    }
   ],
   "source": [
    "model_1.summary()"
   ]
  },
  {
   "cell_type": "code",
   "execution_count": 16,
   "id": "5787a8c1-57ed-40a6-a1d4-e0866710125e",
   "metadata": {},
   "outputs": [
    {
     "data": {
      "image/png": "[encoded data removed]",
      "text/plain": [
       "<Figure size 864x576 with 2 Axes>"
      ]
     },
     "metadata": {
      "needs_background": "light"
     },
     "output_type": "display_data"
    },
    {
     "name": "stdout",
     "output_type": "stream",
     "text": [
      "Loss\n",
      "\ttraining         \t (min:    0.055, max:    0.311, cur:    0.055)\n",
      "\tvalidation       \t (min:    0.097, max:    0.157, cur:    0.097)\n",
      "sparse_categorical_accuracy\n",
      "\ttraining         \t (min:    0.910, max:    0.983, cur:    0.983)\n",
      "\tvalidation       \t (min:    0.953, max:    0.972, cur:    0.970)\n",
      "1563/1563 [==============================] - 4s 2ms/step - loss: 0.0549 - sparse_categorical_accuracy: 0.9825 - val_loss: 0.0974 - val_sparse_categorical_accuracy: 0.9699\n"
     ]
    },
    {
     "data": {
      "text/plain": [
       "<keras.callbacks.History at 0x1680a01ca90>"
      ]
     },
     "execution_count": 16,
     "metadata": {},
     "output_type": "execute_result"
    }
   ],
   "source": [
    "from livelossplot import PlotLossesKeras\n",
    "\n",
    "model_1.fit(X_train, \n",
    "          Y_train, \n",
    "          epochs=6,  #nb of epochs\n",
    "          validation_data=(X_test, Y_test), \n",
    "          callbacks=[PlotLossesKeras()], # see progress\n",
    "          verbose=1) # how do you want to 'see' the training progress for each epoch."
   ]
  },
  {
   "cell_type": "code",
   "execution_count": 269,
   "id": "b14bcdc8-7395-45e8-8e0a-a244f9140846",
   "metadata": {},
   "outputs": [
    {
     "name": "stdout",
     "output_type": "stream",
     "text": [
      "Evaluate model_1 on test data\n",
      "79/79 [==============================] - 0s 2ms/step - loss: 0.1129 - sparse_categorical_accuracy: 0.9689\n",
      "test loss, test acc: [0.11293750256299973, 0.9689000248908997]\n"
     ]
    }
   ],
   "source": [
    "print(\"Evaluate model_1 on test data\")\n",
    "results = model_1.evaluate(X_test, Y_test, batch_size=128)\n",
    "print(\"test loss, test acc:\", results)"
   ]
  },
  {
   "cell_type": "code",
   "execution_count": 270,
   "id": "dc88494e-3eb5-4aa6-a8cf-00ed0189434c",
   "metadata": {},
   "outputs": [
    {
     "data": {
      "text/plain": [
       "(784,)"
      ]
     },
     "execution_count": 270,
     "metadata": {},
     "output_type": "execute_result"
    }
   ],
   "source": [
    "X_train[0].shape"
   ]
  },
  {
   "cell_type": "code",
   "execution_count": 273,
   "id": "9ad51064-70bd-4007-bfc4-9338c62cdfdb",
   "metadata": {},
   "outputs": [
    {
     "name": "stdout",
     "output_type": "stream",
     "text": [
      "1/1 [==============================] - 0s 47ms/step\n"
     ]
    },
    {
     "data": {
      "text/plain": [
       "5"
      ]
     },
     "execution_count": 273,
     "metadata": {},
     "output_type": "execute_result"
    }
   ],
   "source": [
    "np.argmax (model_1.predict (X_train[:1,]) )"
   ]
  },
  {
   "cell_type": "code",
   "execution_count": null,
   "id": "7ff3524d-e79d-43ff-a721-a7af48eda0af",
   "metadata": {},
   "outputs": [],
   "source": []
  },
  {
   "cell_type": "code",
   "execution_count": 290,
   "id": "82c65dad-a5cd-4a42-96c8-2469be0d1635",
   "metadata": {},
   "outputs": [
    {
     "name": "stdout",
     "output_type": "stream",
     "text": [
      "1/1 [==============================] - 0s 21ms/step\n",
      "predoction:  5\n",
      "\n",
      "............................\n",
      "............................\n",
      "............................\n",
      "............................\n",
      "............................\n",
      "............................\n",
      "............................\n",
      ".............@@@@@@.........\n",
      "............@@@@@@@@@.......\n",
      "............@@@@..@@@.......\n",
      "............@@......@@......\n",
      "............@........@......\n",
      "...........@@...............\n",
      "...........@@...............\n",
      "............@...............\n",
      "............@@..............\n",
      ".............@@@............\n",
      "..............@@............\n",
      "...............@............\n",
      "...............@@...........\n",
      "...............@............\n",
      "..............@@............\n",
      ".............@@.............\n",
      "...........@@@@.............\n",
      ".........@@@@@..............\n",
      "............................\n",
      "............................\n",
      "............................\n"
     ]
    }
   ],
   "source": [
    "index = np.random.randint(len(X_train))  # choose an index ;-)\n",
    "\n",
    "prediction = np.argmax(model_1.predict(X_train[index].reshape(1,784) ) ) #Do't know why predict is not acceting X_train[index]\n",
    "print(\"predoction: \" , prediction)\n",
    "\n",
    "print(mndata.display(X_train_intial[index]))"
   ]
  },
  {
   "cell_type": "code",
   "execution_count": null,
   "id": "60c0caea-0396-43c8-aef8-aeae1ece1645",
   "metadata": {},
   "outputs": [],
   "source": []
  }
 ],
 "metadata": {
  "kernelspec": {
   "display_name": "Python 3 (ipykernel)",
   "language": "python",
   "name": "python3"
  },
  "language_info": {
   "codemirror_mode": {
    "name": "ipython",
    "version": 3
   },
   "file_extension": ".py",
   "mimetype": "text/x-python",
   "name": "python",
   "nbconvert_exporter": "python",
   "pygments_lexer": "ipython3",
   "version": "3.9.12"
  }
 },
 "nbformat": 4,
 "nbformat_minor": 5
}
