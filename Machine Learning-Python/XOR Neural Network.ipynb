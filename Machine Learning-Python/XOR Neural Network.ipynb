{
 "cells": [
  {
   "cell_type": "markdown",
   "id": "da3625ba-bbd5-417f-8432-827334875b8d",
   "metadata": {},
   "source": [
    "## Neural Networks"
   ]
  },
  {
   "cell_type": "markdown",
   "id": "7fccd992",
   "metadata": {},
   "source": [
    "### This exercise is to create a neural network that plays the role of XOR using back propagatoin algorithm."
   ]
  },
  {
   "cell_type": "code",
   "execution_count": 1,
   "id": "c7595e79-b81f-42c9-91b8-a033493b7780",
   "metadata": {},
   "outputs": [],
   "source": [
    "import numpy as np\n",
    "np.set_printoptions(precision=6)"
   ]
  },
  {
   "cell_type": "markdown",
   "id": "28c3704a-cc9c-4e19-ad22-74aa3f0a2d25",
   "metadata": {},
   "source": [
    "### Activation  Functions"
   ]
  },
  {
   "cell_type": "code",
   "execution_count": 2,
   "id": "1b384ee9-806c-4534-aa54-88d438b9f2fa",
   "metadata": {},
   "outputs": [],
   "source": [
    "def sigmoid(v):\n",
    "    return (1 / (1+ np.exp(-v)) )"
   ]
  },
  {
   "cell_type": "code",
   "execution_count": 3,
   "id": "ee0e177d",
   "metadata": {},
   "outputs": [],
   "source": [
    "def MSE(y, yhat):\n",
    "    m =len(y)\n",
    "    err = 0.0\n",
    "    for i in range(m):\n",
    "        err += np.square(y[i]-yhat[i])\n",
    "    err = (1/2*m)*err\n",
    "    return(err)"
   ]
  },
  {
   "cell_type": "markdown",
   "id": "5895358d-a9c8-4a0d-a81c-a5c8e2761a05",
   "metadata": {},
   "source": [
    "### Add bias to each input in all layers except the output layer."
   ]
  },
  {
   "cell_type": "code",
   "execution_count": 4,
   "id": "36dc008c",
   "metadata": {},
   "outputs": [],
   "source": [
    "def add_bias(X_):\n",
    "    return np.append(X_,1)"
   ]
  },
  {
   "cell_type": "markdown",
   "id": "b3e6b95c-c11e-43fe-84a6-a144a8d64f26",
   "metadata": {},
   "source": [
    "### Forward Propagation "
   ]
  },
  {
   "cell_type": "code",
   "execution_count": 5,
   "id": "2505c3d6",
   "metadata": {},
   "outputs": [],
   "source": [
    "def forward_prop(W_,X_,fn=sigmoid):\n",
    "    if W_.shape[1] != X_.shape[0]:\n",
    "        print(\"The matrix columns and the input length are not similar.\")\n",
    "        return\n",
    "    output = fn(np.matmul(W_,X_)) #the sigmoid of the scalar product of X and column i of W\n",
    "    return output"
   ]
  },
  {
   "cell_type": "markdown",
   "id": "2b598fd8-e42e-47cd-9dd7-1c274adc6b5d",
   "metadata": {},
   "source": [
    "### Delta of the output layer function"
   ]
  },
  {
   "cell_type": "code",
   "execution_count": 6,
   "id": "c6ac53d4",
   "metadata": {},
   "outputs": [],
   "source": [
    "def delta_output_layer_fn(W_output_, desired_, Y_in_, a=1):\n",
    "    output_ = forward_prop(W_output_,Y_in_)\n",
    "    delta_output_layer = a * (desired - output_) * output_ * (1- output_)    \n",
    "    return delta_output_layer"
   ]
  },
  {
   "cell_type": "code",
   "execution_count": 7,
   "id": "0756adf9",
   "metadata": {},
   "outputs": [],
   "source": [
    "#Take X as input matrix not one by on"
   ]
  },
  {
   "cell_type": "markdown",
   "id": "091dda26-5cf6-49cd-80b8-17378e821a0a",
   "metadata": {},
   "source": [
    "### Delta of the inner layers function"
   ]
  },
  {
   "cell_type": "code",
   "execution_count": 8,
   "id": "b297a232-f7f7-473f-928b-e69cab3c8d12",
   "metadata": {},
   "outputs": [],
   "source": [
    "def delta_hidden_layer_fn(W_local, W_next, X_input, delta_next):\n",
    "    Y_j = forward_prop(W_local,X_input)\n",
    "    r_local , c_local = W_local.shape\n",
    "    r_next, c_next = W_next.shape\n",
    "    delta_hidden = np.zeros(r_local)\n",
    "    for j in range(r_local):\n",
    "        delta_j_next_sum = 0\n",
    "        for k in range(r_next):\n",
    "            delta_j_next_sum += delta_next[k] * W_next[k,j]\n",
    "        delta_hidden[j] = a * Y_j[j] * (1-Y_j[j]) * delta_j_next_sum\n",
    "    return delta_hidden"
   ]
  },
  {
   "cell_type": "markdown",
   "id": "a661e69b-479b-4ae3-92d3-2b606c876f13",
   "metadata": {},
   "source": [
    "### We know that2 layers: L1(2 neurons) and L2 (1 neuron) are enough to create XOR."
   ]
  },
  {
   "cell_type": "code",
   "execution_count": 9,
   "id": "7f95e153",
   "metadata": {},
   "outputs": [],
   "source": [
    "input_length = 2\n",
    "L1_neuron_nb = 2\n",
    "L2_neuron_nb = 1\n",
    "np.random.seed(10)"
   ]
  },
  {
   "cell_type": "code",
   "execution_count": 117,
   "id": "d9119809-a86e-4cf0-9405-bd6fc39c5bb8",
   "metadata": {},
   "outputs": [],
   "source": [
    "X_train = np.array( [ [0,0], [0,1.0], [1,0], [1,1] ] )\n",
    "Y_train = np.array( [0,1.0,1,0])"
   ]
  },
  {
   "cell_type": "markdown",
   "id": "47c1bbac-f07e-4ac3-9f80-9aa262e0b189",
   "metadata": {},
   "source": [
    "### W1 and W2 are the 2 matricies representing L1 and L2."
   ]
  },
  {
   "cell_type": "code",
   "execution_count": 121,
   "id": "a2cafbdf",
   "metadata": {
    "scrolled": true
   },
   "outputs": [
    {
     "name": "stdout",
     "output_type": "stream",
     "text": [
      "[[0.384114 0.944261 0.987625]\n",
      " [0.456305 0.826123 0.251374]]\n",
      "[[0.597372 0.902832 0.534558]]\n"
     ]
    }
   ],
   "source": [
    "#Forwarad prop to get Y1, output\n",
    "W1 = np.random.rand(L1_neuron_nb , input_length +1) \n",
    "W2 = np.random.rand(L2_neuron_nb , L1_neuron_nb +1 )  "
   ]
  },
  {
   "cell_type": "markdown",
   "id": "9fbfda84",
   "metadata": {},
   "source": [
    "### Back Propagation with activation = sigmoid"
   ]
  },
  {
   "cell_type": "code",
   "execution_count": 122,
   "id": "3716bf0e",
   "metadata": {},
   "outputs": [],
   "source": [
    "a = 1\n",
    "eta = 0.3"
   ]
  },
  {
   "cell_type": "code",
   "execution_count": 123,
   "id": "ef491d83",
   "metadata": {},
   "outputs": [],
   "source": [
    "epochs = 50\n",
    "MSE_array = np.zeros(epochs)\n",
    "m = X_train.shape[0]\n",
    "\n",
    "for e in range(epochs):\n",
    "    MSE_e = 0\n",
    "    for i in range(X_train.shape[0]):\n",
    "        X1 = add_bias(X_train[i,:])\n",
    "        desired = Y_train[i]\n",
    "        Y1 =  add_bias(forward_prop(W1,X1))\n",
    "        output_ = forward_prop(W2,Y1)\n",
    "        \n",
    "        r1,c1 = W1.shape\n",
    "        r2,c2 = W2.shape\n",
    "        \n",
    "        delta_j_output = delta_output_layer_fn(W2,desired, Y1)\n",
    "        for i in range(c2):\n",
    "            for j in range(r2):\n",
    "                W2[j,i] = W2[j,i] +( eta *  delta_j_output[j] * Y1[i])\n",
    "\n",
    "        delta_j_1 = delta_hidden_layer_fn(W1,W2,X1,delta_j_output)\n",
    "        for i in range(c1):\n",
    "            for j in range(r1):\n",
    "                W1[j,i] = W1[j,i] +(eta * delta_j_1[j] * X1[i])\n",
    "        MSE_e += np.square(desired -output_)\n",
    "        i+=1\n",
    "    MSE_e /= m\n",
    "    #print(MSE_e)\n",
    "    MSE_array[e] = MSE_e\n",
    "    e+=1"
   ]
  },
  {
   "cell_type": "markdown",
   "id": "d9fbcd2c-5bf3-4170-8eaf-70c1713b2aab",
   "metadata": {},
   "source": [
    "### Plot the MSE of each epoch"
   ]
  },
  {
   "cell_type": "code",
   "execution_count": 124,
   "id": "58fc6b77-01f7-4335-8606-41d8f76790a4",
   "metadata": {},
   "outputs": [
    {
     "data": {
      "text/plain": [
       "[<matplotlib.lines.Line2D at 0x1ea9ec72940>]"
      ]
     },
     "execution_count": 124,
     "metadata": {},
     "output_type": "execute_result"
    },
    {
     "data": {
      "image/png": "[encoded data removed]",
      "text/plain": [
       "<Figure size 432x288 with 1 Axes>"
      ]
     },
     "metadata": {
      "needs_background": "light"
     },
     "output_type": "display_data"
    }
   ],
   "source": [
    "import matplotlib.pyplot as plt\n",
    "plt.xlabel('Epochs')\n",
    "plt.ylabel('MSE') \n",
    "#plt.xticks(x)\n",
    "plt.title('MSE vs. Epochs') \n",
    "x = np.arange(0,epochs,1)\n",
    "plt.plot(x,MSE_array,color='blue', linewidth=2, markersize=12)"
   ]
  },
  {
   "cell_type": "markdown",
   "id": "c624ece8-7de0-4551-a089-de7b37bafab9",
   "metadata": {},
   "source": [
    "#### 10 epcohs were enough to converge"
   ]
  },
  {
   "cell_type": "markdown",
   "id": "6bd98efa-c191-4f3d-83a5-ded94c93ca6e",
   "metadata": {},
   "source": [
    "### Test the notwork"
   ]
  },
  {
   "cell_type": "markdown",
   "id": "7ccbc7cf-413b-4800-93b0-32faef074a3e",
   "metadata": {},
   "source": [
    "### a simle predict funciton to test the inputs."
   ]
  },
  {
   "cell_type": "code",
   "execution_count": 107,
   "id": "848e39e3-7ac4-4da0-a126-a4073b1af56b",
   "metadata": {},
   "outputs": [],
   "source": [
    "def model_predict(X_):\n",
    "    X_ = add_bias(X_) \n",
    "    Y1_ = add_bias(forward_prop(W1, X_))  \n",
    "    output_ = forward_prop(W2,Y1_)\n",
    "    return output_"
   ]
  },
  {
   "cell_type": "markdown",
   "id": "95c12ce7-175d-4fb5-ad9d-7627eee3ccc3",
   "metadata": {},
   "source": [
    "### Predict (0,0)"
   ]
  },
  {
   "cell_type": "code",
   "execution_count": 108,
   "id": "c24c61e7-7296-45af-a09b-3a6b2537fa3a",
   "metadata": {},
   "outputs": [
    {
     "data": {
      "text/plain": [
       "array([0.017022])"
      ]
     },
     "execution_count": 108,
     "metadata": {},
     "output_type": "execute_result"
    }
   ],
   "source": [
    "model_predict(np.array([0,0]) )"
   ]
  },
  {
   "cell_type": "markdown",
   "id": "09d9f8ad-3004-4303-ad8f-b78dde5a6491",
   "metadata": {},
   "source": [
    "### Predict (0,1)\n"
   ]
  },
  {
   "cell_type": "code",
   "execution_count": 109,
   "id": "609f1ea3-ef90-4ec0-a487-765f6b120ed3",
   "metadata": {},
   "outputs": [
    {
     "data": {
      "text/plain": [
       "array([0.985304])"
      ]
     },
     "execution_count": 109,
     "metadata": {},
     "output_type": "execute_result"
    }
   ],
   "source": [
    "model_predict(np.array([0,1]) )"
   ]
  },
  {
   "cell_type": "markdown",
   "id": "0ca89134-ba49-4a8c-8e6b-8f1e2efad371",
   "metadata": {},
   "source": [
    "### Predict (1,0)\n"
   ]
  },
  {
   "cell_type": "code",
   "execution_count": 110,
   "id": "8a4ca051-55c5-4a16-8600-10bd39ae181e",
   "metadata": {},
   "outputs": [
    {
     "data": {
      "text/plain": [
       "array([0.985388])"
      ]
     },
     "execution_count": 110,
     "metadata": {},
     "output_type": "execute_result"
    }
   ],
   "source": [
    "model_predict(np.array([1,0]) )"
   ]
  },
  {
   "cell_type": "markdown",
   "id": "1e271aa6-1969-49bc-aa9f-34d81b540809",
   "metadata": {},
   "source": [
    "### Predict (1,1)\n"
   ]
  },
  {
   "cell_type": "code",
   "execution_count": 111,
   "id": "4066342c-5c8b-4ebd-82bb-cd53b4a2daaa",
   "metadata": {},
   "outputs": [
    {
     "data": {
      "text/plain": [
       "array([0.015177])"
      ]
     },
     "execution_count": 111,
     "metadata": {},
     "output_type": "execute_result"
    }
   ],
   "source": [
    "model_predict(np.array([1,1]) )"
   ]
  },
  {
   "cell_type": "markdown",
   "id": "27a17ecb-b704-4c9c-83d7-df6eb9fe27c6",
   "metadata": {},
   "source": [
    "## ALL the use cases are correct"
   ]
  },
  {
   "cell_type": "code",
   "execution_count": null,
   "id": "861a3f81-ab75-4928-b63c-b0074f691ddc",
   "metadata": {},
   "outputs": [],
   "source": []
  }
 ],
 "metadata": {
  "kernelspec": {
   "display_name": "Python 3 (ipykernel)",
   "language": "python",
   "name": "python3"
  },
  "language_info": {
   "codemirror_mode": {
    "name": "ipython",
    "version": 3
   },
   "file_extension": ".py",
   "mimetype": "text/x-python",
   "name": "python",
   "nbconvert_exporter": "python",
   "pygments_lexer": "ipython3",
   "version": "3.9.12"
  }
 },
 "nbformat": 4,
 "nbformat_minor": 5
}
