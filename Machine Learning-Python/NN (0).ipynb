{
 "cells": [
  {
   "cell_type": "markdown",
   "id": "da3625ba-bbd5-417f-8432-827334875b8d",
   "metadata": {},
   "source": [
    "## Neural Networks"
   ]
  },
  {
   "cell_type": "code",
   "execution_count": 86,
   "id": "c7595e79-b81f-42c9-91b8-a033493b7780",
   "metadata": {},
   "outputs": [],
   "source": [
    "import numpy as np\n",
    "np.set_printoptions(precision=4)"
   ]
  },
  {
   "cell_type": "markdown",
   "id": "28c3704a-cc9c-4e19-ad22-74aa3f0a2d25",
   "metadata": {},
   "source": [
    "### Activation  Functions"
   ]
  },
  {
   "cell_type": "code",
   "execution_count": 87,
   "id": "1b384ee9-806c-4534-aa54-88d438b9f2fa",
   "metadata": {},
   "outputs": [],
   "source": [
    "def sigmoid(v):\n",
    "    return (1 / (1+ np.exp(-v)) )\n",
    "def threshold(v):\n",
    "    if v < 0:\n",
    "        return 0\n",
    "    else:\n",
    "        return 1\n",
    "def tanh(v):\n",
    "    return( 1-np.exp(-v) / ( 1 + np.exp(-v) ) )\n"
   ]
  },
  {
   "cell_type": "markdown",
   "id": "a991f176-9897-41c9-a27e-c002d7545050",
   "metadata": {},
   "source": [
    "### Try in simple input"
   ]
  },
  {
   "cell_type": "code",
   "execution_count": 171,
   "id": "7c68b0c2-ed63-480c-8e26-f130961d712a",
   "metadata": {},
   "outputs": [],
   "source": [
    "#Example values\n",
    "input_nb = 3\n",
    "L1_n = 4 # nb of neurons in Layer 1\n",
    "L2_n = 4 # nb of neurons in Layer 2"
   ]
  },
  {
   "cell_type": "code",
   "execution_count": 172,
   "id": "0483bd14-bab6-44e0-8c1d-c565a2cf0e9d",
   "metadata": {},
   "outputs": [],
   "source": [
    "X1 = np.random.rand(input_nb)    # input is a numpy array of shape (n,), we should add +1 to the array for the bias\n",
    "\n",
    "#matrix W1 is of shape rows = nb of cols of previous array, cols = nb of neurons we want to make\n",
    "W1 = np.random.rand(input_nb +1 ,L1_n)  \n",
    "W2 = np.random.rand(L1_n+1, L2_n) "
   ]
  },
  {
   "cell_type": "code",
   "execution_count": 173,
   "id": "68cf8eff-1b64-41fb-8209-35609ab1c16b",
   "metadata": {},
   "outputs": [
    {
     "name": "stdout",
     "output_type": "stream",
     "text": [
      "X1: [0.5462 0.9337 0.5773]\n",
      "shape of X1 (3,) \n",
      "\n",
      "W1:\n",
      " [[0.1004 0.4405 0.7778 0.4492]\n",
      " [0.9785 0.3969 0.5089 0.1774]\n",
      " [0.9415 0.226  0.0953 0.2403]\n",
      " [0.4543 0.3244 0.2284 0.3661]]\n",
      "shape of W1: (4, 4) \n",
      "\n",
      "W2:,\n",
      " [[0.8792 0.3352 0.0656 0.2707]\n",
      " [0.7727 0.7843 0.1014 0.3295]\n",
      " [0.9912 0.6794 0.0612 0.6775]\n",
      " [0.0012 0.7236 0.3692 0.7019]\n",
      " [0.368  0.4853 0.4494 0.2434]]\n",
      "shape of W2:  (5, 4) \n",
      "\n",
      "New X: [0.6977 0.6783 0.609  0.1991 1.     1.     1.    ]\n"
     ]
    },
    {
     "data": {
      "text/plain": [
       "4"
      ]
     },
     "execution_count": 173,
     "metadata": {},
     "output_type": "execute_result"
    }
   ],
   "source": [
    "print(\"X1:\",X1)\n",
    "print(\"shape of X1\" , X1.shape,\"\\n\")\n",
    "print(\"W1:\\n\", W1)\n",
    "print(\"shape of W1:\", W1.shape, \"\\n\")\n",
    "print(\"W2:,\\n\", W2)\n",
    "print(\"shape of W2: \", W2.shape, \"\\n\")\n",
    "X2 = np.append(X,1)\n",
    "print(\"New X:\", X2)\n",
    "W_i =  W1[:,0]\n",
    "W_i.shape[0]"
   ]
  },
  {
   "cell_type": "code",
   "execution_count": 174,
   "id": "5c7c45d8-8cad-4f15-bc06-e4b982564080",
   "metadata": {},
   "outputs": [],
   "source": [
    "#Forward propagation takes an input X, a matrix representing the coeficiants of neurons, and an activation function\n",
    "def forward_prop(X,W,fn=sigmoid):\n",
    "    X_length = X.shape[0] #length of X \n",
    "    W_rows,W_cols = W.shape #nb of rows and columns on matrix W    \n",
    "    if W_rows != X_length:\n",
    "        print(\"Not proprtional size\")\n",
    "        return\n",
    "    output = np.zeros(W_cols)\n",
    "    for i in range(W_cols): \n",
    "        output[i] = fn( (np.dot(X, W[:,i]) )) #the sigmoid of the scalar product of X and column i of W\n",
    "           \n",
    "    return output"
   ]
  },
  {
   "cell_type": "code",
   "execution_count": 175,
   "id": "5fb165e2-ecf7-45f8-afc0-053ad7246589",
   "metadata": {
    "scrolled": true
   },
   "outputs": [
    {
     "name": "stdout",
     "output_type": "stream",
     "text": [
      "Not proprtional size\n",
      "[0.8772 0.7438 0.7656 0.7142]\n",
      "None\n"
     ]
    }
   ],
   "source": [
    "X1=np.append(X1,1)\n",
    "Y1 = forward_prop(X1,W1,sigmoid)\n",
    "Y2 = forward_prop(Y1, W2, threshold)\n",
    "print(Y1)\n",
    "print(Y2)"
   ]
  },
  {
   "cell_type": "code",
   "execution_count": 177,
   "id": "c36f6275",
   "metadata": {},
   "outputs": [],
   "source": [
    "#Back Propagation\n",
    "def back_prop(X,W,d,eta=1):\n",
    "    X_length = X.shape[0] #length of X \n",
    "    y = forward_prop(X,W)\n",
    "    W_rows,W_cols = W.shape #nb of rows and columns on matrix W \n",
    "    n = d.shape[0]\n",
    "    \n",
    "    print(y)\n",
    "    e_n = np.zeros_like(y)\n",
    "    for i in range(n):\n",
    "        e_n[i]=d[i]-y[i] #error vector for all outputs (their nb is equal to nb of neurons of previous layer)\n",
    "        \n",
    "    for i in range(W_cols): #rectify values of each value of each column of W\n",
    "        W_i =  W[:,i]\n",
    "        for j in range(W_i.shape[0]):\n",
    "            W_i[j] = W_i[j] + (eta * (e_n[i]*X[j])  )\n",
    "        W[:,i] = W_i\n",
    "\n",
    "    return W"
   ]
  },
  {
   "cell_type": "code",
   "execution_count": 178,
   "id": "1bbf5e6a",
   "metadata": {},
   "outputs": [
    {
     "data": {
      "text/plain": [
       "array([1, 1, 1, 0])"
      ]
     },
     "execution_count": 178,
     "metadata": {},
     "output_type": "execute_result"
    }
   ],
   "source": [
    "desired_Y= np.array([1,1,1,0])\n",
    "desired_Y"
   ]
  },
  {
   "cell_type": "code",
   "execution_count": 183,
   "id": "9e5f27ea",
   "metadata": {},
   "outputs": [
    {
     "name": "stdout",
     "output_type": "stream",
     "text": [
      "[0.8867 0.8465 0.8545 0.2948]\n"
     ]
    },
    {
     "data": {
      "text/plain": [
       "array([[ 1.0619,  0.6642,  0.9854, -0.1019],\n",
       "       [ 1.1058,  0.7794,  0.8636, -0.7647],\n",
       "       [ 1.0654,  0.4625,  0.3147, -0.3422],\n",
       "       [ 0.1133,  0.7341,  0.6084, -0.6429]])"
      ]
     },
     "execution_count": 183,
     "metadata": {},
     "output_type": "execute_result"
    }
   ],
   "source": [
    "new_W1 = back_prop(X1,W1,desired_Y,1)\n",
    "new_W1"
   ]
  },
  {
   "cell_type": "code",
   "execution_count": 182,
   "id": "7b629799",
   "metadata": {},
   "outputs": [
    {
     "data": {
      "text/plain": [
       "array([[ 1.    ,  0.5804,  0.9059,  0.0591],\n",
       "       [ 1.    ,  0.6361,  0.7278, -0.4894],\n",
       "       [ 1.    ,  0.3738,  0.2307, -0.172 ],\n",
       "       [ 0.    ,  0.5806,  0.4629, -0.3481]])"
      ]
     },
     "execution_count": 182,
     "metadata": {},
     "output_type": "execute_result"
    }
   ],
   "source": [
    "W1[:,0] = desired_Y\n",
    "W1"
   ]
  },
  {
   "cell_type": "code",
   "execution_count": null,
   "id": "4ae84334",
   "metadata": {},
   "outputs": [],
   "source": [
    "#Apply BackPropagation on the example\n",
    "epochs = 0\n",
    "while (epochs <5):\n",
    "    back_prop(...)"
   ]
  },
  {
   "cell_type": "code",
   "execution_count": null,
   "id": "b8600892",
   "metadata": {},
   "outputs": [],
   "source": []
  },
  {
   "cell_type": "code",
   "execution_count": null,
   "id": "9a49debc",
   "metadata": {},
   "outputs": [],
   "source": []
  },
  {
   "cell_type": "markdown",
   "id": "2582f06c-bc1c-4284-ac9c-60d62754198f",
   "metadata": {},
   "source": [
    "##### Try with image"
   ]
  },
  {
   "cell_type": "code",
   "execution_count": 54,
   "id": "713a1107-4fa8-4cdf-8905-77d4d8677b56",
   "metadata": {
    "tags": []
   },
   "outputs": [
    {
     "data": {
      "image/png": "[encoded data removed]",
      "text/plain": [
       "<PIL.JpegImagePlugin.JpegImageFile image mode=L size=320x320 at 0x266460CF280>"
      ]
     },
     "metadata": {},
     "output_type": "display_data"
    }
   ],
   "source": [
    "from PIL import Image\n",
    "from numpy import asarray\n",
    "# load the image\n",
    "image = Image.open('Handwritten-digits-from-the-MNIST-data-set-5.jpg')\n",
    "display(image)"
   ]
  },
  {
   "cell_type": "code",
   "execution_count": 56,
   "id": "2a006962-9e1b-4cb2-9610-4a647bae2293",
   "metadata": {},
   "outputs": [],
   "source": [
    "# convert image to numpy array\n",
    "X_image = asarray(image)"
   ]
  },
  {
   "cell_type": "code",
   "execution_count": 57,
   "id": "b8038e60-6b7b-4b4f-aefb-d51ab06840ba",
   "metadata": {},
   "outputs": [
    {
     "data": {
      "text/plain": [
       "(320, 320)"
      ]
     },
     "execution_count": 57,
     "metadata": {},
     "output_type": "execute_result"
    }
   ],
   "source": [
    "X_image.shape"
   ]
  },
  {
   "cell_type": "code",
   "execution_count": 58,
   "id": "9165114f-1e1e-4808-a122-4f4616156221",
   "metadata": {},
   "outputs": [],
   "source": [
    "m = X_image.shape[0] * X_image.shape [1]"
   ]
  },
  {
   "cell_type": "markdown",
   "id": "7acfde70-b02e-43e8-a7ea-6d0ef5ec1548",
   "metadata": {},
   "source": [
    "##### Change shape of array to be ready for matrix muliplication"
   ]
  },
  {
   "cell_type": "code",
   "execution_count": 59,
   "id": "17976887-779d-44fc-9260-688a26339cf7",
   "metadata": {},
   "outputs": [],
   "source": [
    "X_image = X_image.reshape(m)"
   ]
  },
  {
   "cell_type": "code",
   "execution_count": 60,
   "id": "d7b305b5-1387-4236-bf5e-399b4d7592e2",
   "metadata": {},
   "outputs": [
    {
     "data": {
      "text/plain": [
       "(102400,)"
      ]
     },
     "execution_count": 60,
     "metadata": {},
     "output_type": "execute_result"
    }
   ],
   "source": [
    "X_image.shape"
   ]
  },
  {
   "cell_type": "code",
   "execution_count": 68,
   "id": "2687397b-54bf-436d-9c60-661bf9436b1d",
   "metadata": {},
   "outputs": [],
   "source": [
    "input_nb = m\n",
    "L1_n = 16 # nb of neurons in Layer 1\n",
    "L2_n = 6 # nb of neuronsin Layer 2"
   ]
  },
  {
   "cell_type": "code",
   "execution_count": 69,
   "id": "ac3c62b2-44f1-440e-85b9-6ccb963e280e",
   "metadata": {},
   "outputs": [],
   "source": [
    "W1_image = np.random.rand(input_nb,L1_n) \n",
    "W2_image = np.random.rand(L1_n, L2_n) "
   ]
  },
  {
   "cell_type": "code",
   "execution_count": 70,
   "id": "5bd3da70-6cc3-46bb-a79d-d9b58c9a0855",
   "metadata": {},
   "outputs": [
    {
     "name": "stdout",
     "output_type": "stream",
     "text": [
      "[0.99859035 0.99982421 0.99876923 0.99989098 0.99950123 0.99940686]\n"
     ]
    }
   ],
   "source": [
    "image_Y1 = forward_prop(X_image, W1_image, sigmoid)\n",
    "image_Y2 = forward_prop(image_Y1, W2_image, sigmoid)\n",
    "print(image_Y2)"
   ]
  },
  {
   "cell_type": "code",
   "execution_count": null,
   "id": "a3ad1282-a710-458b-9b69-0bd0753bf697",
   "metadata": {},
   "outputs": [],
   "source": []
  }
 ],
 "metadata": {
  "kernelspec": {
   "display_name": "Python 3 (ipykernel)",
   "language": "python",
   "name": "python3"
  },
  "language_info": {
   "codemirror_mode": {
    "name": "ipython",
    "version": 3
   },
   "file_extension": ".py",
   "mimetype": "text/x-python",
   "name": "python",
   "nbconvert_exporter": "python",
   "pygments_lexer": "ipython3",
   "version": "3.9.12"
  }
 },
 "nbformat": 4,
 "nbformat_minor": 5
}
