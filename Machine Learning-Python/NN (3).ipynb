{
 "cells": [
  {
   "cell_type": "markdown",
   "id": "da3625ba-bbd5-417f-8432-827334875b8d",
   "metadata": {},
   "source": [
    "## Neural Networks"
   ]
  },
  {
   "cell_type": "markdown",
   "id": "7fccd992",
   "metadata": {},
   "source": [
    "Nb of rows is equal to nb on neurons, the multiplicatoin is done W . X "
   ]
  },
  {
   "cell_type": "code",
   "execution_count": 207,
   "id": "c7595e79-b81f-42c9-91b8-a033493b7780",
   "metadata": {},
   "outputs": [],
   "source": [
    "import numpy as np\n",
    "np.set_printoptions(precision=3)"
   ]
  },
  {
   "cell_type": "markdown",
   "id": "28c3704a-cc9c-4e19-ad22-74aa3f0a2d25",
   "metadata": {},
   "source": [
    "### Activation  Functions"
   ]
  },
  {
   "cell_type": "code",
   "execution_count": 208,
   "id": "1b384ee9-806c-4534-aa54-88d438b9f2fa",
   "metadata": {},
   "outputs": [],
   "source": [
    "def sigmoid(v):\n",
    "    return (1 / (1+ np.exp(-v)) )"
   ]
  },
  {
   "cell_type": "code",
   "execution_count": 209,
   "id": "8a685aa7",
   "metadata": {},
   "outputs": [],
   "source": [
    "def relu(v):\n",
    "    if v<0:\n",
    "        return 0\n",
    "    else:\n",
    "        return 1    "
   ]
  },
  {
   "cell_type": "code",
   "execution_count": null,
   "id": "5f050691",
   "metadata": {},
   "outputs": [],
   "source": []
  },
  {
   "cell_type": "code",
   "execution_count": 210,
   "id": "c50763ab",
   "metadata": {},
   "outputs": [],
   "source": [
    "def threshold(v):\n",
    "    if v < 0:\n",
    "        return 0\n",
    "    else:\n",
    "        return 1"
   ]
  },
  {
   "cell_type": "code",
   "execution_count": 211,
   "id": "89d39893",
   "metadata": {},
   "outputs": [],
   "source": [
    "def tanh(v):\n",
    "    return( 1-np.exp(-v) / ( 1 + np.exp(-v) ) )"
   ]
  },
  {
   "cell_type": "code",
   "execution_count": 212,
   "id": "ee0e177d",
   "metadata": {},
   "outputs": [],
   "source": [
    "def MSE(y, yhat):\n",
    "    m =len(y)\n",
    "    err = 0.0\n",
    "    for i in range(m):\n",
    "        err += np.square(y[i]-yhat[i])\n",
    "    err = (1/2*m)*err\n",
    "    return(err)"
   ]
  },
  {
   "cell_type": "code",
   "execution_count": 213,
   "id": "36dc008c",
   "metadata": {},
   "outputs": [],
   "source": [
    "def add_bias(X_):\n",
    "    return np.append(X_,1)"
   ]
  },
  {
   "cell_type": "code",
   "execution_count": 214,
   "id": "9712047a",
   "metadata": {},
   "outputs": [],
   "source": [
    "def forward_prop(W_,X_,fn=sigmoid):\n",
    "    if W_.shape[1] != X_.shape[0]:\n",
    "        print(\"The matrix columns and the input length are not similar.\")\n",
    "        return\n",
    "    output = fn(np.matmul(W_,X_)) #the sigmoid of the scalar product of X and column i of W\n",
    "    return output"
   ]
  },
  {
   "cell_type": "code",
   "execution_count": 215,
   "id": "0854ef72",
   "metadata": {},
   "outputs": [],
   "source": [
    "#def back_prop():\n",
    "    \n",
    "    "
   ]
  },
  {
   "cell_type": "code",
   "execution_count": 443,
   "id": "51c84a36",
   "metadata": {},
   "outputs": [],
   "source": [
    "def delta_output_layer_fn(W_output_, desired_,  Y_in_, a=1):\n",
    "    output_ = forward_prop(W_output_,Y_in_)\n",
    "    delta_output_layer = a * (desired - output_) * output_ * (1- output_)    \n",
    "    return delta_output_layer"
   ]
  },
  {
   "cell_type": "code",
   "execution_count": 444,
   "id": "e06f3663",
   "metadata": {},
   "outputs": [],
   "source": [
    "def delta_hidden_layer():\n",
    "    return"
   ]
  },
  {
   "cell_type": "code",
   "execution_count": null,
   "id": "d74f594f",
   "metadata": {},
   "outputs": [],
   "source": []
  },
  {
   "cell_type": "markdown",
   "id": "a991f176-9897-41c9-a27e-c002d7545050",
   "metadata": {},
   "source": [
    "### Try in random simple input"
   ]
  },
  {
   "cell_type": "code",
   "execution_count": 445,
   "id": "34f94b4c",
   "metadata": {},
   "outputs": [],
   "source": [
    "input_length = 3\n",
    "L1_neuron_nb = 6\n",
    "L2_neuron_nb = 2\n",
    "np.random.seed(10)"
   ]
  },
  {
   "cell_type": "code",
   "execution_count": 446,
   "id": "1e9a4aa5",
   "metadata": {},
   "outputs": [],
   "source": [
    "X1 = np.random.rand(input_length)\n",
    "X1= add_bias(X1)"
   ]
  },
  {
   "cell_type": "code",
   "execution_count": 447,
   "id": "96221bc0",
   "metadata": {
    "scrolled": true
   },
   "outputs": [
    {
     "name": "stdout",
     "output_type": "stream",
     "text": [
      "[0.971 0.898]\n"
     ]
    }
   ],
   "source": [
    "#Forwarad prop to get Y1, output\n",
    "W1 = np.random.rand(L1_neuron_nb , input_length +1)\n",
    "Y1 = add_bias(forward_prop(W1,X1))\n",
    "\n",
    "W2 = np.random.rand(L2_neuron_nb , L1_neuron_nb +1 )\n",
    "output = forward_prop(W2,Y1)\n",
    "print(output)"
   ]
  },
  {
   "cell_type": "code",
   "execution_count": 448,
   "id": "c9c5c2e2",
   "metadata": {},
   "outputs": [
    {
     "name": "stdout",
     "output_type": "stream",
     "text": [
      "[0.771 0.021 0.634 1.   ]\n"
     ]
    }
   ],
   "source": [
    "print(X1)"
   ]
  },
  {
   "cell_type": "code",
   "execution_count": 449,
   "id": "351b55fd",
   "metadata": {},
   "outputs": [
    {
     "name": "stdout",
     "output_type": "stream",
     "text": [
      "[[0.749 0.499 0.225 0.198]\n",
      " [0.761 0.169 0.088 0.685]\n",
      " [0.953 0.004 0.512 0.813]\n",
      " [0.613 0.722 0.292 0.918]\n",
      " [0.715 0.543 0.142 0.373]\n",
      " [0.674 0.442 0.434 0.618]]\n"
     ]
    }
   ],
   "source": [
    "print(W1)"
   ]
  },
  {
   "cell_type": "code",
   "execution_count": 450,
   "id": "86fd50c8",
   "metadata": {},
   "outputs": [
    {
     "name": "stdout",
     "output_type": "stream",
     "text": [
      "[0.717 0.791 0.867 0.831 0.736 0.806 1.   ]\n"
     ]
    }
   ],
   "source": [
    "print(Y1)"
   ]
  },
  {
   "cell_type": "code",
   "execution_count": 451,
   "id": "6a5a02b4",
   "metadata": {},
   "outputs": [
    {
     "name": "stdout",
     "output_type": "stream",
     "text": [
      "[[0.513 0.65  0.601 0.805 0.522 0.909 0.319]\n",
      " [0.09  0.301 0.114 0.829 0.047 0.626 0.548]]\n"
     ]
    }
   ],
   "source": [
    "print(W2)"
   ]
  },
  {
   "cell_type": "code",
   "execution_count": 452,
   "id": "a49790bc",
   "metadata": {},
   "outputs": [
    {
     "name": "stdout",
     "output_type": "stream",
     "text": [
      "[0.971 0.898]\n"
     ]
    }
   ],
   "source": [
    "print(output)"
   ]
  },
  {
   "cell_type": "markdown",
   "id": "76aa3cbb",
   "metadata": {},
   "source": [
    "### Back Propagation with activation = sigmoid"
   ]
  },
  {
   "cell_type": "code",
   "execution_count": 453,
   "id": "111aed41",
   "metadata": {},
   "outputs": [],
   "source": [
    "#Back Propagation\n",
    "desired = np.array([1,0])"
   ]
  },
  {
   "cell_type": "code",
   "execution_count": 454,
   "id": "ef4ec4e7",
   "metadata": {},
   "outputs": [
    {
     "name": "stdout",
     "output_type": "stream",
     "text": [
      "[1 0]\n"
     ]
    }
   ],
   "source": [
    "print(desired)"
   ]
  },
  {
   "cell_type": "code",
   "execution_count": 455,
   "id": "90dd8d4a",
   "metadata": {},
   "outputs": [
    {
     "name": "stdout",
     "output_type": "stream",
     "text": [
      "[0.971 0.898]\n"
     ]
    }
   ],
   "source": [
    "print(output)"
   ]
  },
  {
   "cell_type": "code",
   "execution_count": 456,
   "id": "15097d67",
   "metadata": {},
   "outputs": [],
   "source": [
    "a = 1\n",
    "eta = 5"
   ]
  },
  {
   "cell_type": "code",
   "execution_count": 431,
   "id": "69406d4f",
   "metadata": {},
   "outputs": [
    {
     "data": {
      "text/plain": [
       "array([ 0.   , -0.107])"
      ]
     },
     "execution_count": 431,
     "metadata": {},
     "output_type": "execute_result"
    }
   ],
   "source": [
    "delta_j_output_layer = a * (desired - output) * output * (1 - output)\n",
    "delta_j_output_layer"
   ]
  },
  {
   "cell_type": "code",
   "execution_count": 399,
   "id": "133d6f78",
   "metadata": {},
   "outputs": [],
   "source": [
    "r1,c1 = W1.shape\n",
    "r2,c2 = W2.shape"
   ]
  },
  {
   "cell_type": "code",
   "execution_count": 400,
   "id": "b5f38d0b",
   "metadata": {},
   "outputs": [],
   "source": [
    "#back_prop for W2 (output layer)\n",
    "for j in range(r2):\n",
    "    for i in range(c2):\n",
    "        W2[j,i] = W2[j,i] + (eta * ( delta_j_output_layer[j]) * Y1[i])"
   ]
  },
  {
   "cell_type": "code",
   "execution_count": 401,
   "id": "5970d6f4",
   "metadata": {},
   "outputs": [
    {
     "data": {
      "text/plain": [
       "array([[ 0.516,  0.654,  0.605,  0.809,  0.525,  0.912,  0.323],\n",
       "       [-0.204, -0.024, -0.242,  0.487, -0.256,  0.295,  0.137]])"
      ]
     },
     "execution_count": 401,
     "metadata": {},
     "output_type": "execute_result"
    }
   ],
   "source": [
    "W2 "
   ]
  },
  {
   "cell_type": "code",
   "execution_count": 402,
   "id": "d77d355b",
   "metadata": {
    "scrolled": true
   },
   "outputs": [],
   "source": [
    "#Calculate delta_J(n) for hidden layer\n",
    "delta_j_hidden_layer = np.zeros(L1_neuron_nb)\n",
    "for j in range(L1_neuron_nb):\n",
    "    delta_j_next_sum = 0 \n",
    "    for k in range(L2_neuron_nb):\n",
    "        delta_j_next_sum += delta_j_output_layer[k] * W2[k,j]\n",
    "    delta_j_hidden_layer[j] = a * Y1[j] * (1-Y1[j]) * delta_j_next"
   ]
  },
  {
   "cell_type": "code",
   "execution_count": 411,
   "id": "0c46c1f0",
   "metadata": {},
   "outputs": [],
   "source": [
    "def delta_hidden_layer_fn(W_local, W_next,X_input,delta_next):\n",
    "    Y_j = forward_prop(W_local,X_input)\n",
    "    r_local , c_local = W_local.shape\n",
    "    r_next, c_next = W_next.shape\n",
    "    delta_hidden = np.zeros(r_local)\n",
    "    for j in range(r_local):\n",
    "        delta_j_next_sum = 0\n",
    "        for k in range(r_next):\n",
    "            delta_j_next_sum += delta_next[k] * W_next[k,j]\n",
    "        delta_hidden[j] = a * Y_j[j] * (1-Y_j[j]) * delta_j_next_sum\n",
    "    return delta_hidden\n",
    "    "
   ]
  },
  {
   "cell_type": "code",
   "execution_count": 404,
   "id": "ca6855bb",
   "metadata": {},
   "outputs": [],
   "source": [
    "#back prop for W1 (hidden layer)\n",
    "for i in range(c1):\n",
    "    for j in range(r1):\n",
    "        W1[j,i] = W1[j,i] + eta * delta_j_hidden_layer[j] * X1[i]"
   ]
  },
  {
   "cell_type": "code",
   "execution_count": 405,
   "id": "fdd601e0",
   "metadata": {},
   "outputs": [
    {
     "name": "stdout",
     "output_type": "stream",
     "text": [
      "[[0.749 0.499 0.225 0.198]\n",
      " [0.761 0.169 0.088 0.686]\n",
      " [0.953 0.004 0.512 0.813]\n",
      " [0.613 0.722 0.292 0.918]\n",
      " [0.715 0.543 0.142 0.374]\n",
      " [0.674 0.442 0.434 0.618]] \n",
      "\n",
      "[[ 0.516  0.654  0.605  0.809  0.525  0.912  0.323]\n",
      " [-0.204 -0.024 -0.242  0.487 -0.256  0.295  0.137]]\n"
     ]
    }
   ],
   "source": [
    "print(W1,\"\\n\")\n",
    "print(W2)"
   ]
  },
  {
   "cell_type": "code",
   "execution_count": 432,
   "id": "1123930c",
   "metadata": {},
   "outputs": [],
   "source": [
    "epochs = 100\n",
    "\n",
    "for e in range(epochs):\n",
    "    Y1 =  add_bias(forward_prop(W1,X1))\n",
    "    output = forward_prop(W2,Y1)\n",
    "    \n",
    "    delta_j_output_layer = a * (desired - output) * output * (1 - output)\n",
    "    \n",
    "    for i in range(c2):\n",
    "        for j in range(r2):\n",
    "            W2[j,i] = W2[j,i] +( eta *  delta_j_output_layer[j] * Y1[i])\n",
    "            \n",
    "    delta_j_hidden  = np.zeros(L1_neuron_nb)\n",
    "    for j in range(L1_neuron_nb):\n",
    "        delta_j_next = 0 \n",
    "        for k in range(L2_neuron_nb):\n",
    "            delta_j_next += delta_j_output_layer[k] * W2[k,j]\n",
    "        delta_j_hidden[j] = a * Y1[j] * (1-Y1[j]) * delta_j_next\n",
    "        \n",
    "    for i in range(c1):\n",
    "        for j in range(r1):\n",
    "            W1[j,i] = W1[j,i] +(eta * delta_j_hidden[j] * X1[i])\n",
    "    e+=1"
   ]
  },
  {
   "cell_type": "code",
   "execution_count": 442,
   "id": "6b74fe79",
   "metadata": {},
   "outputs": [
    {
     "data": {
      "text/plain": [
       "array([ 0.009, -0.054])"
      ]
     },
     "execution_count": 442,
     "metadata": {},
     "output_type": "execute_result"
    }
   ],
   "source": [
    "delta_j_output = delta_output_layer_fn(W2,desired,Y1)\n",
    "delta_j_output"
   ]
  },
  {
   "cell_type": "code",
   "execution_count": 457,
   "id": "7adac0c1",
   "metadata": {},
   "outputs": [],
   "source": [
    "epochs = 100\n",
    "\n",
    "for e in range(epochs):\n",
    "    Y1 =  add_bias(forward_prop(W1,X1))\n",
    "    output = forward_prop(W2,Y1)\n",
    "    \n",
    "    delta_j_output = delta_output_layer_fn(W2,desired,Y1)\n",
    "    for i in range(c2):\n",
    "        for j in range(r2):\n",
    "            W2[j,i] = W2[j,i] +( eta *  delta_j_output[j] * Y1[i])\n",
    "\n",
    "    delta_j_1 = delta_hidden_layer_fn(W1,W2,X1,delta_j_output)\n",
    "    for i in range(c1):\n",
    "        for j in range(r1):\n",
    "            W1[j,i] = W1[j,i] +(eta * delta_j_1[j] * X1[i])\n",
    "    e+=1"
   ]
  },
  {
   "cell_type": "code",
   "execution_count": 458,
   "id": "09f5fb42",
   "metadata": {},
   "outputs": [
    {
     "name": "stdout",
     "output_type": "stream",
     "text": [
      "output test [0.988 0.013]\n",
      "desired values [1 0]\n"
     ]
    }
   ],
   "source": [
    "Y1_test = forward_prop(W1,X1)\n",
    "Y1_test=add_bias(Y1_test)\n",
    "output_test = forward_prop(W2,Y1_test)\n",
    "print(\"output test\" , output_test)\n",
    "print(\"desired values\", desired)"
   ]
  },
  {
   "cell_type": "code",
   "execution_count": 408,
   "id": "66ff9047",
   "metadata": {},
   "outputs": [
    {
     "name": "stdout",
     "output_type": "stream",
     "text": [
      "[[0.86  0.501 0.316 0.342]\n",
      " [0.839 0.171 0.153 0.787]\n",
      " [1.029 0.006 0.574 0.91 ]\n",
      " [0.636 0.722 0.312 0.949]\n",
      " [0.829 0.546 0.236 0.522]\n",
      " [0.721 0.443 0.472 0.678]]\n",
      "[[ 0.629  0.775  0.736  0.932  0.64   1.033  0.471]\n",
      " [-0.866 -0.75  -1.034 -0.269 -0.935 -0.44  -0.773]]\n"
     ]
    }
   ],
   "source": [
    "print(W1)\n",
    "print(W2)"
   ]
  },
  {
   "cell_type": "code",
   "execution_count": 409,
   "id": "794b1c1d",
   "metadata": {},
   "outputs": [
    {
     "data": {
      "text/plain": [
       "array([0.771, 0.823, 0.888, 0.839, 0.79 , 0.824, 1.   ])"
      ]
     },
     "execution_count": 409,
     "metadata": {},
     "output_type": "execute_result"
    }
   ],
   "source": [
    "Y1_test"
   ]
  },
  {
   "cell_type": "code",
   "execution_count": null,
   "id": "1db87c2e",
   "metadata": {},
   "outputs": [],
   "source": []
  },
  {
   "cell_type": "code",
   "execution_count": null,
   "id": "5a1acc85",
   "metadata": {},
   "outputs": [],
   "source": []
  }
 ],
 "metadata": {
  "kernelspec": {
   "display_name": "Python 3 (ipykernel)",
   "language": "python",
   "name": "python3"
  },
  "language_info": {
   "codemirror_mode": {
    "name": "ipython",
    "version": 3
   },
   "file_extension": ".py",
   "mimetype": "text/x-python",
   "name": "python",
   "nbconvert_exporter": "python",
   "pygments_lexer": "ipython3",
   "version": "3.9.12"
  }
 },
 "nbformat": 4,
 "nbformat_minor": 5
}
