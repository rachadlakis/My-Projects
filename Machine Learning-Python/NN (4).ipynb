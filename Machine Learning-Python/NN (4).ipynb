{
 "cells": [
  {
   "cell_type": "markdown",
   "id": "da3625ba-bbd5-417f-8432-827334875b8d",
   "metadata": {},
   "source": [
    "## Neural Networks"
   ]
  },
  {
   "cell_type": "markdown",
   "id": "7fccd992",
   "metadata": {},
   "source": [
    "Nb of rows is equal to nb on neurons, the multiplicatoin is done W . X "
   ]
  },
  {
   "cell_type": "code",
   "execution_count": 1,
   "id": "c7595e79-b81f-42c9-91b8-a033493b7780",
   "metadata": {},
   "outputs": [],
   "source": [
    "import numpy as np\n",
    "np.set_printoptions(precision=3)"
   ]
  },
  {
   "cell_type": "markdown",
   "id": "28c3704a-cc9c-4e19-ad22-74aa3f0a2d25",
   "metadata": {},
   "source": [
    "### Activation  Functions"
   ]
  },
  {
   "cell_type": "code",
   "execution_count": 2,
   "id": "1b384ee9-806c-4534-aa54-88d438b9f2fa",
   "metadata": {},
   "outputs": [],
   "source": [
    "def sigmoid(v):\n",
    "    return (1 / (1+ np.exp(-v)) )"
   ]
  },
  {
   "cell_type": "code",
   "execution_count": 3,
   "id": "c84bf472",
   "metadata": {},
   "outputs": [
    {
     "data": {
      "text/plain": [
       "0.5099986668799655"
      ]
     },
     "execution_count": 3,
     "metadata": {},
     "output_type": "execute_result"
    }
   ],
   "source": [
    "sigmoid(0.04)"
   ]
  },
  {
   "cell_type": "code",
   "execution_count": 4,
   "id": "8a685aa7",
   "metadata": {},
   "outputs": [],
   "source": [
    "def relu(v):\n",
    "    if v<0:\n",
    "        return 0\n",
    "    else:\n",
    "        return 1    "
   ]
  },
  {
   "cell_type": "code",
   "execution_count": 5,
   "id": "c50763ab",
   "metadata": {},
   "outputs": [],
   "source": [
    "def threshold(v):\n",
    "    if v < 0:\n",
    "        return 0\n",
    "    else:\n",
    "        return 1"
   ]
  },
  {
   "cell_type": "code",
   "execution_count": 6,
   "id": "89d39893",
   "metadata": {},
   "outputs": [],
   "source": [
    "def tanh(v):\n",
    "    return( 1-np.exp(-v) / ( 1 + np.exp(-v) ) )"
   ]
  },
  {
   "cell_type": "code",
   "execution_count": 7,
   "id": "ee0e177d",
   "metadata": {},
   "outputs": [],
   "source": [
    "def MSE(y, yhat):\n",
    "    m =len(y)\n",
    "    err = 0.0\n",
    "    for i in range(m):\n",
    "        err += np.square(y[i]-yhat[i])\n",
    "    err = (1/2*m)*err\n",
    "    return(err)"
   ]
  },
  {
   "cell_type": "code",
   "execution_count": 8,
   "id": "36dc008c",
   "metadata": {},
   "outputs": [],
   "source": [
    "def add_bias(X_):\n",
    "    return np.append(X_,1)"
   ]
  },
  {
   "cell_type": "code",
   "execution_count": 9,
   "id": "2505c3d6",
   "metadata": {},
   "outputs": [],
   "source": [
    "def forward_prop(W_,X_,fn=sigmoid):\n",
    "    if W_.shape[1] != X_.shape[0]:\n",
    "        print(\"The matrix columns and the input length are not similar.\")\n",
    "        return\n",
    "    output = fn(np.matmul(W_,X_)) #the sigmoid of the scalar product of X and column i of W\n",
    "    return output"
   ]
  },
  {
   "cell_type": "code",
   "execution_count": 10,
   "id": "c6ac53d4",
   "metadata": {},
   "outputs": [],
   "source": [
    "def delta_output_layer_fn(W_output_, desired_,  Y_in_, a=1):\n",
    "    output_ = forward_prop(W_output_,Y_in_)\n",
    "    delta_output_layer = a * (desired - output_) * output_ * (1- output_)    \n",
    "    return delta_output_layer"
   ]
  },
  {
   "cell_type": "code",
   "execution_count": 11,
   "id": "0756adf9",
   "metadata": {},
   "outputs": [],
   "source": [
    "#Take X as input matrix not one by on"
   ]
  },
  {
   "cell_type": "code",
   "execution_count": 12,
   "id": "b14e2731",
   "metadata": {},
   "outputs": [],
   "source": [
    "def delta_hidden_layer_fn(W_local, W_next,X_input,delta_next):\n",
    "    Y_j = forward_prop(W_local,X_input)\n",
    "    r_local , c_local = W_local.shape\n",
    "    r_next, c_next = W_next.shape\n",
    "    delta_hidden = np.zeros(r_local)\n",
    "    for j in range(r_local):\n",
    "        delta_j_next_sum = 0\n",
    "        for k in range(r_next):\n",
    "            delta_j_next_sum += delta_next[k] * W_next[k,j]\n",
    "        delta_hidden[j] = a * Y_j[j] * (1-Y_j[j]) * delta_j_next_sum\n",
    "    return delta_hidden"
   ]
  },
  {
   "cell_type": "markdown",
   "id": "a991f176-9897-41c9-a27e-c002d7545050",
   "metadata": {},
   "source": [
    "### Try in random simple input"
   ]
  },
  {
   "cell_type": "code",
   "execution_count": 13,
   "id": "7f95e153",
   "metadata": {},
   "outputs": [],
   "source": [
    "input_length = 3\n",
    "L1_neuron_nb = 6\n",
    "L2_neuron_nb = 2\n",
    "np.random.seed(10)"
   ]
  },
  {
   "cell_type": "code",
   "execution_count": 14,
   "id": "1c817097",
   "metadata": {},
   "outputs": [],
   "source": [
    "X1 = np.random.rand(input_length)\n",
    "X1= add_bias(X1)"
   ]
  },
  {
   "cell_type": "code",
   "execution_count": 15,
   "id": "a2cafbdf",
   "metadata": {
    "scrolled": true
   },
   "outputs": [
    {
     "name": "stdout",
     "output_type": "stream",
     "text": [
      "[0.971 0.898]\n"
     ]
    }
   ],
   "source": [
    "#Forwarad prop to get Y1, output\n",
    "W1 = np.random.rand(L1_neuron_nb , input_length +1)\n",
    "Y1 = add_bias(forward_prop(W1,X1))\n",
    "\n",
    "W2 = np.random.rand(L2_neuron_nb , L1_neuron_nb +1 )\n",
    "output = forward_prop(W2,Y1)\n",
    "print(output)"
   ]
  },
  {
   "cell_type": "code",
   "execution_count": 16,
   "id": "28291fb0",
   "metadata": {},
   "outputs": [
    {
     "name": "stdout",
     "output_type": "stream",
     "text": [
      "[0.771 0.021 0.634 1.   ]\n"
     ]
    }
   ],
   "source": [
    "print(X1)"
   ]
  },
  {
   "cell_type": "code",
   "execution_count": 17,
   "id": "b74392eb",
   "metadata": {},
   "outputs": [
    {
     "name": "stdout",
     "output_type": "stream",
     "text": [
      "[[0.749 0.499 0.225 0.198]\n",
      " [0.761 0.169 0.088 0.685]\n",
      " [0.953 0.004 0.512 0.813]\n",
      " [0.613 0.722 0.292 0.918]\n",
      " [0.715 0.543 0.142 0.373]\n",
      " [0.674 0.442 0.434 0.618]]\n"
     ]
    }
   ],
   "source": [
    "print(W1)"
   ]
  },
  {
   "cell_type": "code",
   "execution_count": 18,
   "id": "c91e68f9",
   "metadata": {},
   "outputs": [
    {
     "name": "stdout",
     "output_type": "stream",
     "text": [
      "[0.717 0.791 0.867 0.831 0.736 0.806 1.   ]\n"
     ]
    }
   ],
   "source": [
    "print(Y1)"
   ]
  },
  {
   "cell_type": "code",
   "execution_count": 19,
   "id": "c51b1a30",
   "metadata": {},
   "outputs": [
    {
     "name": "stdout",
     "output_type": "stream",
     "text": [
      "[[0.513 0.65  0.601 0.805 0.522 0.909 0.319]\n",
      " [0.09  0.301 0.114 0.829 0.047 0.626 0.548]]\n"
     ]
    }
   ],
   "source": [
    "print(W2)"
   ]
  },
  {
   "cell_type": "code",
   "execution_count": 20,
   "id": "4c29957d",
   "metadata": {},
   "outputs": [
    {
     "name": "stdout",
     "output_type": "stream",
     "text": [
      "[0.971 0.898]\n"
     ]
    }
   ],
   "source": [
    "print(output)"
   ]
  },
  {
   "cell_type": "markdown",
   "id": "9fbfda84",
   "metadata": {},
   "source": [
    "### Back Propagation with activation = sigmoid"
   ]
  },
  {
   "cell_type": "code",
   "execution_count": 21,
   "id": "111aed41",
   "metadata": {},
   "outputs": [],
   "source": [
    "#Back Propagation\n",
    "desired = np.array([0,0])"
   ]
  },
  {
   "cell_type": "code",
   "execution_count": 22,
   "id": "3f599d87",
   "metadata": {},
   "outputs": [
    {
     "name": "stdout",
     "output_type": "stream",
     "text": [
      "[0 0]\n"
     ]
    }
   ],
   "source": [
    "print(desired)"
   ]
  },
  {
   "cell_type": "code",
   "execution_count": 100,
   "id": "f5c136a1",
   "metadata": {},
   "outputs": [
    {
     "name": "stdout",
     "output_type": "stream",
     "text": [
      "[0.9709  0.89812]\n"
     ]
    }
   ],
   "source": [
    "print(output)"
   ]
  },
  {
   "cell_type": "code",
   "execution_count": 101,
   "id": "de789ef3",
   "metadata": {},
   "outputs": [
    {
     "name": "stdout",
     "output_type": "stream",
     "text": [
      "1.7492621503670986\n"
     ]
    }
   ],
   "source": [
    "print(MSE(output,desired))"
   ]
  },
  {
   "cell_type": "code",
   "execution_count": 23,
   "id": "3716bf0e",
   "metadata": {},
   "outputs": [],
   "source": [
    "a = 1\n",
    "eta = 0.3"
   ]
  },
  {
   "cell_type": "code",
   "execution_count": 24,
   "id": "ef491d83",
   "metadata": {},
   "outputs": [],
   "source": [
    "epochs = 100\n",
    "\n",
    "for e in range(epochs):\n",
    "    Y1 =  add_bias(forward_prop(W1,X1))\n",
    "    output_ = forward_prop(W2,Y1)\n",
    "    r1,c1 = W1.shape\n",
    "    r2,c2 = W2.shape\n",
    "    delta_j_output = delta_output_layer_fn(W2,desired, Y1)\n",
    "    for i in range(c2):\n",
    "        for j in range(r2):\n",
    "            W2[j,i] = W2[j,i] +( eta *  delta_j_output[j] * Y1[i])\n",
    "\n",
    "    delta_j_1 = delta_hidden_layer_fn(W1,W2,X1,delta_j_output)\n",
    "    for i in range(c1):\n",
    "        for j in range(r1):\n",
    "            W1[j,i] = W1[j,i] +(eta * delta_j_1[j] * X1[i])\n",
    "    e+=1"
   ]
  },
  {
   "cell_type": "code",
   "execution_count": 25,
   "id": "0e3b5d0d",
   "metadata": {},
   "outputs": [
    {
     "name": "stdout",
     "output_type": "stream",
     "text": [
      "output test [0.084 0.072]\n",
      "desired values [0 0]\n"
     ]
    }
   ],
   "source": [
    "Y1_test = forward_prop(W1,X1)\n",
    "Y1_test=add_bias(Y1_test)\n",
    "output_test = forward_prop(W2,Y1_test)\n",
    "print(\"output test\" , output_test)\n",
    "print(\"desired values\", desired)"
   ]
  },
  {
   "cell_type": "code",
   "execution_count": 26,
   "id": "8f29d753",
   "metadata": {},
   "outputs": [
    {
     "name": "stdout",
     "output_type": "stream",
     "text": [
      "1.7492621503670986\n",
      "0.012125720008188609\n"
     ]
    }
   ],
   "source": [
    "print(MSE(output,desired))\n",
    "print(MSE(output_test, desired))"
   ]
  },
  {
   "cell_type": "code",
   "execution_count": null,
   "id": "9f3e9347",
   "metadata": {},
   "outputs": [],
   "source": []
  },
  {
   "cell_type": "code",
   "execution_count": null,
   "id": "b5d70fae",
   "metadata": {},
   "outputs": [],
   "source": []
  }
 ],
 "metadata": {
  "kernelspec": {
   "display_name": "Python 3 (ipykernel)",
   "language": "python",
   "name": "python3"
  },
  "language_info": {
   "codemirror_mode": {
    "name": "ipython",
    "version": 3
   },
   "file_extension": ".py",
   "mimetype": "text/x-python",
   "name": "python",
   "nbconvert_exporter": "python",
   "pygments_lexer": "ipython3",
   "version": "3.9.12"
  }
 },
 "nbformat": 4,
 "nbformat_minor": 5
}
