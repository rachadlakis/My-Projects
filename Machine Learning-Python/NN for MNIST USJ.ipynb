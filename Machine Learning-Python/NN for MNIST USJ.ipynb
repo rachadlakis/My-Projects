{
 "cells": [
  {
   "cell_type": "code",
   "execution_count": 7,
   "id": "4e6f6fcc-34f8-47f3-b9da-0e0159cab071",
   "metadata": {},
   "outputs": [],
   "source": [
    "import numpy as np\n",
    "import tensorflow as tf\n",
    "from tensorflow import keras\n",
    "from tensorflow.keras.layers import Dense, Input , Activation\n",
    "from keras.models import Sequential"
   ]
  },
  {
   "cell_type": "code",
   "execution_count": 2,
   "id": "2a114e61-3ada-4912-9b86-df74a2adf076",
   "metadata": {},
   "outputs": [
    {
     "name": "stdout",
     "output_type": "stream",
     "text": [
      "Requirement already satisfied: python-mnist in c:\\users\\lenovo\\anaconda3\\lib\\site-packages (0.7)Note: you may need to restart the kernel to use updated packages.\n",
      "\n"
     ]
    }
   ],
   "source": [
    "pip install python-mnist"
   ]
  },
  {
   "cell_type": "code",
   "execution_count": 2,
   "id": "4352e893-a235-49e7-b1f6-4e445590916b",
   "metadata": {},
   "outputs": [],
   "source": [
    "from mnist import MNIST\n",
    "mndata = MNIST('MNIST')"
   ]
  },
  {
   "cell_type": "code",
   "execution_count": 3,
   "id": "cb47307d-a5d7-4414-a3b6-85e13771971f",
   "metadata": {},
   "outputs": [],
   "source": [
    "mndata.gz = True"
   ]
  },
  {
   "cell_type": "code",
   "execution_count": 8,
   "id": "1853fd39-39fb-49ab-85e3-49491a3b78a4",
   "metadata": {},
   "outputs": [],
   "source": [
    "X_train_intial, Y_train_intial = mndata.load_training()\n",
    "X_test_initial, Y_test_initial = mndata.load_testing()"
   ]
  },
  {
   "cell_type": "code",
   "execution_count": 9,
   "id": "62ac6fdb-7144-41f7-97f3-c86741ff4508",
   "metadata": {},
   "outputs": [
    {
     "name": "stdout",
     "output_type": "stream",
     "text": [
      "60000\n"
     ]
    }
   ],
   "source": [
    "print(len(X_train_intial) )"
   ]
  },
  {
   "cell_type": "code",
   "execution_count": 9,
   "id": "37faff0c-eb8c-435e-885d-795939073e86",
   "metadata": {},
   "outputs": [],
   "source": [
    "X_train = X_train_intial\n",
    "Y_train = Y_train_intial \n",
    "X_test = X_test_initial\n",
    "Y_test = Y_test_initial"
   ]
  },
  {
   "cell_type": "code",
   "execution_count": 10,
   "id": "90f63606-2f83-4cdd-ae1c-13ac50df382e",
   "metadata": {},
   "outputs": [
    {
     "name": "stdout",
     "output_type": "stream",
     "text": [
      "\n",
      "............................\n",
      "............................\n",
      "............................\n",
      "............................\n",
      "............................\n",
      "...........@.......@........\n",
      "..........@@.......@........\n",
      ".........@@.......@@........\n",
      ".........@@.......@@........\n",
      "........@@........@.........\n",
      "........@@.......@@.........\n",
      "........@........@@.........\n",
      ".......@@........@@.........\n",
      ".......@@........@@.........\n",
      ".......@.........@@@@@......\n",
      ".......@@@@@@@@@@@@@@.......\n",
      ".......@@@@@@@@@@@@.........\n",
      "........@@@@....@@..........\n",
      "................@@..........\n",
      "................@@..........\n",
      "................@@..........\n",
      "...............@@@..........\n",
      "...............@@...........\n",
      "...............@@...........\n",
      "................@...........\n",
      "............................\n",
      "............................\n",
      "............................\n"
     ]
    }
   ],
   "source": [
    "index = np.random.randint(len(X_train))  # choose an index ;-)\n",
    "print(mndata.display(X_train[index]))"
   ]
  },
  {
   "cell_type": "code",
   "execution_count": 11,
   "id": "4e6cc0eb-132a-435c-b737-52ec0b8b93fd",
   "metadata": {},
   "outputs": [],
   "source": [
    "#after trying to fit on the original data type of X_trian (list) it did not work, so we have to transform the data type to nupmy array\n",
    "X_train = np.array(X_train)\n",
    "X_test = np.array(X_test)\n",
    "Y_train = np.array(Y_train)\n",
    "Y_test = np.array(Y_test)\n",
    "\n"
   ]
  },
  {
   "cell_type": "code",
   "execution_count": 14,
   "id": "64c73246-3a01-4e4b-9761-08a1b0860827",
   "metadata": {},
   "outputs": [
    {
     "data": {
      "text/plain": [
       "784"
      ]
     },
     "execution_count": 14,
     "metadata": {},
     "output_type": "execute_result"
    }
   ],
   "source": [
    "len(X_train[0])"
   ]
  },
  {
   "cell_type": "code",
   "execution_count": 12,
   "id": "fd7436b0-7294-48fd-b966-b46f8a1fbf40",
   "metadata": {},
   "outputs": [],
   "source": [
    "X_train = X_train.astype(\"float32\") / 255\n",
    "X_test = X_test.astype(\"float32\") / 255\n",
    "\n",
    "Y_train = Y_train.astype(\"float32\")\n",
    "Y_test = Y_test.astype(\"float32\")\n",
    " \n",
    "    \n",
    "X_val = X_train[-10000:] \n",
    "Y_val = Y_test[-10000:]\n",
    "X_train = X_train[:-10000] \n",
    "Y_train = Y_train[:-10000]"
   ]
  },
  {
   "cell_type": "code",
   "execution_count": 236,
   "id": "43d1c418-7929-4dcd-9964-4c5fef56e93f",
   "metadata": {},
   "outputs": [
    {
     "name": "stdout",
     "output_type": "stream",
     "text": [
      "50000\n",
      "10000\n"
     ]
    }
   ],
   "source": [
    "print(len(X_train))\n",
    "print(len(X_val))"
   ]
  },
  {
   "cell_type": "code",
   "execution_count": 16,
   "id": "a6d73548-6210-40be-bc4c-36ab2096d0db",
   "metadata": {},
   "outputs": [
    {
     "data": {
      "text/plain": [
       "(784,)"
      ]
     },
     "execution_count": 16,
     "metadata": {},
     "output_type": "execute_result"
    }
   ],
   "source": [
    "X_train[0].shape"
   ]
  },
  {
   "cell_type": "code",
   "execution_count": null,
   "id": "2891a5f6-4921-4975-8224-a4324241fa42",
   "metadata": {},
   "outputs": [],
   "source": []
  },
  {
   "cell_type": "code",
   "execution_count": 13,
   "id": "f8bdf048-3ff6-42f2-9a84-2bbbc74bc54f",
   "metadata": {},
   "outputs": [],
   "source": [
    "#model_1 = Sequential()\n",
    "\n",
    "Input = keras.Input(shape=(784,) )\n",
    "L1 = Dense(64, activation='relu', name=\"L1\")\n",
    "L2 = Dense(64, activation='relu', name=\"L2\")\n",
    "L3 = Dense(10, activation='softmax', name=\"final\")\n",
    "\n",
    "model_1 = Sequential([Input, L1, L2, L3])"
   ]
  },
  {
   "cell_type": "code",
   "execution_count": 265,
   "id": "8366acaa-8898-4203-8520-8dcf47bf8929",
   "metadata": {},
   "outputs": [
    {
     "data": {
      "text/plain": [
       "[<keras.layers.core.dense.Dense at 0x218a5ef07f0>,\n",
       " <keras.layers.core.dense.Dense at 0x2184a317040>,\n",
       " <keras.layers.core.dense.Dense at 0x2184a317130>]"
      ]
     },
     "execution_count": 265,
     "metadata": {},
     "output_type": "execute_result"
    }
   ],
   "source": [
    "model_1.layers"
   ]
  },
  {
   "cell_type": "code",
   "execution_count": 240,
   "id": "35d47758-daac-4945-9b99-234797986f97",
   "metadata": {},
   "outputs": [],
   "source": [
    "#pip install livelossplot \n",
    "\n",
    "#to plot the losses live"
   ]
  },
  {
   "cell_type": "code",
   "execution_count": 17,
   "id": "86e97814-8987-41e1-91a9-aa0fa9581ab6",
   "metadata": {},
   "outputs": [],
   "source": [
    "model_1.compile(\n",
    "    optimizer='rmsprop',  # Optimizer\n",
    "    # Loss function to minimize\n",
    "    loss=keras.losses.SparseCategoricalCrossentropy(),\n",
    "    #keras.losses.SparseCategoricalCrossentropy(),\n",
    "    #'categorical_crossentropy'\n",
    "    # List of metrics to monitor\n",
    "    metrics=['accuracy']\n",
    ")"
   ]
  },
  {
   "cell_type": "code",
   "execution_count": 36,
   "id": "f62604d3-16ba-41be-a319-cb1cde995074",
   "metadata": {},
   "outputs": [
    {
     "name": "stdout",
     "output_type": "stream",
     "text": [
      "Model: \"sequential\"\n",
      "_________________________________________________________________\n",
      " Layer (type)                Output Shape              Param #   \n",
      "=================================================================\n",
      " L1 (Dense)                  (None, 64)                50240     \n",
      "                                                                 \n",
      " L2 (Dense)                  (None, 64)                4160      \n",
      "                                                                 \n",
      " final (Dense)               (None, 10)                650       \n",
      "                                                                 \n",
      "=================================================================\n",
      "Total params: 55,050\n",
      "Trainable params: 55,050\n",
      "Non-trainable params: 0\n",
      "_________________________________________________________________\n"
     ]
    }
   ],
   "source": [
    "model_1.summary()"
   ]
  },
  {
   "cell_type": "code",
   "execution_count": 37,
   "id": "c8a696db",
   "metadata": {},
   "outputs": [
    {
     "data": {
      "text/plain": [
       "(50000, 784)"
      ]
     },
     "execution_count": 37,
     "metadata": {},
     "output_type": "execute_result"
    }
   ],
   "source": [
    "X_train.shape"
   ]
  },
  {
   "cell_type": "code",
   "execution_count": 18,
   "id": "5787a8c1-57ed-40a6-a1d4-e0866710125e",
   "metadata": {},
   "outputs": [
    {
     "data": {
      "image/png": "[encoded data removed]",
      "text/plain": [
       "<Figure size 864x576 with 2 Axes>"
      ]
     },
     "metadata": {
      "needs_background": "light"
     },
     "output_type": "display_data"
    },
    {
     "name": "stdout",
     "output_type": "stream",
     "text": [
      "accuracy\n",
      "\ttraining         \t (min:    0.913, max:    0.980, cur:    0.980)\n",
      "\tvalidation       \t (min:    0.949, max:    0.970, cur:    0.970)\n",
      "Loss\n",
      "\ttraining         \t (min:    0.067, max:    0.300, cur:    0.067)\n",
      "\tvalidation       \t (min:    0.113, max:    0.173, cur:    0.113)\n",
      "\b\b\b\b\b\b\b\b\b\b\b\b\b\b\b\b\b\b\b\b\b\b\b\b\b\b\b\b\b\b\b\b\b\b\b\b\b\b\b\b\b\b\b\b\b\b\b\b\b\b\b\b\b\b\b\b\b\b\b\b\b\b\b\b\b\b\b\b\b\b\b\b\b\b\b\b\b\b\b\b\b\b\b\b\b\b\r",
      "1563/1563 [==============================] - 9s 6ms/step - loss: 0.0671 - accuracy: 0.9805 - val_loss: 0.1130 - val_accuracy: 0.9704\n"
     ]
    },
    {
     "data": {
      "text/plain": [
       "<keras.callbacks.History at 0x17086081e80>"
      ]
     },
     "execution_count": 18,
     "metadata": {},
     "output_type": "execute_result"
    }
   ],
   "source": [
    "from livelossplot import PlotLossesKeras\n",
    "\n",
    "model_1.fit(X_train, \n",
    "          Y_train, \n",
    "          epochs=6,  #nb of epochs\n",
    "          validation_data=(X_test, Y_test), \n",
    "          callbacks=[PlotLossesKeras()], # see progress\n",
    "          verbose=1) # how do you want to 'see' the training progress for each epoch."
   ]
  },
  {
   "cell_type": "code",
   "execution_count": 39,
   "id": "b14bcdc8-7395-45e8-8e0a-a244f9140846",
   "metadata": {},
   "outputs": [
    {
     "name": "stdout",
     "output_type": "stream",
     "text": [
      "Evaluate model_1 on test data\n",
      "79/79 [==============================] - 0s 2ms/step - loss: 0.1400 - accuracy: 0.9707\n",
      "test loss, test acc: [0.13995181024074554, 0.9707000255584717]\n"
     ]
    }
   ],
   "source": [
    "print(\"Evaluate model_1 on test data\")\n",
    "results = model_1.evaluate(X_test, Y_test, batch_size=128)\n",
    "print(\"test loss, test acc:\", results)"
   ]
  },
  {
   "cell_type": "code",
   "execution_count": 270,
   "id": "dc88494e-3eb5-4aa6-a8cf-00ed0189434c",
   "metadata": {},
   "outputs": [
    {
     "data": {
      "text/plain": [
       "(784,)"
      ]
     },
     "execution_count": 270,
     "metadata": {},
     "output_type": "execute_result"
    }
   ],
   "source": [
    "X_train[0].shape"
   ]
  },
  {
   "cell_type": "code",
   "execution_count": 273,
   "id": "9ad51064-70bd-4007-bfc4-9338c62cdfdb",
   "metadata": {},
   "outputs": [
    {
     "name": "stdout",
     "output_type": "stream",
     "text": [
      "1/1 [==============================] - 0s 47ms/step\n"
     ]
    },
    {
     "data": {
      "text/plain": [
       "5"
      ]
     },
     "execution_count": 273,
     "metadata": {},
     "output_type": "execute_result"
    }
   ],
   "source": [
    "np.argmax (model_1.predict (X_train[:1,]) )"
   ]
  },
  {
   "cell_type": "code",
   "execution_count": null,
   "id": "7ff3524d-e79d-43ff-a721-a7af48eda0af",
   "metadata": {},
   "outputs": [],
   "source": []
  },
  {
   "cell_type": "code",
   "execution_count": 290,
   "id": "82c65dad-a5cd-4a42-96c8-2469be0d1635",
   "metadata": {},
   "outputs": [
    {
     "name": "stdout",
     "output_type": "stream",
     "text": [
      "1/1 [==============================] - 0s 21ms/step\n",
      "predoction:  5\n",
      "\n",
      "............................\n",
      "............................\n",
      "............................\n",
      "............................\n",
      "............................\n",
      "............................\n",
      "............................\n",
      ".............@@@@@@.........\n",
      "............@@@@@@@@@.......\n",
      "............@@@@..@@@.......\n",
      "............@@......@@......\n",
      "............@........@......\n",
      "...........@@...............\n",
      "...........@@...............\n",
      "............@...............\n",
      "............@@..............\n",
      ".............@@@............\n",
      "..............@@............\n",
      "...............@............\n",
      "...............@@...........\n",
      "...............@............\n",
      "..............@@............\n",
      ".............@@.............\n",
      "...........@@@@.............\n",
      ".........@@@@@..............\n",
      "............................\n",
      "............................\n",
      "............................\n"
     ]
    }
   ],
   "source": [
    "index = np.random.randint(len(X_train))  # choose an index ;-)\n",
    "\n",
    "prediction = np.argmax(model_1.predict(X_train[index].reshape(1,784) ) ) #Do't know why predict is not acceting X_train[index]\n",
    "print(\"predoction: \" , prediction)\n",
    "\n",
    "print(mndata.display(X_train_intial[index]))"
   ]
  },
  {
   "cell_type": "code",
   "execution_count": null,
   "id": "60c0caea-0396-43c8-aef8-aeae1ece1645",
   "metadata": {},
   "outputs": [],
   "source": []
  }
 ],
 "metadata": {
  "kernelspec": {
   "display_name": "Python 3 (ipykernel)",
   "language": "python",
   "name": "python3"
  },
  "language_info": {
   "codemirror_mode": {
    "name": "ipython",
    "version": 3
   },
   "file_extension": ".py",
   "mimetype": "text/x-python",
   "name": "python",
   "nbconvert_exporter": "python",
   "pygments_lexer": "ipython3",
   "version": "3.9.12"
  }
 },
 "nbformat": 4,
 "nbformat_minor": 5
}
