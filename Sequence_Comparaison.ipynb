{
  "nbformat": 4,
  "nbformat_minor": 0,
  "metadata": {
    "colab": {
      "name": "Sequence Comparaison.ipynb",
      "provenance": [],
      "authorship_tag": "ABX9TyM+s8X+YOm6+zaeJMihVffA",
      "include_colab_link": true
    },
    "kernelspec": {
      "name": "python3",
      "display_name": "Python 3"
    },
    "language_info": {
      "name": "python"
    }
  },
  "cells": [
    {
      "cell_type": "markdown",
      "metadata": {
        "id": "view-in-github",
        "colab_type": "text"
      },
      "source": [
        "<a href=\"https://colab.research.google.com/github/rachadlakis/My-Projects/blob/main/Sequence_Comparaison.ipynb\" target=\"_parent\"><img src=\"https://colab.research.google.com/assets/colab-badge.svg\" alt=\"Open In Colab\"/></a>"
      ]
    },
    {
      "cell_type": "code",
      "metadata": {
        "colab": {
          "base_uri": "https://localhost:8080/"
        },
        "id": "3HqP-EDdgQXD",
        "outputId": "6186dc44-4a3f-4d03-fb26-0270b3d2c622"
      },
      "source": [
        "from difflib import SequenceMatcher\n",
        "import pandas as pd\n",
        "\n",
        "def compare( s1, s2 ): #compare function returns the similarity ratio between two strings\n",
        "    return SequenceMatcher(None, s1, s2).ratio()\n",
        "def exists_in(s1, df): # cheks if strin s2 exists in DataFrame df\n",
        "    exist = s1 in df['AlleleSequence']\n",
        "    return exist   \n",
        "   \n",
        "path = \"test comparison.csv\"\n",
        "input_df = pd.read_csv(path)\n",
        "\n",
        "result_path = \"results.csv\"\n",
        "results_df = pd.DataFrame(columns=['Group', 'CloneID', 'AlleleSequence', 'Similarity'])\n",
        "\n",
        "ratio = 0.75\n",
        "start = 5   #should start from 0 the first time, then from the end of previous time \n",
        "end = 100     #end for a certain burst, second burst should start from same number\n",
        "\n",
        "row_number = input_df[ input_df.columns[0]].count()\n",
        "Group_counter = 1\n",
        "\n",
        "# !!!!! MAKE SURE ALL RESULT and INPUT FILEs ARE CLOSED\n",
        "#!!!!! MAKE SURE NOT TO REPEAT VALUES IN START and END\n",
        "if start != 0 :\n",
        "    Group_counter = start +1\n",
        "    \n",
        "for i in range(start, end):\n",
        "    allele1 = input_df.iloc[i,1]\n",
        "    allele1 = allele1[1:-1]\n",
        "    if exists_in(allele1, results_df): #See if this allele is in some group of previos allele, fi so pass to next\n",
        "        continue\n",
        "    for k in range(i, 0, -1):\n",
        "        allele3 = input_df.iloc[k, 1]\n",
        "        allele3 = allele3[1:-1]\n",
        "        if compare(allele1, allele3) > ratio:\n",
        "            continue\n",
        "    \n",
        "    new_row = {'Group': Group_counter , 'CloneID':input_df.iloc[i,0],\n",
        "               'AlleleSequence':allele1, 'Similarity': 1 }\n",
        "    results_df = results_df.append(new_row, ignore_index=True)\n",
        "    \n",
        "    new_row2 = {'AlleleSequence': allele1 }\n",
        "        \n",
        "    for j in range(i+1, row_number):\n",
        "        allele2 = input_df.iloc[j, 1]\n",
        "        allele2 = allele2[1:-1]\n",
        "        if compare(allele1, allele2) > ratio:\n",
        "            new_row2 = {'Group':Group_counter , 'CloneID':input_df.iloc[j,0],\n",
        "                        'AlleleSequence':allele2, 'Similarity':compare(allele1, allele2) }\n",
        "            results_df = results_df.append(new_row2, ignore_index=True)\n",
        "            new_row3 = {'AlleleSequence': allele2 }\n",
        "            \n",
        "    results_df.to_csv(result_path, mode='a')\n",
        "    Group_counter += 1 \n",
        "    results_df = results_df.iloc[0:0]\n",
        "\n",
        "print(\"Work Done between:\" , start, \", and \"  ,end, \" . Continue from \" , end , \" .\")\n",
        "\n",
        "\n",
        "            \n",
        "        \n",
        "       \n",
        "    \n"
      ],
      "execution_count": null,
      "outputs": [
        {
          "output_type": "stream",
          "name": "stdout",
          "text": [
            "Work Done between: 5 , and  100  . Continue from  100  .\n"
          ]
        }
      ]
    }
  ]
}