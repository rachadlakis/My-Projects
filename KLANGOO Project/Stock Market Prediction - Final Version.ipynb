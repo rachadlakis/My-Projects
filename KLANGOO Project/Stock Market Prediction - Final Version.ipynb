{
 "cells": [
  {
   "cell_type": "code",
   "execution_count": 1,
   "id": "459a7848",
   "metadata": {},
   "outputs": [],
   "source": [
    "consumer_key = \"\"\n",
    "consumer_secret = \" \"\n",
    "access_token = \" \"\n",
    "access_token_secret = \" \""
   ]
  },
  {
   "cell_type": "markdown",
   "id": "bd300e87",
   "metadata": {},
   "source": [
    "# Stock market Indicator Using Klangoo API"
   ]
  },
  {
   "cell_type": "markdown",
   "id": "7f65b16c",
   "metadata": {},
   "source": [
    "The stock prices are directly related to people opinion and trust. Financial markets are based on `expectations` , and investors buy or sell shares depending on the `sentiments of fear or desire` caused by some event . Investors bet on the credibility of the media outlets that publish rumours despite knowing that the information is not always reliable. `Sentiment Analysis` can be used to determine the `overall opinion` for a certain stock. \n",
    "\n",
    " A fast answer to our research can be to apply `sentiment analysis` on every text containing the word(s) we are interested  in.\n",
    "\n",
    "But, It is not accurate to study every text containing the keyword we are looking for, but how de we know if the `domain` of the text is  the same domain we we are interested  in (Buisness, Technology, ...) or the text is about a completely different domain and citing this word as an example while speaking about another thing??  \n",
    "\n",
    "How do we know if a certain text is directly related to the stock we are interested  in (i.e.: the stock is the main subject or one of the main subjects of the text) and not cited as a secondary subject in the text?\n",
    "\n",
    "### KLANGOO can be the answer\n",
    "\n",
    "`Klangoo` can be used to determine, for each text (a newspaper article) if the domain and the main subject of the text (entities) are what we are interested  in. \n",
    "\n",
    "An API was used to collect articles from different sources, for a certain key word, in a ceratain period of time. The results are sent one by one to `Klangoo` to speicify, for each text, the main categories and entities and keyTopics.\n",
    " \n",
    "After sending the tweet as a requeest to `Klangoo`, we process the results: if the main `category`, the main `entities`, and the `keyTopics` of the text  are related to our goal: the text will be processed: `NLTK` library will give us the sentiment score for this text. Otherwise it will be neglected.\n",
    "\n",
    "After processing all the texts, giving a normal coefficiant to a normal text, and a high coefficnant to a text having a ` highly trusted source`, a final sentiment analysis score will be given to the initial word or bag of words. \n",
    "\n",
    "If it is `negative`, this could be an indicator that the  stock isgoing `down` (this is just a definitive  decision, the sotck market is very complicated and many other causes can play a role), and vice versa.\n",
    "\n",
    "The result will be a final score of sentiment analysis of the main topic (Bitcoin in our example)and a simple advice.\n",
    "\n"
   ]
  },
  {
   "cell_type": "markdown",
   "id": "32a2538d",
   "metadata": {},
   "source": [
    "### Define a function that will be used in the code"
   ]
  },
  {
   "cell_type": "code",
   "execution_count": 2,
   "id": "f24055d6",
   "metadata": {},
   "outputs": [],
   "source": [
    "def have_common(x,y):\n",
    "   common = False\n",
    "   for value in x:\n",
    "      if value in y:\n",
    "         common= True\n",
    "   return common"
   ]
  },
  {
   "cell_type": "code",
   "execution_count": 5,
   "id": "a10024d5",
   "metadata": {},
   "outputs": [],
   "source": [
    "df = pd.DataFrame(columns=['text','creator'])"
   ]
  },
  {
   "cell_type": "code",
   "execution_count": 6,
   "id": "86ffd6f4",
   "metadata": {},
   "outputs": [
    {
     "name": "stdout",
     "output_type": "stream",
     "text": [
      "Empty DataFrame\n",
      "Columns: [text, creator]\n",
      "Index: []\n"
     ]
    }
   ],
   "source": [
    "df.drop(df.index, inplace=True)\n",
    "print(df)"
   ]
  },
  {
   "cell_type": "markdown",
   "id": "470c3182",
   "metadata": {},
   "source": [
    "### Importing Libraries "
   ]
  },
  {
   "cell_type": "code",
   "execution_count": 7,
   "id": "97a8ea49",
   "metadata": {},
   "outputs": [
    {
     "name": "stdout",
     "output_type": "stream",
     "text": [
      "Requirement already satisfied: klangooclient in c:\\users\\lenovo\\anaconda3\\lib\\site-packages (1.0.0)\n",
      "Note: you may need to restart the kernel to use updated packages.\n"
     ]
    }
   ],
   "source": [
    "pip install klangooclient"
   ]
  },
  {
   "cell_type": "code",
   "execution_count": 4,
   "id": "7f0f2ed5",
   "metadata": {},
   "outputs": [],
   "source": [
    "from klangooclient.MagnetAPIClient import MagnetAPIClient\n",
    "import pandas as pd\n",
    "import json\n",
    "import string"
   ]
  },
  {
   "cell_type": "markdown",
   "id": "a5d318ea",
   "metadata": {},
   "source": [
    "### Prepare connection strings and secret key for Klangoo"
   ]
  },
  {
   "cell_type": "code",
   "execution_count": 8,
   "id": "c4f05caa",
   "metadata": {},
   "outputs": [],
   "source": [
    "#prepare the connection strings and the secret key to connect to Klangoo\n",
    "ENDPOINT ='https://nlp.klangoo.com/Service.svc'\n",
    "CALK = '155b99fc-758c-40c8-a8ef-5d4eb9fba616'\n",
    "SECRET_KEY = 'wTMeUVHL38vGrdDBbSdSFBQOWFchPTaUnIFZBJS4'\n",
    "\n",
    "client = MagnetAPIClient(ENDPOINT, CALK, SECRET_KEY)"
   ]
  },
  {
   "cell_type": "markdown",
   "id": "6946b57b",
   "metadata": {},
   "source": [
    " "
   ]
  },
  {
   "cell_type": "markdown",
   "id": "6487db3a",
   "metadata": {},
   "source": [
    "## \"Bitcoin stock\" Indicator today (July 19 -  2022)"
   ]
  },
  {
   "cell_type": "markdown",
   "id": "8ad8a5d9",
   "metadata": {},
   "source": [
    "### Install newsdataapi "
   ]
  },
  {
   "cell_type": "code",
   "execution_count": 12,
   "id": "861d5250",
   "metadata": {
    "scrolled": false
   },
   "outputs": [
    {
     "name": "stdout",
     "output_type": "stream",
     "text": [
      "Requirement already satisfied: newsdataapi in c:\\users\\lenovo\\anaconda3\\lib\\site-packages (0.1.5)Note: you may need to restart the kernel to use updated packages.\n",
      "\n",
      "Requirement already satisfied: requests<3.0.0 in c:\\users\\lenovo\\anaconda3\\lib\\site-packages (from newsdataapi) (2.27.1)\n",
      "Requirement already satisfied: urllib3<1.27,>=1.21.1 in c:\\users\\lenovo\\anaconda3\\lib\\site-packages (from requests<3.0.0->newsdataapi) (1.26.9)\n",
      "Requirement already satisfied: idna<4,>=2.5 in c:\\users\\lenovo\\anaconda3\\lib\\site-packages (from requests<3.0.0->newsdataapi) (3.3)\n",
      "Requirement already satisfied: certifi>=2017.4.17 in c:\\users\\lenovo\\anaconda3\\lib\\site-packages (from requests<3.0.0->newsdataapi) (2022.5.18.1)\n",
      "Requirement already satisfied: charset-normalizer~=2.0.0 in c:\\users\\lenovo\\anaconda3\\lib\\site-packages (from requests<3.0.0->newsdataapi) (2.0.4)\n"
     ]
    }
   ],
   "source": [
    "pip install newsdataapi"
   ]
  },
  {
   "cell_type": "markdown",
   "id": "bf802705",
   "metadata": {},
   "source": [
    "#### The `newsdataapi`   is used  to provide articles from different sources (Better than searching in hundreds of websites) containig a specific word ), in over 80,000 websites."
   ]
  },
  {
   "cell_type": "markdown",
   "id": "63488e25",
   "metadata": {},
   "source": [
    "### Make a request to `newsapi` to get the atricles."
   ]
  },
  {
   "cell_type": "code",
   "execution_count": 9,
   "id": "e0e4abad",
   "metadata": {},
   "outputs": [],
   "source": [
    "import requests\n",
    "from newsdataapi import NewsDataApiClient"
   ]
  },
  {
   "cell_type": "code",
   "execution_count": 10,
   "id": "1c11cd6d",
   "metadata": {},
   "outputs": [
    {
     "name": "stdout",
     "output_type": "stream",
     "text": [
      "Done\n"
     ]
    }
   ],
   "source": [
    "api = NewsDataApiClient(apikey='pub_9173b9c5020815c947c4ebd4e19094a1b11d')\n",
    "#https://newsdata.io/\n",
    "\n",
    "#the result is stored in response variable (a dictionary)\n",
    "response = api.news_api( q= \"bitcoin OR Bitcoin OR bitcoins OR Bitcoins\", language='en')\n",
    "print(\"Done\")"
   ]
  },
  {
   "cell_type": "code",
   "execution_count": 164,
   "id": "52c3945b",
   "metadata": {},
   "outputs": [
    {
     "name": "stdout",
     "output_type": "stream",
     "text": [
      "Empty DataFrame\n",
      "Columns: [text, creator]\n",
      "Index: []\n"
     ]
    }
   ],
   "source": [
    "#df.drop(df.index[:], inplace=True)\n",
    "#print(df)"
   ]
  },
  {
   "cell_type": "markdown",
   "id": "f7c329ff",
   "metadata": {},
   "source": [
    "### Now we have the articles related to bitcoin in the specific range in `response` dictionary. We will add these results to the dataframe."
   ]
  },
  {
   "cell_type": "code",
   "execution_count": 11,
   "id": "68527387",
   "metadata": {},
   "outputs": [],
   "source": [
    "l = len(response['results'])\n",
    "\n",
    "for i in range(l):\n",
    "    if response['results'][i]['creator'] is not None and len(response['results'][i]['creator'])!=0:\n",
    "        creator = response['results'][i]['creator'][0]\n",
    "    else:\n",
    "        creator = \"\"\n",
    "    text = response['results'][i]['content']\n",
    "    #df = df.append({'text': text, 'creator':creator}, ignore_index=True)\n",
    "    \n",
    "    df = pd.concat([df, pd.DataFrame.from_records([{'text': text, 'creator':creator}])],ignore_index=True)\n"
   ]
  },
  {
   "cell_type": "code",
   "execution_count": 12,
   "id": "a1461cec",
   "metadata": {},
   "outputs": [
    {
     "name": "stdout",
     "output_type": "stream",
     "text": [
      "                                                text  \\\n",
      "0                                               None   \n",
      "1  CME Group announced plans to expand its crypto...   \n",
      "2  After the reconciliation in the middle of Coin...   \n",
      "3  After the declines in the last 24 hours, the c...   \n",
      "4  OTTAWA, Canada – Crude oil sank with Treasury ...   \n",
      "5  Skybridge Capital’s founder says bitcoin’s fai...   \n",
      "6  Cory Klippsten started issuing warnings about ...   \n",
      "7                                               None   \n",
      "8  To get a roundup of TechCrunch’s biggest and m...   \n",
      "9                                               None   \n",
      "\n",
      "                         creator  \n",
      "0      \\n        Reuters  \\n      \n",
      "1                     Gauri Pant  \n",
      "2                     Gauri Pant  \n",
      "3                     Gauri Pant  \n",
      "4                        Reuters  \n",
      "5                    Kevin Helms  \n",
      "6            David Yaffe-Bellany  \n",
      "7  Crypto News By Dale Warburton  \n",
      "8                 Christine Hall  \n",
      "9                Mathew Di Salvo  \n"
     ]
    }
   ],
   "source": [
    "print(df)"
   ]
  },
  {
   "cell_type": "code",
   "execution_count": 13,
   "id": "876df72f",
   "metadata": {},
   "outputs": [
    {
     "name": "stdout",
     "output_type": "stream",
     "text": [
      "Kevin Helms\n"
     ]
    }
   ],
   "source": [
    "print(response['results'][5]['creator'][0])"
   ]
  },
  {
   "cell_type": "code",
   "execution_count": 14,
   "id": "befa0418",
   "metadata": {
    "scrolled": true
   },
   "outputs": [
    {
     "name": "stdout",
     "output_type": "stream",
     "text": [
      "dict_keys(['title', 'link', 'keywords', 'creator', 'video_url', 'description', 'content', 'pubDate', 'image_url', 'source_id', 'country', 'category', 'language'])\n"
     ]
    }
   ],
   "source": [
    "#The elements of the 9th response\n",
    "print(response['results'][8].keys())"
   ]
  },
  {
   "cell_type": "code",
   "execution_count": 15,
   "id": "60efda23",
   "metadata": {},
   "outputs": [
    {
     "name": "stdout",
     "output_type": "stream",
     "text": [
      "['Mathew Di Salvo']\n"
     ]
    }
   ],
   "source": [
    "print(response['results'][9]['creator'])"
   ]
  },
  {
   "cell_type": "code",
   "execution_count": 16,
   "id": "cfef072e",
   "metadata": {},
   "outputs": [
    {
     "name": "stdout",
     "output_type": "stream",
     "text": [
      "Skybridge Capital’s founder says bitcoin’s fair market value is about $40,000 based on adoption, wallet size, use cases, and growth of wallets. The asset management firm also estimated ethereum’s fair market value at around $2,800. Skybridge Capital on the Fair Values of Bitcoin and Ethereum Anthony Scaramucci, founder and managing partner at global asset management firm Skybridge Capital, shared his firm’s predictions on the fair market values of bitcoin (BTC) and ether (ETH) in an interview wi\n"
     ]
    }
   ],
   "source": [
    "#First 500 chars of the content\n",
    "print(response['results'][5]['content'][:500])"
   ]
  },
  {
   "cell_type": "markdown",
   "id": "adabca71",
   "metadata": {},
   "source": [
    "### Get Twitter tweets related to bitcoin"
   ]
  },
  {
   "cell_type": "code",
   "execution_count": 17,
   "id": "be98d3c4",
   "metadata": {},
   "outputs": [],
   "source": [
    "import tweepy"
   ]
  },
  {
   "cell_type": "code",
   "execution_count": 269,
   "id": "87c93c3f",
   "metadata": {},
   "outputs": [],
   "source": [
    "#The key and token are in the first cell to not be shown in the video"
   ]
  },
  {
   "cell_type": "code",
   "execution_count": 18,
   "id": "29e27571",
   "metadata": {},
   "outputs": [],
   "source": [
    "auth = tweepy.OAuthHandler(consumer_key, consumer_secret)\n",
    "auth.set_access_token(access_token, access_token_secret)\n",
    "api = tweepy.API(auth)"
   ]
  },
  {
   "cell_type": "code",
   "execution_count": 19,
   "id": "624a3674",
   "metadata": {},
   "outputs": [],
   "source": [
    "cursor = tweepy.Cursor(api.search_tweets , q='bitcoin' ,tweet_mode=\"extended\", \\\n",
    "                      result_type='recent', language='en').items(30) "
   ]
  },
  {
   "cell_type": "code",
   "execution_count": 20,
   "id": "fa86e360",
   "metadata": {
    "scrolled": true
   },
   "outputs": [
    {
     "name": "stderr",
     "output_type": "stream",
     "text": [
      "Unexpected parameter: language\n",
      "Unexpected parameter: language\n",
      "Unexpected parameter: language\n"
     ]
    }
   ],
   "source": [
    "for i in cursor:\n",
    "    creator  = i.author.name\n",
    "    full_text =  i.full_text.translate(str.maketrans('', '', \"@,#,/,:\"))\n",
    "    #print(i.author.name)\n",
    "    #print(\"original\" , i.full_text, \" ,   \\n after removal\", i.full_text.translate(str.maketrans('', '', \"@,#,/,:\")) )\n",
    "    df = pd.concat([df, pd.DataFrame.from_records([{'text': full_text, 'creator':creator}])],ignore_index=True)\n",
    "\n",
    "#print(df)"
   ]
  },
  {
   "cell_type": "code",
   "execution_count": 21,
   "id": "2e7f373b",
   "metadata": {},
   "outputs": [
    {
     "name": "stdout",
     "output_type": "stream",
     "text": [
      "                                                 text  \\\n",
      "0                                                None   \n",
      "1   CME Group announced plans to expand its crypto...   \n",
      "2   After the reconciliation in the middle of Coin...   \n",
      "3   After the declines in the last 24 hours, the c...   \n",
      "4   OTTAWA, Canada – Crude oil sank with Treasury ...   \n",
      "5   Skybridge Capital’s founder says bitcoin’s fai...   \n",
      "6   Cory Klippsten started issuing warnings about ...   \n",
      "7                                                None   \n",
      "8   To get a roundup of TechCrunch’s biggest and m...   \n",
      "9                                                None   \n",
      "10  RT BTC_Archive 💥NEW Roman Catholic Church of W...   \n",
      "11  RT TheBitcoinConf Normies just don't understan...   \n",
      "12  RT missufe $150 | 2.100.000 IDR in 12 Hours 🦄\\...   \n",
      "13  RT BitcoinMagazine Be your own bank with Bitco...   \n",
      "14  Current Cardano price Alert \\n\\nADA $0.51 USD\\...   \n",
      "15  RT BTCTN LBank Goes on a Worldwide Grassroot E...   \n",
      "16  RT missufe $150 | 2.100.000 IDR in 12 Hours 🦄\\...   \n",
      "17  RT WatcherGuru Elon Musk says the actual total...   \n",
      "18  RT missufe $150 | 2.100.000 IDR in 12 Hours 🦄\\...   \n",
      "19  👋 A new block was found on the Bitcoin network...   \n",
      "20  RT jagottsicher 75% of all US dollars in exist...   \n",
      "21  RT limitstream 🎁 $50 BITCOIN GIVEAWAY 🎁\\n\\n✅ R...   \n",
      "22  RT missufe $150 | 2.100.000 IDR in 12 Hours 🦄\\...   \n",
      "23  RT Jamyies THIS IS HUGE NEWS FOR BITCOIN &amp;...   \n",
      "24  RT coryklippsten Bitcoin.\\n\\nNot blockchain.\\n...   \n",
      "25  RT BTCTN U.S. senators have introduced a bill ...   \n",
      "26  RT missufe $150 | 2.100.000 IDR in 12 Hours 🦄\\...   \n",
      "27  RT missufe $150 | 2.100.000 IDR in 12 Hours 🦄\\...   \n",
      "28  RT RomuloNevesOf 🔥AWESOME🔥\\n\\n BlackRock the w...   \n",
      "29                Bitcoin Twitter httpst.colvIshv93l6   \n",
      "30  RT elsea_collector Bitcoin is designed to pump...   \n",
      "31  RT Bitcoin Sometimes you want to just get luck...   \n",
      "32  RT RichardHeartWin bitcoin is this true? https...   \n",
      "33  RT bestbitcoinmeme Finally bought bitcoin! Wis...   \n",
      "34         RT AltcoinDailyio Andrew Tate owns bitcoin   \n",
      "35  RT RichardHeartWin .zhusu  KyleLDavies mashins...   \n",
      "36  RT DhanvinNFT Hurry\\n\\nhttpst.coxEeZuQOxjr $73...   \n",
      "37  RT missufe $150 | 2.100.000 IDR in 12 Hours 🦄\\...   \n",
      "38  RT RichardHeartWin .zhusu  KyleLDavies mashins...   \n",
      "39  RT bitpr0 $100 2 winners 24 hours ☀⛅🌃🌄\\n\\n-RT ...   \n",
      "\n",
      "                                    creator  \n",
      "0                 \\n        Reuters  \\n      \n",
      "1                                Gauri Pant  \n",
      "2                                Gauri Pant  \n",
      "3                                Gauri Pant  \n",
      "4                                   Reuters  \n",
      "5                               Kevin Helms  \n",
      "6                       David Yaffe-Bellany  \n",
      "7             Crypto News By Dale Warburton  \n",
      "8                            Christine Hall  \n",
      "9                           Mathew Di Salvo  \n",
      "10                            miyaka kazuki  \n",
      "11                             nftganja.eth  \n",
      "12                      Adam Kusuma wardana  \n",
      "13                              HEIDI MITKE  \n",
      "14                          Cardano Tracker  \n",
      "15                            SymMakJustice  \n",
      "16            ⭐ STARLA ✿✼:*ﾟ*･Free tagsﾟﾟ･*  \n",
      "17                                  Chandra  \n",
      "18                     ṭıṅѧṭѧṅɢı🧁🎂| ฅ^•ﻌ•^ฅ  \n",
      "19                            satsleft.info  \n",
      "20                                EEEmilZZZ  \n",
      "21                            Esther Murray  \n",
      "22                                bigwinmau  \n",
      "23                           Rohit thukrela  \n",
      "24                                     هلال  \n",
      "25                                     Ajay  \n",
      "26        🥳Dirgahayu Indonesiaku 🇮🇩 freetag  \n",
      "27                               👻 Adrian 👻  \n",
      "28                              sipalingwin  \n",
      "29                       George Saoulidis ⚡  \n",
      "30                       ITHelpdesk.sol.tez  \n",
      "31                            SymMakJustice  \n",
      "32                                  Petertr  \n",
      "33                                 johnny0x  \n",
      "34                             Crypto Bezos  \n",
      "35  Freddie Quotes 38% FOR ME, NONE FOR YOU  \n",
      "36                                  Dhanvin  \n",
      "37                               Ibyang0904  \n",
      "38                           Pulsechain CFO  \n",
      "39                               👻 Adrian 👻  \n"
     ]
    }
   ],
   "source": [
    "print(df)"
   ]
  },
  {
   "cell_type": "markdown",
   "id": "8637053a",
   "metadata": {},
   "source": [
    "#### Now we have the tweets and the creator of each tweet in a dataframe row, the articles and the creator of each article (if specified) in a row. We can start procssing our info.\n"
   ]
  },
  {
   "cell_type": "markdown",
   "id": "adbd6ad9",
   "metadata": {},
   "source": [
    "#### In this cell, we specified the wanted stock, the top influencers, the Trusted resources, the wanted enities , categories and topics."
   ]
  },
  {
   "cell_type": "code",
   "execution_count": 22,
   "id": "4d9a02fe",
   "metadata": {},
   "outputs": [],
   "source": [
    "#determine the wanted entity and categories\n",
    "wanted_stock = \"Bitcoin stock BTC\" #Only for the final text print\n",
    "\n",
    "# The top influencers in stock market prediction\n",
    "Top_influencers = ['elon musk', 'nick black', 'allan mantaring', 'jordan belfort', 'tangie seals', \\\n",
    "                   'rowan mcinnesmark minervini', 'vic scherersteve sturner', 'brittney castro', 'garrett ashe', \\\n",
    "                   'raja al mazrouei', 'chamath palihapitiya', 'cathie wood', 'dave portnoy', 'oliver l. velez', \\\n",
    "                   'john bollinger', 'robert ross', 'kayla kilbride', 'errol coleman', 'timothy sykes', 'kritika yadav',\\\n",
    "                   'trajan king', 'denis stelmak', 'patrick wieland']\n",
    "\n",
    "#The most trusted newspapers in the domain of stock exchange\n",
    "Trusted_resources =['moneycontrol', 'the economic times', 'bloomberg quint', 'reuterslivemint', '\\\n",
    "buisness standard', 'google finance', 'ndtv profit', 'yahoo finance', 'reuters']\n",
    "\n",
    "wanted_entities = ['bitcoin', 'btc'] #Stock(s) interested  in, This option is subjective to the user.\n",
    "wanted_topics = ['bitcoin', 'btc']\n",
    "wanted_categories = ['general','business', 'politics','technology']#Only these categoreis will be taken into considertion\n"
   ]
  },
  {
   "cell_type": "markdown",
   "id": "0d9fcb7f",
   "metadata": {},
   "source": [
    "### Code"
   ]
  },
  {
   "cell_type": "code",
   "execution_count": 25,
   "id": "2701a17c",
   "metadata": {},
   "outputs": [
    {
     "name": "stdout",
     "output_type": "stream",
     "text": [
      "TEXT: \n",
      " None \n",
      "\n",
      "CREATOR:\n",
      " \n",
      "        Reuters  \n",
      "     \n",
      "\n",
      "\n",
      "\n",
      "TEXT: \n",
      " CME Group announced plans to expand its cryptocurrency derivatives offering on August 29, pending regulatory approval, with the launch of Bitcoin (BTC) and Ethereum (ET) futures. CME Group, Bitcoin and Ethereum Futures The world’s leading derivatives market, CME Group, will launch Euro-paired Bitcoin and Ethereum futures on August 29. The contract size for Bitcoin futures will be 5 BTC, while the Ethereum contract will be 50 ETH. Both contracts will be paid in cash based on the CME CF Bitcoin-Euro reference rate and the CME CF Ether-Euro reference rate. The launch of euro-denominated Bitcoin and Ethereum futures contracts could accelerate the continued institutionalization of the crypto market, as the euro, the common currency of 19 of the 27 member states of the European Union, is the second most sought-after currency in Europe. Tim McCourt, Head of Global Equities and FX Products at CME Group, said: “Our Bitcoin Euro and Ethereum Euro futures contracts will provide clients with more precise tools to trade and hedge exposure to the two largest cryptocurrencies by market cap.” \n",
      "\n",
      "CREATOR:\n",
      " Gauri Pant \n",
      "\n",
      "\n",
      "\n",
      "TEXT: \n",
      " After the reconciliation in the middle of Coinbase and BlackRock, Coinbase shares started to rise. JUST IN: BlackRock, $BLK has partnered with Coinbase to offer #Bitcoin and cryptocurrency trading services for institutional investors. pic.twitter.com/SpbgVvtDo5 — Watcher.Guru (@WatcherGuru) August 4, 2022 Shares of Coinbase rose after a stakeholder announcement with BlackRock that will allow its institutional clients to buy Bitcoin (BTC). Coinbase shares were up 25.2 percent on the day. After the news of the partnership was reflected in the media, the share increased by about 40 percent. Purpose Of Blackrock And Coinbase Affiliate Institutional Clients Asset Management Company BlackRock has partnered with Coinbase to provide direct services to Institutional investors looking to invest in cryptocurrencies. With the institutional affiliate clients of Aladdin, BlackRock’s investment management platform will be able to benefit from crypto trading, custody, and reporting services. This will provide integrated trading solutions to Aladdin institutional crypto investors through Coinbase Prime. The companies said they would continue improving the platform integration and gradually introduce the updated functions. Joseph Chalom, global head of strategic ecosystem subsidiaries at BlackRock, said: “The Aladdin and Coinbase Prime contact will allow clients to directly manage their Bitcoin exposures in their existing portfolio management and trading workflows for a complete portfolio view amid asset classes.”   \n",
      "\n",
      "CREATOR:\n",
      " Gauri Pant \n",
      "\n",
      "\n",
      "\n",
      "TEXT: \n",
      " After the declines in the last 24 hours, the crypto market has turned red again. Stagnant price action could be the start of another downturn, as many experts are beginning to doubt whether US inflation is peaking. Bitcoin price, which rose to $24.5 thousand, again fell below $23 thousand. It is currently trading at $22.9k. Ethereum also dropped from $1,764 at the start of the week to as low as $1,570. It has since risen a bit and is trading at $1,624. Ethereum Classic and Cronos also suffered significant losses. Inflation Fears Rising Trivariate’s CEO and founder, Adam Parker, explained in an interview with CNBC that he believes the CPI figures will continue to stay high. The Consumer Price Index is an important indicator used by the Fed to measure inflation. However, many experts believe that this is a lagging indicator that will not relax for a long time. According to Parker, he did not see anything from the Fed that pointed to pigeon intent. Chris Toomey of Morgan Stanley also announced that inflation had not peaked yet. He also pointed to th state of global GDP as a cause for concern. According to him, this inflation is now seen as structural rather than temporary. Impact On Crypto The rise in inflation can have a severe effect on the crypto price—the Federal Reserve curbs inflation with quantitative tightening and rate hikes. In June, the Fed increased interest rates by 75 basis points, which led to a crypto bloodbath. Another bad CPI data and an unusually large increase from the Fed could cause the crypto industry to return to a bear market. \n",
      "\n",
      "CREATOR:\n",
      " Gauri Pant \n",
      "\n",
      "\n",
      "\n",
      "TEXT: \n",
      " OTTAWA, Canada – Crude oil sank with Treasury yields and the dollar on Thursday, August 4, as recession worries intensified following the Bank of England’s warning of a drawn-out downturn and ahead of a hotly anticipated US employment report on Friday, August 5. Wall Street stocks ended mixed, with gains for high-growth stocks offset by the drag from energy shares, as a key US jobs report loomed on Friday. The S&P 500 edged slightly lower to 4,151.94, retreating from a two-month closing high in the previous session. The Dow dropped 0.26% to 32,726.82, from near an almost three-month high on Wednesday, August 3. The Nasdaq, though, swung to a 0.44% gain to 13,311.041 from steep early losses, extending a three-month peak. The 2-year Treasury yield eased 7.1 basis points to 3.0366%, while the 10-year yield slipped 6.3 basis points to 2.6846%. The gap between them went as wide as negative 39.2 basis points earlier in the day, the deepest inversion since 2000. An inverted curve is often viewed as portending a recession. Crude oil prices dropped to levels last seen before Russia’s invasion of Ukraine. Brent crude futures settled down $2.66 at $94.12, the lowest close since February 18. West Texas Intermediate crude futures settled down $2.34 at $88.54, the lowest close since February 2. Traders fretted that any recession could torpedo energy demand, while an unexpected surge in US crude inventories also weighed on prices, which had surged to over $120 a barrel this year. Cleveland Federal Reserve Bank President Loretta Mester said on Thursday that the economy is not currently in recession, but the risks of one have risen, while reiterating the central bank’s resolve to continue with aggressive tightening until there is compelling evidence of a letup in inflation. The monthly US non-farm payrolls report will be closely watched on Friday for clues on whether the tight labor market will continue to push up wages. Data early Thursday showed a tick up in jobless claims. “Expectations that we’re headed for a recession are clear, and the clearest signal is coming from the Treasury market,” said Edward Moya, senior market analyst at OANDA in New York. “Things are looking worse abroad, and there’s an expectation that we’re going to see more economic weakness going into year-end, and it’s hard to be optimistic on equities.” The Bank of England delivered a bigger, half-point rate rise earlier in the day, joining the Federal Reserve and other central banks in an accelerated race to catch inflation. But the hike was widely expected, and investors were more focused on the central bank’s warning that a lengthy recession is on the way. “The main surprise seems to be the somewhat downbeat economic forecasts that we have also been given,” said Stuart Cole, head macroeconomist at Equiti Capital. “That is somewhat worse than what we had seen in May, where the outlook was for one or two difficult quarters of low or negative growth, and then a recovery.” Britain’s FTSE 100 stock index was little changed, compared to small gains for the pan-European STOXX 600 index following some solid corporate earnings. The euro added 0.59% to 0.84205 against the British pound, and rose as high as 0.8438 at one point for the first time since July 26. Sterling recovered though to be up 0.12% at $1.2163 after earlier dipping to $1.2065 for the first time since July 29. The greenback accelerated declines amid lower US yields, with the dollar index – which measures the currency against six major counterparts including sterling, the euro, and the yen – sliding 0.68% to 105.76. The dollar dropped 0.66% to 132.94 yen, with the currency pair particularly sensitive to long-term Treasury yields. Spot gold jumped 1.5% to a one-month high of $1,794.79 an ounce, helped by lower US yields and a weaker dollar. Cryptocurrency bitcoin eased 1.3% to $22,536, as it continued its slow retreat from the 1 1/2-month high at $24,676 reached on Saturday, July 30. It failed to get a lift from Coinbase’s announcement of a tie-up with BlackRock to provide the money manager’s institutional clients with access to crypto trading and custody services. – Rappler.com \n",
      "\n",
      "CREATOR:\n",
      " Reuters \n",
      "\n",
      "\n",
      "\n",
      "TEXT: \n",
      " Skybridge Capital’s founder says bitcoin’s fair market value is about $40,000 based on adoption, wallet size, use cases, and growth of wallets. The asset management firm also estimated ethereum’s fair market value at around $2,800. Skybridge Capital on the Fair Values of Bitcoin and Ethereum Anthony Scaramucci, founder and managing partner at global asset management firm Skybridge Capital, shared his firm’s predictions on the fair market values of bitcoin (BTC) and ether (ETH) in an interview with Marketwatch, published Tuesday. He believes that the worst of the crypto bear market has passed and bitcoin has already bottomed. His comments followed bankruptcy filings by a number of crypto firms, including Celsius Network and Voyager Digital. “We believe that the leverage has been blown out of the system,” Scaramucci said. While recognizing that BTC could still slide, he emphasized: “I don’t think it’s going below the low that was reached for this cycle, which would be at around $17,500.” The Skybridge Capital founder further shared: According to our fair market value metrics based on adoption, wallet size, use cases, growth of wallets, we think the fair market value for bitcoin right now is about $40,000. He added that ether’s fair market value stands at around $2,800. At the time of writing, bitcoin is trading at $23,167.48, up 14% in the past 30 days. Ether is trading at $1,650.88, up 43% in the last 30 days. Scaramucci does not expect the price of bitcoin to go straight up due to macroeconomic uncertainties. “Again, these are volatile assets. I guess what’s at issue here is people need to take a four to five years view of these assets,” he cautioned. The executive noted: We on the margin are net buyers, as incremental cash comes into our funds we’re net buyers of those two assets, because we think that they’re fundamentally undervalued and technically oversold. Last month, Skybridge Capital suspended redemptions in its Legion Strategies fund after sharp declines in stocks and cryptocurrencies. About 20% of the fund was in private investments and about 18% was in crypto-related investments, including BTC and private investments in digital asset firms such as crypto exchange FTX, he detailed. Scaramucci confirmed that withdrawals are still halted, adding that the move was necessary to keep the fund’s composition intact after investment bank Morgan Stanley put a sell recommendation on the fund. “I can’t have the private investments go too high,” the Skybridge founder stressed. “I can’t let everybody out right at this second until I can have appropriate fairness and balance in the fund.” He revealed that the fund is currently selling some of its private investments, noting: “Once we get liquid on those investments, we will then let whoever wants to get out.” Scaramucci has long been saying that he expects the price of bitcoin to reach $100K this year and $500K long-term. “If you’re willing to zoom out and look at the long-term chart and look at the adoption story, could bitcoin get to half a million dollars a coin? I believe it will,” he said in March. In June, he advised investors to “buy quality and be unlevered, and stay disciplined.” He noted that a lot of coins will get wiped out. Commenting on the U.S. economy, the Skybridge executive said, “I think the second half of the year is going to surprise people because there’s already a slowdown in consumption.” He opined: There will likely be a shallow, but not a deep recession because people have a tremendous amount of savings. And there are more jobs available than people looking for them. What do you think about the predictions by Skybridge Capital? Let us know in the comments section below. \n",
      "\n",
      "CREATOR:\n",
      " Kevin Helms \n",
      "\n",
      "\n",
      "\n",
      "TEXT: \n",
      " Cory Klippsten started issuing warnings about the cryptocurrency market in March. The digital coin Luna, Klippsten tweeted, was a scam, run by an entrepreneur with “major Elizabeth Holmes vibes.” The newfangled crypto bank Celsius Network was a “massive blowup risk,” he said. When those crypto projects collapsed a few weeks later, causing a crash that has wiped out about $US1 trillion ($1.5 trillion) in value, Klippsten became a fixture on news shows, where he cast the industry as a morass of hucksters and hypocrites. “Crypto is a scam,” he declared last month. Cory Klippsten automatically invests a portion of his own savings in Bitcoin every day, a process known as dollar cost averaging. He has continued to buy at the same rate throughout the downturn. Credit: Megan Miller/ The New York Times But Klippsten differs from most crypto haters in one crucial respect: He runs a Bitcoin company. In the crypto world, Klippsten is known as a Bitcoin maximalist, or “maxi” — a hard-core evangelist who believes Bitcoin will transform the financial system even as fraud pervades the rest of the crypto ecosystem. The maxis are just a subset of the crypto industry, but their ranks include influential figures like Jack Dorsey, a founder of Twitter and an early Bitcoin proponent. The maxis continued buying Bitcoin even after its price plummeted to an 18-month low of roughly $US20,000 in June. (Bitcoin is simply “going on sale,” they say.) And, as the market has melted, they have embarked on a public-relations offensive, aiming to persuade investors and lawmakers that Bitcoin is different from the thousands of other digital currencies that proliferated in the last few years before tanking this spring. “The only future for non-Bitcoin crypto is to seek to be co-opted by banks and governments and become part of the existing system,” Klippsten, 44, said from his home in Los Angeles, where a decorative Bitcoin sculpture sat on a bookshelf behind him. “Bitcoin actually is outside of the system.” The debate being fuelled by the maxis has become a battle for crypto’s future. The crash demonstrates how closely the industry resembles the worst of the traditional finance system — an interconnected web of risky ventures and casino-like trading practices. The maxis say they are trying to steer crypto back to some of its original ideals at a pivotal moment, as new regulatory scrutiny and mounting consumer distrust pose an existential threat to the industry. They also see an opportunity to profit from the downturn. As Celsius imploded in June, Klippsten trumpeted a promotion giving its former customers a membership to his financial services firm, Swan Bitcoin, which provides financial planning for Bitcoin investors. Bitcoin advocates have been courting new adopters ever since the digital currency was invented, in 2008, by a mysterious figure known only by the pseudonym Satoshi Nakamoto. At the time, Bitcoin backers were disillusioned with the mainstream finance system and wanted to create a form of virtual money that could be exchanged without a bank or another intermediary. With a supply limit built into its underlying code, Bitcoin was supposed to offer a hedge against inflation, since no centralised authority would be able to print more of it. Many subsequent cryptocurrencies have lacked those features. Often, new coins are issued by a group of founders who exert significant control over distribution — a dynamic that can replicate the centralised structure of traditional finance. “Bitcoin is decentralised, digitally scarce money. Everything else is centralised,” said Jimmy Song, a crypto podcaster and an outspoken Bitcoin maxi. “There’s a world of difference between a censorship-resistant, self-sovereign money versus a gambling vehicle.” A former consultant at McKinsey, Klippsten became interested in crypto in 2017, when a wave of new currencies were created and prices surged. He bought some Bitcoin, but he also loaded up on newer, experimental tokens. Credit: Megan Miller/ The New York Times The maxis’ utopian vision of a stable, decentralised but universally accepted alternate currency is a far cry from reality. Bitcoin’s price swings wildly, and its investors often treat it as a kind of risky stock, no different from the shares of companies traded on the tech-heavy Nasdaq index. Hardly anyone uses Bitcoin to conduct ordinary transactions. Last year, El Salvador introduced Bitcoin as its national currency , but that project has been a stunning failure. Verifying Bitcoin transactions — a process known as “mining” because it rewards participants with digital coins — is energy-intensive: Researchers estimate that Bitcoin mining may produce as much as 65 megatonnes of carbon dioxide per year, comparable to the annual emissions of Greece. “You can’t use it to buy anything — it’s way too volatile and complex and laden with fees,” John Reed Stark, a former Securities and Exchange Commission official, said of Bitcoin. “There’s no intrinsic value.” Still, the maxis have seized on the downturn to make the case that Bitcoin is the only cryptocurrency worth taking seriously. “Bitcoin Is Down, but Its Case Has Never Been More Compelling,” read a recent headline in Bitcoin Magazine . “If you call out someone’s risks they’re taking, and they’re otherwise healthy, you can be accused of creating a run on the bank or being a troll,” said Michael Saylor, CEO of MicroStrategy, a software company that has built up a large Bitcoin reserve. “It’s kind of hard to explain this theoretically before the crash happens. But now it’s happened.” Saylor and other maxis have sometimes complained that Bitcoin is poorly represented in Washington, where lawmakers have expressed growing concern about the cryptocurrency’s environmental impact. Some crypto advocacy work in Washington is funded by companies that offer virtual currencies built on an alternate verification system, which requires less energy to maintain. In April, Chris Larsen, a billionaire who co-founded the cryptocurrency company Ripple, announced that he was contributing $US5 million to a marketing campaign calling on Bitcoin to abandon its energy-guzzling mining infrastructure, which proponents insist is vital to keeping the network secure and equitable. Now, Bitcoin supporters are building their own political apparatus. This year, David Zell, a Bitcoin advocate, started the Bitcoin Policy Institute, a think tank that pushes a pro-Bitcoin agenda in Washington. The institute has argued that concerns over Bitcoin’s energy consumption are overblown. “What we’re saying is that Bitcoin has a set of properties that make it unique,” Zell said. “Those differences are stark enough that if you’re going to have a serious policy conversation around the industry, it’s useful to draw that distinction.” Bitcoin maximalists see it as being somewhat outside of the crypto market. Credit: Getty Klippsten traces his Bitcoin maximalism to a chance meeting five years ago. (He considers the term “maximalist” to be pejorative and prefers to call himself a Bitcoiner.) A former consultant at McKinsey, Klippsten became interested in crypto in 2017, when a wave of new currencies were created and prices surged. He bought some Bitcoin, but he also loaded up on newer, experimental tokens. “I was really distracted by all this other stuff,” he said. At a conference that October, he met Song, the Bitcoin podcaster, and was convinced by his pitch. Klippsten also came to believe that many newer currencies were unregistered securities, more akin to the stocks people trade than to the money used in those transactions. (Regulators have declared Bitcoin a commodity rather than a security.) In 2019, Klippsten started Swan Bitcoin, which works with wealthy families, businesses and retail traders to set up Bitcoin investment plans, often through an automatic purchasing program. The firm provides customised financial advice, he said, and charges a 1 per cent fee to execute Bitcoin purchases. The business caters to hard-core Bitcoin believers: Swan customers spent twice as much on Bitcoin in June, the month after the market crash, as they did in April, the month before it, Klippsten said. He declined to reveal the total figures but said multiple customers made Bitcoin buys of $US5 million in June, as the market fell. Klippsten automatically invests a portion of his own savings in Bitcoin every day, a process known as dollar cost averaging. He has continued to buy at the same rate throughout the downturn. But if he received a windfall, Klippsten said, he would “argue very vociferously with my wife to try to put the majority of it into Bitcoin.” This article originally appeared in The New York Times . The Market Recap newsletter is a wrap of the day’s trading. Get it each we e kday afternoon . \n",
      "\n",
      "CREATOR:\n",
      " David Yaffe-Bellany \n",
      "\n",
      "\n",
      "\n",
      "TEXT: \n",
      " None \n",
      "\n",
      "CREATOR:\n",
      " Crypto News By Dale Warburton \n",
      "\n",
      "\n",
      "\n",
      "TEXT: \n",
      " To get a roundup of TechCrunch’s biggest and most important stories delivered to your inbox every day at 3 p.m. PDT, subscribe here . Haje and I are swapping places for the next two days while he gets some much-needed rest. While he’s away, please enjoy his latest Pitch Deck Teardown on Glambook . In the meantime, TechCrunch Disrupt is coming closer: Meet the final five Disrupt Audience Choice roundtable winners , and if you are a student, enter our video competition for a chance to win a free pass. And don’t forget, applications close tomorrow for Startup Battlefield 200! Apply today to join Startup Battlefield 200 for the chance to exhibit your startup for free at TechCrunch Disrupt this October and win the $100,000 equity-free prize. Applications close August 5. Be sure to get your applications in by tomorrow! Apply today . See you tomorrow! — Christine Lots of startup news again today, so let’s dig in. First, Natasha M brings us some additional layoff news from On Deck, which is cutting another third of its staff after cutting a quarter a few months ago. For those of you who can add fractions, that’s a lot, right? We enjoyed reading Becca ’s investor survey story, where she interviewed six first-time fund managers about their approach to weathering the downturn. Also, buy now, pay later is still more prevalent in the world of consumers (see Anita ’s funding story on Halliday ), but businesses want in on the fun, too. That’s where Kontempo comes in with $30 million and its approach to enabling sales teams to approve credit, Kyle reports. Image Credits: Anna Minkina (opens in a new window) / Getty Images Last week, VP and managing director of Dell Technologies Capital Yair Snir shared an article explaining why founders should plan on getting acquired , particularly since their odds of going public are so long. In a follow-up, he takes readers inside the postacquisition integration period/process: “While IPOs may get more headlines, a well-timed, well-planned acquisition can mean even larger opportunities for you, your team and the technologies you’ve built,” says Snir. From NDA to LOI: What really happens when your startup is being acquired? (TechCrunch+ is our membership program, which helps founders and startup teams get ahead. You can sign up here .) When it comes to cryptocurrency, BlackRock is now saying, “Why beat them when you can join them?” Anita writes about the asset managing giant joining forces with Coinbase to provide its clients with access to crypto, initially Bitcoin. And speaking of Coinbase, Jacquelyn and Alex write for TechCrunch+ on why that partnership, and others Coinbase has, is delighting investors . In the realm of social media, we enjoyed Amanda ’s story where she spoke with Patreon CEO Jack Conte on why Instagram and Facebook are on his list, and not in a good way. And Aisha tells us what’s up with some new Clubhouse features . \n",
      "\n",
      "CREATOR:\n",
      " Christine Hall \n",
      "\n",
      "\n",
      "\n",
      "TEXT: \n",
      " None \n",
      "\n",
      "CREATOR:\n",
      " Mathew Di Salvo \n",
      "\n",
      "\n",
      "\n",
      "TEXT: \n",
      " RT BTC_Archive 💥NEW Roman Catholic Church of Washington will accept donations in Bitcoin and crypto. \n",
      "\n",
      "CREATOR:\n",
      " miyaka kazuki \n",
      "\n",
      "\n",
      "\n",
      "TEXT: \n",
      " RT TheBitcoinConf Normies just don't understand. Bitcoin httpst.coWKMsXw7HLf \n",
      "\n",
      "CREATOR:\n",
      " nftganja.eth \n",
      "\n",
      "\n",
      "\n",
      "TEXT: \n",
      " RT missufe $150 | 2.100.000 IDR in 12 Hours 🦄\n",
      "\n",
      " - RT &amp; Follow Bitcoin_K_S_A \n",
      "\n",
      "CREATOR:\n",
      " Adam Kusuma wardana \n",
      "\n",
      "\n",
      "\n",
      "TEXT: \n",
      " RT BitcoinMagazine Be your own bank with Bitcoin... literally 😂👏 httpst.coJ2iUm7cCLE \n",
      "\n",
      "CREATOR:\n",
      " HEIDI MITKE \n",
      "\n",
      "\n",
      "\n",
      "TEXT: \n",
      " Current Cardano price Alert \n",
      "\n",
      "ADA $0.51 USD\n",
      "Bitcoin 2.209063136323885e-05 BTC\n",
      "Ethereum 0.00030907405050633604 ETH\n",
      "\n",
      "Follow for recent Cardano price updates\n",
      "altcoin crypto cryptocurrency \n",
      "\n",
      "CREATOR:\n",
      " Cardano Tracker \n",
      "\n",
      "\n",
      "\n",
      "TEXT: \n",
      " RT BTCTN LBank Goes on a Worldwide Grassroot Educational Campaign in July httpst.comZdFcxwQfB \n",
      "\n",
      "CREATOR:\n",
      " SymMakJustice \n",
      "\n",
      "\n",
      "\n",
      "TEXT: \n",
      " RT missufe $150 | 2.100.000 IDR in 12 Hours 🦄\n",
      "\n",
      " - RT &amp; Follow Bitcoin_K_S_A \n",
      "\n",
      "CREATOR:\n",
      " ⭐ STARLA ✿✼:*ﾟ*･Free tagsﾟﾟ･* \n",
      "\n",
      "\n",
      "\n",
      "TEXT: \n",
      " RT WatcherGuru Elon Musk says the actual total transaction capability of Dogecoin is much higher than Bitcoin\n",
      "\n",
      "httpst.conKZTbHPg0K \n",
      "\n",
      "CREATOR:\n",
      " Chandra \n",
      "\n",
      "\n",
      "\n",
      "TEXT: \n",
      " RT missufe $150 | 2.100.000 IDR in 12 Hours 🦄\n",
      "\n",
      " - RT &amp; Follow Bitcoin_K_S_A \n",
      "\n",
      "CREATOR:\n",
      " ṭıṅѧṭѧṅɢı🧁🎂| ฅ^•ﻌ•^ฅ \n",
      "\n",
      "\n",
      "\n",
      "TEXT: \n",
      " 👋 A new block was found on the Bitcoin network. We're at block height 748035 current bitcoin price is $23079.5 and there are 188724997690011 sats left to mine. \n",
      "\n",
      "CREATOR:\n",
      " satsleft.info \n",
      "\n",
      "\n",
      "\n",
      "TEXT: \n",
      " RT jagottsicher 75% of all US dollars in existence were printed after Bitcoin was created.\n",
      "\n",
      "Short dollars buy Bitcoin. \n",
      "\n",
      "CREATOR:\n",
      " EEEmilZZZ \n",
      "\n",
      "\n",
      "\n",
      "TEXT: \n",
      " RT limitstream 🎁 $50 BITCOIN GIVEAWAY 🎁\n",
      "\n",
      "✅ Retweet\n",
      "✅ Follow me &amp; Stake\n",
      "\n",
      "Join httpst.coHkgDy7Uhlt\n",
      "\n",
      "Ends 24h 🍀 httpst.coRdg7mlNW… \n",
      "\n",
      "CREATOR:\n",
      " Esther Murray \n",
      "\n",
      "\n",
      "\n",
      "TEXT: \n",
      " RT missufe $150 | 2.100.000 IDR in 12 Hours 🦄\n",
      "\n",
      " - RT &amp; Follow Bitcoin_K_S_A \n",
      "\n",
      "CREATOR:\n",
      " bigwinmau \n",
      "\n",
      "\n",
      "\n",
      "TEXT: \n",
      " RT Jamyies THIS IS HUGE NEWS FOR BITCOIN &amp; CRYPTO\n",
      "\n",
      "The link to the video is in the free group with my live alerts httpst.coH4SoZOa… \n",
      "\n",
      "CREATOR:\n",
      " Rohit thukrela \n",
      "\n",
      "\n",
      "\n",
      "TEXT: \n",
      " RT coryklippsten Bitcoin.\n",
      "\n",
      "Not blockchain.\n",
      "\n",
      "Not crypto.\n",
      "\n",
      "Bitcoin.\n",
      "\n",
      "httpst.coej7QGtLppe \n",
      "\n",
      "CREATOR:\n",
      " هلال \n",
      "\n",
      "\n",
      "\n",
      "TEXT: \n",
      " RT BTCTN U.S. senators have introduced a bill to empower the CFTC \"with exclusive jurisdiction over the digital commodities spot market.\"… \n",
      "\n",
      "CREATOR:\n",
      " Ajay \n",
      "\n",
      "\n",
      "\n",
      "TEXT: \n",
      " RT missufe $150 | 2.100.000 IDR in 12 Hours 🦄\n",
      "\n",
      " - RT &amp; Follow Bitcoin_K_S_A \n",
      "\n",
      "CREATOR:\n",
      " 🥳Dirgahayu Indonesiaku 🇮🇩 freetag \n",
      "\n",
      "\n",
      "\n",
      "TEXT: \n",
      " RT missufe $150 | 2.100.000 IDR in 12 Hours 🦄\n",
      "\n",
      " - RT &amp; Follow Bitcoin_K_S_A \n",
      "\n",
      "CREATOR:\n",
      " 👻 Adrian 👻 \n",
      "\n",
      "\n",
      "\n",
      "TEXT: \n",
      " RT RomuloNevesOf 🔥AWESOME🔥\n",
      "\n",
      " BlackRock the world's largest asset management company 🌍 is going to start offering Bitcoin to its institu… \n",
      "\n",
      "CREATOR:\n",
      " sipalingwin \n",
      "\n",
      "\n",
      "\n",
      "TEXT: \n",
      " Bitcoin Twitter httpst.colvIshv93l6 \n",
      "\n",
      "CREATOR:\n",
      " George Saoulidis ⚡ \n",
      "\n",
      "\n",
      "\n",
      "TEXT: \n",
      " RT elsea_collector Bitcoin is designed to pump forever. Crypto Metaverse Blockchain Web3 Simpsons httpst.codPF7NNModN \n",
      "\n",
      "CREATOR:\n",
      " ITHelpdesk.sol.tez \n",
      "\n",
      "\n",
      "\n",
      "TEXT: \n",
      " RT Bitcoin Sometimes you want to just get lucky... httpst.coVkRnUhAGCF \n",
      "\n",
      "CREATOR:\n",
      " SymMakJustice \n",
      "\n",
      "\n",
      "\n",
      "TEXT: \n",
      " RT RichardHeartWin bitcoin is this true? httpst.col0nyfG1Ggr \n",
      "\n",
      "CREATOR:\n",
      " Petertr \n",
      "\n",
      "\n",
      "\n",
      "TEXT: \n",
      " RT bestbitcoinmeme Finally bought bitcoin! Wish me luck! 🙏 httpst.coA1fkDu3dN3 \n",
      "\n",
      "CREATOR:\n",
      " johnny0x \n",
      "\n",
      "\n",
      "\n",
      "TEXT: \n",
      " RT AltcoinDailyio Andrew Tate owns bitcoin \n",
      "\n",
      "CREATOR:\n",
      " Crypto Bezos \n",
      "\n",
      "\n",
      "\n",
      "TEXT: \n",
      " RT RichardHeartWin .zhusu  KyleLDavies mashinsky stablekwon you can come beg me to bail you out in person here the United States… \n",
      "\n",
      "CREATOR:\n",
      " Freddie Quotes 38% FOR ME, NONE FOR YOU \n",
      "\n",
      "\n",
      "\n",
      "TEXT: \n",
      " RT DhanvinNFT Hurry\n",
      "\n",
      "httpst.coxEeZuQOxjr $7300 Only\n",
      "\n",
      "Premium Domainname ForSale \n",
      "\n",
      "CryptocurrencyNews NFT VR Analytics AI Mac… \n",
      "\n",
      "CREATOR:\n",
      " Dhanvin \n",
      "\n",
      "\n",
      "\n",
      "TEXT: \n",
      " RT missufe $150 | 2.100.000 IDR in 12 Hours 🦄\n",
      "\n",
      " - RT &amp; Follow Bitcoin_K_S_A \n",
      "\n",
      "CREATOR:\n",
      " Ibyang0904 \n",
      "\n",
      "\n",
      "\n",
      "TEXT: \n",
      " RT RichardHeartWin .zhusu  KyleLDavies mashinsky stablekwon you can come beg me to bail you out in person here the United States… \n",
      "\n",
      "CREATOR:\n",
      " Pulsechain CFO \n",
      "\n",
      "\n",
      "\n",
      "TEXT: \n",
      " RT bitpr0 $100 2 winners 24 hours ☀⛅🌃🌄\n",
      "\n",
      "-RT + Follow \n",
      "bitpr0\n",
      "\n",
      "BTC Bitcoin Cryptocurrency \n",
      "\n",
      "CREATOR:\n",
      " 👻 Adrian 👻 \n",
      "\n",
      "\n",
      "\n"
     ]
    }
   ],
   "source": [
    "for i in range(df.shape[0] ):\n",
    "    text = df.iloc[i,0]\n",
    "    creator = df.iloc[i,1]\n",
    "    print(\"TEXT: \\n\" , text, \"\\n\")\n",
    "    print(\"CREATOR:\\n\" , creator, \"\\n\\n\\n\")"
   ]
  },
  {
   "cell_type": "code",
   "execution_count": 26,
   "id": "cbaeeb46",
   "metadata": {
    "scrolled": false
   },
   "outputs": [
    {
     "name": "stdout",
     "output_type": "stream",
     "text": [
      "Text:  1  have the wanted entities/topics and category.\n",
      "text_categories: ['business']\n",
      "key_topics: ['cme group', 'ethereum contract', 'bitcoin euro', 'ethereum futures contracts', 'ethereum euro futures contracts', 'ethereum futures', 'cme cf bitcoin euro reference rate', 'cash', 'ethereum futures', 'euro-denominated bitcoin', 'ethereum', 'bitcoin futures', 'cme cf ether euro reference rate', 'common currency']\n",
      "text_entities: ['cme group', 'bitcoin', 'ethereum', 'futures', 'european union']\n",
      "Sentiment analysis for text:  1 is:  {'neg': 0.0, 'neu': 0.969, 'pos': 0.031, 'compound': 0.6597} \n",
      "\n",
      "\n",
      "Text:  2  have the wanted entities/topics and category.\n",
      "text_categories: ['business']\n",
      "key_topics: ['institutional investors', 'coinbase affiliate institutional clients asset management company blackrock', 'coinbase shares', 'institutional affiliate clients', 'cryptocurrency trading services', 'aladdin', \"blackrock's investment management platform\", 'trading workflows', 'bitcoin', 'companies', 'portfolio management', 'bitcoin exposures']\n",
      "text_entities: ['blackrock']\n",
      "Sentiment analysis for text:  2 is:  {'neg': 0.0, 'neu': 0.878, 'pos': 0.122, 'compound': 0.969} \n",
      "\n",
      "\n",
      "Text:  5  have the wanted entities/topics and category.\n",
      "text_categories: ['business']\n",
      "key_topics: ['private investments', 'bitcoin', \"skybridge capital's founder\", 'legion strategies fund', \"bitcoin's fair market value\", 'skybridge executive', 'volatile assets', 'ethereum anthony scaramucci', \"fund's composition\", 'bitcoin right', 'global asset management firm skybridge capital', 'asset management firm', 'wallet size', 'digital asset firms', 'coin', 'incremental cash']\n",
      "text_entities: ['bitcoin', 'skybridge capital']\n",
      "Sentiment analysis for text:  5 is:  {'neg': 0.015, 'neu': 0.905, 'pos': 0.08, 'compound': 0.9695} \n",
      "\n",
      "\n",
      "Text:  6  have the wanted entities/topics and category.\n",
      "text_categories: ['business']\n",
      "key_topics: ['cory klippsten', 'bitcoin company', 'verifying bitcoin transactions', 'bitcoin advocates', 'swan bitcoin', 'bitcoin investors', 'hard core bitcoin', 'outspoken bitcoin maxi', 'bitcoin supporters', 'bitcoin mining', 'bitcoin buys', 'bitcoin backers', 'bitcoin purchases', 'early bitcoin proponent', 'pro-bitcoin agenda', 'large bitcoin reserve', 'decorative bitcoin sculpture', \"bitcoin's price swings\", \"bitcoin's energy consumption\"]\n",
      "text_entities: ['cory klippsten', 'bitcoin', 'swan']\n",
      "Sentiment analysis for text:  6 is:  {'neg': 0.071, 'neu': 0.846, 'pos': 0.084, 'compound': 0.94} \n",
      "\n",
      "\n",
      "Text:  10  have the wanted entities/topics and category.\n",
      "text_categories: ['entertainment', 'politics']\n",
      "key_topics: ['rt btc archive 💥new roman catholic church', 'washington', 'donations', 'bitcoin']\n",
      "text_entities: ['roman catholic church', 'rt', 'washington', 'bitcoin']\n",
      "Sentiment analysis for text:  10 is:  {'neg': 0.0, 'neu': 0.843, 'pos': 0.157, 'compound': 0.3818} \n",
      "\n",
      "\n",
      "Text:  17  have the wanted entities/topics and category.\n",
      "text_categories: ['business']\n",
      "key_topics: ['rt watcherguru elon musk', 'dogecoin', 'bitcoin', 'actual total transaction capability']\n",
      "text_entities: ['rt', 'elon musk', 'bitcoin', 'dogecoin']\n",
      "Sentiment analysis for text:  17 is:  {'neg': 0.0, 'neu': 1.0, 'pos': 0.0, 'compound': 0.0} \n",
      "\n",
      "\n",
      "Text:  19  have the wanted entities/topics and category.\n",
      "text_categories: ['technology']\n",
      "key_topics: ['new block', 'bitcoin network', 'block height', 'current bitcoin price', '188724997690011 sats']\n",
      "text_entities: ['bitcoin']\n",
      "Sentiment analysis for text:  19 is:  {'neg': 0.195, 'neu': 0.805, 'pos': 0.0, 'compound': -0.7003} \n",
      "\n",
      "\n",
      "Final Result:  \n",
      "\n",
      "\n",
      "The  Bitcoin stock BTC   have a positive Semantic Analysis in the given articles,it could be an indicator         that this stock have community trust in the determined time.         the term bitcoin or BTC got a polarity scrore of : 0.45995714285714284  on 1 .\n"
     ]
    }
   ],
   "source": [
    "from nltk.sentiment.vader import SentimentIntensityAnalyzer\n",
    "analyser = SentimentIntensityAnalyzer()\n",
    "\n",
    "nb = df.shape[0]\n",
    "ctr = 0\n",
    "grade_sum = 0\n",
    "final_grade = 0\n",
    "\n",
    "for i in range(nb ):\n",
    "    #Since the API give only 200 chars in contnet, this is not acceptable\n",
    "    # a good idea would be to use the title and the description as a subsitute since they contion most of the meaning.\n",
    "    text = df.iloc[i,0]\n",
    "    creator = df.iloc[i,1]\n",
    "    #text = response['results'][i]['content']\n",
    "    #creator = response['results'][i]['creator']  \n",
    "    \n",
    "    if text is not None:\n",
    "        request =  { 'text' : text, 'lang' : 'en', 'format' : 'json' }\n",
    "        rsp = client.callwebmethod('ProcessDocument', request, 'POST')#Use Klangoo to get all entities and categories of text\n",
    "        info = json.loads(rsp) #transform from Bytes to Json format\n",
    "        info.fromkeys\n",
    "\n",
    "        #print(\"Request nb:\",i,\"is successful.\")\n",
    "        #print(\"Text nb:\", i, \"is: \", text[:200])#print first 200 chars of the text\n",
    "\n",
    "        entities_nb = len(info['document']['entities'])\n",
    "        keyTopics_nb = len(info['document']['keyTopics'])\n",
    "        categories_nb = len(info['document']['categories']) \n",
    "        \n",
    "        text_entities = []   # get the key topics from text and append to this list\n",
    "        key_topics = []\n",
    "        text_categories = []   # get the categories from text and append to this list \n",
    "       \n",
    "        \n",
    "        for j in range(entities_nb):#adding entites from klangoo response to  text_entities list\n",
    "            if info['document']['entities'][j]['score'] > 0.7: #only add the entities with high score (not all of them), if high score the entity is directly related to main subject\n",
    "                text_entities.append(info['document']['entities'][j]['token'].lower() ) \n",
    "                \n",
    "        for j in range(keyTopics_nb):#adding keyTopics from Klangoo to keyTopics\n",
    "            if info['document']['keyTopics'][j]['score'] > 0.5: #key topics contains many topics, but the high rated are directly related\n",
    "                key_topics.append( info['document']['keyTopics'][j]['text'].lower())\n",
    "                \n",
    "        for j in range(categories_nb):#adding categoreis from klangoo response to  text_categories\n",
    "            text_categories.append(info['document']['categories'][j]['name'].lower() ) # append the key categories to the list\n",
    "\n",
    "        #print(\"Entities for Text nb:\", i, \"are: \", text_entities)\n",
    "        #print(\"keyTopics for text nb: \", i, \"are\", key_topics,\"\\n\")\n",
    "        #print(\"Categories for Text nb:\", i, \"are: \", text_categories, \"\\n\")\n",
    "        \n",
    "        #check existecne of an item of text_categories in wanted_category \n",
    "        check_category = have_common(wanted_categories, text_categories ) \n",
    "        check_topics = have_common(wanted_topics, key_topics)\n",
    "        check_entities = have_common(wanted_entities, text_entities )\n",
    "                \n",
    "        #If the article category and entity are the wanted ones, we apply S.A.\n",
    "        if check_category  and  (check_entities or check_topics): \n",
    "            ctr += 1\n",
    "            score = analyser.polarity_scores(text)\n",
    "            print(\"Text: \", i, \" have the wanted entities/topics and category.\")\n",
    "            print(\"text_categories:\", text_categories)\n",
    "            print(\"key_topics:\", key_topics)\n",
    "            print(\"text_entities:\", text_entities)\n",
    "            print(\"Sentiment analysis for text: \",  i , \"is: \", score, \"\\n\\n\")\n",
    "            #check if the text is from a top influencer or a top trusted source, if so consider as 10 texts\n",
    "            if (creator in Top_influencers) or (creator in  Trusted_resources):\n",
    "                ctr += 10\n",
    "                grade_sum += score['compound'] * 10\n",
    "            #compound(result from NLTK library) element of the polarity score determine if positive >0.5 or negative <-0.5\n",
    "            else:\n",
    "                grade_sum += score['compound'] \n",
    "        #print(\"check_category condition: \", check_category )\n",
    "        #print(\"check_entities condition: \", check_entities)\n",
    "        #print(\"check_topics condition: \", check_topics)\n",
    "        #print()\n",
    "        #print(\"-----------------\")\n",
    "        #print()\n",
    "        \n",
    "print(\"Final Result:  \\n\\n\")     \n",
    "if ctr > 0:\n",
    "    final_grade = grade_sum / ctr\n",
    "\n",
    "    if final_grade < 0: #check the condition neg or pos and total score in NLTK\n",
    "        print(\"The \" , wanted_stock  ,\"have negative Semantic Analysis in the given articles,it could be an indicator that this stock does not have community trust in the determined time.\\\n",
    "         articles, the term bitcoin or BTC got a polarity scrore of : \" , final_grade, \" on 1 .\")\n",
    "    elif final_grade > 0:\n",
    "        print(\"The \",wanted_stock, \"  have a positive Semantic Analysis in the given articles,it could be an indicator \\\n",
    "        that this stock have community trust in the determined time.\\\n",
    "         the term bitcoin or BTC got a polarity scrore of :\" , final_grade, \" on 1 .\")\n",
    "    else:\n",
    "        print(\"After analysing the relative articles, the \", wanted_stock, \" have a neutral Semantic Analysis.\")          \n",
    "    \n",
    "\n",
    "    \n"
   ]
  },
  {
   "cell_type": "markdown",
   "id": "560f4c3e",
   "metadata": {},
   "source": [
    "### This code was run in 5 Aug 2022, the result is: Today the sentiment analysis for BITCOIN (BTC) is positive, with a score of 0.45 / 1.\n",
    "\n",
    "### Let's compare wih the overall graph of the bitcoin prices. (Below pic) We can see an averall improvment.\n",
    "\n",
    "\n"
   ]
  },
  {
   "attachments": {
    "coindesk-BTC-chart-2022-08-05-2.png": {
     "image/png": "[encoded data removed]"
    }
   },
   "cell_type": "markdown",
   "id": "8b3d6e9f",
   "metadata": {},
   "source": [
    "![coindesk-BTC-chart-2022-08-05-2.png](attachment:coindesk-BTC-chart-2022-08-05-2.png)"
   ]
  },
  {
   "cell_type": "markdown",
   "id": "44c29690",
   "metadata": {},
   "source": [
    "### Finally, We should say that It is not a definitive way to prove the stock market orientation, It's much more complicated,  but it could be a good indicator."
   ]
  },
  {
   "cell_type": "markdown",
   "id": "eb5edcac",
   "metadata": {},
   "source": [
    "### Improved version"
   ]
  },
  {
   "attachments": {},
   "cell_type": "markdown",
   "id": "2ec3a46e",
   "metadata": {},
   "source": [
    "#### Accroding to this article https://link.springer.com/article/10.1007/s12559-021-09819-8 in `Springer` the most accurate lexicon library for analyzing tweets for stock market prediction is `senticnet`, a library made by the MIT Media Laboratory in 2010.\n",
    "\n",
    "#### To get the articles , we used the newsdata API, but as a future work, when trying to process a larger amount of articles we should write the  code do all the web scarping\n",
    "\n",
    " "
   ]
  },
  {
   "cell_type": "code",
   "execution_count": null,
   "id": "27eb647a",
   "metadata": {},
   "outputs": [],
   "source": []
  }
 ],
 "metadata": {
  "kernelspec": {
   "display_name": "Python 3 (ipykernel)",
   "language": "python",
   "name": "python3"
  },
  "language_info": {
   "codemirror_mode": {
    "name": "ipython",
    "version": 3
   },
   "file_extension": ".py",
   "mimetype": "text/x-python",
   "name": "python",
   "nbconvert_exporter": "python",
   "pygments_lexer": "ipython3",
   "version": "3.9.12"
  }
 },
 "nbformat": 4,
 "nbformat_minor": 5
}
