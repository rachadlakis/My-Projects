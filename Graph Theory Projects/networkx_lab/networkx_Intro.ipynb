{
 "cells": [
  {
   "cell_type": "code",
   "execution_count": 1,
   "id": "5caea9c6",
   "metadata": {},
   "outputs": [],
   "source": [
    "import networkx as nx"
   ]
  },
  {
   "cell_type": "code",
   "execution_count": 2,
   "id": "6e323998",
   "metadata": {},
   "outputs": [],
   "source": [
    "g = nx.Graph()"
   ]
  },
  {
   "cell_type": "code",
   "execution_count": 3,
   "id": "0e69fff8",
   "metadata": {},
   "outputs": [],
   "source": [
    "g.add_edge('a', 'b', weight=0.1)\n",
    "g.add_edge('b', 'c', weight=1.5)\n",
    "g.add_edge ('a', 'c', weight=1.0)\n",
    "g.add_edge ('c', 'd', weight=2.2)"
   ]
  },
  {
   "cell_type": "code",
   "execution_count": 5,
   "id": "89c81703",
   "metadata": {},
   "outputs": [
    {
     "name": "stdout",
     "output_type": "stream",
     "text": [
      "['b', 'c', 'd']\n"
     ]
    }
   ],
   "source": [
    "print (nx.shortest_path(g,'b', 'd'))"
   ]
  },
  {
   "cell_type": "code",
   "execution_count": 6,
   "id": "b8635652",
   "metadata": {},
   "outputs": [
    {
     "name": "stdout",
     "output_type": "stream",
     "text": [
      "['b', 'a', 'c', 'd']\n"
     ]
    }
   ],
   "source": [
    "print(nx.shortest_path(g,'b', 'd', weight='weight'))"
   ]
  },
  {
   "cell_type": "code",
   "execution_count": 7,
   "id": "18f77154",
   "metadata": {},
   "outputs": [],
   "source": [
    "g.clear()"
   ]
  },
  {
   "cell_type": "code",
   "execution_count": 10,
   "id": "e51ae9f9",
   "metadata": {},
   "outputs": [],
   "source": [
    "g.add_node(1)\n",
    "g.add_nodes_from([2,3])\n",
    "\n",
    "h=nx.path_graph(5)\n",
    "g.add_nodes_from(h)\n",
    "\n",
    "g.remove_node(2)"
   ]
  },
  {
   "cell_type": "code",
   "execution_count": 13,
   "id": "3c433c9d",
   "metadata": {},
   "outputs": [],
   "source": [
    "import math\n",
    "g.add_node('string')\n",
    "g.add_node(math.cos)\n",
    "\n",
    "g.add_edge(1,2)\n",
    "e = (2,3)\n",
    "g.add_edge(*e)"
   ]
  },
  {
   "cell_type": "code",
   "execution_count": 14,
   "id": "bab23076",
   "metadata": {},
   "outputs": [],
   "source": [
    "g.add_edges_from( [(1,2), (1,3)])"
   ]
  },
  {
   "cell_type": "code",
   "execution_count": 18,
   "id": "f279addf",
   "metadata": {},
   "outputs": [],
   "source": [
    "g.add_edges_from(h.edges())"
   ]
  },
  {
   "cell_type": "code",
   "execution_count": 20,
   "id": "fa747a7a",
   "metadata": {},
   "outputs": [
    {
     "data": {
      "text/plain": [
       "EdgeView([(1, 2), (1, 3), (1, 0), (3, 2), (3, 4)])"
      ]
     },
     "execution_count": 20,
     "metadata": {},
     "output_type": "execute_result"
    }
   ],
   "source": [
    "g.edges"
   ]
  },
  {
   "cell_type": "code",
   "execution_count": 22,
   "id": "da8d3af5",
   "metadata": {},
   "outputs": [
    {
     "data": {
      "text/plain": [
       "8"
      ]
     },
     "execution_count": 22,
     "metadata": {},
     "output_type": "execute_result"
    }
   ],
   "source": [
    "g.add_edges_from([(1,2), (1,3)])\n",
    "g.add_node('a')\n",
    "g.number_of_nodes()"
   ]
  },
  {
   "cell_type": "code",
   "execution_count": 24,
   "id": "d01d99db",
   "metadata": {},
   "outputs": [
    {
     "data": {
      "text/plain": [
       "5"
      ]
     },
     "execution_count": 24,
     "metadata": {},
     "output_type": "execute_result"
    }
   ],
   "source": [
    "g.number_of_edges()"
   ]
  },
  {
   "cell_type": "code",
   "execution_count": 26,
   "id": "51d4c9b6",
   "metadata": {},
   "outputs": [
    {
     "data": {
      "text/plain": [
       "NodeView((1, 3, 0, 4, 'string', <built-in function cos>, 2, 'a'))"
      ]
     },
     "execution_count": 26,
     "metadata": {},
     "output_type": "execute_result"
    }
   ],
   "source": [
    "\n",
    "g.nodes()"
   ]
  },
  {
   "cell_type": "code",
   "execution_count": 27,
   "id": "e37fb9bb",
   "metadata": {},
   "outputs": [
    {
     "data": {
      "text/plain": [
       "EdgeView([(1, 2), (1, 3), (1, 0), (3, 2), (3, 4)])"
      ]
     },
     "execution_count": 27,
     "metadata": {},
     "output_type": "execute_result"
    }
   ],
   "source": [
    "g.edges()"
   ]
  },
  {
   "cell_type": "code",
   "execution_count": 35,
   "id": "ef5aa741",
   "metadata": {},
   "outputs": [
    {
     "name": "stdout",
     "output_type": "stream",
     "text": [
      "[2, 3, 0]\n"
     ]
    }
   ],
   "source": [
    "print(list( g.neighbors(1)) )"
   ]
  },
  {
   "cell_type": "code",
   "execution_count": 40,
   "id": "a48cb77d",
   "metadata": {},
   "outputs": [
    {
     "data": {
      "text/plain": [
       "dict_keys(['apple', 'orange', 42])"
      ]
     },
     "execution_count": 40,
     "metadata": {},
     "output_type": "execute_result"
    }
   ],
   "source": [
    "fruit_dict = {'apple':1, 'orange':[0.12, 0,2], 42:True}\n",
    "fruit_dict.keys()"
   ]
  },
  {
   "cell_type": "code",
   "execution_count": 42,
   "id": "d30689c4",
   "metadata": {},
   "outputs": [
    {
     "data": {
      "text/plain": [
       "dict_items([('apple', 1), ('orange', [0.12, 0, 2]), (42, True)])"
      ]
     },
     "execution_count": 42,
     "metadata": {},
     "output_type": "execute_result"
    }
   ],
   "source": [
    "fruit_dict.items()\n"
   ]
  },
  {
   "cell_type": "code",
   "execution_count": null,
   "id": "4678d61c",
   "metadata": {},
   "outputs": [],
   "source": []
  },
  {
   "cell_type": "code",
   "execution_count": null,
   "id": "3d152221",
   "metadata": {},
   "outputs": [],
   "source": []
  },
  {
   "cell_type": "code",
   "execution_count": null,
   "id": "3e636122",
   "metadata": {},
   "outputs": [],
   "source": []
  },
  {
   "cell_type": "code",
   "execution_count": null,
   "id": "901932d4",
   "metadata": {},
   "outputs": [],
   "source": []
  },
  {
   "cell_type": "code",
   "execution_count": null,
   "id": "42bb9fa1",
   "metadata": {},
   "outputs": [],
   "source": []
  },
  {
   "cell_type": "code",
   "execution_count": null,
   "id": "1e876700",
   "metadata": {},
   "outputs": [],
   "source": []
  },
  {
   "cell_type": "code",
   "execution_count": null,
   "id": "64b380af",
   "metadata": {},
   "outputs": [],
   "source": []
  }
 ],
 "metadata": {
  "kernelspec": {
   "display_name": "Python 3 (ipykernel)",
   "language": "python",
   "name": "python3"
  },
  "language_info": {
   "codemirror_mode": {
    "name": "ipython",
    "version": 3
   },
   "file_extension": ".py",
   "mimetype": "text/x-python",
   "name": "python",
   "nbconvert_exporter": "python",
   "pygments_lexer": "ipython3",
   "version": "3.9.7"
  }
 },
 "nbformat": 4,
 "nbformat_minor": 5
}
